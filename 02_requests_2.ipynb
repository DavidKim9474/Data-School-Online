{
 "cells": [
  {
   "cell_type": "markdown",
   "metadata": {},
   "source": [
    "### API로 날씨 정보 가져오기\n",
    "- darksky.net 서비스를 사용\n",
    "- 회원가입 및 로그인\n",
    "    - ID : pdj1224@gmail.com\n",
    "    - pw : qwer1234"
   ]
  },
  {
   "cell_type": "markdown",
   "metadata": {},
   "source": [
    "- OpenWeather 사용"
   ]
  },
  {
   "cell_type": "code",
   "execution_count": 1,
   "metadata": {},
   "outputs": [
    {
     "data": {
      "text/plain": [
       "'https://api.openweathermap.org/data/2.5/onecall?lat=37.5665&lon=126.978&appid=039110e9429022b1df28995bd26566f6'"
      ]
     },
     "execution_count": 1,
     "metadata": {},
     "output_type": "execute_result"
    }
   ],
   "source": [
    "apikey = \"039110e9429022b1df28995bd26566f6\"\n",
    "lat, lon = 37.5665, 126.9780    # Seoul\n",
    "url = \"https://api.openweathermap.org/data/2.5/onecall?lat={}&lon={}&appid={}\".format(lat, lon, apikey)\n",
    "url"
   ]
  },
  {
   "cell_type": "code",
   "execution_count": 2,
   "metadata": {},
   "outputs": [
    {
     "data": {
      "text/plain": [
       "<Response [200]>"
      ]
     },
     "execution_count": 2,
     "metadata": {},
     "output_type": "execute_result"
    }
   ],
   "source": [
    "response = requests.get(url)\n",
    "response"
   ]
  },
  {
   "cell_type": "code",
   "execution_count": 3,
   "metadata": {},
   "outputs": [
    {
     "data": {
      "text/plain": [
       "('Asia/Seoul', 24.2, 'Rain', 'light rain')"
      ]
     },
     "execution_count": 3,
     "metadata": {},
     "output_type": "execute_result"
    }
   ],
   "source": [
    "data = response.json()\n",
    "data['timezone'], round(data['current']['temp'] - 273.15, 1), data['current']['weather'][0]['main'], data['current']['weather'][0]['description']"
   ]
  },
  {
   "cell_type": "code",
   "execution_count": 4,
   "metadata": {},
   "outputs": [],
   "source": [
    "def current_weather(lat, lon):\n",
    "    url = \"https://api.openweathermap.org/data/2.5/onecall?lat={}&lon={}&appid={}\".format(lat, lon, apikey)\n",
    "    response = requests.get(url)\n",
    "    data = response.json()\n",
    "    return data['timezone'], round(data['current']['temp'] - 273.15, 1), data['current']['weather'][0]['main'], data['current']['weather'][0]['description']"
   ]
  },
  {
   "cell_type": "code",
   "execution_count": 5,
   "metadata": {},
   "outputs": [
    {
     "data": {
      "text/plain": [
       "('Asia/Seoul', 23.1, 'Clouds', 'overcast clouds')"
      ]
     },
     "execution_count": 5,
     "metadata": {},
     "output_type": "execute_result"
    }
   ],
   "source": [
    "lat, lon = 33.4996, 126.5312    # Jeju\n",
    "current_weather(lat, lon)"
   ]
  },
  {
   "cell_type": "code",
   "execution_count": null,
   "metadata": {},
   "outputs": [],
   "source": []
  }
 ],
 "metadata": {
  "kernelspec": {
   "display_name": "Python 3",
   "language": "python",
   "name": "python3"
  },
  "language_info": {
   "codemirror_mode": {
    "name": "ipython",
    "version": 3
   },
   "file_extension": ".py",
   "mimetype": "text/x-python",
   "name": "python",
   "nbconvert_exporter": "python",
   "pygments_lexer": "ipython3",
   "version": "3.7.6"
  }
 },
 "nbformat": 4,
 "nbformat_minor": 4
}
