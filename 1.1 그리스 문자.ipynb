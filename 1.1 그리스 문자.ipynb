{
 "cells": [
  {
   "cell_type": "markdown",
   "metadata": {},
   "source": [
    "#### 인라인 수식"
   ]
  },
  {
   "cell_type": "markdown",
   "metadata": {},
   "source": [
    "$\\alpha$와 $\\beta$의 값이 같다."
   ]
  },
  {
   "cell_type": "markdown",
   "metadata": {},
   "source": [
    "#### 디스플레이 수식"
   ]
  },
  {
   "cell_type": "markdown",
   "metadata": {},
   "source": [
    "$$ \\alpha = \\beta $$"
   ]
  },
  {
   "cell_type": "markdown",
   "metadata": {},
   "source": [
    "#### Ex. 1.1.2"
   ]
  },
  {
   "cell_type": "markdown",
   "metadata": {},
   "source": [
    "$\\alpha$, $\\beta$, $\\gamma$, $\\delta$, $\\epsilon$, $\\zeta$, $\\eta$, $\\theta$, $\\kappa$, $\\lambda$, $\\mu$, $\\nu$, $\\xi$, $\\pi$, $\\rho$, $\\sigma$, $\\tau$, $\\phi$, $\\chi$, $\\psi$, $\\omega$"
   ]
  },
  {
   "cell_type": "markdown",
   "metadata": {},
   "source": [
    "$$\\alpha\\ (alpha)$$ $$\\beta\\ (beta)$$ $$\\gamma\\ (gamma)$$ $$\\delta\\ (delta)$$ $$\\epsilon\\ (epsilon)$$ $$\\zeta\\ (zeta)$$ $$\\eta\\ (eta)$$ $$\\theta\\ (theta)$$ $$\\kappa\\ (kappa)$$ $$\\lambda\\ (lambda)$$ $$\\mu\\ (mu)$$ $$\\nu\\ (nu)$$ $$\\xi\\ (xi)$$ $$\\pi\\ (pi)$$ $$\\rho\\ (rho)$$ $$\\sigma\\ (sigma)$$ $$\\tau\\ (tau)$$ $$\\phi\\ (phi)$$ $$\\chi\\ (chi)$$ $$\\psi\\ (psi)$$ $$\\omega\\ (omega)$$ "
   ]
  }
 ],
 "metadata": {
  "kernelspec": {
   "display_name": "Python 3",
   "language": "python",
   "name": "python3"
  },
  "language_info": {
   "codemirror_mode": {
    "name": "ipython",
    "version": 3
   },
   "file_extension": ".py",
   "mimetype": "text/x-python",
   "name": "python",
   "nbconvert_exporter": "python",
   "pygments_lexer": "ipython3",
   "version": "3.7.6"
  }
 },
 "nbformat": 4,
 "nbformat_minor": 4
}
