{
 "cells": [
  {
   "cell_type": "markdown",
   "metadata": {},
   "source": [
    "### summary\n",
    "- numpy : 선형대수를 빠르게 연산해주는 패키지\n",
    "- 행렬의 생성 1 : ndarray, np.array(iterable)\n",
    "- 행렬의 생성 2 : ones, zeros\n",
    "- 행렬 데이터의 선택 : array[x, y, z]\n",
    "- 행렬 데이터 수정\n",
    "    - 행렬 데이터를 선택\n",
    "    - =, > (값(scalar, vector, matrix))\n",
    "    - 브로드캐스팅 개념\n",
    "- arange : list에서 사용하는 range와 유사 : 결과가 ndarray 데이터 타입"
   ]
  },
  {
   "cell_type": "markdown",
   "metadata": {},
   "source": [
    "### quiz\n",
    "- 100 - 130까지 랜덤한 숫자를 가지는 8x8 행렬을 만들고,\n",
    "- 3의 배수는 fiz, 5의 배수는 buz, 3과 5의 배수는 fbz 문자로 변환\n",
    "- 위의 조건에 맞지 않는 데이터는 랜덤하게 생성된 정수로 출력\n",
    "- 랜덤한 행렬 데이터\n",
    "```\n",
    "data = np.random.randint(100, 130, (8, 8))\n",
    "```\n",
    "- 데이터 타입이 정수 -> 문자열 : ndarray.astype()"
   ]
  },
  {
   "cell_type": "code",
   "execution_count": 2,
   "metadata": {},
   "outputs": [],
   "source": [
    "import numpy as np"
   ]
  },
  {
   "cell_type": "code",
   "execution_count": 49,
   "metadata": {
    "scrolled": false
   },
   "outputs": [
    {
     "data": {
      "text/plain": [
       "array([[126, 111, 114, 125, 126, 114, 100, 127],\n",
       "       [110, 111, 104, 111, 121, 103, 114, 100],\n",
       "       [102, 100, 123, 104, 129, 124, 112, 116],\n",
       "       [118, 100, 109, 107, 105, 102, 104, 128],\n",
       "       [111, 106, 117, 108, 108, 125, 104, 109],\n",
       "       [118, 101, 118, 100, 102, 129, 113, 102],\n",
       "       [115, 104, 117, 116, 106, 103, 107, 100],\n",
       "       [123, 102, 119, 110, 110, 107, 102, 102]])"
      ]
     },
     "execution_count": 49,
     "metadata": {},
     "output_type": "execute_result"
    }
   ],
   "source": [
    "data = np.random.randint(100, 130, size=(8,8))\n",
    "data"
   ]
  },
  {
   "cell_type": "code",
   "execution_count": 85,
   "metadata": {},
   "outputs": [
    {
     "data": {
      "text/plain": [
       "array([1, 3])"
      ]
     },
     "execution_count": 85,
     "metadata": {},
     "output_type": "execute_result"
    }
   ],
   "source": [
    "# Remember :\n",
    "data1 = np.array([1, 2, 3])\n",
    "data2 = [True, False, True]\n",
    "data1[data2]"
   ]
  },
  {
   "cell_type": "code",
   "execution_count": 86,
   "metadata": {
    "scrolled": false
   },
   "outputs": [
    {
     "data": {
      "text/plain": [
       "array([[ True,  True,  True, False,  True,  True, False, False],\n",
       "       [False,  True, False,  True, False, False,  True, False],\n",
       "       [ True, False,  True, False,  True, False, False, False],\n",
       "       [False, False, False, False,  True,  True, False, False],\n",
       "       [ True, False,  True,  True,  True, False, False, False],\n",
       "       [False, False, False, False,  True,  True, False,  True],\n",
       "       [False, False,  True, False, False, False, False, False],\n",
       "       [ True,  True, False, False, False, False,  True,  True]])"
      ]
     },
     "execution_count": 86,
     "metadata": {},
     "output_type": "execute_result"
    }
   ],
   "source": [
    "# 3의 배수, 5의 배수, 15의 배수 위치값에 대한 T/F matrix 생성\n",
    "idx_3 = (data % 3 == 0)\n",
    "idx_3"
   ]
  },
  {
   "cell_type": "code",
   "execution_count": 87,
   "metadata": {
    "scrolled": true
   },
   "outputs": [
    {
     "data": {
      "text/plain": [
       "array([[False, False, False,  True, False, False,  True, False],\n",
       "       [ True, False, False, False, False, False, False,  True],\n",
       "       [False,  True, False, False, False, False, False, False],\n",
       "       [False,  True, False, False,  True, False, False, False],\n",
       "       [False, False, False, False, False,  True, False, False],\n",
       "       [False, False, False,  True, False, False, False, False],\n",
       "       [ True, False, False, False, False, False, False,  True],\n",
       "       [False, False, False,  True,  True, False, False, False]])"
      ]
     },
     "execution_count": 87,
     "metadata": {},
     "output_type": "execute_result"
    }
   ],
   "source": [
    "idx_5 = (data % 5 == 0)\n",
    "idx_5"
   ]
  },
  {
   "cell_type": "code",
   "execution_count": 94,
   "metadata": {
    "scrolled": true
   },
   "outputs": [
    {
     "data": {
      "text/plain": [
       "array([[False, False, False, False, False, False, False, False],\n",
       "       [False, False, False, False, False, False, False, False],\n",
       "       [False, False, False, False, False, False, False, False],\n",
       "       [False, False, False, False,  True, False, False, False],\n",
       "       [False, False, False, False, False, False, False, False],\n",
       "       [False, False, False, False, False, False, False, False],\n",
       "       [False, False, False, False, False, False, False, False],\n",
       "       [False, False, False, False, False, False, False, False]])"
      ]
     },
     "execution_count": 94,
     "metadata": {},
     "output_type": "execute_result"
    }
   ],
   "source": [
    "idx_15 = (data % 15 == 0)\n",
    "idx_15"
   ]
  },
  {
   "cell_type": "code",
   "execution_count": 90,
   "metadata": {},
   "outputs": [
    {
     "data": {
      "text/plain": [
       "array([['126', '111', '114', '125', '126', '114', '100', '127'],\n",
       "       ['110', '111', '104', '111', '121', '103', '114', '100'],\n",
       "       ['102', '100', '123', '104', '129', '124', '112', '116'],\n",
       "       ['118', '100', '109', '107', '105', '102', '104', '128'],\n",
       "       ['111', '106', '117', '108', '108', '125', '104', '109'],\n",
       "       ['118', '101', '118', '100', '102', '129', '113', '102'],\n",
       "       ['115', '104', '117', '116', '106', '103', '107', '100'],\n",
       "       ['123', '102', '119', '110', '110', '107', '102', '102']],\n",
       "      dtype='<U11')"
      ]
     },
     "execution_count": 90,
     "metadata": {},
     "output_type": "execute_result"
    }
   ],
   "source": [
    "# 데이터 타입을 str으로 변환\n",
    "data_str = data.astype(\"str\")\n",
    "data_str"
   ]
  },
  {
   "cell_type": "code",
   "execution_count": 92,
   "metadata": {
    "scrolled": true
   },
   "outputs": [
    {
     "data": {
      "text/plain": [
       "array([['fiz', 'fiz', 'fiz', 'buz', 'fiz', 'fiz', 'buz', '127'],\n",
       "       ['buz', 'fiz', '104', 'fiz', '121', '103', 'fiz', 'buz'],\n",
       "       ['fiz', 'buz', 'fiz', '104', 'fiz', '124', '112', '116'],\n",
       "       ['118', 'buz', '109', '107', 'fbz', 'fiz', '104', '128'],\n",
       "       ['fiz', '106', 'fiz', 'fiz', 'fiz', 'buz', '104', '109'],\n",
       "       ['118', '101', '118', 'buz', 'fiz', 'fiz', '113', 'fiz'],\n",
       "       ['buz', '104', 'fiz', '116', '106', '103', '107', 'buz'],\n",
       "       ['fiz', 'fiz', '119', 'buz', 'buz', '107', 'fiz', 'fiz']],\n",
       "      dtype='<U11')"
      ]
     },
     "execution_count": 92,
     "metadata": {},
     "output_type": "execute_result"
    }
   ],
   "source": [
    "# T/F matrix를 이용하여 특정 조건의 데이터를 선택 후 브로드캐스팅하게 값을 대입\n",
    "data_str[idx_3] = \"fiz\"\n",
    "data_str[idx_5] = \"buz\"\n",
    "data_str[idx_15] = \"fbz\"\n",
    "data_str"
   ]
  },
  {
   "cell_type": "markdown",
   "metadata": {},
   "source": [
    "### Quiz\n",
    "- 1 ~ 20까지 랜덤한 숫자를 가지는 5x5 행렬 생성\n",
    "- 최대값에는 MAX, 최소값에는 MIN 문자열이 들어가도록 치환하는 코드\n",
    "- 최대값과 최소값 함수 : \n",
    "```\n",
    "np.min(ndarray), np.max(ndarray)\n",
    "```"
   ]
  },
  {
   "cell_type": "code",
   "execution_count": 96,
   "metadata": {},
   "outputs": [
    {
     "data": {
      "text/plain": [
       "array([[ 7, 15, 18, 18,  6],\n",
       "       [15, 17,  2, 12, 12],\n",
       "       [17,  1, 15, 10,  2],\n",
       "       [11, 12,  8, 10, 13],\n",
       "       [ 2, 10, 13,  5, 19]])"
      ]
     },
     "execution_count": 96,
     "metadata": {},
     "output_type": "execute_result"
    }
   ],
   "source": [
    "data = np.random.randint(1, 20, size=(5,5))\n",
    "data"
   ]
  },
  {
   "cell_type": "code",
   "execution_count": 105,
   "metadata": {},
   "outputs": [],
   "source": [
    "# MAX, MIN 찾기\n",
    "idx_min = (data == np.min(data))\n",
    "idx_max = (data == np.max(data))"
   ]
  },
  {
   "cell_type": "code",
   "execution_count": 106,
   "metadata": {},
   "outputs": [
    {
     "data": {
      "text/plain": [
       "array([['7', '15', '18', '18', '6'],\n",
       "       ['15', '17', '2', '12', '12'],\n",
       "       ['17', '1', '15', '10', '2'],\n",
       "       ['11', '12', '8', '10', '13'],\n",
       "       ['2', '10', '13', '5', '19']], dtype='<U11')"
      ]
     },
     "execution_count": 106,
     "metadata": {},
     "output_type": "execute_result"
    }
   ],
   "source": [
    "# str 변환\n",
    "data_str = data.astype(\"str\")\n",
    "data_str"
   ]
  },
  {
   "cell_type": "code",
   "execution_count": 107,
   "metadata": {},
   "outputs": [
    {
     "data": {
      "text/plain": [
       "array([['7', '15', '18', '18', '6'],\n",
       "       ['15', '17', '2', '12', '12'],\n",
       "       ['17', 'MIN', '15', '10', '2'],\n",
       "       ['11', '12', '8', '10', '13'],\n",
       "       ['2', '10', '13', '5', 'MAX']], dtype='<U11')"
      ]
     },
     "execution_count": 107,
     "metadata": {},
     "output_type": "execute_result"
    }
   ],
   "source": [
    "# 브로드캐스팅 대입\n",
    "data_str[idx_min] = \"MIN\"\n",
    "data_str[idx_max] = \"MAX\"\n",
    "data_str"
   ]
  },
  {
   "cell_type": "markdown",
   "metadata": {},
   "source": [
    "### 1. linspace, logspace\n",
    "- linspace : 설정한 범위에서 선형적으로 분할한 위치값 출력\n",
    "- logspace : 설정한 범위에서 로그로 분할한 위치값 출력"
   ]
  },
  {
   "cell_type": "code",
   "execution_count": 3,
   "metadata": {
    "scrolled": true
   },
   "outputs": [
    {
     "data": {
      "text/plain": [
       "array([  0.,  25.,  50.,  75., 100.])"
      ]
     },
     "execution_count": 3,
     "metadata": {},
     "output_type": "execute_result"
    }
   ],
   "source": [
    "# linspace\n",
    "np.linspace(0, 100, 5)"
   ]
  },
  {
   "cell_type": "code",
   "execution_count": 4,
   "metadata": {},
   "outputs": [
    {
     "data": {
      "text/plain": [
       "array([  100.,  1000., 10000.])"
      ]
     },
     "execution_count": 4,
     "metadata": {},
     "output_type": "execute_result"
    }
   ],
   "source": [
    "# logspace\n",
    "# log10(x1)=2, log10(x2)=3, log10(x3)=4\n",
    "np.logspace(2, 4, 3)"
   ]
  },
  {
   "cell_type": "code",
   "execution_count": 6,
   "metadata": {},
   "outputs": [
    {
     "data": {
      "text/plain": [
       "array([ 100000.,  400000.,  700000., 1000000.])"
      ]
     },
     "execution_count": 6,
     "metadata": {},
     "output_type": "execute_result"
    }
   ],
   "source": [
    "# 30세에 연봉이 $100,000이고 60세에 연봉이 $1,000,000일 때\n",
    "# 연봉이 선형으로 증가, 지수 함수로 증가하는 두 경우에서의 40세와 50세 연봉을 출력\n",
    "np.linspace(100000, 1000000, 4)"
   ]
  },
  {
   "cell_type": "code",
   "execution_count": 8,
   "metadata": {
    "scrolled": true
   },
   "outputs": [
    {
     "data": {
      "text/plain": [
       "array([ 100000.        ,  215443.46900319,  464158.88336128,\n",
       "       1000000.        ])"
      ]
     },
     "execution_count": 8,
     "metadata": {},
     "output_type": "execute_result"
    }
   ],
   "source": [
    "np.logspace(np.log10(100000), np.log10(1000000), 4)"
   ]
  },
  {
   "cell_type": "markdown",
   "metadata": {},
   "source": [
    "### 2. numpy random\n",
    "- seed : 랜덤값의 설정값 (랜덤하게 섞이지만 동일성을 유지하기 위한 트릭)\n",
    "- rand : 균등분포로 난수 발생\n",
    "- randn : 정규분포로 난수 발생\n",
    "- randint : 균등분포로 정수값을 발생\n",
    "- shuffle : 행렬 데이터를 섞어줍니다.\n",
    "- choice : 특정 확률로 데이터 선택"
   ]
  },
  {
   "cell_type": "code",
   "execution_count": 9,
   "metadata": {},
   "outputs": [
    {
     "data": {
      "text/plain": [
       "(array([47, 22, 82, 19, 85, 15, 89, 74, 26, 11]),\n",
       " array([47, 22, 82, 19, 85, 15, 89, 74, 26, 11]),\n",
       " array([50, 25, 82, 32, 53, 92, 85, 17, 44, 59]))"
      ]
     },
     "execution_count": 9,
     "metadata": {},
     "output_type": "execute_result"
    }
   ],
   "source": [
    "# seed\n",
    "np.random.seed(1)\n",
    "result1 = np.random.randint(10, 100, 10)\n",
    "\n",
    "np.random.seed(1)\n",
    "result2 = np.random.randint(10, 100, 10)\n",
    "\n",
    "np.random.seed(2)\n",
    "result3 = np.random.randint(10, 100, 10)\n",
    "\n",
    "result1, result2, result3"
   ]
  },
  {
   "cell_type": "code",
   "execution_count": 10,
   "metadata": {},
   "outputs": [
    {
     "data": {
      "text/plain": [
       "array([0.20464863, 0.61927097, 0.29965467, 0.26682728, 0.62113383,\n",
       "       0.52914209, 0.13457995, 0.51357812, 0.18443987, 0.78533515])"
      ]
     },
     "execution_count": 10,
     "metadata": {},
     "output_type": "execute_result"
    }
   ],
   "source": [
    "np.random.rand(10)"
   ]
  },
  {
   "cell_type": "code",
   "execution_count": 11,
   "metadata": {},
   "outputs": [
    {
     "data": {
      "text/plain": [
       "array([-0.0191305 ,  1.17500122, -0.74787095,  0.00902525, -0.87810789,\n",
       "       -0.15643417,  0.25657045, -0.98877905, -0.33882197, -0.23618403])"
      ]
     },
     "execution_count": 11,
     "metadata": {},
     "output_type": "execute_result"
    }
   ],
   "source": [
    "np.random.randn(10)"
   ]
  },
  {
   "cell_type": "code",
   "execution_count": 24,
   "metadata": {},
   "outputs": [
    {
     "data": {
      "text/plain": [
       "array([[1, 8, 1, 6],\n",
       "       [3, 6, 2, 4],\n",
       "       [4, 2, 9, 7]])"
      ]
     },
     "execution_count": 24,
     "metadata": {},
     "output_type": "execute_result"
    }
   ],
   "source": [
    "# shuffle\n",
    "r = np.random.randint(1, 10, (3, 4))\n",
    "r"
   ]
  },
  {
   "cell_type": "code",
   "execution_count": 26,
   "metadata": {
    "scrolled": true
   },
   "outputs": [
    {
     "data": {
      "text/plain": [
       "array([[4, 2, 9, 7],\n",
       "       [1, 8, 1, 6],\n",
       "       [3, 6, 2, 4]])"
      ]
     },
     "execution_count": 26,
     "metadata": {},
     "output_type": "execute_result"
    }
   ],
   "source": [
    "np.random.shuffle(r)\n",
    "r"
   ]
  },
  {
   "cell_type": "code",
   "execution_count": 31,
   "metadata": {},
   "outputs": [
    {
     "data": {
      "text/plain": [
       "array([4, 0, 2, 4, 0, 0, 2, 3, 0, 0])"
      ]
     },
     "execution_count": 31,
     "metadata": {},
     "output_type": "execute_result"
    }
   ],
   "source": [
    "# choice\n",
    "np.random.choice(5, 10, p=[0.1, 0, 0.4, 0.2, 0.3])"
   ]
  },
  {
   "cell_type": "code",
   "execution_count": 33,
   "metadata": {},
   "outputs": [
    {
     "name": "stdout",
     "output_type": "stream",
     "text": [
      "[1 2 3 4 6 7 8 9]\n",
      "[2 2 1 2 2 1 1 1]\n"
     ]
    }
   ],
   "source": [
    "# unique\n",
    "numbers, counts = np.unique(r, return_counts=True)\n",
    "print(numbers)\n",
    "print(counts)"
   ]
  },
  {
   "cell_type": "markdown",
   "metadata": {},
   "source": [
    "### 3. 행렬 데이터의 결합\n",
    "- concatenate"
   ]
  },
  {
   "cell_type": "code",
   "execution_count": 34,
   "metadata": {},
   "outputs": [],
   "source": [
    "na1 = np.random.randint(10, size=(2,3))\n",
    "na2 = np.random.randint(10, size=(3,2))\n",
    "na3 = np.random.randint(10, size=(3,3))"
   ]
  },
  {
   "cell_type": "code",
   "execution_count": 35,
   "metadata": {},
   "outputs": [
    {
     "data": {
      "text/plain": [
       "array([[0, 6, 6],\n",
       "       [8, 6, 9]])"
      ]
     },
     "execution_count": 35,
     "metadata": {},
     "output_type": "execute_result"
    }
   ],
   "source": [
    "# 세로 결합\n",
    "na1"
   ]
  },
  {
   "cell_type": "code",
   "execution_count": 37,
   "metadata": {},
   "outputs": [
    {
     "data": {
      "text/plain": [
       "array([[5, 1],\n",
       "       [5, 9],\n",
       "       [4, 9]])"
      ]
     },
     "execution_count": 37,
     "metadata": {},
     "output_type": "execute_result"
    }
   ],
   "source": [
    "na2"
   ]
  },
  {
   "cell_type": "code",
   "execution_count": 36,
   "metadata": {},
   "outputs": [
    {
     "data": {
      "text/plain": [
       "array([[8, 3, 4],\n",
       "       [6, 2, 4],\n",
       "       [7, 5, 1]])"
      ]
     },
     "execution_count": 36,
     "metadata": {},
     "output_type": "execute_result"
    }
   ],
   "source": [
    "na3"
   ]
  },
  {
   "cell_type": "code",
   "execution_count": 41,
   "metadata": {},
   "outputs": [
    {
     "data": {
      "text/plain": [
       "array([[0, 6, 6],\n",
       "       [8, 6, 9],\n",
       "       [8, 3, 4],\n",
       "       [6, 2, 4],\n",
       "       [7, 5, 1]])"
      ]
     },
     "execution_count": 41,
     "metadata": {},
     "output_type": "execute_result"
    }
   ],
   "source": [
    "np.concatenate((na1, na3))"
   ]
  },
  {
   "cell_type": "code",
   "execution_count": 43,
   "metadata": {
    "scrolled": true
   },
   "outputs": [
    {
     "data": {
      "text/plain": [
       "array([[5, 1, 8, 3, 4],\n",
       "       [5, 9, 6, 2, 4],\n",
       "       [4, 9, 7, 5, 1]])"
      ]
     },
     "execution_count": 43,
     "metadata": {},
     "output_type": "execute_result"
    }
   ],
   "source": [
    "# 가로 결합\n",
    "np.concatenate((na2, na3), axis=1)"
   ]
  },
  {
   "cell_type": "code",
   "execution_count": 44,
   "metadata": {},
   "outputs": [
    {
     "data": {
      "text/plain": [
       "array([[1, 4],\n",
       "       [2, 5],\n",
       "       [3, 6]])"
      ]
     },
     "execution_count": 44,
     "metadata": {},
     "output_type": "execute_result"
    }
   ],
   "source": [
    "# c_, r_\n",
    "np.c_[np.array([1,2,3]), np.array([4,5,6])]"
   ]
  },
  {
   "cell_type": "code",
   "execution_count": 45,
   "metadata": {},
   "outputs": [
    {
     "data": {
      "text/plain": [
       "array([1, 2, 3, 4, 5, 6])"
      ]
     },
     "execution_count": 45,
     "metadata": {},
     "output_type": "execute_result"
    }
   ],
   "source": [
    "np.r_[np.array([1,2,3]), np.array([4,5,6])]"
   ]
  },
  {
   "cell_type": "code",
   "execution_count": 46,
   "metadata": {},
   "outputs": [],
   "source": [
    "# split, var, std, mean, ..."
   ]
  },
  {
   "cell_type": "code",
   "execution_count": null,
   "metadata": {},
   "outputs": [],
   "source": []
  }
 ],
 "metadata": {
  "kernelspec": {
   "display_name": "Python 3",
   "language": "python",
   "name": "python3"
  },
  "language_info": {
   "codemirror_mode": {
    "name": "ipython",
    "version": 3
   },
   "file_extension": ".py",
   "mimetype": "text/x-python",
   "name": "python",
   "nbconvert_exporter": "python",
   "pygments_lexer": "ipython3",
   "version": "3.7.6"
  }
 },
 "nbformat": 4,
 "nbformat_minor": 4
}
