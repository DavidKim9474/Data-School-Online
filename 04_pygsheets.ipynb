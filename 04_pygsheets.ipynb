{
 "cells": [
  {
   "cell_type": "code",
   "execution_count": 1,
   "metadata": {},
   "outputs": [],
   "source": [
    "import zigbang2 as zb"
   ]
  },
  {
   "cell_type": "code",
   "execution_count": 2,
   "metadata": {
    "scrolled": true
   },
   "outputs": [
    {
     "data": {
      "text/html": [
       "<div>\n",
       "<style scoped>\n",
       "    .dataframe tbody tr th:only-of-type {\n",
       "        vertical-align: middle;\n",
       "    }\n",
       "\n",
       "    .dataframe tbody tr th {\n",
       "        vertical-align: top;\n",
       "    }\n",
       "\n",
       "    .dataframe thead th {\n",
       "        text-align: right;\n",
       "    }\n",
       "</style>\n",
       "<table border=\"1\" class=\"dataframe\">\n",
       "  <thead>\n",
       "    <tr style=\"text-align: right;\">\n",
       "      <th></th>\n",
       "      <th>section_type</th>\n",
       "      <th>item_id</th>\n",
       "      <th>images_thumbnail</th>\n",
       "      <th>sales_type</th>\n",
       "      <th>sales_title</th>\n",
       "      <th>deposit</th>\n",
       "      <th>rent</th>\n",
       "      <th>size_m2</th>\n",
       "      <th>공급면적</th>\n",
       "      <th>전용면적</th>\n",
       "      <th>...</th>\n",
       "      <th>is_zzim</th>\n",
       "      <th>status</th>\n",
       "      <th>service_type</th>\n",
       "      <th>tags</th>\n",
       "      <th>address1</th>\n",
       "      <th>address2</th>\n",
       "      <th>address3</th>\n",
       "      <th>manage_cost</th>\n",
       "      <th>reg_date</th>\n",
       "      <th>is_new</th>\n",
       "    </tr>\n",
       "  </thead>\n",
       "  <tbody>\n",
       "    <tr>\n",
       "      <th>20</th>\n",
       "      <td>None</td>\n",
       "      <td>23487006</td>\n",
       "      <td>https://ic.zigbang.com/ic/items/23487006/1.jpg</td>\n",
       "      <td>월세</td>\n",
       "      <td>월세</td>\n",
       "      <td>3000</td>\n",
       "      <td>65</td>\n",
       "      <td>36.36</td>\n",
       "      <td>{'m2': 36.36, 'p': '11'}</td>\n",
       "      <td>{'m2': 33.05, 'p': '10'}</td>\n",
       "      <td>...</td>\n",
       "      <td>False</td>\n",
       "      <td>True</td>\n",
       "      <td>빌라</td>\n",
       "      <td>[]</td>\n",
       "      <td>서울시 용산구 동자동</td>\n",
       "      <td>None</td>\n",
       "      <td>None</td>\n",
       "      <td>5</td>\n",
       "      <td>2020-08-18T10:08:11+09:00</td>\n",
       "      <td>False</td>\n",
       "    </tr>\n",
       "    <tr>\n",
       "      <th>21</th>\n",
       "      <td>None</td>\n",
       "      <td>23720974</td>\n",
       "      <td>https://ic.zigbang.com/ic/items/23720974/1.jpg</td>\n",
       "      <td>전세</td>\n",
       "      <td>전세</td>\n",
       "      <td>15000</td>\n",
       "      <td>0</td>\n",
       "      <td>59.50</td>\n",
       "      <td>{'m2': 59.5, 'p': '18'}</td>\n",
       "      <td>{'m2': 52.89, 'p': '16'}</td>\n",
       "      <td>...</td>\n",
       "      <td>False</td>\n",
       "      <td>True</td>\n",
       "      <td>빌라</td>\n",
       "      <td>[추천]</td>\n",
       "      <td>서울시 용산구 동자동</td>\n",
       "      <td>None</td>\n",
       "      <td>None</td>\n",
       "      <td>0</td>\n",
       "      <td>2020-09-01T11:22:42+09:00</td>\n",
       "      <td>False</td>\n",
       "    </tr>\n",
       "  </tbody>\n",
       "</table>\n",
       "<p>2 rows × 30 columns</p>\n",
       "</div>"
      ],
      "text/plain": [
       "   section_type   item_id                                images_thumbnail  \\\n",
       "20         None  23487006  https://ic.zigbang.com/ic/items/23487006/1.jpg   \n",
       "21         None  23720974  https://ic.zigbang.com/ic/items/23720974/1.jpg   \n",
       "\n",
       "   sales_type sales_title  deposit  rent  size_m2                      공급면적  \\\n",
       "20         월세          월세     3000    65    36.36  {'m2': 36.36, 'p': '11'}   \n",
       "21         전세          전세    15000     0    59.50   {'m2': 59.5, 'p': '18'}   \n",
       "\n",
       "                        전용면적  ... is_zzim status service_type  tags  \\\n",
       "20  {'m2': 33.05, 'p': '10'}  ...   False   True           빌라    []   \n",
       "21  {'m2': 52.89, 'p': '16'}  ...   False   True           빌라  [추천]   \n",
       "\n",
       "       address1 address2 address3 manage_cost                   reg_date  \\\n",
       "20  서울시 용산구 동자동     None     None           5  2020-08-18T10:08:11+09:00   \n",
       "21  서울시 용산구 동자동     None     None           0  2020-09-01T11:22:42+09:00   \n",
       "\n",
       "   is_new  \n",
       "20  False  \n",
       "21  False  \n",
       "\n",
       "[2 rows x 30 columns]"
      ]
     },
     "execution_count": 2,
     "metadata": {},
     "output_type": "execute_result"
    }
   ],
   "source": [
    "items_df = zb.crawl_oneroom(\"동자동\")\n",
    "items_df.tail(2)"
   ]
  },
  {
   "cell_type": "markdown",
   "metadata": {},
   "source": [
    "### 구글 스프레드 시트에 저장\n",
    "- OAuth 개념    #open_authentication\n",
    "- OAuth 인증 파일 생성\n",
    "    - https://console.developers.google.com\n",
    "    - 프로젝트 생성\n",
    "    - 라이브러리 탭 선택 : Google Drive API, Google Sheets API 사용설정\n",
    "    - oauth 동의 화면\n",
    "        - 어플리케이션 이름 설정\n",
    "        - google api 범위 추가 : `.../auth/drive`, `.../auth/spreadsheets`\n",
    "        - 저장\n",
    "    - 사용자 인증 정보\n",
    "            - OAuth 클라이언트 ID 선택\n",
    "    - pygsheets 설치\n",
    "            - conda install -c marta-sd pygsheets\n",
    "- 스프레드 시트에 크롤링한 데이터 저장 및 로드"
   ]
  },
  {
   "cell_type": "code",
   "execution_count": 5,
   "metadata": {},
   "outputs": [],
   "source": [
    "import pygsheets"
   ]
  },
  {
   "cell_type": "code",
   "execution_count": 6,
   "metadata": {},
   "outputs": [
    {
     "data": {
      "text/plain": [
       "<pygsheets.client.Client at 0x1bb393cf2c8>"
      ]
     },
     "execution_count": 6,
     "metadata": {},
     "output_type": "execute_result"
    }
   ],
   "source": [
    "# access token 얻기\n",
    "gc = pygsheets.authorize(client_secret=\"client_secret.json\", no_cache=True)\n",
    "gc"
   ]
  },
  {
   "cell_type": "code",
   "execution_count": 7,
   "metadata": {},
   "outputs": [],
   "source": [
    "# 스프레드 시트 파일 열기\n",
    "s_file = gc.open(\"zigbang\")"
   ]
  },
  {
   "cell_type": "code",
   "execution_count": null,
   "metadata": {},
   "outputs": [],
   "source": [
    "# 붓꽃 데이터 로드\n",
    "iris_df = sns.load_dataset(\"iris\")\n",
    "iris_df.tail(1)"
   ]
  },
  {
   "cell_type": "code",
   "execution_count": null,
   "metadata": {},
   "outputs": [],
   "source": [
    "# iris 시트 만들기\n",
    "iris_sheet = s_file.add_worksheet(\"iris\")"
   ]
  },
  {
   "cell_type": "code",
   "execution_count": null,
   "metadata": {},
   "outputs": [],
   "source": [
    "# iris 시트에 데이터 프레임 저장\n",
    "iris_sheet.set_dataframe(iris_df, \"A1\")"
   ]
  },
  {
   "cell_type": "code",
   "execution_count": null,
   "metadata": {},
   "outputs": [],
   "source": [
    "# 시트 삭제\n",
    "s_file.del_worksheet(s_file[0])"
   ]
  },
  {
   "cell_type": "code",
   "execution_count": null,
   "metadata": {},
   "outputs": [],
   "source": [
    "# 직방 데이터를 크롤링 해서 저장"
   ]
  },
  {
   "cell_type": "code",
   "execution_count": 8,
   "metadata": {
    "scrolled": false
   },
   "outputs": [
    {
     "name": "stdout",
     "output_type": "stream",
     "text": [
      "연남동\n",
      "망원동\n",
      "합정동\n",
      "성수동\n",
      "개포동\n"
     ]
    }
   ],
   "source": [
    "addrs = [\"연남동\", \"망원동\", \"합정동\", \"성수동\", \"개포동\"]\n",
    "for addr in addrs:\n",
    "    print(addr)\n",
    "    df = zb.crawl_oneroom(addr)\n",
    "    sheet = s_file.add_worksheet(addr)\n",
    "    sheet.set_dataframe(df, \"A1\")"
   ]
  },
  {
   "cell_type": "code",
   "execution_count": 9,
   "metadata": {},
   "outputs": [
    {
     "data": {
      "text/html": [
       "<div>\n",
       "<style scoped>\n",
       "    .dataframe tbody tr th:only-of-type {\n",
       "        vertical-align: middle;\n",
       "    }\n",
       "\n",
       "    .dataframe tbody tr th {\n",
       "        vertical-align: top;\n",
       "    }\n",
       "\n",
       "    .dataframe thead th {\n",
       "        text-align: right;\n",
       "    }\n",
       "</style>\n",
       "<table border=\"1\" class=\"dataframe\">\n",
       "  <thead>\n",
       "    <tr style=\"text-align: right;\">\n",
       "      <th></th>\n",
       "      <th>section_type</th>\n",
       "      <th>item_id</th>\n",
       "      <th>images_thumbnail</th>\n",
       "      <th>sales_type</th>\n",
       "      <th>sales_title</th>\n",
       "      <th>deposit</th>\n",
       "      <th>rent</th>\n",
       "      <th>size_m2</th>\n",
       "      <th>공급면적</th>\n",
       "      <th>전용면적</th>\n",
       "      <th>...</th>\n",
       "      <th>is_zzim</th>\n",
       "      <th>status</th>\n",
       "      <th>service_type</th>\n",
       "      <th>tags</th>\n",
       "      <th>address1</th>\n",
       "      <th>address2</th>\n",
       "      <th>address3</th>\n",
       "      <th>manage_cost</th>\n",
       "      <th>reg_date</th>\n",
       "      <th>is_new</th>\n",
       "    </tr>\n",
       "  </thead>\n",
       "  <tbody>\n",
       "    <tr>\n",
       "      <th>60</th>\n",
       "      <td>NaN</td>\n",
       "      <td>23775544</td>\n",
       "      <td>https://ic.zigbang.com/ic/items/23775544/1.jpg</td>\n",
       "      <td>전세</td>\n",
       "      <td>전세</td>\n",
       "      <td>21000</td>\n",
       "      <td>0</td>\n",
       "      <td>44.52</td>\n",
       "      <td>{'m2': 44.52, 'p': '13.5'}</td>\n",
       "      <td>{'m2': 40.12, 'p': '12.1'}</td>\n",
       "      <td>...</td>\n",
       "      <td>FALSE</td>\n",
       "      <td>TRUE</td>\n",
       "      <td>빌라</td>\n",
       "      <td>['추천']</td>\n",
       "      <td>서울시 강남구 개포동</td>\n",
       "      <td>NaN</td>\n",
       "      <td>NaN</td>\n",
       "      <td>0.0</td>\n",
       "      <td>2020-09-03T16:44:19+09:00</td>\n",
       "      <td>TRUE</td>\n",
       "    </tr>\n",
       "    <tr>\n",
       "      <th>61</th>\n",
       "      <td>NaN</td>\n",
       "      <td>23775775</td>\n",
       "      <td>https://ic.zigbang.com/ic/items/23775775/1.jpg</td>\n",
       "      <td>전세</td>\n",
       "      <td>전세</td>\n",
       "      <td>35000</td>\n",
       "      <td>0</td>\n",
       "      <td>82.36</td>\n",
       "      <td>{'m2': 82.36, 'p': '24.9'}</td>\n",
       "      <td>{'m2': 78.56, 'p': '23.8'}</td>\n",
       "      <td>...</td>\n",
       "      <td>FALSE</td>\n",
       "      <td>TRUE</td>\n",
       "      <td>빌라</td>\n",
       "      <td>['추천']</td>\n",
       "      <td>서울시 강남구 개포동</td>\n",
       "      <td>NaN</td>\n",
       "      <td>NaN</td>\n",
       "      <td>0.0</td>\n",
       "      <td>2020-09-03T16:51:23+09:00</td>\n",
       "      <td>TRUE</td>\n",
       "    </tr>\n",
       "  </tbody>\n",
       "</table>\n",
       "<p>2 rows × 30 columns</p>\n",
       "</div>"
      ],
      "text/plain": [
       "    section_type   item_id                                images_thumbnail  \\\n",
       "60           NaN  23775544  https://ic.zigbang.com/ic/items/23775544/1.jpg   \n",
       "61           NaN  23775775  https://ic.zigbang.com/ic/items/23775775/1.jpg   \n",
       "\n",
       "   sales_type sales_title  deposit  rent  size_m2                        공급면적  \\\n",
       "60         전세          전세    21000     0    44.52  {'m2': 44.52, 'p': '13.5'}   \n",
       "61         전세          전세    35000     0    82.36  {'m2': 82.36, 'p': '24.9'}   \n",
       "\n",
       "                          전용면적  ...  is_zzim  status service_type    tags  \\\n",
       "60  {'m2': 40.12, 'p': '12.1'}  ...    FALSE    TRUE           빌라  ['추천']   \n",
       "61  {'m2': 78.56, 'p': '23.8'}  ...    FALSE    TRUE           빌라  ['추천']   \n",
       "\n",
       "       address1 address2  address3  manage_cost                   reg_date  \\\n",
       "60  서울시 강남구 개포동      NaN       NaN          0.0  2020-09-03T16:44:19+09:00   \n",
       "61  서울시 강남구 개포동      NaN       NaN          0.0  2020-09-03T16:51:23+09:00   \n",
       "\n",
       "   is_new  \n",
       "60   TRUE  \n",
       "61   TRUE  \n",
       "\n",
       "[2 rows x 30 columns]"
      ]
     },
     "execution_count": 9,
     "metadata": {},
     "output_type": "execute_result"
    }
   ],
   "source": [
    "# 데이터 가져오기\n",
    "sheet = s_file.worksheet_by_title(\"개포동\")\n",
    "load_df = sheet.get_as_df()\n",
    "load_df.tail(2)"
   ]
  },
  {
   "cell_type": "code",
   "execution_count": null,
   "metadata": {},
   "outputs": [],
   "source": []
  }
 ],
 "metadata": {
  "kernelspec": {
   "display_name": "Python 3",
   "language": "python",
   "name": "python3"
  },
  "language_info": {
   "codemirror_mode": {
    "name": "ipython",
    "version": 3
   },
   "file_extension": ".py",
   "mimetype": "text/x-python",
   "name": "python",
   "nbconvert_exporter": "python",
   "pygments_lexer": "ipython3",
   "version": "3.7.6"
  }
 },
 "nbformat": 4,
 "nbformat_minor": 4
}
