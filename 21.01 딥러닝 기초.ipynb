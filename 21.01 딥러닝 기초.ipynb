{
 "cells": [
  {
   "cell_type": "markdown",
   "metadata": {},
   "source": [
    "#### 신경망 정리"
   ]
  },
  {
   "cell_type": "markdown",
   "metadata": {},
   "source": [
    "신경망의 계수는 다음과 같이 찾는다.\n",
    "\n",
    "1. 초기화 (initialize)\n",
    "    - 모든 $w$, $b$ 값을 임의의 값으로 초기화\n",
    "2. 입력 데이터 (input)\n",
    "    - 하나의 표본데이터 $x_i$로 입력 계층 설정\n",
    "3. 순방향 전파 (feedforward propagation)\n",
    "    - 모든 뉴런에 대해 $a$, $z$값 계산\n",
    "4. 오차 계산 (output and error calculation)\n",
    "    - 최종 출력 계층의 값 $z^{(L)}$ 및 오차 $\\delta^{(L)}$ 계산\n",
    "5. 오차 역전파 (backpropagation)\n",
    "    - 반대 방향으로 오차 $\\delta$ 전파\n",
    "6. 그레디언트 계산 (gradient calculation)\n",
    "    - 표본데이터 $x_i$에 의한 오차함수의 미분값(그레디언트) $\\frac{\\delta C_i}{\\delta w} = z\\delta$, $\\frac{\\delta C_i}{\\delta b} = \\delta$ 계산\n",
    "7. 반복 (minibatch-size iteration)\n",
    "    - 표본 데이터를 $x_{i+1}$로 바꾸어 미니배치크기 만큼 2~6단계를 반복\n",
    "8. 가중치 갱신 (weight update)\n",
    "    - 미니배치크기 만큼의 데이터를 사용한 후 그레디언트 $\\frac{\\delta C_i}{\\delta w}$, $\\frac{\\delta C_i}{\\delta b}$ 계산\n",
    "    - 이 그레디언트 값으로 $w$, $b$값을 업데이트"
   ]
  },
  {
   "cell_type": "code",
   "execution_count": null,
   "metadata": {},
   "outputs": [],
   "source": []
  }
 ],
 "metadata": {
  "kernelspec": {
   "display_name": "Python 3",
   "language": "python",
   "name": "python3"
  },
  "language_info": {
   "codemirror_mode": {
    "name": "ipython",
    "version": 3
   },
   "file_extension": ".py",
   "mimetype": "text/x-python",
   "name": "python",
   "nbconvert_exporter": "python",
   "pygments_lexer": "ipython3",
   "version": "3.7.6"
  }
 },
 "nbformat": 4,
 "nbformat_minor": 4
}
