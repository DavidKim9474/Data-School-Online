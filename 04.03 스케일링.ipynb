{
 "cells": [
  {
   "cell_type": "markdown",
   "metadata": {},
   "source": [
    "#### 조건수"
   ]
  },
  {
   "cell_type": "code",
   "execution_count": 1,
   "metadata": {
    "scrolled": true
   },
   "outputs": [
    {
     "name": "stdout",
     "output_type": "stream",
     "text": [
      "                            OLS Regression Results                            \n",
      "==============================================================================\n",
      "Dep. Variable:                   MEDV   R-squared:                       0.741\n",
      "Model:                            OLS   Adj. R-squared:                  0.734\n",
      "Method:                 Least Squares   F-statistic:                     108.1\n",
      "Date:                Fri, 23 Oct 2020   Prob (F-statistic):          6.72e-135\n",
      "Time:                        22:49:56   Log-Likelihood:                -1498.8\n",
      "No. Observations:                 506   AIC:                             3026.\n",
      "Df Residuals:                     492   BIC:                             3085.\n",
      "Df Model:                          13                                         \n",
      "Covariance Type:            nonrobust                                         \n",
      "==============================================================================\n",
      "                 coef    std err          t      P>|t|      [0.025      0.975]\n",
      "------------------------------------------------------------------------------\n",
      "Intercept     36.4595      5.103      7.144      0.000      26.432      46.487\n",
      "CRIM          -0.1080      0.033     -3.287      0.001      -0.173      -0.043\n",
      "ZN             0.0464      0.014      3.382      0.001       0.019       0.073\n",
      "INDUS          0.0206      0.061      0.334      0.738      -0.100       0.141\n",
      "CHAS           2.6867      0.862      3.118      0.002       0.994       4.380\n",
      "NOX          -17.7666      3.820     -4.651      0.000     -25.272     -10.262\n",
      "RM             3.8099      0.418      9.116      0.000       2.989       4.631\n",
      "AGE            0.0007      0.013      0.052      0.958      -0.025       0.027\n",
      "DIS           -1.4756      0.199     -7.398      0.000      -1.867      -1.084\n",
      "RAD            0.3060      0.066      4.613      0.000       0.176       0.436\n",
      "TAX           -0.0123      0.004     -3.280      0.001      -0.020      -0.005\n",
      "PTRATIO       -0.9527      0.131     -7.283      0.000      -1.210      -0.696\n",
      "B              0.0093      0.003      3.467      0.001       0.004       0.015\n",
      "LSTAT         -0.5248      0.051    -10.347      0.000      -0.624      -0.425\n",
      "==============================================================================\n",
      "Omnibus:                      178.041   Durbin-Watson:                   1.078\n",
      "Prob(Omnibus):                  0.000   Jarque-Bera (JB):              783.126\n",
      "Skew:                           1.521   Prob(JB):                    8.84e-171\n",
      "Kurtosis:                       8.281   Cond. No.                     1.51e+04\n",
      "==============================================================================\n",
      "\n",
      "Warnings:\n",
      "[1] Standard Errors assume that the covariance matrix of the errors is correctly specified.\n",
      "[2] The condition number is large, 1.51e+04. This might indicate that there are\n",
      "strong multicollinearity or other numerical problems.\n"
     ]
    }
   ],
   "source": [
    "from sklearn.datasets import load_boston\n",
    "\n",
    "boston = load_boston()\n",
    "\n",
    "dfX = pd.DataFrame(boston.data, columns=boston.feature_names)\n",
    "dfy = pd.DataFrame(boston.target, columns=['MEDV'])\n",
    "df = pd.concat([dfX, dfy], axis=1)\n",
    "\n",
    "model1 = sm.OLS.from_formula(\"MEDV ~ \" + \"+\".join(boston.feature_names), data=df)\n",
    "result1 = model1.fit()\n",
    "print(result1.summary())"
   ]
  },
  {
   "cell_type": "code",
   "execution_count": 2,
   "metadata": {},
   "outputs": [],
   "source": [
    "A = np.eye(4)"
   ]
  },
  {
   "cell_type": "code",
   "execution_count": 3,
   "metadata": {},
   "outputs": [
    {
     "data": {
      "text/plain": [
       "array([1., 1., 1., 1.])"
      ]
     },
     "execution_count": 3,
     "metadata": {},
     "output_type": "execute_result"
    }
   ],
   "source": [
    "b = np.ones(4)\n",
    "x = sp.linalg.solve(A, b)\n",
    "x"
   ]
  },
  {
   "cell_type": "code",
   "execution_count": 4,
   "metadata": {},
   "outputs": [
    {
     "data": {
      "text/plain": [
       "array([0.99990001, 0.99990001, 0.99990001, 0.99990001])"
      ]
     },
     "execution_count": 4,
     "metadata": {},
     "output_type": "execute_result"
    }
   ],
   "source": [
    "x_error = sp.linalg.solve(A + 0.0001 * np.eye(4), b)\n",
    "x_error"
   ]
  },
  {
   "cell_type": "code",
   "execution_count": 5,
   "metadata": {},
   "outputs": [
    {
     "data": {
      "text/plain": [
       "array([[1.        , 0.5       , 0.33333333, 0.25      ],\n",
       "       [0.5       , 0.33333333, 0.25      , 0.2       ],\n",
       "       [0.33333333, 0.25      , 0.2       , 0.16666667],\n",
       "       [0.25      , 0.2       , 0.16666667, 0.14285714]])"
      ]
     },
     "execution_count": 5,
     "metadata": {},
     "output_type": "execute_result"
    }
   ],
   "source": [
    "A = sp.linalg.hilbert(4)\n",
    "A"
   ]
  },
  {
   "cell_type": "code",
   "execution_count": 6,
   "metadata": {},
   "outputs": [
    {
     "data": {
      "text/plain": [
       "15513.738738929038"
      ]
     },
     "execution_count": 6,
     "metadata": {},
     "output_type": "execute_result"
    }
   ],
   "source": [
    "np.linalg.cond(A)"
   ]
  },
  {
   "cell_type": "code",
   "execution_count": 7,
   "metadata": {},
   "outputs": [
    {
     "data": {
      "text/plain": [
       "array([  -4.,   60., -180.,  140.])"
      ]
     },
     "execution_count": 7,
     "metadata": {},
     "output_type": "execute_result"
    }
   ],
   "source": [
    "sp.linalg.solve(A, b)"
   ]
  },
  {
   "cell_type": "code",
   "execution_count": 8,
   "metadata": {},
   "outputs": [
    {
     "data": {
      "text/plain": [
       "array([ -0.58897672,  21.1225671 , -85.75912499,  78.45650825])"
      ]
     },
     "execution_count": 8,
     "metadata": {},
     "output_type": "execute_result"
    }
   ],
   "source": [
    "sp.linalg.solve(A + 0.0001 * np.eye(4), b)"
   ]
  },
  {
   "cell_type": "markdown",
   "metadata": {},
   "source": [
    "#### 회귀분석과 조건수"
   ]
  },
  {
   "cell_type": "code",
   "execution_count": 9,
   "metadata": {},
   "outputs": [
    {
     "data": {
      "text/plain": [
       "CRIM         8.601545\n",
       "ZN          23.322453\n",
       "INDUS        6.860353\n",
       "CHAS         0.253994\n",
       "NOX          0.115878\n",
       "RM           0.702617\n",
       "AGE         28.148861\n",
       "DIS          2.105710\n",
       "RAD          8.707259\n",
       "TAX        168.537116\n",
       "PTRATIO      2.164946\n",
       "B           91.294864\n",
       "LSTAT        7.141062\n",
       "Name: std, dtype: float64"
      ]
     },
     "execution_count": 9,
     "metadata": {},
     "output_type": "execute_result"
    }
   ],
   "source": [
    "dfX.describe().loc['std']"
   ]
  },
  {
   "cell_type": "code",
   "execution_count": 10,
   "metadata": {
    "scrolled": false
   },
   "outputs": [
    {
     "name": "stdout",
     "output_type": "stream",
     "text": [
      "                            OLS Regression Results                            \n",
      "==============================================================================\n",
      "Dep. Variable:                   MEDV   R-squared:                       0.333\n",
      "Model:                            OLS   Adj. R-squared:                  0.329\n",
      "Method:                 Least Squares   F-statistic:                     83.39\n",
      "Date:                Fri, 23 Oct 2020   Prob (F-statistic):           8.62e-44\n",
      "Time:                        22:53:56   Log-Likelihood:                -1737.9\n",
      "No. Observations:                 506   AIC:                             3484.\n",
      "Df Residuals:                     502   BIC:                             3501.\n",
      "Df Model:                           3                                         \n",
      "Covariance Type:            nonrobust                                         \n",
      "==============================================================================\n",
      "                 coef    std err          t      P>|t|      [0.025      0.975]\n",
      "------------------------------------------------------------------------------\n",
      "Intercept     -0.0038      0.000     -8.543      0.000      -0.005      -0.003\n",
      "CRIM          -0.1567      0.046     -3.376      0.001      -0.248      -0.066\n",
      "ZN             0.1273      0.016      7.752      0.000       0.095       0.160\n",
      "INDUS         -0.1971      0.019    -10.433      0.000      -0.234      -0.160\n",
      "CHAS           0.0034      0.000     12.430      0.000       0.003       0.004\n",
      "NOX           -0.0023      0.000     -9.285      0.000      -0.003      -0.002\n",
      "RM             0.0267      0.002     14.132      0.000       0.023       0.030\n",
      "AGE            0.1410      0.017      8.443      0.000       0.108       0.174\n",
      "DIS           -0.0286      0.004     -7.531      0.000      -0.036      -0.021\n",
      "RAD            0.1094      0.018      6.163      0.000       0.075       0.144\n",
      "TAX         1.077e-15   2.66e-16      4.051      0.000    5.55e-16     1.6e-15\n",
      "PTRATIO       -0.1124      0.011    -10.390      0.000      -0.134      -0.091\n",
      "B              0.0516      0.003     19.916      0.000       0.046       0.057\n",
      "LSTAT         -0.6569      0.056    -11.790      0.000      -0.766      -0.547\n",
      "==============================================================================\n",
      "Omnibus:                       39.447   Durbin-Watson:                   0.863\n",
      "Prob(Omnibus):                  0.000   Jarque-Bera (JB):               46.611\n",
      "Skew:                           0.704   Prob(JB):                     7.56e-11\n",
      "Kurtosis:                       3.479   Cond. No.                     1.19e+17\n",
      "==============================================================================\n",
      "\n",
      "Warnings:\n",
      "[1] Standard Errors assume that the covariance matrix of the errors is correctly specified.\n",
      "[2] The condition number is large, 1.19e+17. This might indicate that there are\n",
      "strong multicollinearity or other numerical problems.\n"
     ]
    }
   ],
   "source": [
    "# 일부러 표준편차 더 늘려보기\n",
    "dfX2 = dfX.copy()\n",
    "dfX2[\"TAX\"] *= 1e13\n",
    "df2 = pd.concat([dfX2, dfy], axis=1)\n",
    "\n",
    "model2 = sm.OLS.from_formula(\"MEDV ~ \" + \"+\".join(boston.feature_names), data=df2)\n",
    "result2 = model2.fit()\n",
    "print(result2.summary())"
   ]
  },
  {
   "cell_type": "code",
   "execution_count": 11,
   "metadata": {},
   "outputs": [
    {
     "name": "stdout",
     "output_type": "stream",
     "text": [
      "                            OLS Regression Results                            \n",
      "==============================================================================\n",
      "Dep. Variable:                   MEDV   R-squared:                       0.741\n",
      "Model:                            OLS   Adj. R-squared:                  0.734\n",
      "Method:                 Least Squares   F-statistic:                     108.1\n",
      "Date:                Fri, 23 Oct 2020   Prob (F-statistic):          6.72e-135\n",
      "Time:                        22:54:39   Log-Likelihood:                -1498.8\n",
      "No. Observations:                 506   AIC:                             3026.\n",
      "Df Residuals:                     492   BIC:                             3085.\n",
      "Df Model:                          13                                         \n",
      "Covariance Type:            nonrobust                                         \n",
      "==================================================================================\n",
      "                     coef    std err          t      P>|t|      [0.025      0.975]\n",
      "----------------------------------------------------------------------------------\n",
      "Intercept         22.3470      0.219    101.943      0.000      21.916      22.778\n",
      "scale(CRIM)       -0.9281      0.282     -3.287      0.001      -1.483      -0.373\n",
      "scale(ZN)          1.0816      0.320      3.382      0.001       0.453       1.710\n",
      "scale(INDUS)       0.1409      0.421      0.334      0.738      -0.687       0.969\n",
      "scale(NOX)        -2.0567      0.442     -4.651      0.000      -2.926      -1.188\n",
      "scale(RM)          2.6742      0.293      9.116      0.000       2.098       3.251\n",
      "scale(AGE)         0.0195      0.371      0.052      0.958      -0.710       0.749\n",
      "scale(DIS)        -3.1040      0.420     -7.398      0.000      -3.928      -2.280\n",
      "scale(RAD)         2.6622      0.577      4.613      0.000       1.528       3.796\n",
      "scale(TAX)        -2.0768      0.633     -3.280      0.001      -3.321      -0.833\n",
      "scale(PTRATIO)    -2.0606      0.283     -7.283      0.000      -2.617      -1.505\n",
      "scale(B)           0.8493      0.245      3.467      0.001       0.368       1.331\n",
      "scale(LSTAT)      -3.7436      0.362    -10.347      0.000      -4.454      -3.033\n",
      "CHAS               2.6867      0.862      3.118      0.002       0.994       4.380\n",
      "==============================================================================\n",
      "Omnibus:                      178.041   Durbin-Watson:                   1.078\n",
      "Prob(Omnibus):                  0.000   Jarque-Bera (JB):              783.126\n",
      "Skew:                           1.521   Prob(JB):                    8.84e-171\n",
      "Kurtosis:                       8.281   Cond. No.                         10.6\n",
      "==============================================================================\n",
      "\n",
      "Warnings:\n",
      "[1] Standard Errors assume that the covariance matrix of the errors is correctly specified.\n"
     ]
    }
   ],
   "source": [
    "# 스케일링 하기 (올바른 방법)\n",
    "feature_names = list(boston.feature_names)\n",
    "feature_names.remove(\"CHAS\")\n",
    "feature_names = [\"scale({})\".format(name) for name in feature_names] + [\"CHAS\"]\n",
    "model3 = sm.OLS.from_formula(\"MEDV ~ \" + \"+\".join(feature_names), data=df2)\n",
    "result3 = model3.fit()\n",
    "print(result3.summary())"
   ]
  },
  {
   "cell_type": "code",
   "execution_count": null,
   "metadata": {},
   "outputs": [],
   "source": []
  }
 ],
 "metadata": {
  "kernelspec": {
   "display_name": "Python 3",
   "language": "python",
   "name": "python3"
  },
  "language_info": {
   "codemirror_mode": {
    "name": "ipython",
    "version": 3
   },
   "file_extension": ".py",
   "mimetype": "text/x-python",
   "name": "python",
   "nbconvert_exporter": "python",
   "pygments_lexer": "ipython3",
   "version": "3.7.6"
  }
 },
 "nbformat": 4,
 "nbformat_minor": 4
}
