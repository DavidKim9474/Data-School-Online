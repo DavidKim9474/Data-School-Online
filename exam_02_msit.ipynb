{
 "cells": [
  {
   "cell_type": "markdown",
   "metadata": {},
   "source": [
    "#### msit : 과학기술 정보통신부\n",
    "- https://msit.go.kr\n",
    "- 보도자료를 크롤링\n",
    "- json으로 데이터 수정\n",
    "- json 데이터 안에 html 코드가 들어있습니다."
   ]
  },
  {
   "cell_type": "code",
   "execution_count": 73,
   "metadata": {},
   "outputs": [],
   "source": [
    "page = 1\n",
    "url = \"https://www.msit.go.kr/dynamic/article/_policycom2?\\\n",
    "&sort=operday=desc&below=false&pageout=true&aradon.result.format=json\\\n",
    "&aradon.page.pageNo={}&aradon.page.listNum=10&aradon.page.screenCount=5\\\n",
    "&aradon.referrer.href=https://www.msit.go.kr/web/msipContents/contents.do?mId=MTAxOA==\".format(page)"
   ]
  },
  {
   "cell_type": "code",
   "execution_count": 74,
   "metadata": {},
   "outputs": [
    {
     "data": {
      "text/plain": [
       "<Response [200]>"
      ]
     },
     "execution_count": 74,
     "metadata": {},
     "output_type": "execute_result"
    }
   ],
   "source": [
    "response = requests.get(url)\n",
    "response"
   ]
  },
  {
   "cell_type": "code",
   "execution_count": 75,
   "metadata": {
    "scrolled": false
   },
   "outputs": [
    {
     "data": {
      "text/html": [
       "<div>\n",
       "<style scoped>\n",
       "    .dataframe tbody tr th:only-of-type {\n",
       "        vertical-align: middle;\n",
       "    }\n",
       "\n",
       "    .dataframe tbody tr th {\n",
       "        vertical-align: top;\n",
       "    }\n",
       "\n",
       "    .dataframe thead th {\n",
       "        text-align: right;\n",
       "    }\n",
       "</style>\n",
       "<table border=\"1\" class=\"dataframe\">\n",
       "  <thead>\n",
       "    <tr style=\"text-align: right;\">\n",
       "      <th></th>\n",
       "      <th>action</th>\n",
       "      <th>admin_p</th>\n",
       "      <th>artid</th>\n",
       "      <th>artsubject</th>\n",
       "      <th>catid</th>\n",
       "    </tr>\n",
       "  </thead>\n",
       "  <tbody>\n",
       "    <tr>\n",
       "      <th>0</th>\n",
       "      <td>INS</td>\n",
       "      <td>지식재산전략기획단 기획총괄과</td>\n",
       "      <td>3074762</td>\n",
       "      <td>제27차 국가지식재산위원회 개최 및 4개 안건 의결 및 확정</td>\n",
       "      <td>_policycom2</td>\n",
       "    </tr>\n",
       "    <tr>\n",
       "      <th>1</th>\n",
       "      <td>INS</td>\n",
       "      <td>지식재산전략기획단 기획총괄과, 성과기반과</td>\n",
       "      <td>3074761</td>\n",
       "      <td>제3회 지식재산의 날 기념식 개최</td>\n",
       "      <td>_policycom2</td>\n",
       "    </tr>\n",
       "    <tr>\n",
       "      <th>2</th>\n",
       "      <td>INS</td>\n",
       "      <td>연구성과일자리정책과</td>\n",
       "      <td>3074760</td>\n",
       "      <td>정병선 제1차관, 감염병 대응기술 연구현장 ‘한국과학기술연구원’ 방문</td>\n",
       "      <td>_policycom2</td>\n",
       "    </tr>\n",
       "    <tr>\n",
       "      <th>3</th>\n",
       "      <td>INS</td>\n",
       "      <td>정보보호산업과</td>\n",
       "      <td>3074581</td>\n",
       "      <td>국제해킹방어대회 ‘코드게이트 2020’ 개최 결과</td>\n",
       "      <td>_policycom2</td>\n",
       "    </tr>\n",
       "    <tr>\n",
       "      <th>4</th>\n",
       "      <td>INS</td>\n",
       "      <td>디지털뉴딜지원팀</td>\n",
       "      <td>3074193</td>\n",
       "      <td>과기정통부 장관, 디지털 뉴딜 추진상황 면밀 점검</td>\n",
       "      <td>_policycom2</td>\n",
       "    </tr>\n",
       "    <tr>\n",
       "      <th>5</th>\n",
       "      <td>INS</td>\n",
       "      <td>정보보호산업과</td>\n",
       "      <td>3074192</td>\n",
       "      <td>과기정통부, 폐쇄형회로(CCTV) 산업 동향 논의 간담회 개최</td>\n",
       "      <td>_policycom2</td>\n",
       "    </tr>\n",
       "    <tr>\n",
       "      <th>6</th>\n",
       "      <td>INS</td>\n",
       "      <td>연구예산총괄과</td>\n",
       "      <td>3074191</td>\n",
       "      <td>내년 연국개발(R&amp;D) 투자 27조원, 미래세대 위해 대폭 확대</td>\n",
       "      <td>_policycom2</td>\n",
       "    </tr>\n",
       "    <tr>\n",
       "      <th>7</th>\n",
       "      <td>INS</td>\n",
       "      <td>네트워크정책과, 정보보호기획과, 정보보호산업과, 사이버침해대응과</td>\n",
       "      <td>3072664</td>\n",
       "      <td>정보보호 3개법 하위법령 개정안 입법예고 실시</td>\n",
       "      <td>_policycom2</td>\n",
       "    </tr>\n",
       "    <tr>\n",
       "      <th>8</th>\n",
       "      <td>INS</td>\n",
       "      <td>디지털신산업제도과</td>\n",
       "      <td>3072663</td>\n",
       "      <td>정보통신기술(ICT) 규제 샌드박스 동일‧유사 과제 5건 신속 처리</td>\n",
       "      <td>_policycom2</td>\n",
       "    </tr>\n",
       "    <tr>\n",
       "      <th>9</th>\n",
       "      <td>INS</td>\n",
       "      <td>소프트웨어정책과</td>\n",
       "      <td>3072662</td>\n",
       "      <td>대학의 소프트웨어교육혁신을 선도해온 소프트웨어중심대학, 중소 대학의 참여 확대로 혁...</td>\n",
       "      <td>_policycom2</td>\n",
       "    </tr>\n",
       "  </tbody>\n",
       "</table>\n",
       "</div>"
      ],
      "text/plain": [
       "  action                              admin_p    artid  \\\n",
       "0    INS                      지식재산전략기획단 기획총괄과  3074762   \n",
       "1    INS               지식재산전략기획단 기획총괄과, 성과기반과  3074761   \n",
       "2    INS                           연구성과일자리정책과  3074760   \n",
       "3    INS                              정보보호산업과  3074581   \n",
       "4    INS                             디지털뉴딜지원팀  3074193   \n",
       "5    INS                              정보보호산업과  3074192   \n",
       "6    INS                              연구예산총괄과  3074191   \n",
       "7    INS  네트워크정책과, 정보보호기획과, 정보보호산업과, 사이버침해대응과  3072664   \n",
       "8    INS                           디지털신산업제도과   3072663   \n",
       "9    INS                             소프트웨어정책과  3072662   \n",
       "\n",
       "                                          artsubject        catid  \n",
       "0                  제27차 국가지식재산위원회 개최 및 4개 안건 의결 및 확정  _policycom2  \n",
       "1                                 제3회 지식재산의 날 기념식 개최  _policycom2  \n",
       "2             정병선 제1차관, 감염병 대응기술 연구현장 ‘한국과학기술연구원’ 방문  _policycom2  \n",
       "3                        국제해킹방어대회 ‘코드게이트 2020’ 개최 결과  _policycom2  \n",
       "4                        과기정통부 장관, 디지털 뉴딜 추진상황 면밀 점검  _policycom2  \n",
       "5                 과기정통부, 폐쇄형회로(CCTV) 산업 동향 논의 간담회 개최  _policycom2  \n",
       "6                내년 연국개발(R&D) 투자 27조원, 미래세대 위해 대폭 확대  _policycom2  \n",
       "7                          정보보호 3개법 하위법령 개정안 입법예고 실시  _policycom2  \n",
       "8              정보통신기술(ICT) 규제 샌드박스 동일‧유사 과제 5건 신속 처리  _policycom2  \n",
       "9  대학의 소프트웨어교육혁신을 선도해온 소프트웨어중심대학, 중소 대학의 참여 확대로 혁...  _policycom2  "
      ]
     },
     "execution_count": 75,
     "metadata": {},
     "output_type": "execute_result"
    }
   ],
   "source": [
    "data = response.json()[\"result\"][\"nodes\"]\n",
    "columns = [\"action\", \"admin_p\", \"artid\", \"artsubject\", \"catid\"]\n",
    "msit_df = pd.DataFrame(data)[columns]\n",
    "msit_df"
   ]
  },
  {
   "cell_type": "code",
   "execution_count": 97,
   "metadata": {
    "scrolled": false
   },
   "outputs": [
    {
     "data": {
      "text/html": [
       "<div>\n",
       "<style scoped>\n",
       "    .dataframe tbody tr th:only-of-type {\n",
       "        vertical-align: middle;\n",
       "    }\n",
       "\n",
       "    .dataframe tbody tr th {\n",
       "        vertical-align: top;\n",
       "    }\n",
       "\n",
       "    .dataframe thead th {\n",
       "        text-align: right;\n",
       "    }\n",
       "</style>\n",
       "<table border=\"1\" class=\"dataframe\">\n",
       "  <thead>\n",
       "    <tr style=\"text-align: right;\">\n",
       "      <th></th>\n",
       "      <th>artcont</th>\n",
       "    </tr>\n",
       "  </thead>\n",
       "  <tbody>\n",
       "    <tr>\n",
       "      <th>0</th>\n",
       "      <td>국가지식재산위원회 개최 및 4개 안건 의결 및 확정 관련 보도자료 내용입니다.</td>\n",
       "    </tr>\n",
       "    <tr>\n",
       "      <th>1</th>\n",
       "      <td>지식재산의 날 기념식 개최 관련 보도자료 내용입니다.</td>\n",
       "    </tr>\n",
       "    <tr>\n",
       "      <th>2</th>\n",
       "      <td>제1차관, 감염병 대응기술 연구현장 ‘한국과학기술연구원’ 방문 관련 보도자료 내용입니다.</td>\n",
       "    </tr>\n",
       "    <tr>\n",
       "      <th>3</th>\n",
       "      <td>방어대회 ‘코드게이트 2020’ 개최 결과 관련 보도자료 내용입니다.</td>\n",
       "    </tr>\n",
       "    <tr>\n",
       "      <th>4</th>\n",
       "      <td>부 장관, 디지털 뉴딜 추진상황 면밀 점검 관련 보도자료 내용입니다.</td>\n",
       "    </tr>\n",
       "    <tr>\n",
       "      <th>5</th>\n",
       "      <td>부, 폐쇄형회로(CCTV) 산업 동향 논의 간담회 개최 관련 보도자료 내용입니다.</td>\n",
       "    </tr>\n",
       "    <tr>\n",
       "      <th>6</th>\n",
       "      <td>국개발(R&amp;amp;D) 투자 27조원, 미래세대 위해 대폭 확대 관련 보도자료 내용...</td>\n",
       "    </tr>\n",
       "    <tr>\n",
       "      <th>7</th>\n",
       "      <td>3개법 하위법령 개정안 입법예고 실시 관련 보도자료 내용입니다.</td>\n",
       "    </tr>\n",
       "    <tr>\n",
       "      <th>8</th>\n",
       "      <td>기술(ICT) 규제 샌드박스 동일‧유사 과제 5건 신속 처리 관련 보도자료 내용입니다.</td>\n",
       "    </tr>\n",
       "    <tr>\n",
       "      <th>9</th>\n",
       "      <td>소프트웨어교육혁신을 선도해온 소프트웨어중심대학, 중소 대학의 참여 확대로 혁신교육 ...</td>\n",
       "    </tr>\n",
       "  </tbody>\n",
       "</table>\n",
       "</div>"
      ],
      "text/plain": [
       "                                             artcont\n",
       "0        국가지식재산위원회 개최 및 4개 안건 의결 및 확정 관련 보도자료 내용입니다.\n",
       "1                      지식재산의 날 기념식 개최 관련 보도자료 내용입니다.\n",
       "2  제1차관, 감염병 대응기술 연구현장 ‘한국과학기술연구원’ 방문 관련 보도자료 내용입니다.\n",
       "3             방어대회 ‘코드게이트 2020’ 개최 결과 관련 보도자료 내용입니다.\n",
       "4             부 장관, 디지털 뉴딜 추진상황 면밀 점검 관련 보도자료 내용입니다.\n",
       "5      부, 폐쇄형회로(CCTV) 산업 동향 논의 간담회 개최 관련 보도자료 내용입니다.\n",
       "6  국개발(R&amp;D) 투자 27조원, 미래세대 위해 대폭 확대 관련 보도자료 내용...\n",
       "7                3개법 하위법령 개정안 입법예고 실시 관련 보도자료 내용입니다.\n",
       "8   기술(ICT) 규제 샌드박스 동일‧유사 과제 5건 신속 처리 관련 보도자료 내용입니다.\n",
       "9  소프트웨어교육혁신을 선도해온 소프트웨어중심대학, 중소 대학의 참여 확대로 혁신교육 ..."
      ]
     },
     "execution_count": 97,
     "metadata": {},
     "output_type": "execute_result"
    }
   ],
   "source": [
    "link_data = []\n",
    "for idx, row in msit_df.iterrows():\n",
    "    link = \"https://www.msit.go.kr/web/msipContents/contentsView.do?cateId={}&artId={}\".format(row['catid'], row['artid'])\n",
    "    link_response = requests.get(link)\n",
    "    dom = BeautifulSoup(link_response.content, \"html.parser\")\n",
    "    selector = \"div.board_mobile\"\n",
    "    elements = dom.select(selector)\n",
    "    link_data.append({\n",
    "        \"artcont\": str(elements)[35:-7].strip()\n",
    "    })\n",
    "link_df = pd.DataFrame(link_data)\n",
    "link_df"
   ]
  },
  {
   "cell_type": "code",
   "execution_count": 98,
   "metadata": {
    "scrolled": false
   },
   "outputs": [
    {
     "data": {
      "text/html": [
       "<div>\n",
       "<style scoped>\n",
       "    .dataframe tbody tr th:only-of-type {\n",
       "        vertical-align: middle;\n",
       "    }\n",
       "\n",
       "    .dataframe tbody tr th {\n",
       "        vertical-align: top;\n",
       "    }\n",
       "\n",
       "    .dataframe thead th {\n",
       "        text-align: right;\n",
       "    }\n",
       "</style>\n",
       "<table border=\"1\" class=\"dataframe\">\n",
       "  <thead>\n",
       "    <tr style=\"text-align: right;\">\n",
       "      <th></th>\n",
       "      <th>action</th>\n",
       "      <th>admin_p</th>\n",
       "      <th>artid</th>\n",
       "      <th>artsubject</th>\n",
       "      <th>catid</th>\n",
       "      <th>artcont</th>\n",
       "    </tr>\n",
       "  </thead>\n",
       "  <tbody>\n",
       "    <tr>\n",
       "      <th>5</th>\n",
       "      <td>INS</td>\n",
       "      <td>정보보호산업과</td>\n",
       "      <td>3074192</td>\n",
       "      <td>과기정통부, 폐쇄형회로(CCTV) 산업 동향 논의 간담회 개최</td>\n",
       "      <td>_policycom2</td>\n",
       "      <td>부, 폐쇄형회로(CCTV) 산업 동향 논의 간담회 개최 관련 보도자료 내용입니다.</td>\n",
       "    </tr>\n",
       "    <tr>\n",
       "      <th>6</th>\n",
       "      <td>INS</td>\n",
       "      <td>연구예산총괄과</td>\n",
       "      <td>3074191</td>\n",
       "      <td>내년 연국개발(R&amp;D) 투자 27조원, 미래세대 위해 대폭 확대</td>\n",
       "      <td>_policycom2</td>\n",
       "      <td>국개발(R&amp;amp;D) 투자 27조원, 미래세대 위해 대폭 확대 관련 보도자료 내용...</td>\n",
       "    </tr>\n",
       "    <tr>\n",
       "      <th>7</th>\n",
       "      <td>INS</td>\n",
       "      <td>네트워크정책과, 정보보호기획과, 정보보호산업과, 사이버침해대응과</td>\n",
       "      <td>3072664</td>\n",
       "      <td>정보보호 3개법 하위법령 개정안 입법예고 실시</td>\n",
       "      <td>_policycom2</td>\n",
       "      <td>3개법 하위법령 개정안 입법예고 실시 관련 보도자료 내용입니다.</td>\n",
       "    </tr>\n",
       "    <tr>\n",
       "      <th>8</th>\n",
       "      <td>INS</td>\n",
       "      <td>디지털신산업제도과</td>\n",
       "      <td>3072663</td>\n",
       "      <td>정보통신기술(ICT) 규제 샌드박스 동일‧유사 과제 5건 신속 처리</td>\n",
       "      <td>_policycom2</td>\n",
       "      <td>기술(ICT) 규제 샌드박스 동일‧유사 과제 5건 신속 처리 관련 보도자료 내용입니다.</td>\n",
       "    </tr>\n",
       "    <tr>\n",
       "      <th>9</th>\n",
       "      <td>INS</td>\n",
       "      <td>소프트웨어정책과</td>\n",
       "      <td>3072662</td>\n",
       "      <td>대학의 소프트웨어교육혁신을 선도해온 소프트웨어중심대학, 중소 대학의 참여 확대로 혁...</td>\n",
       "      <td>_policycom2</td>\n",
       "      <td>소프트웨어교육혁신을 선도해온 소프트웨어중심대학, 중소 대학의 참여 확대로 혁신교육 ...</td>\n",
       "    </tr>\n",
       "  </tbody>\n",
       "</table>\n",
       "</div>"
      ],
      "text/plain": [
       "  action                              admin_p    artid  \\\n",
       "5    INS                              정보보호산업과  3074192   \n",
       "6    INS                              연구예산총괄과  3074191   \n",
       "7    INS  네트워크정책과, 정보보호기획과, 정보보호산업과, 사이버침해대응과  3072664   \n",
       "8    INS                           디지털신산업제도과   3072663   \n",
       "9    INS                             소프트웨어정책과  3072662   \n",
       "\n",
       "                                          artsubject        catid  \\\n",
       "5                 과기정통부, 폐쇄형회로(CCTV) 산업 동향 논의 간담회 개최  _policycom2   \n",
       "6                내년 연국개발(R&D) 투자 27조원, 미래세대 위해 대폭 확대  _policycom2   \n",
       "7                          정보보호 3개법 하위법령 개정안 입법예고 실시  _policycom2   \n",
       "8              정보통신기술(ICT) 규제 샌드박스 동일‧유사 과제 5건 신속 처리  _policycom2   \n",
       "9  대학의 소프트웨어교육혁신을 선도해온 소프트웨어중심대학, 중소 대학의 참여 확대로 혁...  _policycom2   \n",
       "\n",
       "                                             artcont  \n",
       "5      부, 폐쇄형회로(CCTV) 산업 동향 논의 간담회 개최 관련 보도자료 내용입니다.  \n",
       "6  국개발(R&amp;D) 투자 27조원, 미래세대 위해 대폭 확대 관련 보도자료 내용...  \n",
       "7                3개법 하위법령 개정안 입법예고 실시 관련 보도자료 내용입니다.  \n",
       "8   기술(ICT) 규제 샌드박스 동일‧유사 과제 5건 신속 처리 관련 보도자료 내용입니다.  \n",
       "9  소프트웨어교육혁신을 선도해온 소프트웨어중심대학, 중소 대학의 참여 확대로 혁신교육 ...  "
      ]
     },
     "execution_count": 98,
     "metadata": {},
     "output_type": "execute_result"
    }
   ],
   "source": [
    "result_df = msit_df.merge(link_df, left_index=True, right_index=True)\n",
    "result_df.tail()"
   ]
  },
  {
   "cell_type": "code",
   "execution_count": 99,
   "metadata": {},
   "outputs": [
    {
     "data": {
      "text/plain": [
       "'국가지식재산위원회 개최 및 4개 안건 의결 및 확정 관련 보도자료 내용입니다.'"
      ]
     },
     "execution_count": 99,
     "metadata": {},
     "output_type": "execute_result"
    }
   ],
   "source": [
    "result_df[\"artcont\"][0]"
   ]
  },
  {
   "cell_type": "code",
   "execution_count": null,
   "metadata": {},
   "outputs": [],
   "source": [
    "# If the msit website hasn't changed:"
   ]
  },
  {
   "cell_type": "code",
   "execution_count": 100,
   "metadata": {},
   "outputs": [],
   "source": [
    "# def html_to_text(html):\n",
    "#     remove_words = [\"\\n\", \"\\xa0\", \"ㅁ\", \"\\r\"]\n",
    "#     content = BeautifulSoup(html, \"html.parser\").text\n",
    "#     for remove_word in remove_words:\n",
    "#         content = content.replace(remove_words, \"\")\n",
    "#     return content"
   ]
  },
  {
   "cell_type": "code",
   "execution_count": null,
   "metadata": {},
   "outputs": [],
   "source": [
    "# content = html_to_text(result_df['artcont'][1])\n",
    "# content[:100]"
   ]
  },
  {
   "cell_type": "code",
   "execution_count": null,
   "metadata": {},
   "outputs": [],
   "source": [
    "# result_df['artcont'] = result_df['artcont'].apply(html_to_text)\n",
    "# result_df.tail(2)"
   ]
  }
 ],
 "metadata": {
  "kernelspec": {
   "display_name": "Python 3",
   "language": "python",
   "name": "python3"
  },
  "language_info": {
   "codemirror_mode": {
    "name": "ipython",
    "version": 3
   },
   "file_extension": ".py",
   "mimetype": "text/x-python",
   "name": "python",
   "nbconvert_exporter": "python",
   "pygments_lexer": "ipython3",
   "version": "3.7.6"
  }
 },
 "nbformat": 4,
 "nbformat_minor": 4
}
