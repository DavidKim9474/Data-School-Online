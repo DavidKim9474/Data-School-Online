{
 "cells": [
  {
   "cell_type": "code",
   "execution_count": 1,
   "metadata": {},
   "outputs": [
    {
     "data": {
      "image/png": "[encoded data removed]",
      "text/plain": [
       "<IPython.core.display.Image object>"
      ]
     },
     "execution_count": 1,
     "metadata": {
      "image/png": {
       "width": 600
      }
     },
     "output_type": "execute_result"
    }
   ],
   "source": [
    "import networkx as nx\n",
    "from IPython.core.display import Image\n",
    "from networkx.drawing.nx_pydot import to_pydot\n",
    "\n",
    "g1 = nx.DiGraph()\n",
    "g1.add_edges_from([('A', 'B'), ('B', 'C')])\n",
    "d1 = to_pydot(g1)\n",
    "d1.set_rankdir('LR')\n",
    "d1.set_margin(0.2)\n",
    "Image(d1.create_png(), width=600)"
   ]
  },
  {
   "cell_type": "markdown",
   "metadata": {},
   "source": [
    "#### 변수제거"
   ]
  },
  {
   "cell_type": "code",
   "execution_count": 4,
   "metadata": {},
   "outputs": [],
   "source": [
    "from pgmpy.factors.discrete import TabularCPD\n",
    "\n",
    "P_A = TabularCPD('A', 3, [[0.1], [0.6], [0.3]])\n",
    "P_B_I_A = TabularCPD('B', 3, np.array([[0.6, 0.2, 0.1], [0.3, 0.5, 0.3], [0.1, 0.3, 0.6]]), evidence=['A'], evidence_card=[3])\n",
    "P_C_I_B = TabularCPD('C', 3, np.array([[0.7, 0.1, 0.1], [0.2, 0.6, 0.1], [0.1, 0.3, 0.8]]), evidence=['B'], evidence_card=[3])"
   ]
  },
  {
   "cell_type": "code",
   "execution_count": 5,
   "metadata": {},
   "outputs": [
    {
     "data": {
      "text/plain": [
       "True"
      ]
     },
     "execution_count": 5,
     "metadata": {},
     "output_type": "execute_result"
    }
   ],
   "source": [
    "from pgmpy.models import BayesianModel\n",
    "\n",
    "model = BayesianModel([('A', 'B'), ('B', 'C')])\n",
    "model.add_cpds(P_A, P_B_I_A, P_C_I_B)\n",
    "model.check_model()"
   ]
  },
  {
   "cell_type": "code",
   "execution_count": 6,
   "metadata": {},
   "outputs": [
    {
     "name": "stderr",
     "output_type": "stream",
     "text": [
      "Finding Elimination Order: : 100%|██████████| 2/2 [00:00<00:00, 550.58it/s]\n",
      "Eliminating: B: 100%|██████████| 2/2 [00:00<00:00, 334.02it/s]"
     ]
    },
    {
     "name": "stdout",
     "output_type": "stream",
     "text": [
      "+------+----------+\n",
      "| C    |   phi(C) |\n",
      "+======+==========+\n",
      "| C(0) |   0.2260 |\n",
      "+------+----------+\n",
      "| C(1) |   0.3310 |\n",
      "+------+----------+\n",
      "| C(2) |   0.4430 |\n",
      "+------+----------+\n"
     ]
    },
    {
     "name": "stderr",
     "output_type": "stream",
     "text": [
      "\n"
     ]
    }
   ],
   "source": [
    "from pgmpy.inference import VariableElimination\n",
    "\n",
    "infer = VariableElimination(model)\n",
    "print(infer.query(['C']))"
   ]
  },
  {
   "cell_type": "code",
   "execution_count": 7,
   "metadata": {},
   "outputs": [
    {
     "name": "stdout",
     "output_type": "stream",
     "text": [
      "+------+-------+\n",
      "| C(0) | 0.226 |\n",
      "+------+-------+\n",
      "| C(1) | 0.331 |\n",
      "+------+-------+\n",
      "| C(2) | 0.443 |\n",
      "+------+-------+\n"
     ]
    }
   ],
   "source": [
    "P_B = (P_B_I_A * P_A).marginalize(['A'], inplace=False)\n",
    "P_C = (P_C_I_B * P_B).marginalize(['B'], inplace=False)\n",
    "print(P_C)"
   ]
  },
  {
   "cell_type": "code",
   "execution_count": 8,
   "metadata": {},
   "outputs": [
    {
     "name": "stderr",
     "output_type": "stream",
     "text": [
      "Finding Elimination Order: : 100%|██████████| 1/1 [00:00<00:00, 500.93it/s]\n",
      "Eliminating: B: 100%|██████████| 1/1 [00:00<00:00, 243.88it/s]"
     ]
    },
    {
     "name": "stdout",
     "output_type": "stream",
     "text": [
      "+------+----------+\n",
      "| C    |   phi(C) |\n",
      "+======+==========+\n",
      "| C(0) |   0.1600 |\n",
      "+------+----------+\n",
      "| C(1) |   0.2600 |\n",
      "+------+----------+\n",
      "| C(2) |   0.5800 |\n",
      "+------+----------+\n"
     ]
    },
    {
     "name": "stderr",
     "output_type": "stream",
     "text": [
      "\n"
     ]
    }
   ],
   "source": [
    "print(infer.query(['C'], evidence={'A': 2}))"
   ]
  },
  {
   "cell_type": "code",
   "execution_count": 10,
   "metadata": {},
   "outputs": [
    {
     "name": "stdout",
     "output_type": "stream",
     "text": [
      "+------+------+\n",
      "| C(0) | 0.16 |\n",
      "+------+------+\n",
      "| C(1) | 0.26 |\n",
      "+------+------+\n",
      "| C(2) | 0.58 |\n",
      "+------+------+\n"
     ]
    }
   ],
   "source": [
    "P_A2 = TabularCPD('A', 3, [[0], [0], [1]])\n",
    "P_B = (P_B_I_A * P_A2).marginalize(['A'], inplace=False)\n",
    "P_C = (P_C_I_B * P_B).marginalize(['B'], inplace=False)\n",
    "print(P_C)"
   ]
  },
  {
   "cell_type": "code",
   "execution_count": 11,
   "metadata": {},
   "outputs": [
    {
     "name": "stderr",
     "output_type": "stream",
     "text": [
      "Finding Elimination Order: : : 0it [00:00, ?it/s]\n",
      "0it [00:00, ?it/s]"
     ]
    },
    {
     "name": "stdout",
     "output_type": "stream",
     "text": [
      "+------+----------+\n",
      "| A    |   phi(A) |\n",
      "+======+==========+\n",
      "| A(0) |   0.2857 |\n",
      "+------+----------+\n",
      "| A(1) |   0.5714 |\n",
      "+------+----------+\n",
      "| A(2) |   0.1429 |\n",
      "+------+----------+\n"
     ]
    },
    {
     "name": "stderr",
     "output_type": "stream",
     "text": [
      "\n"
     ]
    }
   ],
   "source": [
    "print(infer.query(['A'], evidence={'B': 0, 'C': 2}))"
   ]
  },
  {
   "cell_type": "code",
   "execution_count": 12,
   "metadata": {},
   "outputs": [
    {
     "name": "stderr",
     "output_type": "stream",
     "text": [
      "Finding Elimination Order: : 100%|██████████| 1/1 [00:00<00:00, 262.95it/s]\n",
      "Eliminating: C: 100%|██████████| 1/1 [00:00<00:00, 337.57it/s]"
     ]
    },
    {
     "name": "stdout",
     "output_type": "stream",
     "text": [
      "+------+----------+\n",
      "| A    |   phi(A) |\n",
      "+======+==========+\n",
      "| A(0) |   0.2857 |\n",
      "+------+----------+\n",
      "| A(1) |   0.5714 |\n",
      "+------+----------+\n",
      "| A(2) |   0.1429 |\n",
      "+------+----------+\n"
     ]
    },
    {
     "name": "stderr",
     "output_type": "stream",
     "text": [
      "\n"
     ]
    }
   ],
   "source": [
    "print(infer.query(['A'], evidence={'B': 0}))"
   ]
  },
  {
   "cell_type": "code",
   "execution_count": 13,
   "metadata": {},
   "outputs": [
    {
     "name": "stdout",
     "output_type": "stream",
     "text": [
      "+------+----------------------+------+------+\n",
      "| A    | A(0)                 | A(1) | A(2) |\n",
      "+------+----------------------+------+------+\n",
      "| B(0) | 0.06                 | 0.12 | 0.03 |\n",
      "+------+----------------------+------+------+\n",
      "| B(1) | 0.03                 | 0.3  | 0.09 |\n",
      "+------+----------------------+------+------+\n",
      "| B(2) | 0.010000000000000002 | 0.18 | 0.18 |\n",
      "+------+----------------------+------+------+\n"
     ]
    }
   ],
   "source": [
    "print(P_B_I_A * P_A)"
   ]
  },
  {
   "cell_type": "code",
   "execution_count": 14,
   "metadata": {},
   "outputs": [
    {
     "name": "stdout",
     "output_type": "stream",
     "text": [
      "+------+----------+\n",
      "| A    |   phi(A) |\n",
      "+======+==========+\n",
      "| A(0) |   0.2857 |\n",
      "+------+----------+\n",
      "| A(1) |   0.5714 |\n",
      "+------+----------+\n",
      "| A(2) |   0.1429 |\n",
      "+------+----------+\n"
     ]
    }
   ],
   "source": [
    "print((P_B_I_A * P_A).to_factor().reduce([('B', 0)], inplace=False).normalize(inplace=False))"
   ]
  },
  {
   "cell_type": "markdown",
   "metadata": {},
   "source": [
    "#### 몬티 홀 문제"
   ]
  },
  {
   "cell_type": "code",
   "execution_count": 15,
   "metadata": {},
   "outputs": [
    {
     "name": "stdout",
     "output_type": "stream",
     "text": [
      "+------+------+\n",
      "| C(0) | 0.33 |\n",
      "+------+------+\n",
      "| C(1) | 0.33 |\n",
      "+------+------+\n",
      "| C(2) | 0.33 |\n",
      "+------+------+\n"
     ]
    }
   ],
   "source": [
    "from pgmpy.factors.discrete import TabularCPD\n",
    "\n",
    "P_C = TabularCPD('C', 3, [[0.33], [0.33], [0.33]])\n",
    "print(P_C)"
   ]
  },
  {
   "cell_type": "code",
   "execution_count": 16,
   "metadata": {},
   "outputs": [
    {
     "name": "stdout",
     "output_type": "stream",
     "text": [
      "+------+------+\n",
      "| P(0) | 0.33 |\n",
      "+------+------+\n",
      "| P(1) | 0.33 |\n",
      "+------+------+\n",
      "| P(2) | 0.33 |\n",
      "+------+------+\n"
     ]
    }
   ],
   "source": [
    "P_P = TabularCPD('P', 3, [[0.33], [0.33], [0.33]])\n",
    "print(P_P)"
   ]
  },
  {
   "cell_type": "code",
   "execution_count": 17,
   "metadata": {},
   "outputs": [
    {
     "name": "stdout",
     "output_type": "stream",
     "text": [
      "+------+------+------+------+------+------+------+------+------+------+\n",
      "| C    | C(0) | C(0) | C(0) | C(1) | C(1) | C(1) | C(2) | C(2) | C(2) |\n",
      "+------+------+------+------+------+------+------+------+------+------+\n",
      "| P    | P(0) | P(1) | P(2) | P(0) | P(1) | P(2) | P(0) | P(1) | P(2) |\n",
      "+------+------+------+------+------+------+------+------+------+------+\n",
      "| H(0) | 0.0  | 0.0  | 0.0  | 0.0  | 0.5  | 1.0  | 0.0  | 1.0  | 0.5  |\n",
      "+------+------+------+------+------+------+------+------+------+------+\n",
      "| H(1) | 0.5  | 0.0  | 1.0  | 0.0  | 0.0  | 0.0  | 1.0  | 0.0  | 0.5  |\n",
      "+------+------+------+------+------+------+------+------+------+------+\n",
      "| H(2) | 0.5  | 1.0  | 0.0  | 1.0  | 0.5  | 0.0  | 0.0  | 0.0  | 0.0  |\n",
      "+------+------+------+------+------+------+------+------+------+------+\n"
     ]
    }
   ],
   "source": [
    "P_H_I_CP = TabularCPD('H', 3, [[0, 0, 0, 0, 0.5, 1, 0, 1, 0.5],\n",
    "                               [0.5, 0, 1, 0, 0, 0, 1, 0, 0.5],\n",
    "                               [0.5, 1, 0, 1, 0.5, 0, 0, 0, 0]],\n",
    "                      evidence=['C', 'P'], evidence_card=[3, 3])\n",
    "print(P_H_I_CP)"
   ]
  },
  {
   "cell_type": "code",
   "execution_count": 19,
   "metadata": {},
   "outputs": [
    {
     "data": {
      "text/plain": [
       "True"
      ]
     },
     "execution_count": 19,
     "metadata": {},
     "output_type": "execute_result"
    }
   ],
   "source": [
    "from pgmpy.models import BayesianModel\n",
    "\n",
    "model_monty = BayesianModel([('C', 'H'), ('P', 'H')])\n",
    "model_monty.add_cpds(P_C, P_P, P_H_I_CP)\n",
    "model_monty.check_model()"
   ]
  },
  {
   "cell_type": "code",
   "execution_count": 22,
   "metadata": {},
   "outputs": [
    {
     "data": {
      "image/png": "[encoded data removed]",
      "text/plain": [
       "<IPython.core.display.Image object>"
      ]
     },
     "execution_count": 22,
     "metadata": {
      "image/png": {
       "width": 400
      }
     },
     "output_type": "execute_result"
    }
   ],
   "source": [
    "d_monty = to_pydot(model_monty)\n",
    "d_monty.set_dpi(300)\n",
    "d_monty.set_margin(0.2)\n",
    "Image(d_monty.create_png(), width=400)"
   ]
  },
  {
   "cell_type": "code",
   "execution_count": 23,
   "metadata": {},
   "outputs": [],
   "source": [
    "from pgmpy.inference import VariableElimination\n",
    "\n",
    "infer = VariableElimination(model_monty)"
   ]
  },
  {
   "cell_type": "code",
   "execution_count": 27,
   "metadata": {},
   "outputs": [
    {
     "name": "stderr",
     "output_type": "stream",
     "text": [
      "Finding Elimination Order: : 100%|██████████| 1/1 [00:00<00:00, 516.92it/s]\n",
      "Eliminating: C: 100%|██████████| 1/1 [00:00<00:00, 252.46it/s]"
     ]
    },
    {
     "name": "stdout",
     "output_type": "stream",
     "text": [
      "+------+----------+\n",
      "| H    |   phi(H) |\n",
      "+======+==========+\n",
      "| H(0) |   0.0000 |\n",
      "+------+----------+\n",
      "| H(1) |   0.5000 |\n",
      "+------+----------+\n",
      "| H(2) |   0.5000 |\n",
      "+------+----------+\n"
     ]
    },
    {
     "name": "stderr",
     "output_type": "stream",
     "text": [
      "\n"
     ]
    }
   ],
   "source": [
    "print(infer.query(['H'], evidence={'P': 0}))"
   ]
  },
  {
   "cell_type": "code",
   "execution_count": 28,
   "metadata": {},
   "outputs": [
    {
     "name": "stderr",
     "output_type": "stream",
     "text": [
      "Finding Elimination Order: : : 0it [00:00, ?it/s]\n",
      "0it [00:00, ?it/s]"
     ]
    },
    {
     "name": "stdout",
     "output_type": "stream",
     "text": [
      "+------+----------+\n",
      "| C    |   phi(C) |\n",
      "+======+==========+\n",
      "| C(0) |   0.3333 |\n",
      "+------+----------+\n",
      "| C(1) |   0.0000 |\n",
      "+------+----------+\n",
      "| C(2) |   0.6667 |\n",
      "+------+----------+\n"
     ]
    },
    {
     "name": "stderr",
     "output_type": "stream",
     "text": [
      "\n"
     ]
    }
   ],
   "source": [
    "print(infer.query(['C'], evidence={'P': 0, 'H': 1}))"
   ]
  },
  {
   "cell_type": "code",
   "execution_count": 31,
   "metadata": {},
   "outputs": [
    {
     "name": "stderr",
     "output_type": "stream",
     "text": [
      "Finding Elimination Order: : : 0it [00:00, ?it/s]\n",
      "0it [00:00, ?it/s]"
     ]
    },
    {
     "name": "stdout",
     "output_type": "stream",
     "text": [
      "+------+----------+\n",
      "| C    |   phi(C) |\n",
      "+======+==========+\n",
      "| C(0) |   0.6667 |\n",
      "+------+----------+\n",
      "| C(1) |   0.3333 |\n",
      "+------+----------+\n",
      "| C(2) |   0.0000 |\n",
      "+------+----------+\n"
     ]
    },
    {
     "name": "stderr",
     "output_type": "stream",
     "text": [
      "\n"
     ]
    }
   ],
   "source": [
    "print(infer.query(['C'], evidence={'P': 1, 'H': 2}))"
   ]
  },
  {
   "cell_type": "markdown",
   "metadata": {},
   "source": [
    "#### 신뢰전파"
   ]
  },
  {
   "cell_type": "code",
   "execution_count": 33,
   "metadata": {},
   "outputs": [
    {
     "data": {
      "image/png": "[encoded data removed]",
      "text/plain": [
       "<IPython.core.display.Image object>"
      ]
     },
     "execution_count": 33,
     "metadata": {
      "image/png": {
       "width": 600
      }
     },
     "output_type": "execute_result"
    }
   ],
   "source": [
    "g = nx.Graph()\n",
    "g.add_edges_from([('A', 'B'), ('B', 'C')])\n",
    "d = to_pydot(g)\n",
    "d.set_rankdir('LR')\n",
    "d.set_margin(0.2)\n",
    "Image(d.create_png(), width=600)"
   ]
  },
  {
   "cell_type": "code",
   "execution_count": 34,
   "metadata": {},
   "outputs": [
    {
     "name": "stderr",
     "output_type": "stream",
     "text": [
      "Eliminating: B: 100%|██████████| 1/1 [00:00<00:00, 501.53it/s]"
     ]
    },
    {
     "name": "stdout",
     "output_type": "stream",
     "text": [
      "+------+----------+\n",
      "| C    |   phi(C) |\n",
      "+======+==========+\n",
      "| C(0) |   0.2260 |\n",
      "+------+----------+\n",
      "| C(1) |   0.3310 |\n",
      "+------+----------+\n",
      "| C(2) |   0.4430 |\n",
      "+------+----------+\n"
     ]
    },
    {
     "name": "stderr",
     "output_type": "stream",
     "text": [
      "\n"
     ]
    }
   ],
   "source": [
    "from pgmpy.inference import BeliefPropagation\n",
    "infer = BeliefPropagation(model)\n",
    "print(infer.query(['C']))"
   ]
  },
  {
   "cell_type": "code",
   "execution_count": 35,
   "metadata": {},
   "outputs": [
    {
     "name": "stderr",
     "output_type": "stream",
     "text": [
      "Eliminating: B: 100%|██████████| 1/1 [00:00<00:00, 359.38it/s]"
     ]
    },
    {
     "name": "stdout",
     "output_type": "stream",
     "text": [
      "+------+----------+\n",
      "| C    |   phi(C) |\n",
      "+======+==========+\n",
      "| C(0) |   0.1600 |\n",
      "+------+----------+\n",
      "| C(1) |   0.2600 |\n",
      "+------+----------+\n",
      "| C(2) |   0.5800 |\n",
      "+------+----------+\n"
     ]
    },
    {
     "name": "stderr",
     "output_type": "stream",
     "text": [
      "\n"
     ]
    }
   ],
   "source": [
    "print(infer.query(['C'], evidence={'A': 2}))"
   ]
  },
  {
   "cell_type": "code",
   "execution_count": 37,
   "metadata": {},
   "outputs": [
    {
     "name": "stderr",
     "output_type": "stream",
     "text": [
      "0it [00:00, ?it/s]"
     ]
    },
    {
     "name": "stdout",
     "output_type": "stream",
     "text": [
      "+------+----------+\n",
      "| A    |   phi(A) |\n",
      "+======+==========+\n",
      "| A(0) |   0.2857 |\n",
      "+------+----------+\n",
      "| A(1) |   0.5714 |\n",
      "+------+----------+\n",
      "| A(2) |   0.1429 |\n",
      "+------+----------+\n"
     ]
    },
    {
     "name": "stderr",
     "output_type": "stream",
     "text": [
      "\n"
     ]
    }
   ],
   "source": [
    "print(infer.query(['A'], evidence={'B': 0, 'C': 2}))"
   ]
  },
  {
   "cell_type": "code",
   "execution_count": null,
   "metadata": {},
   "outputs": [],
   "source": []
  }
 ],
 "metadata": {
  "kernelspec": {
   "display_name": "Python 3",
   "language": "python",
   "name": "python3"
  },
  "language_info": {
   "codemirror_mode": {
    "name": "ipython",
    "version": 3
   },
   "file_extension": ".py",
   "mimetype": "text/x-python",
   "name": "python",
   "nbconvert_exporter": "python",
   "pygments_lexer": "ipython3",
   "version": "3.7.6"
  }
 },
 "nbformat": 4,
 "nbformat_minor": 4
}
