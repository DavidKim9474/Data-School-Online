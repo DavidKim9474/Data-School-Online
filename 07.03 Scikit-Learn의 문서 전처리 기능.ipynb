{
 "cells": [
  {
   "cell_type": "markdown",
   "metadata": {},
   "source": [
    "#### Vectorizer 클래스 사용법\n",
    "1. 클래스 객체 생성\n",
    "2. 말뭉치를 넣고 fit 메서드 실행\n",
    "3. vocabulary_ 속성에 단어장이 자동 생성됨\n",
    "4. transform 메서드로 다른 문서를 BOW 인코딩\n",
    "5. BOW 인코딩 결과는 Sparse 행렬로 만들어지므로 toarray 메서드로 보통 행렬로 변환"
   ]
  },
  {
   "cell_type": "markdown",
   "metadata": {},
   "source": [
    "#### DictVectorizer"
   ]
  },
  {
   "cell_type": "code",
   "execution_count": 22,
   "metadata": {},
   "outputs": [
    {
     "data": {
      "text/plain": [
       "array([[1., 2., 0.],\n",
       "       [0., 3., 1.]])"
      ]
     },
     "execution_count": 22,
     "metadata": {},
     "output_type": "execute_result"
    }
   ],
   "source": [
    "# 현실적으로 쓸 일이 없다\n",
    "from sklearn.feature_extraction import DictVectorizer\n",
    "v = DictVectorizer(sparse=False)\n",
    "D = [{'A': 1, 'B': 2}, {'B': 3, 'C': 1}]\n",
    "X = v.fit_transform(D)\n",
    "X"
   ]
  },
  {
   "cell_type": "code",
   "execution_count": 23,
   "metadata": {},
   "outputs": [
    {
     "data": {
      "text/plain": [
       "['A', 'B', 'C']"
      ]
     },
     "execution_count": 23,
     "metadata": {},
     "output_type": "execute_result"
    }
   ],
   "source": [
    "v.feature_names_"
   ]
  },
  {
   "cell_type": "code",
   "execution_count": 24,
   "metadata": {},
   "outputs": [
    {
     "data": {
      "text/plain": [
       "array([[0., 0., 4.]])"
      ]
     },
     "execution_count": 24,
     "metadata": {},
     "output_type": "execute_result"
    }
   ],
   "source": [
    "# fit_transform 이전에 설정된 corpus에 없는 단어는 무효처리\n",
    "v.transform({'C': 4, 'D': 3})"
   ]
  },
  {
   "cell_type": "markdown",
   "metadata": {},
   "source": [
    "#### CountVectorizer"
   ]
  },
  {
   "cell_type": "markdown",
   "metadata": {},
   "source": [
    "##### step 1. 말뭉치 만들기"
   ]
  },
  {
   "cell_type": "code",
   "execution_count": 25,
   "metadata": {},
   "outputs": [],
   "source": [
    "corpus = [\n",
    "    'This is the first document.',\n",
    "    'This is the second second document.',\n",
    "    'And the third one.',\n",
    "    'Is this the first document?',\n",
    "    'The last document?',\n",
    "]"
   ]
  },
  {
   "cell_type": "markdown",
   "metadata": {},
   "source": [
    "##### step 2. 인코더 객체 생성"
   ]
  },
  {
   "cell_type": "code",
   "execution_count": 26,
   "metadata": {},
   "outputs": [],
   "source": [
    "from sklearn.feature_extraction.text import CountVectorizer\n",
    "\n",
    "vect = CountVectorizer()"
   ]
  },
  {
   "cell_type": "markdown",
   "metadata": {},
   "source": [
    "##### step 3. 말뭉치 학습 및 단어장 생성"
   ]
  },
  {
   "cell_type": "code",
   "execution_count": 27,
   "metadata": {},
   "outputs": [
    {
     "data": {
      "text/plain": [
       "{'this': 9,\n",
       " 'is': 3,\n",
       " 'the': 7,\n",
       " 'first': 2,\n",
       " 'document': 1,\n",
       " 'second': 6,\n",
       " 'and': 0,\n",
       " 'third': 8,\n",
       " 'one': 5,\n",
       " 'last': 4}"
      ]
     },
     "execution_count": 27,
     "metadata": {},
     "output_type": "execute_result"
    }
   ],
   "source": [
    "vect.fit(corpus)\n",
    "vect.vocabulary_"
   ]
  },
  {
   "cell_type": "markdown",
   "metadata": {},
   "source": [
    "##### step 4. 문장을 BOW 인코딩"
   ]
  },
  {
   "cell_type": "code",
   "execution_count": 28,
   "metadata": {},
   "outputs": [
    {
     "data": {
      "text/plain": [
       "array([[0, 1, 0, 1, 0, 0, 1, 1, 0, 1]], dtype=int64)"
      ]
     },
     "execution_count": 28,
     "metadata": {},
     "output_type": "execute_result"
    }
   ],
   "source": [
    "vect.transform(['This is the second document.']).toarray()"
   ]
  },
  {
   "cell_type": "code",
   "execution_count": 29,
   "metadata": {},
   "outputs": [
    {
     "data": {
      "text/plain": [
       "array([[0, 0, 0, 0, 0, 0, 0, 0, 0, 0]], dtype=int64)"
      ]
     },
     "execution_count": 29,
     "metadata": {},
     "output_type": "execute_result"
    }
   ],
   "source": [
    "# 말뭉치에서 학습하지 못한 단어는 무시된다.\n",
    "vect.transform(['Something completely new.']).toarray()"
   ]
  },
  {
   "cell_type": "code",
   "execution_count": 30,
   "metadata": {},
   "outputs": [
    {
     "data": {
      "text/plain": [
       "array([[0, 1, 1, 1, 0, 0, 0, 1, 0, 1],\n",
       "       [0, 1, 0, 1, 0, 0, 2, 1, 0, 1],\n",
       "       [1, 0, 0, 0, 0, 1, 0, 1, 1, 0],\n",
       "       [0, 1, 1, 1, 0, 0, 0, 1, 0, 1],\n",
       "       [0, 1, 0, 0, 1, 0, 0, 1, 0, 0]], dtype=int64)"
      ]
     },
     "execution_count": 30,
     "metadata": {},
     "output_type": "execute_result"
    }
   ],
   "source": [
    "vect.transform(corpus).toarray()"
   ]
  },
  {
   "cell_type": "markdown",
   "metadata": {},
   "source": [
    "##### step 5. 불용어 사용"
   ]
  },
  {
   "cell_type": "code",
   "execution_count": 31,
   "metadata": {},
   "outputs": [
    {
     "data": {
      "text/plain": [
       "{'first': 1, 'document': 0, 'second': 4, 'third': 5, 'one': 3, 'last': 2}"
      ]
     },
     "execution_count": 31,
     "metadata": {},
     "output_type": "execute_result"
    }
   ],
   "source": [
    "vect = CountVectorizer(stop_words=['and', 'is', 'the', 'this']).fit(corpus)\n",
    "vect.vocabulary_"
   ]
  },
  {
   "cell_type": "code",
   "execution_count": 32,
   "metadata": {},
   "outputs": [
    {
     "data": {
      "text/plain": [
       "{'document': 0, 'second': 1}"
      ]
     },
     "execution_count": 32,
     "metadata": {},
     "output_type": "execute_result"
    }
   ],
   "source": [
    "vect = CountVectorizer(stop_words='english').fit(corpus)\n",
    "vect.vocabulary_"
   ]
  },
  {
   "cell_type": "markdown",
   "metadata": {},
   "source": [
    "#### step 6. 빈도수 적용"
   ]
  },
  {
   "cell_type": "code",
   "execution_count": 33,
   "metadata": {
    "scrolled": true
   },
   "outputs": [
    {
     "data": {
      "text/plain": [
       "({'this': 3, 'is': 2, 'first': 1, 'document': 0},\n",
       " {'and', 'last', 'one', 'second', 'the', 'third'})"
      ]
     },
     "execution_count": 33,
     "metadata": {},
     "output_type": "execute_result"
    }
   ],
   "source": [
    "vect = CountVectorizer(max_df=4, min_df=2).fit(corpus)\n",
    "vect.vocabulary_, vect.stop_words_"
   ]
  },
  {
   "cell_type": "code",
   "execution_count": 34,
   "metadata": {},
   "outputs": [
    {
     "data": {
      "text/plain": [
       "array([4, 2, 3, 3], dtype=int64)"
      ]
     },
     "execution_count": 34,
     "metadata": {},
     "output_type": "execute_result"
    }
   ],
   "source": [
    "vect.transform(corpus).toarray().sum(axis=0)"
   ]
  },
  {
   "cell_type": "markdown",
   "metadata": {},
   "source": [
    "##### step 7. N그램 적용"
   ]
  },
  {
   "cell_type": "code",
   "execution_count": 35,
   "metadata": {},
   "outputs": [
    {
     "data": {
      "text/plain": [
       "{'this is': 12,\n",
       " 'is the': 2,\n",
       " 'the first': 7,\n",
       " 'first document': 1,\n",
       " 'the second': 9,\n",
       " 'second second': 6,\n",
       " 'second document': 5,\n",
       " 'and the': 0,\n",
       " 'the third': 10,\n",
       " 'third one': 11,\n",
       " 'is this': 3,\n",
       " 'this the': 13,\n",
       " 'the last': 8,\n",
       " 'last document': 4}"
      ]
     },
     "execution_count": 35,
     "metadata": {},
     "output_type": "execute_result"
    }
   ],
   "source": [
    "# 단어장 생성에 사용할 토큰의 크기를 결정 (unigram, bigram, trigram, etc.)\n",
    "vect = CountVectorizer(ngram_range=(2, 2)).fit(corpus)\n",
    "vect.vocabulary_"
   ]
  },
  {
   "cell_type": "code",
   "execution_count": 36,
   "metadata": {
    "scrolled": true
   },
   "outputs": [
    {
     "data": {
      "text/plain": [
       "{'this': 3, 'the': 0, 'this the': 4, 'third': 2, 'the third': 1}"
      ]
     },
     "execution_count": 36,
     "metadata": {},
     "output_type": "execute_result"
    }
   ],
   "source": [
    "vect = CountVectorizer(ngram_range=(1, 2), token_pattern='t\\w+').fit(corpus)\n",
    "vect.vocabulary_"
   ]
  },
  {
   "cell_type": "markdown",
   "metadata": {},
   "source": [
    "##### 토큰"
   ]
  },
  {
   "cell_type": "code",
   "execution_count": 37,
   "metadata": {},
   "outputs": [
    {
     "data": {
      "text/plain": [
       "{'t': 16,\n",
       " 'h': 8,\n",
       " 'i': 9,\n",
       " 's': 15,\n",
       " ' ': 0,\n",
       " 'e': 6,\n",
       " 'f': 7,\n",
       " 'r': 14,\n",
       " 'd': 5,\n",
       " 'o': 13,\n",
       " 'c': 4,\n",
       " 'u': 17,\n",
       " 'm': 11,\n",
       " 'n': 12,\n",
       " '.': 1,\n",
       " 'a': 3,\n",
       " '?': 2,\n",
       " 'l': 10}"
      ]
     },
     "execution_count": 37,
     "metadata": {},
     "output_type": "execute_result"
    }
   ],
   "source": [
    "vect = CountVectorizer(analyzer='char').fit(corpus)\n",
    "vect.vocabulary_"
   ]
  },
  {
   "cell_type": "code",
   "execution_count": 38,
   "metadata": {},
   "outputs": [
    {
     "data": {
      "text/plain": [
       "{'this': 2, 'the': 0, 'third': 1}"
      ]
     },
     "execution_count": 38,
     "metadata": {},
     "output_type": "execute_result"
    }
   ],
   "source": [
    "vect = CountVectorizer(token_pattern='t\\w+').fit(corpus)\n",
    "vect.vocabulary_"
   ]
  },
  {
   "cell_type": "code",
   "execution_count": 39,
   "metadata": {},
   "outputs": [
    {
     "data": {
      "text/plain": [
       "{'this': 11,\n",
       " 'is': 5,\n",
       " 'the': 9,\n",
       " 'first': 4,\n",
       " 'document': 3,\n",
       " '.': 0,\n",
       " 'second': 8,\n",
       " 'and': 2,\n",
       " 'third': 10,\n",
       " 'one': 7,\n",
       " '?': 1,\n",
       " 'last': 6}"
      ]
     },
     "execution_count": 39,
     "metadata": {},
     "output_type": "execute_result"
    }
   ],
   "source": [
    "import nltk\n",
    "\n",
    "vect = CountVectorizer(tokenizer=nltk.word_tokenize).fit(corpus)\n",
    "vect.vocabulary_"
   ]
  },
  {
   "cell_type": "markdown",
   "metadata": {},
   "source": [
    "#### TfidfVectorizer"
   ]
  },
  {
   "cell_type": "code",
   "execution_count": 45,
   "metadata": {},
   "outputs": [
    {
     "data": {
      "text/plain": [
       "array([[0.        , 0.38947624, 0.55775063, 0.4629834 , 0.        ,\n",
       "        0.        , 0.        , 0.32941651, 0.        , 0.4629834 ],\n",
       "       [0.        , 0.24151532, 0.        , 0.28709733, 0.        ,\n",
       "        0.        , 0.85737594, 0.20427211, 0.        , 0.28709733],\n",
       "       [0.55666851, 0.        , 0.        , 0.        , 0.        ,\n",
       "        0.55666851, 0.        , 0.26525553, 0.55666851, 0.        ],\n",
       "       [0.        , 0.38947624, 0.55775063, 0.4629834 , 0.        ,\n",
       "        0.        , 0.        , 0.32941651, 0.        , 0.4629834 ],\n",
       "       [0.        , 0.45333103, 0.        , 0.        , 0.80465933,\n",
       "        0.        , 0.        , 0.38342448, 0.        , 0.        ]])"
      ]
     },
     "execution_count": 45,
     "metadata": {},
     "output_type": "execute_result"
    }
   ],
   "source": [
    "# 비율에 중요도를 곱해놓은 것\n",
    "from sklearn.feature_extraction.text import TfidfVectorizer\n",
    "\n",
    "tfidv = TfidfVectorizer().fit(corpus)\n",
    "tfidv.transform(corpus).toarray()"
   ]
  },
  {
   "cell_type": "markdown",
   "metadata": {},
   "source": [
    "#### 해시 트릭 (Hashing Trick)\n",
    "- HashingVectorizer를 사용하면 해시 함수(Hash function)를 사용\n",
    "- 단어에 대한 인덳 번호를 수식으로 생성 (문자를 입력하면 숫자가 출력되기 때문에 암호화에 자주 사용됨)\n",
    "- 장점: 사전 메모리가 없고 실행 시간을 줄일 수 있다 (단어장의 길이가 길어져도 연산 속도가 빠르다)\n",
    "- 단점: 가끔 단어의 충돌이 발생할 수 있다 (e.g. 'boy' = 3, 'girl' = 3) -> 이는 파라미터 조정으로 해결한다"
   ]
  },
  {
   "cell_type": "code",
   "execution_count": 47,
   "metadata": {},
   "outputs": [
    {
     "data": {
      "text/plain": [
       "11314"
      ]
     },
     "execution_count": 47,
     "metadata": {},
     "output_type": "execute_result"
    }
   ],
   "source": [
    "from sklearn.datasets import fetch_20newsgroups\n",
    "twenty = fetch_20newsgroups()\n",
    "len(twenty.data)"
   ]
  },
  {
   "cell_type": "code",
   "execution_count": 48,
   "metadata": {},
   "outputs": [
    {
     "name": "stdout",
     "output_type": "stream",
     "text": [
      "Wall time: 11.1 s\n"
     ]
    },
    {
     "data": {
      "text/plain": [
       "<11314x130107 sparse matrix of type '<class 'numpy.int64'>'\n",
       "\twith 1787565 stored elements in Compressed Sparse Row format>"
      ]
     },
     "execution_count": 48,
     "metadata": {},
     "output_type": "execute_result"
    }
   ],
   "source": [
    "%time CountVectorizer().fit(twenty.data).transform(twenty.data)"
   ]
  },
  {
   "cell_type": "code",
   "execution_count": 49,
   "metadata": {},
   "outputs": [],
   "source": [
    "from sklearn.feature_extraction.text import HashingVectorizer\n",
    "hv = HashingVectorizer(n_features=300000)"
   ]
  },
  {
   "cell_type": "code",
   "execution_count": 50,
   "metadata": {},
   "outputs": [
    {
     "name": "stdout",
     "output_type": "stream",
     "text": [
      "Wall time: 4.07 s\n"
     ]
    },
    {
     "data": {
      "text/plain": [
       "<11314x300000 sparse matrix of type '<class 'numpy.float64'>'\n",
       "\twith 1786336 stored elements in Compressed Sparse Row format>"
      ]
     },
     "execution_count": 50,
     "metadata": {},
     "output_type": "execute_result"
    }
   ],
   "source": [
    "%time hv.transform(twenty.data)"
   ]
  },
  {
   "cell_type": "markdown",
   "metadata": {},
   "source": [
    "### Gensim 패키지\n",
    "- Bag of Words 인코딩\n",
    "- TF-IDF 인코딩\n",
    "- 토픽 모델링"
   ]
  },
  {
   "cell_type": "markdown",
   "metadata": {},
   "source": [
    "#### Gensim의 BOW 인코딩 기능\n",
    "- Dictionary 클래스 이용\n",
    "    - token2id 속성으로 사전 저장\n",
    "    - doc2bow 메서드로 BOW 인코딩\n",
    "- TfidModel 클래스를 이용하면 TF-IDF 인코딩도 가능"
   ]
  },
  {
   "cell_type": "markdown",
   "metadata": {},
   "source": [
    "##### step 1. 말뭉치 만들기"
   ]
  },
  {
   "cell_type": "code",
   "execution_count": 53,
   "metadata": {},
   "outputs": [],
   "source": [
    "corpus = [\n",
    "    'This is the first document.',\n",
    "    'This is the second second document.',\n",
    "    'And the third one.',\n",
    "    'Is this the first document?',\n",
    "    'The last document?',\n",
    "]"
   ]
  },
  {
   "cell_type": "markdown",
   "metadata": {},
   "source": [
    "##### step 2. 토큰 리스트 생성"
   ]
  },
  {
   "cell_type": "code",
   "execution_count": 56,
   "metadata": {},
   "outputs": [
    {
     "data": {
      "text/plain": [
       "[['This', 'is', 'the', 'first', 'document.'],\n",
       " ['This', 'is', 'the', 'second', 'second', 'document.'],\n",
       " ['And', 'the', 'third', 'one.'],\n",
       " ['Is', 'this', 'the', 'first', 'document?'],\n",
       " ['The', 'last', 'document?']]"
      ]
     },
     "execution_count": 56,
     "metadata": {},
     "output_type": "execute_result"
    }
   ],
   "source": [
    "# split 메서드도 사용 가능하다\n",
    "token_list = [[text for text in doc.split()] for doc in corpus]\n",
    "token_list"
   ]
  },
  {
   "cell_type": "markdown",
   "metadata": {},
   "source": [
    "##### step 3. Dictionary 객체 생성"
   ]
  },
  {
   "cell_type": "code",
   "execution_count": 58,
   "metadata": {},
   "outputs": [
    {
     "data": {
      "text/plain": [
       "{'This': 0,\n",
       " 'document.': 1,\n",
       " 'first': 2,\n",
       " 'is': 3,\n",
       " 'the': 4,\n",
       " 'second': 5,\n",
       " 'And': 6,\n",
       " 'one.': 7,\n",
       " 'third': 8,\n",
       " 'Is': 9,\n",
       " 'document?': 10,\n",
       " 'this': 11,\n",
       " 'The': 12,\n",
       " 'last': 13}"
      ]
     },
     "execution_count": 58,
     "metadata": {},
     "output_type": "execute_result"
    }
   ],
   "source": [
    "from gensim.corpora import Dictionary\n",
    "\n",
    "dictionary = Dictionary(token_list)\n",
    "dictionary.token2id"
   ]
  },
  {
   "cell_type": "markdown",
   "metadata": {},
   "source": [
    "##### step 4. BOW 인코딩"
   ]
  },
  {
   "cell_type": "code",
   "execution_count": 60,
   "metadata": {},
   "outputs": [
    {
     "data": {
      "text/plain": [
       "[[(0, 1), (1, 1), (2, 1), (3, 1), (4, 1)],\n",
       " [(0, 1), (1, 1), (3, 1), (4, 1), (5, 2)],\n",
       " [(4, 1), (6, 1), (7, 1), (8, 1)],\n",
       " [(2, 1), (4, 1), (9, 1), (10, 1), (11, 1)],\n",
       " [(10, 1), (12, 1), (13, 1)]]"
      ]
     },
     "execution_count": 60,
     "metadata": {},
     "output_type": "execute_result"
    }
   ],
   "source": [
    "term_matrix = [dictionary.doc2bow(token) for token in token_list]\n",
    "term_matrix"
   ]
  },
  {
   "cell_type": "markdown",
   "metadata": {},
   "source": [
    "##### step 5. TF-IDF 인코딩"
   ]
  },
  {
   "cell_type": "code",
   "execution_count": 62,
   "metadata": {},
   "outputs": [
    {
     "name": "stdout",
     "output_type": "stream",
     "text": [
      "doc:\n",
      "0 0.49633406058198626\n",
      "1 0.49633406058198626\n",
      "2 0.49633406058198626\n",
      "3 0.49633406058198626\n",
      "4 0.12087183801361165\n",
      "doc:\n",
      "0 0.25482305694621393\n",
      "1 0.25482305694621393\n",
      "3 0.25482305694621393\n",
      "4 0.0620568558708622\n",
      "5 0.8951785160431313\n",
      "doc:\n",
      "4 0.07979258234193365\n",
      "6 0.5755093812740171\n",
      "7 0.5755093812740171\n",
      "8 0.5755093812740171\n",
      "doc:\n",
      "2 0.3485847413542797\n",
      "4 0.08489056411237639\n",
      "9 0.6122789185961829\n",
      "10 0.3485847413542797\n",
      "11 0.6122789185961829\n",
      "doc:\n",
      "10 0.37344696513776354\n",
      "12 0.6559486886294514\n",
      "13 0.6559486886294514\n"
     ]
    }
   ],
   "source": [
    "from gensim.models import TfidfModel\n",
    "\n",
    "tfidf = TfidfModel(term_matrix)\n",
    "\n",
    "for doc in tfidf[term_matrix]:\n",
    "    print('doc:')\n",
    "    for k, v in doc:\n",
    "        print(k, v)"
   ]
  },
  {
   "cell_type": "markdown",
   "metadata": {},
   "source": [
    "#### 토픽 모델링\n",
    "- 토픽\n",
    "    - 문서를 구성하는 단어의 비율 (frequency distribution)\n",
    "    - 문서 집합의 추상적인 주제"
   ]
  },
  {
   "cell_type": "markdown",
   "metadata": {},
   "source": [
    "##### step 1. 텍스트 데이터 다운로드"
   ]
  },
  {
   "cell_type": "code",
   "execution_count": 63,
   "metadata": {},
   "outputs": [],
   "source": [
    "newsgroups = fetch_20newsgroups(categories=['comp.graphics', 'rec.sport.baseball', 'sci.med'])"
   ]
  },
  {
   "cell_type": "markdown",
   "metadata": {},
   "source": [
    "##### step 2. 명사 추출"
   ]
  },
  {
   "cell_type": "code",
   "execution_count": 66,
   "metadata": {},
   "outputs": [
    {
     "name": "stdout",
     "output_type": "stream",
     "text": [
      "Wall time: 57.2 s\n"
     ]
    }
   ],
   "source": [
    "%%time\n",
    "from nltk.tag import pos_tag\n",
    "from nltk.tokenize import word_tokenize\n",
    "\n",
    "tagged_list = [pos_tag(word_tokenize(doc)) for doc in newsgroups.data]\n",
    "nouns_list = [[t[0] for t in doc if t[1].startswith('N')] for doc in tagged_list]"
   ]
  },
  {
   "cell_type": "markdown",
   "metadata": {},
   "source": [
    "##### step 3. 표제어 추출"
   ]
  },
  {
   "cell_type": "code",
   "execution_count": 67,
   "metadata": {},
   "outputs": [],
   "source": [
    "from nltk.stem import WordNetLemmatizer\n",
    "\n",
    "lm = WordNetLemmatizer()\n",
    "\n",
    "nouns_list = [[lm.lemmatize(w, pos='n') for w in doc] for doc in nouns_list]"
   ]
  },
  {
   "cell_type": "markdown",
   "metadata": {},
   "source": [
    "##### step 4. 불용어 제거"
   ]
  },
  {
   "cell_type": "code",
   "execution_count": 68,
   "metadata": {},
   "outputs": [],
   "source": [
    "import re\n",
    "token_list = [[text.lower() for text in doc] for doc in nouns_list]\n",
    "token_list = [[re.sub(r'[^A-Za-z]+', '', word) for word in doc] for doc in token_list]"
   ]
  },
  {
   "cell_type": "code",
   "execution_count": 69,
   "metadata": {},
   "outputs": [],
   "source": [
    "from nltk.corpus import stopwords\n",
    "\n",
    "stop_words = stopwords.words('english')\n",
    "stop_words += ['', 'subject', 'article', 'line', 'year', 'month', 'address', 'keyword', 'msg']\n",
    "\n",
    "token_list = [[word for word in doc if (word not in stop_words) and (2 < len(word) < 10)] for doc in token_list]"
   ]
  },
  {
   "cell_type": "markdown",
   "metadata": {},
   "source": [
    "##### step 5. 토픽 모델링"
   ]
  },
  {
   "cell_type": "code",
   "execution_count": 72,
   "metadata": {},
   "outputs": [],
   "source": [
    "from gensim import corpora\n",
    "\n",
    "dictionary = corpora.Dictionary(token_list)\n",
    "doc_term_matrix = [dictionary.doc2bow(tokens) for tokens in token_list]"
   ]
  },
  {
   "cell_type": "code",
   "execution_count": 73,
   "metadata": {},
   "outputs": [
    {
     "name": "stdout",
     "output_type": "stream",
     "text": [
      "Wall time: 5.88 s\n"
     ]
    }
   ],
   "source": [
    "%%time\n",
    "from gensim.models.ldamodel import LdaModel\n",
    "\n",
    "model = LdaModel(corpus=doc_term_matrix, id2word=dictionary, num_topics=3)"
   ]
  },
  {
   "cell_type": "code",
   "execution_count": 74,
   "metadata": {},
   "outputs": [
    {
     "data": {
      "text/plain": [
       "[(0,\n",
       "  '0.010*\"image\" + 0.009*\"lines\" + 0.005*\"program\" + 0.004*\"game\" + 0.004*\"system\" + 0.004*\"point\" + 0.003*\"file\" + 0.003*\"software\" + 0.003*\"time\" + 0.003*\"people\"'),\n",
       " (1,\n",
       "  '0.014*\"lines\" + 0.006*\"file\" + 0.006*\"image\" + 0.006*\"time\" + 0.005*\"game\" + 0.004*\"banks\" + 0.004*\"geb\" + 0.004*\"format\" + 0.004*\"computer\" + 0.003*\"team\"'),\n",
       " (2,\n",
       "  '0.013*\"lines\" + 0.005*\"time\" + 0.005*\"people\" + 0.004*\"anyone\" + 0.004*\"food\" + 0.004*\"problem\" + 0.004*\"game\" + 0.003*\"team\" + 0.003*\"thing\" + 0.003*\"day\"')]"
      ]
     },
     "execution_count": 74,
     "metadata": {},
     "output_type": "execute_result"
    }
   ],
   "source": [
    "model.print_topics()"
   ]
  },
  {
   "cell_type": "markdown",
   "metadata": {},
   "source": [
    "##### step 6. 토픽 시각화"
   ]
  },
  {
   "cell_type": "code",
   "execution_count": 76,
   "metadata": {},
   "outputs": [
    {
     "data": {
      "text/html": [
       "\n",
       "<link rel=\"stylesheet\" type=\"text/css\" href=\"https://cdn.rawgit.com/bmabey/pyLDAvis/files/ldavis.v1.0.0.css\">\n",
       "\n",
       "\n",
       "<div id=\"ldavis_el1358426081276501203310063540\"></div>\n",
       "<script type=\"text/javascript\">\n",
       "\n",
       "var ldavis_el1358426081276501203310063540_data = {\"mdsDat\": {\"x\": [-0.032221223659089616, 0.020947576472069056, 0.011273647187020558], \"y\": [-0.004826681695560174, -0.021701202353023114, 0.02652788404858329], \"topics\": [1, 2, 3], \"cluster\": [1, 1, 1], \"Freq\": [38.18300247192383, 32.775733947753906, 29.04126739501953]}, \"tinfo\": {\"Term\": [\"image\", \"jpeg\", \"geb\", \"file\", \"banks\", \"format\", \"food\", \"polygon\", \"gordon\", \"water\", \"cspittedu\", \"compass\", \"system\", \"tiff\", \"data\", \"program\", \"point\", \"njxp\", \"run\", \"fax\", \"intellect\", \"software\", \"chastity\", \"col\", \"gif\", \"effect\", \"rbi\", \"display\", \"alomar\", \"tool\", \"pittsburg\", \"olney\", \"rauser\", \"randall\", \"holler\", \"dolven\", \"nerone\", \"glu\", \"spect\", \"aspartate\", \"klonopin\", \"dominance\", \"prozac\", \"opirg\", \"vaseline\", \"nosebleed\", \"wcsbeau\", \"supplier\", \"ocd\", \"ipas\", \"eliezer\", \"appartus\", \"glutamate\", \"zalan\", \"cite\", \"adriana\", \"pps\", \"gilmete\", \"speedstar\", \"dianne\", \"water\", \"wate\", \"todamhyp\", \"krillean\", \"food\", \"neuron\", \"eagles\", \"effect\", \"erics\", \"split\", \"aspect\", \"eye\", \"group\", \"newsgroup\", \"drug\", \"chris\", \"fan\", \"anyone\", \"research\", \"idea\", \"lines\", \"people\", \"evidence\", \"anything\", \"patient\", \"city\", \"study\", \"doctor\", \"thanks\", \"thing\", \"day\", \"problem\", \"time\", \"lot\", \"today\", \"science\", \"disease\", \"new\", \"baseball\", \"number\", \"center\", \"team\", \"question\", \"game\", \"way\", \"program\", \"point\", \"computer\", \"case\", \"system\", \"compass\", \"compassop\", \"col\", \"seirio\", \"spmarse\", \"algocount\", \"oprows\", \"eastgate\", \"foreskin\", \"disser\", \"tully\", \"opcols\", \"ilmenau\", \"rix\", \"glp\", \"sweda\", \"barman\", \"hrf\", \"scf\", \"mcmath\", \"liu\", \"globe\", \"ktt\", \"abscess\", \"brighton\", \"asdcom\", \"rsd\", \"fopen\", \"sizeof\", \"sphinx\", \"snf\", \"markus\", \"geb\", \"row\", \"erickson\", \"pagnozzi\", \"tiff\", \"njxp\", \"banks\", \"intellect\", \"gordon\", \"chastity\", \"lost\", \"cspittedu\", \"rbi\", \"format\", \"file\", \"news\", \"lines\", \"jpeg\", \"time\", \"run\", \"league\", \"season\", \"gif\", \"player\", \"value\", \"image\", \"baseball\", \"game\", \"computer\", \"steve\", \"univ\", \"david\", \"team\", \"science\", \"problem\", \"way\", \"data\", \"thanks\", \"help\", \"version\", \"number\", \"world\", \"people\", \"program\", \"anyone\", \"hernia\", \"cologne\", \"erwin\", \"sbraun\", \"braun\", \"rainer\", \"bcmtmcedu\", \"vectord\", \"cornelis\", \"wessels\", \"hinckley\", \"autotrace\", \"heffner\", \"keeve\", \"ove\", \"eckart\", \"norway\", \"voronoi\", \"mini\", \"demers\", \"apanjabi\", \"rickert\", \"draper\", \"rhinitis\", \"cubes\", \"lucas\", \"kday\", \"leberle\", \"candee\", \"rleberle\", \"horan\", \"tsscom\", \"dps\", \"polygon\", \"hips\", \"cdi\", \"image\", \"drawing\", \"fax\", \"baerga\", \"system\", \"tool\", \"alomar\", \"jpeg\", \"cboesel\", \"input\", \"point\", \"program\", \"software\", \"tobacco\", \"institute\", \"quality\", \"morris\", \"data\", \"user\", \"analysis\", \"mark\", \"source\", \"video\", \"robert\", \"game\", \"michael\", \"display\", \"lines\", \"color\", \"version\", \"health\", \"world\", \"lot\", \"computer\", \"file\", \"david\", \"people\", \"way\", \"run\", \"team\", \"anyone\", \"day\", \"thing\", \"time\", \"problem\", \"number\", \"center\", \"case\"], \"Freq\": [678.0, 217.0, 218.0, 469.0, 244.0, 238.0, 276.0, 125.0, 188.0, 124.0, 169.0, 38.0, 331.0, 96.0, 265.0, 402.0, 359.0, 71.0, 256.0, 135.0, 72.0, 283.0, 71.0, 31.0, 149.0, 188.0, 69.0, 110.0, 104.0, 100.0, 23.799734115600586, 24.920520782470703, 7.385983943939209, 8.187614440917969, 6.516929626464844, 8.936296463012695, 12.035978317260742, 11.248774528503418, 7.199103832244873, 6.391480445861816, 6.382381439208984, 18.166913986206055, 11.076457977294922, 9.495798110961914, 4.737298965454102, 9.431212425231934, 15.733838081359863, 6.250336170196533, 4.683939456939697, 4.683457851409912, 5.427814960479736, 5.404345512390137, 35.46451187133789, 3.851048469543457, 5.388289451599121, 3.846848487854004, 4.610168933868408, 3.836470127105713, 20.64454460144043, 6.093026638031006, 104.53510284423828, 9.869488716125488, 9.844073295593262, 19.73194122314453, 200.34762573242188, 11.095789909362793, 9.681236267089844, 126.43831634521484, 14.28885555267334, 30.117704391479492, 29.06505584716797, 56.12482452392578, 130.34266662597656, 47.55917739868164, 63.979549407958984, 43.12974166870117, 105.63226318359375, 202.07772827148438, 141.66651916503906, 85.09432983398438, 599.6006469726562, 211.3540802001953, 65.82482147216797, 100.59893035888672, 119.1198959350586, 58.11322784423828, 100.31840515136719, 110.1602783203125, 146.46401977539062, 150.81329345703125, 147.04310607910156, 176.2060089111328, 237.47535705566406, 138.7141571044922, 55.00395584106445, 145.39089965820312, 108.2640380859375, 109.2363510131836, 125.78050994873047, 136.7825927734375, 109.05829620361328, 150.86923217773438, 116.783447265625, 165.88323974609375, 126.16239166259766, 134.8711395263672, 124.11156463623047, 120.77176666259766, 107.18441009521484, 106.9755630493164, 37.49909210205078, 14.141292572021484, 28.662525177001953, 6.343967437744141, 6.347195148468018, 5.479924201965332, 5.478538513183594, 8.434185028076172, 4.561159610748291, 3.762789011001587, 3.757154703140259, 3.7587742805480957, 3.7505738735198975, 6.003049373626709, 3.75197172164917, 4.439614772796631, 9.593157768249512, 3.68349027633667, 5.815402507781982, 5.075492858886719, 16.6396484375, 6.507931232452393, 2.8949291706085205, 2.891599655151367, 2.8904225826263428, 10.843903541564941, 2.8885045051574707, 2.8880743980407715, 2.885756015777588, 15.71817398071289, 8.45185375213623, 11.804194450378418, 158.18695068359375, 23.644325256347656, 9.05949592590332, 5.665991306304932, 69.55453491210938, 51.597347259521484, 166.565673828125, 51.920448303222656, 127.03947448730469, 50.46336364746094, 40.448944091796875, 111.3220443725586, 48.945472717285156, 145.4827117919922, 261.5526123046875, 68.69441223144531, 543.9376831054688, 107.63436889648438, 242.91598510742188, 121.11061096191406, 82.00862121582031, 100.83099365234375, 75.4471664428711, 124.39167785644531, 49.347206115722656, 243.27024841308594, 122.96587371826172, 189.08285522460938, 145.3534393310547, 100.9716796875, 68.79450225830078, 112.58892822265625, 137.7274932861328, 125.10453796386719, 131.71124267578125, 119.29851531982422, 102.07820892333984, 110.07866668701172, 85.53630828857422, 100.4271240234375, 109.14508056640625, 97.11278533935547, 105.94023132324219, 100.87297821044922, 93.60388946533203, 14.542516708374023, 5.574503421783447, 4.749810695648193, 3.9029500484466553, 3.8901889324188232, 3.0620505809783936, 3.0417139530181885, 3.04036283493042, 3.037400245666504, 3.0358614921569824, 3.0008115768432617, 5.982318878173828, 2.9932150840759277, 3.7349438667297363, 3.7304999828338623, 2.954209089279175, 3.6916427612304688, 3.68412184715271, 5.12546443939209, 20.958192825317383, 2.894639253616333, 20.141828536987305, 7.192877769470215, 7.191961765289307, 2.8658392429351807, 8.57486343383789, 2.144418478012085, 2.143141508102417, 2.1424198150634766, 2.1421775817871094, 4.24614143371582, 4.901472091674805, 8.201983451843262, 84.53604888916016, 10.581954002380371, 12.738228797912598, 339.59637451171875, 13.966743469238281, 72.0783920288086, 35.04030227661133, 153.26307678222656, 53.98455810546875, 55.453033447265625, 103.85111999511719, 11.050248146057129, 25.476818084716797, 151.81906127929688, 167.0355682373047, 120.37971496582031, 27.693201065063477, 60.38856506347656, 51.03087615966797, 49.9339714050293, 108.4455337524414, 56.720672607421875, 45.153114318847656, 72.95780181884766, 68.08348083496094, 44.02808380126953, 56.27450180053711, 154.9513702392578, 61.23291778564453, 47.945411682128906, 317.13726806640625, 82.46870422363281, 91.15596771240234, 74.37306213378906, 89.89961242675781, 95.75154113769531, 105.80594635009766, 121.20821380615234, 89.19795989990234, 110.21570587158203, 94.73499298095703, 80.67788696289062, 97.55435943603516, 97.74190521240234, 86.76688385009766, 87.85614013671875, 110.51505279541016, 92.5289535522461, 86.1307373046875, 74.51107788085938, 74.74730682373047], \"Total\": [678.0, 217.0, 218.0, 469.0, 244.0, 238.0, 276.0, 125.0, 188.0, 124.0, 169.0, 38.0, 331.0, 96.0, 265.0, 402.0, 359.0, 71.0, 256.0, 135.0, 72.0, 283.0, 71.0, 31.0, 149.0, 188.0, 69.0, 110.0, 104.0, 100.0, 24.991201400756836, 26.762386322021484, 8.031576156616211, 8.924714088439941, 7.138611316680908, 9.811025619506836, 13.373662948608398, 12.499640464782715, 8.036264419555664, 7.145366668701172, 7.1412224769592285, 20.473695755004883, 12.483367919921875, 10.721063613891602, 5.3589091300964355, 10.708574295043945, 17.86766815185547, 7.139916896820068, 5.3559441566467285, 5.358932018280029, 6.249594688415527, 6.251209259033203, 41.105445861816406, 4.466434478759766, 6.253741264343262, 4.4665937423706055, 5.35496187210083, 4.463181495666504, 24.105636596679688, 7.152831554412842, 124.06461334228516, 11.587520599365234, 11.624517440795898, 24.127504348754883, 276.02752685546875, 13.375929832458496, 11.606410026550293, 188.90371704101562, 17.8018856048584, 40.1533088684082, 39.16246795654297, 82.14744567871094, 213.9688262939453, 69.08028411865234, 100.81098175048828, 64.07173919677734, 182.1235809326172, 393.42352294921875, 261.83551025390625, 144.3409423828125, 1460.675537109375, 427.510009765625, 107.89643859863281, 179.00027465820312, 221.58197021484375, 94.51954650878906, 187.44058227539062, 213.664306640625, 307.6221618652344, 320.2182922363281, 310.3080749511719, 400.4461975097656, 590.9064331054688, 309.01983642578125, 90.18792724609375, 337.2527770996094, 227.02017211914062, 233.0577392578125, 288.3353271484375, 332.05841064453125, 237.63739013671875, 386.1510925292969, 264.57745361328125, 509.91748046875, 340.1958923339844, 402.7796630859375, 359.76513671875, 371.93115234375, 255.88629150390625, 331.62188720703125, 38.36552429199219, 14.837444305419922, 31.51958656311035, 6.996199131011963, 7.000135898590088, 6.125621318817139, 6.126638889312744, 9.641855239868164, 5.25989294052124, 4.384209632873535, 4.382123947143555, 4.384032249450684, 4.381176948547363, 7.01359748840332, 4.386331558227539, 5.2619829177856445, 11.407754898071289, 4.381128311157227, 7.019340515136719, 6.141626834869385, 20.169721603393555, 7.8906474113464355, 3.513087272644043, 3.5116801261901855, 3.511451482772827, 13.175872802734375, 3.5096819400787354, 3.513108730316162, 3.5104992389678955, 19.351886749267578, 10.566080093383789, 14.929107666015625, 218.2726287841797, 30.7576847076416, 11.441079139709473, 7.032730579376221, 96.05985260009766, 71.18675231933594, 244.78347778320312, 72.1436767578125, 188.5847930908203, 71.19869995117188, 56.349449157714844, 169.07122802734375, 69.68331909179688, 238.0517578125, 469.7481994628906, 117.58855438232422, 1460.675537109375, 217.75428771972656, 590.9064331054688, 256.6197204589844, 159.7638702392578, 206.8023681640625, 149.80331420898438, 281.95111083984375, 89.66028594970703, 678.3560791015625, 288.3353271484375, 509.91748046875, 371.93115234375, 229.0328826904297, 141.32827758789062, 285.66851806640625, 386.1510925292969, 337.2527770996094, 400.4461975097656, 340.1958923339844, 265.3080749511719, 307.6221618652344, 197.46652221679688, 276.1308898925781, 332.05841064453125, 280.6045227050781, 427.510009765625, 402.7796630859375, 393.42352294921875, 15.643682479858398, 6.427054405212402, 5.508532524108887, 4.586028099060059, 4.586450099945068, 3.667902708053589, 3.6655478477478027, 3.666872024536133, 3.66556715965271, 3.6653451919555664, 3.6668386459350586, 7.315352439880371, 3.662843704223633, 4.575967788696289, 4.57873010635376, 3.6621758937835693, 4.576552391052246, 4.575387001037598, 6.4080305099487305, 26.468135833740234, 3.6593565940856934, 25.582082748413086, 9.1465482711792, 9.154502868652344, 3.6570043563842773, 10.955791473388672, 2.743272304534912, 2.7440550327301025, 2.7439022064208984, 2.744001865386963, 5.48288631439209, 6.393702983856201, 10.945642471313477, 125.28270721435547, 14.566959381103516, 18.228885650634766, 678.3560791015625, 20.88314437866211, 135.5116424560547, 60.6087532043457, 331.62188720703125, 100.40764617919922, 104.69992065429688, 217.75428771972656, 16.33854866027832, 43.43163299560547, 359.76513671875, 402.7796630859375, 283.75787353515625, 49.64191436767578, 126.21321105957031, 104.64576721191406, 102.06391906738281, 265.3080749511719, 126.69374084472656, 95.41878509521484, 183.1627197265625, 169.7724609375, 96.39326477050781, 133.89498901367188, 509.91748046875, 151.17169189453125, 110.19468688964844, 1460.675537109375, 238.8777618408203, 276.1308898925781, 210.56472778320312, 280.6045227050781, 309.01983642578125, 371.93115234375, 469.7481994628906, 285.66851806640625, 427.510009765625, 340.1958923339844, 256.6197204589844, 386.1510925292969, 393.42352294921875, 310.3080749511719, 320.2182922363281, 590.9064331054688, 400.4461975097656, 332.05841064453125, 237.63739013671875, 255.88629150390625], \"Category\": [\"Default\", \"Default\", \"Default\", \"Default\", \"Default\", \"Default\", \"Default\", \"Default\", \"Default\", \"Default\", \"Default\", \"Default\", \"Default\", \"Default\", \"Default\", \"Default\", \"Default\", \"Default\", \"Default\", \"Default\", \"Default\", \"Default\", \"Default\", \"Default\", \"Default\", \"Default\", \"Default\", \"Default\", \"Default\", \"Default\", \"Topic1\", \"Topic1\", \"Topic1\", \"Topic1\", \"Topic1\", \"Topic1\", \"Topic1\", \"Topic1\", \"Topic1\", \"Topic1\", \"Topic1\", \"Topic1\", \"Topic1\", \"Topic1\", \"Topic1\", \"Topic1\", \"Topic1\", \"Topic1\", \"Topic1\", \"Topic1\", \"Topic1\", \"Topic1\", \"Topic1\", \"Topic1\", \"Topic1\", \"Topic1\", \"Topic1\", \"Topic1\", \"Topic1\", \"Topic1\", \"Topic1\", \"Topic1\", \"Topic1\", \"Topic1\", \"Topic1\", \"Topic1\", \"Topic1\", \"Topic1\", \"Topic1\", \"Topic1\", \"Topic1\", \"Topic1\", \"Topic1\", \"Topic1\", \"Topic1\", \"Topic1\", \"Topic1\", \"Topic1\", \"Topic1\", \"Topic1\", \"Topic1\", \"Topic1\", \"Topic1\", \"Topic1\", \"Topic1\", \"Topic1\", \"Topic1\", \"Topic1\", \"Topic1\", \"Topic1\", \"Topic1\", \"Topic1\", \"Topic1\", \"Topic1\", \"Topic1\", \"Topic1\", \"Topic1\", \"Topic1\", \"Topic1\", \"Topic1\", \"Topic1\", \"Topic1\", \"Topic1\", \"Topic1\", \"Topic1\", \"Topic1\", \"Topic1\", \"Topic1\", \"Topic1\", \"Topic1\", \"Topic2\", \"Topic2\", \"Topic2\", \"Topic2\", \"Topic2\", \"Topic2\", \"Topic2\", \"Topic2\", \"Topic2\", \"Topic2\", \"Topic2\", \"Topic2\", \"Topic2\", \"Topic2\", \"Topic2\", \"Topic2\", \"Topic2\", \"Topic2\", \"Topic2\", \"Topic2\", \"Topic2\", \"Topic2\", \"Topic2\", \"Topic2\", \"Topic2\", \"Topic2\", \"Topic2\", \"Topic2\", \"Topic2\", \"Topic2\", \"Topic2\", \"Topic2\", \"Topic2\", \"Topic2\", \"Topic2\", \"Topic2\", \"Topic2\", \"Topic2\", \"Topic2\", \"Topic2\", \"Topic2\", \"Topic2\", \"Topic2\", \"Topic2\", \"Topic2\", \"Topic2\", \"Topic2\", \"Topic2\", \"Topic2\", \"Topic2\", \"Topic2\", \"Topic2\", \"Topic2\", \"Topic2\", \"Topic2\", \"Topic2\", \"Topic2\", \"Topic2\", \"Topic2\", \"Topic2\", \"Topic2\", \"Topic2\", \"Topic2\", \"Topic2\", \"Topic2\", \"Topic2\", \"Topic2\", \"Topic2\", \"Topic2\", \"Topic2\", \"Topic2\", \"Topic2\", \"Topic2\", \"Topic2\", \"Topic2\", \"Topic2\", \"Topic2\", \"Topic3\", \"Topic3\", \"Topic3\", \"Topic3\", \"Topic3\", \"Topic3\", \"Topic3\", \"Topic3\", \"Topic3\", \"Topic3\", \"Topic3\", \"Topic3\", \"Topic3\", \"Topic3\", \"Topic3\", \"Topic3\", \"Topic3\", \"Topic3\", \"Topic3\", \"Topic3\", \"Topic3\", \"Topic3\", \"Topic3\", \"Topic3\", \"Topic3\", \"Topic3\", \"Topic3\", \"Topic3\", \"Topic3\", \"Topic3\", \"Topic3\", \"Topic3\", \"Topic3\", \"Topic3\", \"Topic3\", \"Topic3\", \"Topic3\", \"Topic3\", \"Topic3\", \"Topic3\", \"Topic3\", \"Topic3\", \"Topic3\", \"Topic3\", \"Topic3\", \"Topic3\", \"Topic3\", \"Topic3\", \"Topic3\", \"Topic3\", \"Topic3\", \"Topic3\", \"Topic3\", \"Topic3\", \"Topic3\", \"Topic3\", \"Topic3\", \"Topic3\", \"Topic3\", \"Topic3\", \"Topic3\", \"Topic3\", \"Topic3\", \"Topic3\", \"Topic3\", \"Topic3\", \"Topic3\", \"Topic3\", \"Topic3\", \"Topic3\", \"Topic3\", \"Topic3\", \"Topic3\", \"Topic3\", \"Topic3\", \"Topic3\", \"Topic3\", \"Topic3\", \"Topic3\", \"Topic3\", \"Topic3\", \"Topic3\", \"Topic3\", \"Topic3\"], \"logprob\": [30.0, 29.0, 28.0, 27.0, 26.0, 25.0, 24.0, 23.0, 22.0, 21.0, 20.0, 19.0, 18.0, 17.0, 16.0, 15.0, 14.0, 13.0, 12.0, 11.0, 10.0, 9.0, 8.0, 7.0, 6.0, 5.0, 4.0, 3.0, 2.0, 1.0, -7.585599899291992, -7.539599895477295, -8.75570011138916, -8.652700424194336, -8.880900382995605, -8.565199851989746, -8.267399787902832, -8.335000038146973, -8.781299591064453, -8.900300025939941, -8.901800155639648, -7.8557000160217285, -8.350500106811523, -8.504400253295898, -9.199799537658691, -8.511300086975098, -7.999499797821045, -8.922699928283691, -9.211199760437012, -9.211299896240234, -9.063799858093262, -9.068099975585938, -7.186800003051758, -9.406999588012695, -9.071100234985352, -9.407999992370605, -9.22700023651123, -9.410699844360352, -7.727799892425537, -8.948200225830078, -6.105800151824951, -8.465800285339355, -8.468400001525879, -7.773099899291992, -5.4552001953125, -8.348699569702148, -8.485099792480469, -5.915500164031982, -8.095800399780273, -7.350200176239014, -7.385799884796143, -6.727700233459473, -5.8850998878479, -6.8933000564575195, -6.596700191497803, -6.991099834442139, -6.095300197601318, -5.446599960327148, -5.801799774169922, -6.311500072479248, -4.359000205993652, -5.401800155639648, -6.568299770355225, -6.144199848175049, -5.975200176239014, -6.69290018081665, -6.146900177001953, -6.053400039672852, -5.768499851226807, -5.739299774169922, -5.764599800109863, -5.583600044250488, -5.285200119018555, -5.82289981842041, -6.747900009155273, -5.775899887084961, -6.070700168609619, -6.061800003051758, -5.92080020904541, -5.836900234222412, -6.063399791717529, -5.738900184631348, -5.994999885559082, -5.644000053405762, -5.917699813842773, -5.85099983215332, -5.934100151062012, -5.961400032043457, -6.080699920654297, -6.082699775695801, -6.978300094604492, -7.953499794006348, -7.247000217437744, -8.75510025024414, -8.754599571228027, -8.90149974822998, -8.901800155639648, -8.47029972076416, -9.085000038146973, -9.277400016784668, -9.278900146484375, -9.278499603271484, -9.280699729919434, -8.81029987335205, -9.28030014038086, -9.112000465393066, -8.341500282287598, -9.298700332641602, -8.842100143432617, -8.97819995880127, -7.790800094604492, -8.729599952697754, -9.539600372314453, -9.540800094604492, -9.541199684143066, -8.218999862670898, -9.541899681091309, -9.541999816894531, -9.542799949645996, -7.847799777984619, -8.468199729919434, -8.134099960327148, -5.53879976272583, -7.439499855041504, -8.398799896240234, -8.8681001663208, -6.360499858856201, -6.65910005569458, -5.487199783325195, -6.652900218963623, -5.7581000328063965, -6.681300163269043, -6.902599811553955, -5.890200138092041, -6.711900234222412, -5.622499942779541, -5.035999774932861, -6.372900009155273, -4.303800106048584, -5.923900127410889, -5.109899997711182, -5.8059000968933105, -6.195799827575684, -5.989099979400635, -6.279200077056885, -5.779200077056885, -6.703700065612793, -5.108399868011475, -5.7906999588012695, -5.360400199890137, -5.6234002113342285, -5.987800121307373, -6.371500015258789, -5.878900051116943, -5.677299976348877, -5.773399829864502, -5.7220001220703125, -5.821000099182129, -5.976900100708008, -5.901400089263916, -6.15369987487793, -5.993199825286865, -5.909900188446045, -6.026700019836426, -5.939700126647949, -5.988699913024902, -6.063499927520752, -7.804500102996826, -8.763400077819824, -8.923500061035156, -9.11989974975586, -9.123200416564941, -9.362500190734863, -9.369199752807617, -9.369600296020508, -9.370599746704102, -9.371100425720215, -9.382699966430664, -8.69279956817627, -9.385299682617188, -9.163900375366211, -9.16510009765625, -9.39840030670166, -9.175600051879883, -9.177599906921387, -8.847399711608887, -7.4390997886657715, -9.418800354003906, -7.478799819946289, -8.508500099182129, -8.508700370788574, -9.428799629211426, -8.332799911499023, -9.718799591064453, -9.719400405883789, -9.71969985961914, -9.719799995422363, -9.035599708557129, -8.89210033416748, -8.37720012664795, -6.044400215148926, -8.1225004196167, -7.936999797821045, -4.653900146484375, -7.844900131225586, -6.20389986038208, -6.925099849700928, -5.44950008392334, -6.4928998947143555, -6.466100215911865, -5.838699817657471, -8.07919979095459, -7.243899822235107, -5.458899974822998, -5.363399982452393, -5.690999984741211, -7.160399913787842, -6.380799770355225, -6.549200057983398, -6.570899963378906, -5.795400142669678, -6.44350004196167, -6.671599864959717, -6.191699981689453, -6.260900020599365, -6.696800231933594, -6.451399803161621, -5.438499927520752, -6.3668999671936035, -6.611599922180176, -4.722300052642822, -6.069200038909912, -5.969099998474121, -6.172500133514404, -5.982900142669678, -5.919899940490723, -5.820000171661377, -5.684100151062012, -5.990799903869629, -5.779200077056885, -5.930500030517578, -6.09119987487793, -5.901199817657471, -5.8993000984191895, -6.018400192260742, -6.005899906158447, -5.776500225067139, -5.954100131988525, -6.0258002281188965, -6.1707000732421875, -6.167500019073486], \"loglift\": [30.0, 29.0, 28.0, 27.0, 26.0, 25.0, 24.0, 23.0, 22.0, 21.0, 20.0, 19.0, 18.0, 17.0, 16.0, 15.0, 14.0, 13.0, 12.0, 11.0, 10.0, 9.0, 8.0, 7.0, 6.0, 5.0, 4.0, 3.0, 2.0, 1.0, 0.9139000177383423, 0.8914999961853027, 0.8790000081062317, 0.8766000270843506, 0.8716999888420105, 0.8694000244140625, 0.8574000000953674, 0.8572999835014343, 0.8528000116348267, 0.8513000011444092, 0.8503999710083008, 0.8432000279426575, 0.8432000279426575, 0.8414000272750854, 0.8395000100135803, 0.8357999920845032, 0.8356000185012817, 0.8296999931335449, 0.8287000060081482, 0.8281000256538391, 0.8217999935150146, 0.8172000050544739, 0.8151999711990356, 0.8144999742507935, 0.8137999773025513, 0.8133999705314636, 0.8130000233650208, 0.8115000128746033, 0.8077999949455261, 0.8023999929428101, 0.7914999723434448, 0.802299976348877, 0.796500027179718, 0.7616999745368958, 0.642300009727478, 0.7759000062942505, 0.7814000248908997, 0.5612999796867371, 0.7429999709129333, 0.6751999855041504, 0.6646000146865845, 0.5817999839782715, 0.46709999442100525, 0.5895000100135803, 0.5080999732017517, 0.5669999718666077, 0.4180999994277954, 0.29649999737739563, 0.34850001335144043, 0.4343999922275543, 0.07240000367164612, 0.2583000063896179, 0.46860000491142273, 0.3865000009536743, 0.34209999442100525, 0.4763999879360199, 0.3377000093460083, 0.3003000020980835, 0.2206999957561493, 0.20980000495910645, 0.2159000039100647, 0.14190000295639038, 0.05119999870657921, 0.16179999709129333, 0.4683000147342682, 0.12139999866485596, 0.2222999930381775, 0.20499999821186066, 0.133200004696846, 0.07590000331401825, 0.18389999866485596, 0.023000000044703484, 0.14499999582767487, -0.16019999980926514, -0.029200000688433647, -0.13130000233650208, -0.1014999970793724, -0.16200000047683716, 0.09260000288486481, -0.16859999299049377, 1.0925999879837036, 1.0673999786376953, 1.0204999446868896, 1.0176000595092773, 1.0176000595092773, 1.00409996509552, 1.0037000179290771, 0.9817000031471252, 0.9728999733924866, 0.9625999927520752, 0.9616000056266785, 0.9616000056266785, 0.960099995136261, 0.9599000215530396, 0.9592999815940857, 0.9455000162124634, 0.9422000050544739, 0.9419999718666077, 0.927299976348877, 0.9247999787330627, 0.9230999946594238, 0.9228000044822693, 0.9218999743461609, 0.9211999773979187, 0.9208999872207642, 0.9207000136375427, 0.9207000136375427, 0.9196000099182129, 0.9194999933242798, 0.9075000286102295, 0.8921999931335449, 0.8805999755859375, 0.7935000061988831, 0.8525000214576721, 0.882099986076355, 0.899399995803833, 0.7925999760627747, 0.7936000227928162, 0.7304999828338623, 0.7864999771118164, 0.7203999757766724, 0.7713000178337097, 0.7839000225067139, 0.6976000070571899, 0.7621999979019165, 0.6230999827384949, 0.5299000144004822, 0.578000009059906, 0.12770000100135803, 0.4108999967575073, 0.226500004529953, 0.3646000027656555, 0.44859999418258667, 0.39719998836517334, 0.4296000003814697, 0.2971999943256378, 0.5182999968528748, 0.09000000357627869, 0.26330000162124634, 0.1234000027179718, 0.17589999735355377, 0.29649999737739563, 0.3955000042915344, 0.18440000712871552, 0.08449999988079071, 0.12380000203847885, 0.0035000001080334187, 0.06759999692440033, 0.16030000150203705, 0.08780000358819962, 0.27889999747276306, 0.10400000214576721, 0.00279999990016222, 0.0544000007212162, -0.27959999442100525, -0.26899999380111694, -0.32030001282691956, 1.1634999513626099, 1.094099998474121, 1.0882999897003174, 1.0751999616622925, 1.0717999935150146, 1.055899977684021, 1.0499000549316406, 1.0491000413894653, 1.0484999418258667, 1.0479999780654907, 1.0360000133514404, 1.0353000164031982, 1.034600019454956, 1.033400058746338, 1.031599998474121, 1.0216000080108643, 1.0216000080108643, 1.0197999477386475, 1.013100028038025, 1.003000020980835, 1.0019999742507935, 0.9973999857902527, 0.9962000250816345, 0.995199978351593, 0.9926999807357788, 0.9914000034332275, 0.9901999831199646, 0.989300012588501, 0.9890000224113464, 0.9889000058174133, 0.9807999730110168, 0.9707000255584717, 0.9478999972343445, 0.8431000113487244, 0.9168000221252441, 0.8780999779701233, 0.5444999933242798, 0.8342000246047974, 0.6050999760627747, 0.6884999871253967, 0.46459999680519104, 0.6158999800682068, 0.6008999943733215, 0.4959999918937683, 0.8453999757766724, 0.703000009059906, 0.37369999289512634, 0.3562999963760376, 0.3790000081062317, 0.6528000235557556, 0.4993000030517578, 0.5182999968528748, 0.5216000080108643, 0.3418000042438507, 0.4327999949455261, 0.48820000886917114, 0.3160000145435333, 0.32269999384880066, 0.4528000056743622, 0.36959999799728394, 0.04529999941587448, 0.3327000141143799, 0.4043000042438507, -0.29089999198913574, 0.1729000061750412, 0.12809999287128448, 0.19580000638961792, 0.0982000008225441, 0.06480000168085098, -0.020600000396370888, -0.11819999665021896, 0.07249999791383743, -0.11909999698400497, -0.041999999433755875, 0.07930000126361847, -0.13940000534057617, -0.15610000491142273, -0.03790000081062317, -0.0568000003695488, -0.4401000142097473, -0.22859999537467957, -0.11299999803304672, 0.07670000195503235, 0.005799999926239252]}, \"token.table\": {\"Topic\": [2, 1, 2, 1, 2, 3, 1, 2, 3, 1, 2, 3, 1, 2, 3, 3, 1, 1, 2, 3, 1, 1, 2, 3, 2, 3, 1, 2, 3, 1, 2, 3, 1, 2, 3, 1, 2, 3, 3, 3, 2, 3, 1, 2, 3, 1, 2, 3, 1, 2, 3, 1, 2, 3, 1, 2, 3, 1, 2, 3, 1, 3, 1, 2, 3, 1, 2, 3, 3, 1, 2, 3, 1, 2, 2, 1, 2, 3, 3, 1, 2, 3, 3, 1, 2, 3, 1, 2, 3, 1, 2, 3, 1, 2, 3, 1, 3, 1, 2, 3, 1, 2, 3, 2, 1, 2, 3, 1, 2, 1, 2, 3, 1, 2, 3, 1, 2, 3, 1, 2, 3, 1, 2, 3, 1, 2, 3, 1, 2, 3, 3, 1, 2, 3, 1, 1, 2, 3, 1, 2, 3, 3, 1, 2, 3, 1, 2, 3, 1, 2, 3, 1, 2, 3, 1, 2, 3, 1, 2, 3, 2, 2, 1, 2, 3, 1, 2, 3, 1, 2, 3, 1, 2, 3, 1, 1, 2, 2, 1, 2, 3, 1, 2, 3, 1, 2, 3, 1, 2, 3, 1, 2, 3, 3, 1, 2, 3, 1, 2, 3, 3, 1, 2, 3, 1, 1, 2, 3, 2, 1, 2, 3, 2, 1, 2, 3, 1, 2, 3, 1, 2, 3, 1, 2, 3, 1, 1, 2, 3, 3, 3, 1, 1, 2, 3, 2, 1, 2, 3, 3, 1, 2, 3, 1, 2, 3, 1, 2, 3, 1, 2, 3, 1, 2, 3, 1, 2, 3, 1, 2, 3, 1, 2, 1, 2, 3, 1, 2, 3, 1, 2, 3, 1, 2, 1, 2, 3, 1, 2, 3, 1, 2, 3, 1, 2, 3, 1, 2, 3, 3, 1, 2, 1, 2, 3, 1, 1, 2, 3, 2, 1, 3, 2, 2, 3, 2, 3, 1, 2, 3, 1, 2, 3, 1, 2, 3, 1, 2, 3, 1, 2, 3, 1, 2, 3, 1, 1, 2, 3, 1, 2, 3, 1, 2, 1, 2, 3, 1, 2, 3, 3, 1, 1, 1, 2, 3, 1, 2, 3, 1, 3, 1, 2, 3, 2, 3, 3, 1, 2, 3, 1, 2, 3, 2, 1, 2, 3, 3, 1, 2, 3, 1, 2, 3, 1, 2, 3, 2, 2, 2, 3, 1, 2, 3, 1, 2, 3, 1, 1, 2, 3, 1, 2, 3, 1, 2, 3, 2, 1, 2, 3, 1, 2, 3, 1, 2, 1, 2, 3, 1, 2, 3, 1, 2, 3, 1, 2, 3, 1, 2, 3, 1, 2, 3, 1, 2, 3, 1, 3, 1, 2, 3, 1, 2, 3, 1, 2, 3, 2, 1, 2, 3, 1, 2, 3, 1, 2, 3, 1, 3, 1, 2, 3, 1, 2, 3, 2, 3, 1, 2, 3, 1, 2, 3, 1, 2, 3, 1, 2, 3, 3, 1, 2, 3, 1], \"Freq\": [0.8542919158935547, 0.8955370187759399, 0.8162437081336975, 0.21967542171478271, 0.2578798532485962, 0.5253108143806458, 0.24104268848896027, 0.2829631567001343, 0.47160524129867554, 0.5134415626525879, 0.23892825841903687, 0.24909542500972748, 0.5642449259757996, 0.19553042948246002, 0.2458096742630005, 0.8198162317276001, 0.7998452186584473, 0.07589630037546158, 0.834859311580658, 0.15179260075092316, 0.8397049903869629, 0.7405049204826355, 0.17874257266521454, 0.0766039565205574, 0.13669881224632263, 0.8201928734779358, 0.21449047327041626, 0.21449047327041626, 0.5774743556976318, 0.2206031233072281, 0.682235598564148, 0.09804583340883255, 0.08765966445207596, 0.8765966892242432, 0.08765966445207596, 0.4369911849498749, 0.42658665776252747, 0.1387273669242859, 0.818431556224823, 0.8721342086791992, 0.8543475866317749, 0.7288889288902283, 0.4181544780731201, 0.28919094800949097, 0.29309892654418945, 0.0612049475312233, 0.2448197901248932, 0.6732544302940369, 0.16457396745681763, 0.10971597582101822, 0.7131538391113281, 0.45868203043937683, 0.22723697125911713, 0.31560689210891724, 0.21067801117897034, 0.7022600173950195, 0.07022599875926971, 0.6711227297782898, 0.23411257565021515, 0.09364502876996994, 0.7995213866233826, 0.15990428626537323, 0.6136296987533569, 0.21159644424915314, 0.17985697090625763, 0.031726304441690445, 0.9200628399848938, 0.06345260888338089, 0.9335536360740662, 0.32234060764312744, 0.33489930629730225, 0.34327179193496704, 0.026065068319439888, 0.9644075036048889, 0.9435587525367737, 0.3253290355205536, 0.38985711336135864, 0.28499898314476013, 0.8184272646903992, 0.25433066487312317, 0.6565280556678772, 0.08872000128030777, 0.820343554019928, 0.2073061615228653, 0.3844587206840515, 0.4070739150047302, 0.29404711723327637, 0.39556336402893066, 0.3115499019622803, 0.47372275590896606, 0.24491789937019348, 0.28036653995513916, 0.037781279534101486, 0.18890638649463654, 0.7934068441390991, 0.8388286232948303, 0.13980478048324585, 0.4757286608219147, 0.2731034755706787, 0.2510790228843689, 0.1361227184534073, 0.4265178442001343, 0.4355926811695099, 0.9123651385307312, 0.5148262977600098, 0.16380836069583893, 0.322936475276947, 0.9173352718353271, 0.10192614048719406, 0.8791768550872803, 0.09768632054328918, 0.04884316027164459, 0.09136055409908295, 0.1827211081981659, 0.7308844327926636, 0.10933086276054382, 0.10933086276054382, 0.7653160095214844, 0.09577101469039917, 0.23942755162715912, 0.6703971028327942, 0.6348514556884766, 0.20831063389778137, 0.1487933099269867, 0.8615928888320923, 0.08615928888320923, 0.08615928888320923, 0.1037144809961319, 0.8297158479690552, 0.1037144809961319, 0.8191851377487183, 0.6670064330101013, 0.20645438134670258, 0.12704885005950928, 0.8000518679618835, 0.08740434050559998, 0.7866390943527222, 0.17480868101119995, 0.7864335179328918, 0.1685214787721634, 0.05617382377386093, 0.9076827764511108, 0.6116976737976074, 0.23170366883277893, 0.15755848586559296, 0.6817010641098022, 0.17042526602745056, 0.14607879519462585, 0.5820223689079285, 0.21963109076023102, 0.19766797125339508, 0.2509009540081024, 0.2140037566423416, 0.5313196778297424, 0.1852056086063385, 0.557745635509491, 0.257584810256958, 0.7245654463768005, 0.13042177259922028, 0.14491307735443115, 0.8539445400238037, 0.9505897164344788, 0.08821611106395721, 0.6091112494468689, 0.30245524644851685, 0.3255428671836853, 0.37064820528030396, 0.3039707541465759, 0.1695127785205841, 0.7238653898239136, 0.10537280887365341, 0.16021007299423218, 0.5006564855575562, 0.340446412563324, 0.8962216973304749, 0.12673231959342957, 0.8871262073516846, 0.9119237661361694, 0.880025327205658, 0.0800023004412651, 0.0800023004412651, 0.8514686822891235, 0.04865535348653793, 0.09731070697307587, 0.21210618317127228, 0.6734371185302734, 0.11665839701890945, 0.60756516456604, 0.2336789071559906, 0.158901646733284, 0.3466867506504059, 0.30394455790519714, 0.3514358699321747, 0.8190357685089111, 0.32916972041130066, 0.4355168640613556, 0.23801502585411072, 0.06392356753349304, 0.06392356753349304, 0.958853542804718, 0.8181434273719788, 0.06864850968122482, 0.20594552159309387, 0.7551335692405701, 0.9805828928947449, 0.18238568305969238, 0.18238568305969238, 0.7295427322387695, 0.9130068421363831, 0.5888835191726685, 0.2563375234603882, 0.1524168998003006, 0.9129966497421265, 0.1400444507598877, 0.3582189381122589, 0.5012117028236389, 0.1841975450515747, 0.23024693131446838, 0.5756173133850098, 0.3169240355491638, 0.20600062608718872, 0.4753860533237457, 0.19405719637870789, 0.7207838892936707, 0.08316737413406372, 0.9330217242240906, 0.027553992345929146, 0.4959718585014343, 0.4776025414466858, 0.7290562987327576, 0.8741320371627808, 0.8401922583580017, 0.8289294838905334, 0.08289294689893723, 0.12433942407369614, 0.8539497256278992, 0.25662872195243835, 0.5132574439048767, 0.23159179091453552, 0.7288483381271362, 0.4107688367366791, 0.3724304139614105, 0.2170228660106659, 0.09915853291749954, 0.8428475260734558, 0.04957926645874977, 0.1597176194190979, 0.7098560929298401, 0.12422481924295425, 0.44980931282043457, 0.24270287156105042, 0.3106596767902374, 0.09127592295408249, 0.18255184590816498, 0.821483314037323, 0.3603353500366211, 0.24022355675697327, 0.39855271577835083, 0.13396647572517395, 0.8037988543510437, 0.06698323786258698, 0.16282330453395844, 0.8141165375709534, 0.3968997001647949, 0.19844985008239746, 0.40351471304893494, 0.15605418384075165, 0.15605418384075165, 0.7802709341049194, 0.35272014141082764, 0.15676450729370117, 0.48988908529281616, 0.8972859382629395, 0.07477383315563202, 0.8223727345466614, 0.07476115971803665, 0.07476115971803665, 0.4676952660083771, 0.364716500043869, 0.1673405021429062, 0.25512686371803284, 0.5867918133735657, 0.16158035397529602, 0.6948437094688416, 0.0868554636836052, 0.23161455988883972, 0.19666580855846405, 0.730472981929779, 0.08428534865379333, 0.8740203380584717, 0.8404480218887329, 0.09338311105966568, 0.4125780165195465, 0.3282555043697357, 0.2589905858039856, 0.9335421919822693, 0.9341468811035156, 0.0373658761382103, 0.0373658761382103, 0.9124020338058472, 0.8394689559936523, 0.09327432513237, 0.8161081671714783, 0.21840116381645203, 0.8736046552658081, 0.8531537055969238, 0.1421922743320465, 0.5370473265647888, 0.23918913304805756, 0.2256501317024231, 0.4935556948184967, 0.24794740974903107, 0.257303923368454, 0.9603379964828491, 0.04001408442854881, 0.04001408442854881, 0.322750985622406, 0.43979254364967346, 0.23762984573841095, 0.34466931223869324, 0.2334856539964676, 0.42249786853790283, 0.11972921341657639, 0.20753063261508942, 0.6784655451774597, 0.933713436126709, 0.43950971961021423, 0.32963231205940247, 0.2322409301996231, 0.33517083525657654, 0.25075745582580566, 0.41461876034736633, 0.8811724781990051, 0.08010658621788025, 0.2962374985218048, 0.21023306250572205, 0.4873584508895874, 0.4422145485877991, 0.29103007912635803, 0.2683524191379547, 0.8179060816764832, 0.8963872790336609, 0.8715599179267883, 0.14350636303424835, 0.7031812071800232, 0.1578570008277893, 0.5423251986503601, 0.2406090795993805, 0.22151312232017517, 0.2184717208147049, 0.7646510004997253, 0.07817971706390381, 0.11726957559585571, 0.7817971706390381, 0.8554810881614685, 0.14258018136024475, 0.728862464427948, 0.31367865204811096, 0.2688674032688141, 0.41823819279670715, 0.13004879653453827, 0.780292809009552, 0.097536601126194, 0.8547782897949219, 0.2143249213695526, 0.47151482105255127, 0.3156421482563019, 0.8722144365310669, 0.14246352016925812, 0.8547811508178711, 0.14246352016925812, 0.42994457483291626, 0.3706418573856354, 0.19866403937339783, 0.3143097460269928, 0.4883889853954315, 0.19825690984725952, 0.8576084971427917, 0.8545793294906616, 0.7571398019790649, 0.18928495049476624, 0.26783397793769836, 0.3065994083881378, 0.42289575934410095, 0.3357434868812561, 0.2650606632232666, 0.40053609013557434, 0.8710514903068542, 0.8711655139923096, 0.08296814560890198, 0.08296814560890198, 0.05167454853653908, 0.8267927765846252, 0.15502364933490753, 0.7471364140510559, 0.12452273815870285, 0.12452273815870285, 0.8571262359619141, 0.3842242956161499, 0.44098472595214844, 0.17464740574359894, 0.5335023999214172, 0.25608116388320923, 0.2080659419298172, 0.8403459191322327, 0.7601696848869324, 0.32265663146972656, 0.21409925818443298, 0.4613688290119171, 0.3910386562347412, 0.35737305879592896, 0.25378668308258057, 0.4746082127094269, 0.3575815260410309, 0.16578780114650726, 0.47155332565307617, 0.25607532262802124, 0.2748125195503235, 0.13533228635787964, 0.7287123203277588, 0.14574246108531952, 0.4010787308216095, 0.4112326204776764, 0.18784700334072113, 0.1410098671913147, 0.2820197343826294, 0.5640394687652588, 0.8602507710456848, 0.08602507412433624, 0.6098377108573914, 0.21067121624946594, 0.17740733921527863, 0.26890382170677185, 0.1892286241054535, 0.5378076434135437, 0.15640388429164886, 0.15640388429164886, 0.7820194363594055, 0.9127993583679199, 0.2759532630443573, 0.4882250130176544, 0.2405746430158615, 0.2367914915084839, 0.3157219886779785, 0.44990384578704834, 0.21191099286079407, 0.5465072989463806, 0.23421740531921387, 0.9330257177352905, 0.8181359767913818, 0.3078250288963318, 0.36214709281921387, 0.32955387234687805, 0.3319734036922455, 0.20748338103294373, 0.45646342635154724, 0.21856074035167694, 0.8742429614067078, 0.8629974126815796, 0.08629973977804184, 0.08629973977804184, 0.8463332056999207, 0.08060315996408463, 0.08060315996408463, 0.3703748285770416, 0.3497984707355499, 0.2792508602142334, 0.8954721689224243, 0.05596701055765152, 0.11193402111530304, 0.8184767961502075, 0.3349910378456116, 0.3456822335720062, 0.3207361102104187, 0.8955689668655396], \"Term\": [\"abscess\", \"adriana\", \"algocount\", \"alomar\", \"alomar\", \"alomar\", \"analysis\", \"analysis\", \"analysis\", \"anyone\", \"anyone\", \"anyone\", \"anything\", \"anything\", \"anything\", \"apanjabi\", \"appartus\", \"asdcom\", \"asdcom\", \"asdcom\", \"aspartate\", \"aspect\", \"aspect\", \"aspect\", \"autotrace\", \"autotrace\", \"baerga\", \"baerga\", \"baerga\", \"banks\", \"banks\", \"banks\", \"barman\", \"barman\", \"barman\", \"baseball\", \"baseball\", \"baseball\", \"bcmtmcedu\", \"braun\", \"brighton\", \"candee\", \"case\", \"case\", \"case\", \"cboesel\", \"cboesel\", \"cboesel\", \"cdi\", \"cdi\", \"cdi\", \"center\", \"center\", \"center\", \"chastity\", \"chastity\", \"chastity\", \"chris\", \"chris\", \"chris\", \"cite\", \"cite\", \"city\", \"city\", \"city\", \"col\", \"col\", \"col\", \"cologne\", \"color\", \"color\", \"color\", \"compass\", \"compass\", \"compassop\", \"computer\", \"computer\", \"computer\", \"cornelis\", \"cspittedu\", \"cspittedu\", \"cspittedu\", \"cubes\", \"data\", \"data\", \"data\", \"david\", \"david\", \"david\", \"day\", \"day\", \"day\", \"demers\", \"demers\", \"demers\", \"dianne\", \"dianne\", \"disease\", \"disease\", \"disease\", \"display\", \"display\", \"display\", \"disser\", \"doctor\", \"doctor\", \"doctor\", \"dolven\", \"dolven\", \"dominance\", \"dominance\", \"dominance\", \"dps\", \"dps\", \"dps\", \"draper\", \"draper\", \"draper\", \"drawing\", \"drawing\", \"drawing\", \"drug\", \"drug\", \"drug\", \"eagles\", \"eagles\", \"eagles\", \"eastgate\", \"eastgate\", \"eastgate\", \"eckart\", \"effect\", \"effect\", \"effect\", \"eliezer\", \"erickson\", \"erickson\", \"erickson\", \"erics\", \"erics\", \"erics\", \"erwin\", \"evidence\", \"evidence\", \"evidence\", \"eye\", \"eye\", \"eye\", \"fan\", \"fan\", \"fan\", \"fax\", \"fax\", \"fax\", \"file\", \"file\", \"file\", \"food\", \"food\", \"food\", \"fopen\", \"foreskin\", \"format\", \"format\", \"format\", \"game\", \"game\", \"game\", \"geb\", \"geb\", \"geb\", \"gif\", \"gif\", \"gif\", \"gilmete\", \"globe\", \"globe\", \"glp\", \"glu\", \"glu\", \"glu\", \"glutamate\", \"glutamate\", \"glutamate\", \"gordon\", \"gordon\", \"gordon\", \"group\", \"group\", \"group\", \"health\", \"health\", \"health\", \"heffner\", \"help\", \"help\", \"help\", \"hernia\", \"hernia\", \"hernia\", \"hinckley\", \"hips\", \"hips\", \"hips\", \"holler\", \"horan\", \"horan\", \"horan\", \"hrf\", \"idea\", \"idea\", \"idea\", \"ilmenau\", \"image\", \"image\", \"image\", \"input\", \"input\", \"input\", \"institute\", \"institute\", \"institute\", \"intellect\", \"intellect\", \"intellect\", \"ipas\", \"jpeg\", \"jpeg\", \"jpeg\", \"kday\", \"keeve\", \"klonopin\", \"krillean\", \"krillean\", \"krillean\", \"ktt\", \"league\", \"league\", \"league\", \"leberle\", \"lines\", \"lines\", \"lines\", \"liu\", \"liu\", \"liu\", \"lost\", \"lost\", \"lost\", \"lot\", \"lot\", \"lot\", \"lucas\", \"lucas\", \"lucas\", \"mark\", \"mark\", \"mark\", \"markus\", \"markus\", \"markus\", \"mcmath\", \"mcmath\", \"michael\", \"michael\", \"michael\", \"mini\", \"mini\", \"mini\", \"morris\", \"morris\", \"morris\", \"nerone\", \"nerone\", \"neuron\", \"neuron\", \"neuron\", \"new\", \"new\", \"new\", \"news\", \"news\", \"news\", \"newsgroup\", \"newsgroup\", \"newsgroup\", \"njxp\", \"njxp\", \"njxp\", \"norway\", \"nosebleed\", \"nosebleed\", \"number\", \"number\", \"number\", \"ocd\", \"olney\", \"olney\", \"olney\", \"opcols\", \"opirg\", \"opirg\", \"oprows\", \"ove\", \"ove\", \"pagnozzi\", \"pagnozzi\", \"patient\", \"patient\", \"patient\", \"people\", \"people\", \"people\", \"pittsburg\", \"pittsburg\", \"pittsburg\", \"player\", \"player\", \"player\", \"point\", \"point\", \"point\", \"polygon\", \"polygon\", \"polygon\", \"pps\", \"problem\", \"problem\", \"problem\", \"program\", \"program\", \"program\", \"prozac\", \"prozac\", \"quality\", \"quality\", \"quality\", \"question\", \"question\", \"question\", \"rainer\", \"randall\", \"rauser\", \"rbi\", \"rbi\", \"rbi\", \"research\", \"research\", \"research\", \"rhinitis\", \"rhinitis\", \"rickert\", \"rickert\", \"rickert\", \"rix\", \"rix\", \"rleberle\", \"robert\", \"robert\", \"robert\", \"row\", \"row\", \"row\", \"rsd\", \"run\", \"run\", \"run\", \"sbraun\", \"scf\", \"scf\", \"scf\", \"science\", \"science\", \"science\", \"season\", \"season\", \"season\", \"seirio\", \"sizeof\", \"snf\", \"snf\", \"software\", \"software\", \"software\", \"source\", \"source\", \"source\", \"spect\", \"speedstar\", \"speedstar\", \"speedstar\", \"sphinx\", \"sphinx\", \"sphinx\", \"split\", \"split\", \"split\", \"spmarse\", \"steve\", \"steve\", \"steve\", \"study\", \"study\", \"study\", \"supplier\", \"sweda\", \"system\", \"system\", \"system\", \"team\", \"team\", \"team\", \"thanks\", \"thanks\", \"thanks\", \"thing\", \"thing\", \"thing\", \"tiff\", \"tiff\", \"tiff\", \"time\", \"time\", \"time\", \"tobacco\", \"tobacco\", \"tobacco\", \"todamhyp\", \"todamhyp\", \"today\", \"today\", \"today\", \"tool\", \"tool\", \"tool\", \"tsscom\", \"tsscom\", \"tsscom\", \"tully\", \"univ\", \"univ\", \"univ\", \"user\", \"user\", \"user\", \"value\", \"value\", \"value\", \"vaseline\", \"vectord\", \"version\", \"version\", \"version\", \"video\", \"video\", \"video\", \"voronoi\", \"voronoi\", \"wate\", \"wate\", \"wate\", \"water\", \"water\", \"water\", \"way\", \"way\", \"way\", \"wcsbeau\", \"wcsbeau\", \"wcsbeau\", \"wessels\", \"world\", \"world\", \"world\", \"zalan\"]}, \"R\": 30, \"lambda.step\": 0.01, \"plot.opts\": {\"xlab\": \"PC1\", \"ylab\": \"PC2\"}, \"topic.order\": [3, 2, 1]};\n",
       "\n",
       "function LDAvis_load_lib(url, callback){\n",
       "  var s = document.createElement('script');\n",
       "  s.src = url;\n",
       "  s.async = true;\n",
       "  s.onreadystatechange = s.onload = callback;\n",
       "  s.onerror = function(){console.warn(\"failed to load library \" + url);};\n",
       "  document.getElementsByTagName(\"head\")[0].appendChild(s);\n",
       "}\n",
       "\n",
       "if(typeof(LDAvis) !== \"undefined\"){\n",
       "   // already loaded: just create the visualization\n",
       "   !function(LDAvis){\n",
       "       new LDAvis(\"#\" + \"ldavis_el1358426081276501203310063540\", ldavis_el1358426081276501203310063540_data);\n",
       "   }(LDAvis);\n",
       "}else if(typeof define === \"function\" && define.amd){\n",
       "   // require.js is available: use it to load d3/LDAvis\n",
       "   require.config({paths: {d3: \"https://cdnjs.cloudflare.com/ajax/libs/d3/3.5.5/d3.min\"}});\n",
       "   require([\"d3\"], function(d3){\n",
       "      window.d3 = d3;\n",
       "      LDAvis_load_lib(\"https://cdn.rawgit.com/bmabey/pyLDAvis/files/ldavis.v1.0.0.js\", function(){\n",
       "        new LDAvis(\"#\" + \"ldavis_el1358426081276501203310063540\", ldavis_el1358426081276501203310063540_data);\n",
       "      });\n",
       "    });\n",
       "}else{\n",
       "    // require.js not available: dynamically load d3 & LDAvis\n",
       "    LDAvis_load_lib(\"https://cdnjs.cloudflare.com/ajax/libs/d3/3.5.5/d3.min.js\", function(){\n",
       "         LDAvis_load_lib(\"https://cdn.rawgit.com/bmabey/pyLDAvis/files/ldavis.v1.0.0.js\", function(){\n",
       "                 new LDAvis(\"#\" + \"ldavis_el1358426081276501203310063540\", ldavis_el1358426081276501203310063540_data);\n",
       "            })\n",
       "         });\n",
       "}\n",
       "</script>"
      ],
      "text/plain": [
       "PreparedData(topic_coordinates=              x         y  topics  cluster       Freq\n",
       "topic                                                \n",
       "2     -0.032221 -0.004827       1        1  38.183002\n",
       "1      0.020948 -0.021701       2        1  32.775734\n",
       "0      0.011274  0.026528       3        1  29.041267, topic_info=         Term        Freq       Total Category  logprob  loglift\n",
       "242     image  678.000000  678.000000  Default  30.0000  30.0000\n",
       "1449     jpeg  217.000000  217.000000  Default  29.0000  29.0000\n",
       "14        geb  218.000000  218.000000  Default  28.0000  28.0000\n",
       "235      file  469.000000  469.000000  Default  27.0000  27.0000\n",
       "3       banks  244.000000  244.000000  Default  26.0000  26.0000\n",
       "...       ...         ...         ...      ...      ...      ...\n",
       "224      time  110.515053  590.906433   Topic3  -5.7765  -0.4401\n",
       "43    problem   92.528954  400.446198   Topic3  -5.9541  -0.2286\n",
       "116    number   86.130737  332.058411   Topic3  -6.0258  -0.1130\n",
       "422    center   74.511078  237.637390   Topic3  -6.1707   0.0767\n",
       "180      case   74.747307  255.886292   Topic3  -6.1675   0.0058\n",
       "\n",
       "[271 rows x 6 columns], token_table=       Topic      Freq       Term\n",
       "term                             \n",
       "10468      2  0.854292    abscess\n",
       "12982      1  0.895537    adriana\n",
       "12458      2  0.816244  algocount\n",
       "264        1  0.219675     alomar\n",
       "264        2  0.257880     alomar\n",
       "...      ...       ...        ...\n",
       "9351       3  0.818477    wessels\n",
       "81         1  0.334991      world\n",
       "81         2  0.345682      world\n",
       "81         3  0.320736      world\n",
       "4491       1  0.895569      zalan\n",
       "\n",
       "[475 rows x 3 columns], R=30, lambda_step=0.01, plot_opts={'xlab': 'PC1', 'ylab': 'PC2'}, topic_order=[3, 2, 1])"
      ]
     },
     "execution_count": 76,
     "metadata": {},
     "output_type": "execute_result"
    }
   ],
   "source": [
    "import pyLDAvis\n",
    "import pyLDAvis.gensim\n",
    "\n",
    "pyLDAvis.enable_notebook()\n",
    "vis = pyLDAvis.gensim.prepare(model, doc_term_matrix, dictionary)\n",
    "vis"
   ]
  },
  {
   "cell_type": "code",
   "execution_count": null,
   "metadata": {},
   "outputs": [],
   "source": []
  }
 ],
 "metadata": {
  "kernelspec": {
   "display_name": "Python 3",
   "language": "python",
   "name": "python3"
  },
  "language_info": {
   "codemirror_mode": {
    "name": "ipython",
    "version": 3
   },
   "file_extension": ".py",
   "mimetype": "text/x-python",
   "name": "python",
   "nbconvert_exporter": "python",
   "pygments_lexer": "ipython3",
   "version": "3.7.6"
  }
 },
 "nbformat": 4,
 "nbformat_minor": 4
}
