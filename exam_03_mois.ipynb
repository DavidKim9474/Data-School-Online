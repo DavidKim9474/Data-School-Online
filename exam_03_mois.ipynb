{
 "cells": [
  {
   "cell_type": "markdown",
   "metadata": {},
   "source": [
    "### 행정안전부 보도자료 데이터 수집\n",
    "- https://mois.go.kr\n",
    "- post 방식 사용\n",
    "- 뉴스 소식 -> 보도자료"
   ]
  },
  {
   "cell_type": "code",
   "execution_count": 2,
   "metadata": {},
   "outputs": [],
   "source": [
    "url = \"https://mois.go.kr/frt/bbs/type010/commonSelectBoardList.do?bbsId=BBSMSTR_000000000008\""
   ]
  },
  {
   "cell_type": "code",
   "execution_count": 3,
   "metadata": {},
   "outputs": [
    {
     "data": {
      "text/plain": [
       "{'nttId': 0,\n",
       " 'bbsTyCode': 'BBST03',\n",
       " 'bbsAttrbCode': 'BBSA03',\n",
       " 'authFlag': 'Y',\n",
       " 'pageIndex': 1,\n",
       " 'cal_url': '/sym/cal/EgovNormalCalPopup.do',\n",
       " 'searchCnd': 0}"
      ]
     },
     "execution_count": 3,
     "metadata": {},
     "output_type": "execute_result"
    }
   ],
   "source": [
    "page = 1\n",
    "params = {\n",
    "    'nttId': 0,\n",
    "    'bbsTyCode': 'BBST03',\n",
    "    'bbsAttrbCode': 'BBSA03',\n",
    "    'authFlag': 'Y',\n",
    "    'pageIndex': page,\n",
    "    'cal_url': '/sym/cal/EgovNormalCalPopup.do',\n",
    "    'searchCnd': 0,\n",
    "}\n",
    "params"
   ]
  },
  {
   "cell_type": "code",
   "execution_count": 4,
   "metadata": {},
   "outputs": [
    {
     "data": {
      "text/plain": [
       "<Response [200]>"
      ]
     },
     "execution_count": 4,
     "metadata": {},
     "output_type": "execute_result"
    }
   ],
   "source": [
    "response = requests.post(url, params)\n",
    "response"
   ]
  },
  {
   "cell_type": "code",
   "execution_count": 10,
   "metadata": {},
   "outputs": [],
   "source": [
    "dom = BeautifulSoup(response.content, \"html.parser\")"
   ]
  },
  {
   "cell_type": "code",
   "execution_count": 12,
   "metadata": {
    "scrolled": true
   },
   "outputs": [
    {
     "data": {
      "text/plain": [
       "10"
      ]
     },
     "execution_count": 12,
     "metadata": {},
     "output_type": "execute_result"
    }
   ],
   "source": [
    "elements = dom.select(\".table_style1 > tbody > tr\")\n",
    "len(elements)"
   ]
  },
  {
   "cell_type": "code",
   "execution_count": 16,
   "metadata": {},
   "outputs": [
    {
     "data": {
      "text/html": [
       "<div>\n",
       "<style scoped>\n",
       "    .dataframe tbody tr th:only-of-type {\n",
       "        vertical-align: middle;\n",
       "    }\n",
       "\n",
       "    .dataframe tbody tr th {\n",
       "        vertical-align: top;\n",
       "    }\n",
       "\n",
       "    .dataframe thead th {\n",
       "        text-align: right;\n",
       "    }\n",
       "</style>\n",
       "<table border=\"1\" class=\"dataframe\">\n",
       "  <thead>\n",
       "    <tr style=\"text-align: right;\">\n",
       "      <th></th>\n",
       "      <th>no</th>\n",
       "      <th>title</th>\n",
       "      <th>writer</th>\n",
       "      <th>date</th>\n",
       "      <th>pv</th>\n",
       "    </tr>\n",
       "  </thead>\n",
       "  <tbody>\n",
       "    <tr>\n",
       "      <th>8</th>\n",
       "      <td>11258</td>\n",
       "      <td>중대본, 제9호 태풍‘마이삭’안전대책 철저 당부</td>\n",
       "      <td>자연재난대응과</td>\n",
       "      <td>2020.09.03.</td>\n",
       "      <td>322</td>\n",
       "    </tr>\n",
       "    <tr>\n",
       "      <th>9</th>\n",
       "      <td>11257</td>\n",
       "      <td>중대본, 태풍대비 해안가 저지대 등 주민 사전대피  철저 이행 당부</td>\n",
       "      <td>자연재난대응과</td>\n",
       "      <td>2020.09.03.</td>\n",
       "      <td>215</td>\n",
       "    </tr>\n",
       "  </tbody>\n",
       "</table>\n",
       "</div>"
      ],
      "text/plain": [
       "      no                                  title   writer         date   pv\n",
       "8  11258             중대본, 제9호 태풍‘마이삭’안전대책 철저 당부  자연재난대응과  2020.09.03.  322\n",
       "9  11257  중대본, 태풍대비 해안가 저지대 등 주민 사전대피  철저 이행 당부  자연재난대응과  2020.09.03.  215"
      ]
     },
     "execution_count": 16,
     "metadata": {},
     "output_type": "execute_result"
    }
   ],
   "source": [
    "data = []\n",
    "for element in elements:\n",
    "    data.append({\n",
    "        \"no\": element.select_one(\"td:nth-child(1)\").text.strip(),\n",
    "        \"title\": element.select_one(\"td:nth-child(2)\").text.strip(),\n",
    "        # \"link\" : element.select_one(\"td:nth-child(2) > div > a\").get(\"href\"),\n",
    "        \"writer\" : element.select_one(\"td:nth-child(4)\").text.strip(),\n",
    "        \"date\" : element.select_one(\"td:nth-child(5)\").text.strip(),\n",
    "        \"pv\" : element.select_one(\"td:nth-child(6)\").text.strip(),\n",
    "    })\n",
    "mois_df = pd.DataFrame(data)\n",
    "mois_df.tail(2)"
   ]
  },
  {
   "cell_type": "code",
   "execution_count": null,
   "metadata": {},
   "outputs": [],
   "source": []
  }
 ],
 "metadata": {
  "kernelspec": {
   "display_name": "Python 3",
   "language": "python",
   "name": "python3"
  },
  "language_info": {
   "codemirror_mode": {
    "name": "ipython",
    "version": 3
   },
   "file_extension": ".py",
   "mimetype": "text/x-python",
   "name": "python",
   "nbconvert_exporter": "python",
   "pygments_lexer": "ipython3",
   "version": "3.7.6"
  }
 },
 "nbformat": 4,
 "nbformat_minor": 4
}
