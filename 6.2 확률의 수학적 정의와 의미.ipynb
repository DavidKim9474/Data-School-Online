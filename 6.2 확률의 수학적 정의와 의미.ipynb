{
 "cells": [
  {
   "cell_type": "markdown",
   "metadata": {},
   "source": [
    "#### 사건 (event)"
   ]
  },
  {
   "cell_type": "code",
   "execution_count": 12,
   "metadata": {},
   "outputs": [
    {
     "data": {
      "text/plain": [
       "{frozenset(), frozenset({'T'}), frozenset({'H'}), frozenset({'H', 'T'})}"
      ]
     },
     "execution_count": 12,
     "metadata": {},
     "output_type": "execute_result"
    }
   ],
   "source": [
    "A = frozenset([])\n",
    "B = frozenset(['H'])\n",
    "C = frozenset(['T'])\n",
    "D = frozenset(['H', 'T'])\n",
    "set([A, B, C, D])"
   ]
  },
  {
   "cell_type": "markdown",
   "metadata": {},
   "source": [
    "#### Ex. 6.2.4"
   ]
  },
  {
   "cell_type": "code",
   "execution_count": 4,
   "metadata": {},
   "outputs": [
    {
     "data": {
      "text/plain": [
       "{frozenset(),\n",
       " frozenset({'♢'}),\n",
       " frozenset({'♣'}),\n",
       " frozenset({'♠'}),\n",
       " frozenset({'♡'}),\n",
       " frozenset({'♠', '♡'}),\n",
       " frozenset({'♡', '♣'}),\n",
       " frozenset({'♠', '♡', '♣'}),\n",
       " frozenset({'♡', '♢'}),\n",
       " frozenset({'♠', '♡', '♢'}),\n",
       " frozenset({'♠', '♣'}),\n",
       " frozenset({'♢', '♣'}),\n",
       " frozenset({'♡', '♢', '♣'}),\n",
       " frozenset({'♠', '♢'}),\n",
       " frozenset({'♠', '♢', '♣'}),\n",
       " frozenset({'♠', '♡', '♢', '♣'})}"
      ]
     },
     "execution_count": 4,
     "metadata": {},
     "output_type": "execute_result"
    }
   ],
   "source": [
    "# 노가다 뛰기\n",
    "A1 = frozenset([])\n",
    "A2 = frozenset(['\\u2660'])\n",
    "A3 = frozenset(['\\u2661'])\n",
    "A4 = frozenset(['\\u2662'])\n",
    "A5 = frozenset(['\\u2663'])\n",
    "A6 = frozenset(['\\u2660', '\\u2661'])\n",
    "A7 = frozenset(['\\u2660', '\\u2662'])\n",
    "A8 = frozenset(['\\u2660', '\\u2663'])\n",
    "A9 = frozenset(['\\u2661', '\\u2662'])\n",
    "A10 = frozenset(['\\u2661', '\\u2663'])\n",
    "A11 = frozenset(['\\u2662', '\\u2663'])\n",
    "A12 = frozenset(['\\u2660', '\\u2661', '\\u2662'])\n",
    "A13 = frozenset(['\\u2660', '\\u2661', '\\u2663'])\n",
    "A14 = frozenset(['\\u2660', '\\u2662', '\\u2663'])\n",
    "A15 = frozenset(['\\u2661', '\\u2662', '\\u2663'])\n",
    "A16 = frozenset(['\\u2660', '\\u2661', '\\u2662', '\\u2663'])\n",
    "set([A1, A2, A3, A4, A5, A6, A7, A8, A9, A10, A11, A12, A13, A14, A15, A16])"
   ]
  },
  {
   "cell_type": "code",
   "execution_count": 8,
   "metadata": {},
   "outputs": [],
   "source": [
    "# 코딩으로 해결하기\n",
    "from itertools import chain, combinations\n",
    "\n",
    "def get_set_of_subsets(omega):\n",
    "    return set([frozenset(s) for s in chain.from_iterable(combinations(omega, r) for r in range(len(omega) + 1))])"
   ]
  },
  {
   "cell_type": "code",
   "execution_count": 9,
   "metadata": {},
   "outputs": [
    {
     "data": {
      "text/plain": [
       "{frozenset(),\n",
       " frozenset({'♢'}),\n",
       " frozenset({'♣'}),\n",
       " frozenset({'♠'}),\n",
       " frozenset({'♡'}),\n",
       " frozenset({'♠', '♡'}),\n",
       " frozenset({'♡', '♣'}),\n",
       " frozenset({'♠', '♡', '♣'}),\n",
       " frozenset({'♡', '♢'}),\n",
       " frozenset({'♠', '♡', '♢'}),\n",
       " frozenset({'♠', '♣'}),\n",
       " frozenset({'♢', '♣'}),\n",
       " frozenset({'♡', '♢', '♣'}),\n",
       " frozenset({'♠', '♢'}),\n",
       " frozenset({'♠', '♢', '♣'}),\n",
       " frozenset({'♠', '♡', '♢', '♣'})}"
      ]
     },
     "execution_count": 9,
     "metadata": {},
     "output_type": "execute_result"
    }
   ],
   "source": [
    "omega = {'\\u2660', '\\u2661', '\\u2662', '\\u2663'}\n",
    "get_set_of_subsets(omega)"
   ]
  },
  {
   "cell_type": "code",
   "execution_count": 10,
   "metadata": {},
   "outputs": [
    {
     "data": {
      "text/plain": [
       "{frozenset(),\n",
       " frozenset({'TT'}),\n",
       " frozenset({'HT', 'TT'}),\n",
       " frozenset({'TH'}),\n",
       " frozenset({'TH', 'TT'}),\n",
       " frozenset({'HT', 'TH', 'TT'}),\n",
       " frozenset({'HH'}),\n",
       " frozenset({'HH', 'TH'}),\n",
       " frozenset({'HH', 'HT', 'TT'}),\n",
       " frozenset({'HH', 'TH', 'TT'}),\n",
       " frozenset({'HT'}),\n",
       " frozenset({'HH', 'HT'}),\n",
       " frozenset({'HT', 'TH'}),\n",
       " frozenset({'HH', 'HT', 'TH'}),\n",
       " frozenset({'HH', 'TT'}),\n",
       " frozenset({'HH', 'HT', 'TH', 'TT'})}"
      ]
     },
     "execution_count": 10,
     "metadata": {},
     "output_type": "execute_result"
    }
   ],
   "source": [
    "omega = {'HH', 'HT', 'TH', 'TT'}\n",
    "get_set_of_subsets(omega)"
   ]
  },
  {
   "cell_type": "markdown",
   "metadata": {},
   "source": [
    "#### 파이썬을 이용한 확률의 구현"
   ]
  },
  {
   "cell_type": "code",
   "execution_count": 13,
   "metadata": {},
   "outputs": [
    {
     "data": {
      "text/plain": [
       "{frozenset(): 0,\n",
       " frozenset({'H'}): 0.4,\n",
       " frozenset({'T'}): 0.6,\n",
       " frozenset({'H', 'T'}): 1}"
      ]
     },
     "execution_count": 13,
     "metadata": {},
     "output_type": "execute_result"
    }
   ],
   "source": [
    "A = frozenset([])\n",
    "B = frozenset(['H'])\n",
    "C = frozenset(['T'])\n",
    "D = frozenset(['H', 'T'])\n",
    "P = {A: 0, B: 0.4, C:0.6, D: 1}\n",
    "P"
   ]
  },
  {
   "cell_type": "markdown",
   "metadata": {},
   "source": [
    "#### Ex. 6.2.5"
   ]
  },
  {
   "cell_type": "code",
   "execution_count": 63,
   "metadata": {},
   "outputs": [
    {
     "data": {
      "text/plain": [
       "{frozenset(): 0,\n",
       " frozenset({'♠'}): 0.25,\n",
       " frozenset({'♡'}): 0.25,\n",
       " frozenset({'♢'}): 0.25,\n",
       " frozenset({'♣'}): 0.25,\n",
       " frozenset({'♠', '♡'}): 0.5,\n",
       " frozenset({'♠', '♢'}): 0.5,\n",
       " frozenset({'♠', '♣'}): 0.5,\n",
       " frozenset({'♡', '♢'}): 0.5,\n",
       " frozenset({'♡', '♣'}): 0.5,\n",
       " frozenset({'♢', '♣'}): 0.5,\n",
       " frozenset({'♠', '♡', '♢'}): 0.75,\n",
       " frozenset({'♠', '♡', '♣'}): 0.75,\n",
       " frozenset({'♠', '♢', '♣'}): 0.75,\n",
       " frozenset({'♡', '♢', '♣'}): 0.75,\n",
       " frozenset({'♠', '♡', '♢', '♣'}): 1}"
      ]
     },
     "execution_count": 63,
     "metadata": {},
     "output_type": "execute_result"
    }
   ],
   "source": [
    "P = {A1: 0, A2: 0.25, A3: 0.25, A4: 0.25, A5: 0.25, A6: 0.5, A7: 0.5, A8: 0.5, \n",
    "     A9: 0.5, A10: 0.5, A11: 0.5, A12: 0.75, A13: 0.75, A14: 0.75, A15: 0.75, A16: 1}\n",
    "P"
   ]
  },
  {
   "cell_type": "code",
   "execution_count": null,
   "metadata": {},
   "outputs": [],
   "source": []
  }
 ],
 "metadata": {
  "kernelspec": {
   "display_name": "Python 3",
   "language": "python",
   "name": "python3"
  },
  "language_info": {
   "codemirror_mode": {
    "name": "ipython",
    "version": 3
   },
   "file_extension": ".py",
   "mimetype": "text/x-python",
   "name": "python",
   "nbconvert_exporter": "python",
   "pygments_lexer": "ipython3",
   "version": "3.7.6"
  }
 },
 "nbformat": 4,
 "nbformat_minor": 4
}
