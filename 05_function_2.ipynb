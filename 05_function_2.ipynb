{
 "cells": [
  {
   "cell_type": "markdown",
   "metadata": {},
   "source": [
    "### Summary\n",
    "- 조건문\n",
    "    - if, else, elif\n",
    "    - 특정 조건에 따라서 코드를 실행하고 싶을 때 사용\n",
    "- 반복문\n",
    "    - while (True or False), for (iterable 데이터)\n",
    "    - 특정 코드를 반복적으로 실행시키고 싶을 때 사용\n",
    "    - continue (하위 코드를 무시하고 상위 블럭으로 이동), break (반복문 종료)"
   ]
  },
  {
   "cell_type": "code",
   "execution_count": 22,
   "metadata": {},
   "outputs": [
    {
     "name": "stdout",
     "output_type": "stream",
     "text": [
      "input sentence: python IS the best Language\n",
      "Python is the best language.\n"
     ]
    }
   ],
   "source": [
    "# 문장을 입력받아서 문법에 맞도록 결과를 출력하는 코드를 작성\n",
    "# 마지막 문자는 점이 있을 수도 있고 없을 수도 있습니다.\n",
    "# 논리적인 문제해결 순서 -> 코드로 변경\n",
    "# python IS the best Language / python IS the best Language.\n",
    "# Python is the best language.\n",
    "\n",
    "# 1. 문자열 입력 받기\n",
    "sentence = input(\"input sentence: \")\n",
    "\n",
    "# 2. 모두 소문자로 변경 & 가장 앞글자를 대문자로 변경\n",
    "result = sentence.lower().capitalize()\n",
    "\n",
    "# 3. 마지막 문자가 .인지 확인해서 .이 아니면 .를 추가\n",
    "if result.endswith(\".\"):\n",
    "    print (result)\n",
    "else:\n",
    "    print (result + \".\")"
   ]
  },
  {
   "cell_type": "code",
   "execution_count": 61,
   "metadata": {
    "scrolled": true
   },
   "outputs": [
    {
     "name": "stdout",
     "output_type": "stream",
     "text": [
      "[3, 23, 30, 36, 37, 39]\n"
     ]
    }
   ],
   "source": [
    "# 6자리의 로또번호를 생성하는 코드를 작성하세요.\n",
    "# 6자리의 번호는 중복 X\n",
    "# 문자열, 숫자, 리스트\n",
    "# 힌트: while, not in, in, append, break, len(), list.sort() 등 사용\n",
    "# 문제가 조금 복잡하면 간단한 기능부터 구현하고 업데이트 하는 방식으로 접근\n",
    "# 랜덤숫자 6개 출력 -> 숫자가 중복되지 않는 코드를 추가\n",
    "import random\n",
    "\n",
    "lotto = []\n",
    "data = 6\n",
    "while data:\n",
    "    num = random.randint(1, 45)\n",
    "    if num not in lotto:\n",
    "        lotto.append(num)\n",
    "    else:\n",
    "        continue\n",
    "    data -= 1\n",
    "lotto.sort()\n",
    "print(lotto)\n",
    "\n",
    "# 1-45 사이의 정수 랜덤 배정\n",
    "# 중복이 없도록 6번 "
   ]
  },
  {
   "cell_type": "markdown",
   "metadata": {},
   "source": [
    "- 함수\n",
    "    - 중복되는 코드를 묶어서 효율적으로 코드를 작성하기 위해 사용\n",
    "    - 기본함수 : 선언(def), 호출(func_name())\n",
    "    - argument, parameter, keyword arg, default parameter\n",
    "    - return\n",
    "    - `*args`, `**kwargs`"
   ]
  },
  {
   "cell_type": "markdown",
   "metadata": {},
   "source": [
    "### 함수 2\n",
    "- docstring\n",
    "- scope\n",
    "- inner function\n",
    "- lambda function\n",
    "- map, filter, reduce\n",
    "- decorator"
   ]
  },
  {
   "cell_type": "markdown",
   "metadata": {},
   "source": [
    "### 1. Docstring\n",
    "- 함수의 설명을 작성"
   ]
  },
  {
   "cell_type": "code",
   "execution_count": 65,
   "metadata": {},
   "outputs": [],
   "source": [
    "def echo(msg):\n",
    "    \"echo print msg\"\n",
    "    print(msg)"
   ]
  },
  {
   "cell_type": "code",
   "execution_count": 66,
   "metadata": {},
   "outputs": [
    {
     "data": {
      "text/plain": [
       "<function __main__.echo(msg)>"
      ]
     },
     "execution_count": 66,
     "metadata": {},
     "output_type": "execute_result"
    }
   ],
   "source": [
    "echo"
   ]
  },
  {
   "cell_type": "code",
   "execution_count": 67,
   "metadata": {},
   "outputs": [],
   "source": [
    "def echo(msg):\n",
    "    \"\"\"\n",
    "    echo func returns its input argument.\n",
    "    The operation is:\n",
    "        1. print msg\n",
    "        2. return msg parameter\n",
    "    parameter : msg : str\n",
    "    return : str\n",
    "    \"\"\"\n",
    "    print(msg)\n",
    "    return msg"
   ]
  },
  {
   "cell_type": "code",
   "execution_count": 73,
   "metadata": {},
   "outputs": [],
   "source": [
    "echo?"
   ]
  },
  {
   "cell_type": "code",
   "execution_count": 74,
   "metadata": {},
   "outputs": [],
   "source": [
    "echo??"
   ]
  },
  {
   "cell_type": "code",
   "execution_count": 75,
   "metadata": {
    "scrolled": true
   },
   "outputs": [
    {
     "name": "stdout",
     "output_type": "stream",
     "text": [
      "Help on function echo in module __main__:\n",
      "\n",
      "echo(msg)\n",
      "    echo func returns its input argument.\n",
      "    The operation is:\n",
      "        1. print msg\n",
      "        2. return msg parameter\n",
      "    parameter : msg : str\n",
      "    return : str\n",
      "\n"
     ]
    }
   ],
   "source": [
    "help(echo)"
   ]
  },
  {
   "cell_type": "code",
   "execution_count": 76,
   "metadata": {},
   "outputs": [
    {
     "name": "stdout",
     "output_type": "stream",
     "text": [
      "\n",
      "    echo func returns its input argument.\n",
      "    The operation is:\n",
      "        1. print msg\n",
      "        2. return msg parameter\n",
      "    parameter : msg : str\n",
      "    return : str\n",
      "    \n"
     ]
    }
   ],
   "source": [
    "print(echo.__doc__)"
   ]
  },
  {
   "cell_type": "markdown",
   "metadata": {},
   "source": [
    "### 2. Scope (범위)\n",
    "- 함수 안에서 선언되는 변수와 함수 밖에서 선언되는 변수의 범위가 다릅니다.\n",
    "- global(전역), local(지역)\n",
    "- 전역변수는 안쓸수록 더 효율적이다 (함수 사용 여부에 상관없이 메모리를 잡아먹기 때문이다)"
   ]
  },
  {
   "cell_type": "code",
   "execution_count": 86,
   "metadata": {},
   "outputs": [
    {
     "name": "stdout",
     "output_type": "stream",
     "text": [
      "10\n"
     ]
    },
    {
     "data": {
      "text/plain": [
       "10"
      ]
     },
     "execution_count": 86,
     "metadata": {},
     "output_type": "execute_result"
    }
   ],
   "source": [
    "# global\n",
    "gv = 10\n",
    "\n",
    "def echo():\n",
    "    print(gv)    # local 영역에 gv가 없기 때문에 global 영역에서 gv를 찾아와서 대입한다\n",
    "    \n",
    "echo()\n",
    "gv"
   ]
  },
  {
   "cell_type": "code",
   "execution_count": 88,
   "metadata": {
    "scrolled": true
   },
   "outputs": [
    {
     "name": "stdout",
     "output_type": "stream",
     "text": [
      "100\n"
     ]
    },
    {
     "data": {
      "text/plain": [
       "10"
      ]
     },
     "execution_count": 88,
     "metadata": {},
     "output_type": "execute_result"
    }
   ],
   "source": [
    "# local\n",
    "gv = 10\n",
    "\n",
    "def echo():\n",
    "    gv = 100    # local 영역에 gv의 값이 선언되어 local 기준으로 대입된다\n",
    "    print(gv)\n",
    "    \n",
    "echo()\n",
    "gv # 100"
   ]
  },
  {
   "cell_type": "code",
   "execution_count": 89,
   "metadata": {},
   "outputs": [
    {
     "name": "stdout",
     "output_type": "stream",
     "text": [
      "100\n"
     ]
    },
    {
     "data": {
      "text/plain": [
       "100"
      ]
     },
     "execution_count": 89,
     "metadata": {},
     "output_type": "execute_result"
    }
   ],
   "source": [
    "gv = 10\n",
    "\n",
    "def echo():\n",
    "    global gv    # global 영역의 gv 사용한다고 명시했기 때문에 global 기준으로 대입된다\n",
    "    gv = 100\n",
    "    print(gv)\n",
    "    \n",
    "echo()\n",
    "gv # 100"
   ]
  },
  {
   "cell_type": "markdown",
   "metadata": {},
   "source": [
    "### 3. Inner Function\n",
    "- 함수가 지역 영역에 선언, 함수 안에 함수 선언"
   ]
  },
  {
   "cell_type": "code",
   "execution_count": 90,
   "metadata": {},
   "outputs": [],
   "source": [
    "def outer(a, b):\n",
    "    \n",
    "    def inner(c, d):\n",
    "        return c + d\n",
    "    \n",
    "    return inner(a, b)"
   ]
  },
  {
   "cell_type": "code",
   "execution_count": 91,
   "metadata": {},
   "outputs": [
    {
     "data": {
      "text/plain": [
       "3"
      ]
     },
     "execution_count": 91,
     "metadata": {},
     "output_type": "execute_result"
    }
   ],
   "source": [
    "outer(1, 2)"
   ]
  },
  {
   "cell_type": "code",
   "execution_count": 92,
   "metadata": {},
   "outputs": [
    {
     "ename": "NameError",
     "evalue": "name 'inner' is not defined",
     "output_type": "error",
     "traceback": [
      "\u001b[1;31m---------------------------------------------------------------------------\u001b[0m",
      "\u001b[1;31mNameError\u001b[0m                                 Traceback (most recent call last)",
      "\u001b[1;32m<ipython-input-92-468e0d571ba5>\u001b[0m in \u001b[0;36m<module>\u001b[1;34m\u001b[0m\n\u001b[1;32m----> 1\u001b[1;33m \u001b[0minner\u001b[0m\u001b[1;33m(\u001b[0m\u001b[1;36m2\u001b[0m\u001b[1;33m,\u001b[0m \u001b[1;36m3\u001b[0m\u001b[1;33m)\u001b[0m\u001b[1;33m\u001b[0m\u001b[1;33m\u001b[0m\u001b[0m\n\u001b[0m",
      "\u001b[1;31mNameError\u001b[0m: name 'inner' is not defined"
     ]
    }
   ],
   "source": [
    "# 지역함수는 전역 영역에서 사용 불가\n",
    "# 익명함수라고도 함\n",
    "inner(2, 3)"
   ]
  },
  {
   "cell_type": "code",
   "execution_count": 100,
   "metadata": {},
   "outputs": [],
   "source": [
    "def outer(a, b):\n",
    "    \n",
    "    def inner(c, d):\n",
    "        print(a, b)\n",
    "        return c + d\n",
    "    \n",
    "    return inner"
   ]
  },
  {
   "cell_type": "code",
   "execution_count": 101,
   "metadata": {},
   "outputs": [
    {
     "name": "stdout",
     "output_type": "stream",
     "text": [
      "1 2\n"
     ]
    },
    {
     "data": {
      "text/plain": [
       "7"
      ]
     },
     "execution_count": 101,
     "metadata": {},
     "output_type": "execute_result"
    }
   ],
   "source": [
    "outer(1, 2)(3, 4)    # inner(3, 4)와 동일"
   ]
  },
  {
   "cell_type": "code",
   "execution_count": 106,
   "metadata": {},
   "outputs": [],
   "source": [
    "def inner(c, d):\n",
    "    return c + d\n",
    "\n",
    "def outer(a, b):    \n",
    "    return inner"
   ]
  },
  {
   "cell_type": "code",
   "execution_count": 107,
   "metadata": {},
   "outputs": [
    {
     "data": {
      "text/plain": [
       "7"
      ]
     },
     "execution_count": 107,
     "metadata": {},
     "output_type": "execute_result"
    }
   ],
   "source": [
    "outer(1, 2)(3, 4)"
   ]
  },
  {
   "cell_type": "code",
   "execution_count": 108,
   "metadata": {},
   "outputs": [],
   "source": [
    "# callback function : 함수를 아규먼트 파라미터로 설정해서 사용 (함수를 호출했는데 그 안에서 또 함수를 호출하는 상황)"
   ]
  },
  {
   "cell_type": "code",
   "execution_count": 120,
   "metadata": {},
   "outputs": [],
   "source": [
    "def calc(func, a, b):\n",
    "    # code\n",
    "    a **= 2\n",
    "    b **= 2\n",
    "    return func(a, b)"
   ]
  },
  {
   "cell_type": "code",
   "execution_count": 121,
   "metadata": {},
   "outputs": [],
   "source": [
    "def plus(a, b):\n",
    "    return a + b"
   ]
  },
  {
   "cell_type": "code",
   "execution_count": 122,
   "metadata": {},
   "outputs": [],
   "source": [
    "def minus(a, b):\n",
    "    return a - b"
   ]
  },
  {
   "cell_type": "code",
   "execution_count": 123,
   "metadata": {},
   "outputs": [
    {
     "data": {
      "text/plain": [
       "5"
      ]
     },
     "execution_count": 123,
     "metadata": {},
     "output_type": "execute_result"
    }
   ],
   "source": [
    "calc(plus, 1, 2)    # 덧셈"
   ]
  },
  {
   "cell_type": "code",
   "execution_count": 124,
   "metadata": {},
   "outputs": [
    {
     "data": {
      "text/plain": [
       "-3"
      ]
     },
     "execution_count": 124,
     "metadata": {},
     "output_type": "execute_result"
    }
   ],
   "source": [
    "calc(minus, 1, 2)   # 뺄셈"
   ]
  },
  {
   "cell_type": "markdown",
   "metadata": {},
   "source": [
    "### 4. lambda function\n",
    "- 파라미터를 간단한 계산으로 리턴하는 함수 : 삼항연산과 비슷함"
   ]
  },
  {
   "cell_type": "code",
   "execution_count": 131,
   "metadata": {},
   "outputs": [
    {
     "data": {
      "text/plain": [
       "3"
      ]
     },
     "execution_count": 131,
     "metadata": {},
     "output_type": "execute_result"
    }
   ],
   "source": [
    "def plus(a, b):\n",
    "    return a + b\n",
    "\n",
    "plus(1, 2)"
   ]
  },
  {
   "cell_type": "code",
   "execution_count": 132,
   "metadata": {},
   "outputs": [
    {
     "data": {
      "text/plain": [
       "5"
      ]
     },
     "execution_count": 132,
     "metadata": {},
     "output_type": "execute_result"
    }
   ],
   "source": [
    "plus2 = lambda a, b: a + b    # parameter : return\n",
    "plus2(2, 3)"
   ]
  },
  {
   "cell_type": "code",
   "execution_count": 134,
   "metadata": {},
   "outputs": [
    {
     "data": {
      "text/plain": [
       "144"
      ]
     },
     "execution_count": 134,
     "metadata": {},
     "output_type": "execute_result"
    }
   ],
   "source": [
    "# calc(func, a, b)\n",
    "calc(lambda a, b: a * b, 3, 4)"
   ]
  },
  {
   "cell_type": "code",
   "execution_count": 135,
   "metadata": {},
   "outputs": [
    {
     "data": {
      "text/plain": [
       "25"
      ]
     },
     "execution_count": 135,
     "metadata": {},
     "output_type": "execute_result"
    }
   ],
   "source": [
    "calc(plus, 3, 4)"
   ]
  },
  {
   "cell_type": "markdown",
   "metadata": {},
   "source": [
    "### 5. Map, Filter, Reduce\n",
    "- map : 순서가 있는 데이터 집합에서 모든 값에 함수를 적용시킨 결과를 출력해주는 함수\n",
    "- filter : 리스트 데이터에서 특정 조건에 맞는 value 값만 남기는 함수\n",
    "- reduce : 리스트 데이터를 처음부터 순서대로 특정 함수를 실행하여 결과를 누적시켜주는 함수"
   ]
  },
  {
   "cell_type": "markdown",
   "metadata": {},
   "source": [
    "##### map"
   ]
  },
  {
   "cell_type": "code",
   "execution_count": 154,
   "metadata": {},
   "outputs": [
    {
     "data": {
      "text/plain": [
       "('odd', 'even')"
      ]
     },
     "execution_count": 154,
     "metadata": {},
     "output_type": "execute_result"
    }
   ],
   "source": [
    "ls = [1, 2, 3, 4]\n",
    "\n",
    "def odd_even(num):\n",
    "    return \"odd\" if num % 2 else \"even\"\n",
    "\n",
    "odd_even(3), odd_even(4)"
   ]
  },
  {
   "cell_type": "code",
   "execution_count": 142,
   "metadata": {},
   "outputs": [
    {
     "data": {
      "text/plain": [
       "['odd', 'even', 'odd', 'even']"
      ]
     },
     "execution_count": 142,
     "metadata": {},
     "output_type": "execute_result"
    }
   ],
   "source": [
    "list(map(odd_even, ls))"
   ]
  },
  {
   "cell_type": "code",
   "execution_count": 143,
   "metadata": {},
   "outputs": [],
   "source": [
    "# input 함수로 구분자는 \" \"으로 여러 개의 숫자를 입력받습니다.\n",
    "# str.split(\" \") 리스트로 만들고\n",
    "# 만들어진 리스트의 값들을 int로 형변환"
   ]
  },
  {
   "cell_type": "code",
   "execution_count": 144,
   "metadata": {},
   "outputs": [
    {
     "name": "stdout",
     "output_type": "stream",
     "text": [
      "insert numbers: 10 20 30 40 10 20 15\n"
     ]
    }
   ],
   "source": [
    "data = input(\"insert numbers: \")"
   ]
  },
  {
   "cell_type": "code",
   "execution_count": 148,
   "metadata": {},
   "outputs": [
    {
     "data": {
      "text/plain": [
       "['10', '20', '30', '40', '10', '20', '15']"
      ]
     },
     "execution_count": 148,
     "metadata": {},
     "output_type": "execute_result"
    }
   ],
   "source": [
    "result = data.split(\" \")\n",
    "result"
   ]
  },
  {
   "cell_type": "code",
   "execution_count": 150,
   "metadata": {},
   "outputs": [
    {
     "data": {
      "text/plain": [
       "[10, 20, 30, 40, 10, 20, 15]"
      ]
     },
     "execution_count": 150,
     "metadata": {},
     "output_type": "execute_result"
    }
   ],
   "source": [
    "result = list(map(int, result))\n",
    "result"
   ]
  },
  {
   "cell_type": "markdown",
   "metadata": {},
   "source": [
    "##### filter"
   ]
  },
  {
   "cell_type": "code",
   "execution_count": 2,
   "metadata": {},
   "outputs": [
    {
     "data": {
      "text/plain": [
       "[0, 1, 2, 3, 4, 5, 6, 7, 8, 9]"
      ]
     },
     "execution_count": 2,
     "metadata": {},
     "output_type": "execute_result"
    }
   ],
   "source": [
    "ls = range(10)\n",
    "list(ls)"
   ]
  },
  {
   "cell_type": "code",
   "execution_count": 153,
   "metadata": {},
   "outputs": [
    {
     "data": {
      "text/plain": [
       "[1, 3, 5, 7, 9]"
      ]
     },
     "execution_count": 153,
     "metadata": {},
     "output_type": "execute_result"
    }
   ],
   "source": [
    "# 홀수만 출력\n",
    "list(filter(lambda data: True if data % 2 else False, ls))"
   ]
  },
  {
   "cell_type": "markdown",
   "metadata": {},
   "source": [
    "##### reduce"
   ]
  },
  {
   "cell_type": "code",
   "execution_count": 155,
   "metadata": {},
   "outputs": [],
   "source": [
    "from functools import reduce"
   ]
  },
  {
   "cell_type": "code",
   "execution_count": 157,
   "metadata": {},
   "outputs": [
    {
     "data": {
      "text/plain": [
       "15"
      ]
     },
     "execution_count": 157,
     "metadata": {},
     "output_type": "execute_result"
    }
   ],
   "source": [
    "ls = [3, 1, 2, 4, 5]\n",
    "reduce(lambda x, y: x + y, ls)"
   ]
  },
  {
   "cell_type": "markdown",
   "metadata": {},
   "source": [
    "#### 6. Decorator"
   ]
  },
  {
   "cell_type": "markdown",
   "metadata": {},
   "source": [
    "- 함수에서 코드를 바꾸지 않고 기능을 추가하거나 수정하고 싶을 때 사용하는 문법\n",
    "```\n",
    "def a():\n",
    "    code_1\n",
    "    code_2\n",
    "    code_3\n",
    "    \n",
    "def b():\n",
    "    code_1\n",
    "    code_4\n",
    "    code_3\n",
    "```\n",
    "- code_1과 code_3이 동일한데 더 좋은 방법은 없을까?"
   ]
  },
  {
   "cell_type": "markdown",
   "metadata": {},
   "source": [
    "- 데코레이터의 사용\n",
    "```\n",
    "def c(func):\n",
    " \n",
    "    def wrapper(*args, **kwargs):\n",
    "        code_1\n",
    "        result = func(*args, **kwargs)\n",
    "        code_3\n",
    "        return result\n",
    "    \n",
    "    return wrapper\n",
    "\n",
    "@c            # @로 데코레이터 함수 실행\n",
    "def a():      # a 함수가 func로 대입되며 c가 실행됨\n",
    "    code_2    # a 함수가 wrapper 함수로 대체됨\n",
    "\n",
    "@c\n",
    "def b():\n",
    "    code_4\n",
    "```"
   ]
  },
  {
   "cell_type": "code",
   "execution_count": 164,
   "metadata": {},
   "outputs": [],
   "source": [
    "# a\n",
    "def plus(a, b):\n",
    "    print(\"start\")                          # code 1\n",
    "    result = a + b                          # code 2\n",
    "    print(\"result: {}\".format(result))      # code 3\n",
    "    return result"
   ]
  },
  {
   "cell_type": "code",
   "execution_count": 165,
   "metadata": {},
   "outputs": [],
   "source": [
    "# b\n",
    "def minus(a, b):\n",
    "    print(\"start\")                          # code 1\n",
    "    result = a - b                          # code 4\n",
    "    print(\"result: {}\".format(result))      # code 3\n",
    "    return result"
   ]
  },
  {
   "cell_type": "code",
   "execution_count": 168,
   "metadata": {},
   "outputs": [],
   "source": [
    "# c\n",
    "def disp(func):\n",
    "    \n",
    "    def wrapper(*args, **kwargs):\n",
    "        print(\"start\")                      # code 1\n",
    "        result = func(*args, **kwargs)      # code 2, code 4\n",
    "        print(\"result: {}\".format(result))  # code 3\n",
    "        return result\n",
    "    \n",
    "    return wrapper"
   ]
  },
  {
   "cell_type": "code",
   "execution_count": 169,
   "metadata": {},
   "outputs": [
    {
     "name": "stdout",
     "output_type": "stream",
     "text": [
      "start\n",
      "result: 3\n"
     ]
    },
    {
     "data": {
      "text/plain": [
       "3"
      ]
     },
     "execution_count": 169,
     "metadata": {},
     "output_type": "execute_result"
    }
   ],
   "source": [
    "plus(1, 2)"
   ]
  },
  {
   "cell_type": "code",
   "execution_count": 170,
   "metadata": {},
   "outputs": [],
   "source": [
    "@disp\n",
    "def plus(a, b):\n",
    "    result = a + b                          # code 2\n",
    "    return result"
   ]
  },
  {
   "cell_type": "code",
   "execution_count": 171,
   "metadata": {},
   "outputs": [
    {
     "name": "stdout",
     "output_type": "stream",
     "text": [
      "start\n",
      "result: 3\n"
     ]
    },
    {
     "data": {
      "text/plain": [
       "3"
      ]
     },
     "execution_count": 171,
     "metadata": {},
     "output_type": "execute_result"
    }
   ],
   "source": [
    "plus(1, 2)"
   ]
  },
  {
   "cell_type": "code",
   "execution_count": 172,
   "metadata": {},
   "outputs": [],
   "source": [
    "@disp\n",
    "def minus(a, b):\n",
    "    result = a - b                          # code 4\n",
    "    return result"
   ]
  },
  {
   "cell_type": "code",
   "execution_count": 173,
   "metadata": {},
   "outputs": [
    {
     "name": "stdout",
     "output_type": "stream",
     "text": [
      "start\n",
      "result: -1\n"
     ]
    },
    {
     "data": {
      "text/plain": [
       "-1"
      ]
     },
     "execution_count": 173,
     "metadata": {},
     "output_type": "execute_result"
    }
   ],
   "source": [
    "minus(1, 2)"
   ]
  },
  {
   "cell_type": "markdown",
   "metadata": {},
   "source": [
    "##### Example\n",
    "- 함수의 실행 시간을 출력하는 데코레이터 함수를 작성하세요."
   ]
  },
  {
   "cell_type": "code",
   "execution_count": 174,
   "metadata": {},
   "outputs": [],
   "source": [
    "import time"
   ]
  },
  {
   "cell_type": "code",
   "execution_count": 175,
   "metadata": {},
   "outputs": [],
   "source": [
    "def timer(func):\n",
    "    def wrapper(*args, **kwargs):\n",
    "        start_time = time.time()          # code 1\n",
    "        result = func(*args, **kwargs)    # code 2, code 4\n",
    "        end_time = time.time()            # code 3\n",
    "        print(\"running time: {}\".format(end_time - start_time))    # code 3\n",
    "        return result\n",
    "    return wrapper"
   ]
  },
  {
   "cell_type": "code",
   "execution_count": 186,
   "metadata": {},
   "outputs": [],
   "source": [
    "@timer\n",
    "def test1(num1, num2):\n",
    "    data = range(num1, num2 + 1)\n",
    "    return sum(data)\n",
    "\n",
    "@timer\n",
    "def test2(num1, num2):\n",
    "    result = 0\n",
    "    for num in range(num1, num2 + 1):\n",
    "        result += num\n",
    "    return result"
   ]
  },
  {
   "cell_type": "code",
   "execution_count": 187,
   "metadata": {},
   "outputs": [
    {
     "name": "stdout",
     "output_type": "stream",
     "text": [
      "running time: 0.003501415252685547\n"
     ]
    },
    {
     "data": {
      "text/plain": [
       "5000050000"
      ]
     },
     "execution_count": 187,
     "metadata": {},
     "output_type": "execute_result"
    }
   ],
   "source": [
    "test1(1, 100000)"
   ]
  },
  {
   "cell_type": "code",
   "execution_count": 188,
   "metadata": {},
   "outputs": [
    {
     "name": "stdout",
     "output_type": "stream",
     "text": [
      "running time: 0.012151718139648438\n"
     ]
    },
    {
     "data": {
      "text/plain": [
       "5000050000"
      ]
     },
     "execution_count": 188,
     "metadata": {},
     "output_type": "execute_result"
    }
   ],
   "source": [
    "test2(1, 100000)"
   ]
  },
  {
   "cell_type": "code",
   "execution_count": 189,
   "metadata": {},
   "outputs": [],
   "source": [
    "# 패스워드를 입력 받아야 함수가 실행되도록 하는 데코레이터 작성"
   ]
  },
  {
   "cell_type": "code",
   "execution_count": 192,
   "metadata": {},
   "outputs": [],
   "source": [
    "def check_password(func):\n",
    "    def wrapper(*args, **kwargs):\n",
    "        pw = \"dss11\"\n",
    "        # check password\n",
    "        input_pw = input(\"insert pw: \")\n",
    "        if input_pw == pw:\n",
    "            result = func(*args, **kwargs)\n",
    "        else:\n",
    "            result = \"not allowed!\"\n",
    "        return result\n",
    "    return wrapper"
   ]
  },
  {
   "cell_type": "code",
   "execution_count": 199,
   "metadata": {},
   "outputs": [],
   "source": [
    "@check_password\n",
    "def plus(a, b):\n",
    "    return a + b"
   ]
  },
  {
   "cell_type": "code",
   "execution_count": 201,
   "metadata": {},
   "outputs": [
    {
     "name": "stdout",
     "output_type": "stream",
     "text": [
      "insert pw: \n"
     ]
    },
    {
     "data": {
      "text/plain": [
       "'not allowed!'"
      ]
     },
     "execution_count": 201,
     "metadata": {},
     "output_type": "execute_result"
    }
   ],
   "source": [
    "plus(1, 2)"
   ]
  },
  {
   "cell_type": "code",
   "execution_count": 206,
   "metadata": {},
   "outputs": [],
   "source": [
    "@check_password\n",
    "def lotto_func():\n",
    "    lotto = []\n",
    "    while True:\n",
    "        number = random.randint(1, 45)\n",
    "        if number not in lotto:\n",
    "            lotto.append(number)\n",
    "        if len(lotto) >= 6:\n",
    "            lotto.sort()\n",
    "            break\n",
    "    return lotto"
   ]
  },
  {
   "cell_type": "code",
   "execution_count": 207,
   "metadata": {},
   "outputs": [
    {
     "name": "stdout",
     "output_type": "stream",
     "text": [
      "insert pw: dss11\n"
     ]
    },
    {
     "data": {
      "text/plain": [
       "[2, 6, 13, 22, 31, 45]"
      ]
     },
     "execution_count": 207,
     "metadata": {},
     "output_type": "execute_result"
    }
   ],
   "source": [
    "lotto_func()"
   ]
  }
 ],
 "metadata": {
  "kernelspec": {
   "display_name": "Python 3",
   "language": "python",
   "name": "python3"
  },
  "language_info": {
   "codemirror_mode": {
    "name": "ipython",
    "version": 3
   },
   "file_extension": ".py",
   "mimetype": "text/x-python",
   "name": "python",
   "nbconvert_exporter": "python",
   "pygments_lexer": "ipython3",
   "version": "3.7.6"
  }
 },
 "nbformat": 4,
 "nbformat_minor": 4
}
