{
 "cells": [
  {
   "cell_type": "markdown",
   "metadata": {},
   "source": [
    "#### patsy 패키지 소개"
   ]
  },
  {
   "cell_type": "code",
   "execution_count": 1,
   "metadata": {},
   "outputs": [],
   "source": [
    "from patsy import *"
   ]
  },
  {
   "cell_type": "code",
   "execution_count": 2,
   "metadata": {},
   "outputs": [
    {
     "data": {
      "text/html": [
       "<div>\n",
       "<style scoped>\n",
       "    .dataframe tbody tr th:only-of-type {\n",
       "        vertical-align: middle;\n",
       "    }\n",
       "\n",
       "    .dataframe tbody tr th {\n",
       "        vertical-align: top;\n",
       "    }\n",
       "\n",
       "    .dataframe thead th {\n",
       "        text-align: right;\n",
       "    }\n",
       "</style>\n",
       "<table border=\"1\" class=\"dataframe\">\n",
       "  <thead>\n",
       "    <tr style=\"text-align: right;\">\n",
       "      <th></th>\n",
       "      <th>x1</th>\n",
       "      <th>x2</th>\n",
       "      <th>y</th>\n",
       "    </tr>\n",
       "  </thead>\n",
       "  <tbody>\n",
       "    <tr>\n",
       "      <th>0</th>\n",
       "      <td>1.764052</td>\n",
       "      <td>-0.977278</td>\n",
       "      <td>0.144044</td>\n",
       "    </tr>\n",
       "    <tr>\n",
       "      <th>1</th>\n",
       "      <td>0.400157</td>\n",
       "      <td>0.950088</td>\n",
       "      <td>1.454274</td>\n",
       "    </tr>\n",
       "    <tr>\n",
       "      <th>2</th>\n",
       "      <td>0.978738</td>\n",
       "      <td>-0.151357</td>\n",
       "      <td>0.761038</td>\n",
       "    </tr>\n",
       "    <tr>\n",
       "      <th>3</th>\n",
       "      <td>2.240893</td>\n",
       "      <td>-0.103219</td>\n",
       "      <td>0.121675</td>\n",
       "    </tr>\n",
       "    <tr>\n",
       "      <th>4</th>\n",
       "      <td>1.867558</td>\n",
       "      <td>0.410599</td>\n",
       "      <td>0.443863</td>\n",
       "    </tr>\n",
       "  </tbody>\n",
       "</table>\n",
       "</div>"
      ],
      "text/plain": [
       "         x1        x2         y\n",
       "0  1.764052 -0.977278  0.144044\n",
       "1  0.400157  0.950088  1.454274\n",
       "2  0.978738 -0.151357  0.761038\n",
       "3  2.240893 -0.103219  0.121675\n",
       "4  1.867558  0.410599  0.443863"
      ]
     },
     "execution_count": 2,
     "metadata": {},
     "output_type": "execute_result"
    }
   ],
   "source": [
    "df = pd.DataFrame(demo_data('x1', 'x2', 'y'))\n",
    "df"
   ]
  },
  {
   "cell_type": "code",
   "execution_count": 3,
   "metadata": {},
   "outputs": [
    {
     "data": {
      "text/plain": [
       "DesignMatrix with shape (5, 2)\n",
       "  Intercept       x1\n",
       "          1  1.76405\n",
       "          1  0.40016\n",
       "          1  0.97874\n",
       "          1  2.24089\n",
       "          1  1.86756\n",
       "  Terms:\n",
       "    'Intercept' (column 0)\n",
       "    'x1' (column 1)"
      ]
     },
     "execution_count": 3,
     "metadata": {},
     "output_type": "execute_result"
    }
   ],
   "source": [
    "dmatrix(\"x1\", df)"
   ]
  },
  {
   "cell_type": "markdown",
   "metadata": {},
   "source": [
    "#### R-style formula 연산자"
   ]
  },
  {
   "cell_type": "code",
   "execution_count": 5,
   "metadata": {},
   "outputs": [
    {
     "data": {
      "text/plain": [
       "DesignMatrix with shape (5, 1)\n",
       "       x1\n",
       "  1.76405\n",
       "  0.40016\n",
       "  0.97874\n",
       "  2.24089\n",
       "  1.86756\n",
       "  Terms:\n",
       "    'x1' (column 0)"
      ]
     },
     "execution_count": 5,
     "metadata": {},
     "output_type": "execute_result"
    }
   ],
   "source": [
    "dmatrix(\"x1 - 1\", df)"
   ]
  },
  {
   "cell_type": "code",
   "execution_count": 6,
   "metadata": {},
   "outputs": [
    {
     "data": {
      "text/plain": [
       "DesignMatrix with shape (5, 1)\n",
       "       x1\n",
       "  1.76405\n",
       "  0.40016\n",
       "  0.97874\n",
       "  2.24089\n",
       "  1.86756\n",
       "  Terms:\n",
       "    'x1' (column 0)"
      ]
     },
     "execution_count": 6,
     "metadata": {},
     "output_type": "execute_result"
    }
   ],
   "source": [
    "dmatrix(\"x1 + 0\", df)"
   ]
  },
  {
   "cell_type": "code",
   "execution_count": 7,
   "metadata": {},
   "outputs": [
    {
     "data": {
      "text/plain": [
       "DesignMatrix with shape (5, 3)\n",
       "  Intercept       x1        x2\n",
       "          1  1.76405  -0.97728\n",
       "          1  0.40016   0.95009\n",
       "          1  0.97874  -0.15136\n",
       "          1  2.24089  -0.10322\n",
       "          1  1.86756   0.41060\n",
       "  Terms:\n",
       "    'Intercept' (column 0)\n",
       "    'x1' (column 1)\n",
       "    'x2' (column 2)"
      ]
     },
     "execution_count": 7,
     "metadata": {},
     "output_type": "execute_result"
    }
   ],
   "source": [
    "dmatrix(\"x1 + x2\", df)"
   ]
  },
  {
   "cell_type": "code",
   "execution_count": 8,
   "metadata": {},
   "outputs": [
    {
     "data": {
      "text/plain": [
       "DesignMatrix with shape (5, 2)\n",
       "       x1        x2\n",
       "  1.76405  -0.97728\n",
       "  0.40016   0.95009\n",
       "  0.97874  -0.15136\n",
       "  2.24089  -0.10322\n",
       "  1.86756   0.41060\n",
       "  Terms:\n",
       "    'x1' (column 0)\n",
       "    'x2' (column 1)"
      ]
     },
     "execution_count": 8,
     "metadata": {},
     "output_type": "execute_result"
    }
   ],
   "source": [
    "dmatrix(\"x1 + x2 - 1\", df)"
   ]
  },
  {
   "cell_type": "code",
   "execution_count": 9,
   "metadata": {},
   "outputs": [
    {
     "data": {
      "text/plain": [
       "DesignMatrix with shape (5, 4)\n",
       "  Intercept       x1        x2     x1:x2\n",
       "          1  1.76405  -0.97728  -1.72397\n",
       "          1  0.40016   0.95009   0.38018\n",
       "          1  0.97874  -0.15136  -0.14814\n",
       "          1  2.24089  -0.10322  -0.23130\n",
       "          1  1.86756   0.41060   0.76682\n",
       "  Terms:\n",
       "    'Intercept' (column 0)\n",
       "    'x1' (column 1)\n",
       "    'x2' (column 2)\n",
       "    'x1:x2' (column 3)"
      ]
     },
     "execution_count": 9,
     "metadata": {},
     "output_type": "execute_result"
    }
   ],
   "source": [
    "dmatrix(\"x1 + x2 + x1:x2\", df)"
   ]
  },
  {
   "cell_type": "code",
   "execution_count": 10,
   "metadata": {},
   "outputs": [
    {
     "data": {
      "text/plain": [
       "DesignMatrix with shape (5, 4)\n",
       "  Intercept       x1        x2     x1:x2\n",
       "          1  1.76405  -0.97728  -1.72397\n",
       "          1  0.40016   0.95009   0.38018\n",
       "          1  0.97874  -0.15136  -0.14814\n",
       "          1  2.24089  -0.10322  -0.23130\n",
       "          1  1.86756   0.41060   0.76682\n",
       "  Terms:\n",
       "    'Intercept' (column 0)\n",
       "    'x1' (column 1)\n",
       "    'x2' (column 2)\n",
       "    'x1:x2' (column 3)"
      ]
     },
     "execution_count": 10,
     "metadata": {},
     "output_type": "execute_result"
    }
   ],
   "source": [
    "dmatrix(\"x1 * x2\", df)"
   ]
  },
  {
   "cell_type": "code",
   "execution_count": 11,
   "metadata": {},
   "outputs": [
    {
     "data": {
      "text/plain": [
       "DesignMatrix with shape (5, 3)\n",
       "  Intercept       x1     x1:x2\n",
       "          1  1.76405  -1.72397\n",
       "          1  0.40016   0.38018\n",
       "          1  0.97874  -0.14814\n",
       "          1  2.24089  -0.23130\n",
       "          1  1.86756   0.76682\n",
       "  Terms:\n",
       "    'Intercept' (column 0)\n",
       "    'x1' (column 1)\n",
       "    'x1:x2' (column 2)"
      ]
     },
     "execution_count": 11,
     "metadata": {},
     "output_type": "execute_result"
    }
   ],
   "source": [
    "dmatrix(\"x1 / x2\", df)"
   ]
  },
  {
   "cell_type": "markdown",
   "metadata": {},
   "source": [
    "#### 수학 변환"
   ]
  },
  {
   "cell_type": "code",
   "execution_count": 12,
   "metadata": {},
   "outputs": [
    {
     "data": {
      "text/plain": [
       "DesignMatrix with shape (5, 3)\n",
       "  Intercept       x1  np.log(np.abs(x2))\n",
       "          1  1.76405            -0.02298\n",
       "          1  0.40016            -0.05120\n",
       "          1  0.97874            -1.88811\n",
       "          1  2.24089            -2.27090\n",
       "          1  1.86756            -0.89014\n",
       "  Terms:\n",
       "    'Intercept' (column 0)\n",
       "    'x1' (column 1)\n",
       "    'np.log(np.abs(x2))' (column 2)"
      ]
     },
     "execution_count": 12,
     "metadata": {},
     "output_type": "execute_result"
    }
   ],
   "source": [
    "dmatrix(\"x1 + np.log(np.abs(x2))\", df)"
   ]
  },
  {
   "cell_type": "code",
   "execution_count": 13,
   "metadata": {},
   "outputs": [
    {
     "data": {
      "text/plain": [
       "DesignMatrix with shape (5, 2)\n",
       "  Intercept  doubleit(x1)\n",
       "          1       3.52810\n",
       "          1       0.80031\n",
       "          1       1.95748\n",
       "          1       4.48179\n",
       "          1       3.73512\n",
       "  Terms:\n",
       "    'Intercept' (column 0)\n",
       "    'doubleit(x1)' (column 1)"
      ]
     },
     "execution_count": 13,
     "metadata": {},
     "output_type": "execute_result"
    }
   ],
   "source": [
    "def doubleit(x):\n",
    "    return 2 * x\n",
    "\n",
    "dmatrix(\"doubleit(x1)\", df)"
   ]
  },
  {
   "cell_type": "markdown",
   "metadata": {},
   "source": [
    "#### 상태 보존 변환"
   ]
  },
  {
   "cell_type": "code",
   "execution_count": 14,
   "metadata": {},
   "outputs": [
    {
     "data": {
      "text/plain": [
       "DesignMatrix with shape (5, 2)\n",
       "  Intercept  center(x1)\n",
       "          1     0.31377\n",
       "          1    -1.05012\n",
       "          1    -0.47154\n",
       "          1     0.79061\n",
       "          1     0.41728\n",
       "  Terms:\n",
       "    'Intercept' (column 0)\n",
       "    'center(x1)' (column 1)"
      ]
     },
     "execution_count": 14,
     "metadata": {},
     "output_type": "execute_result"
    }
   ],
   "source": [
    "dm = dmatrix(\"center(x1)\", df)\n",
    "dm"
   ]
  },
  {
   "cell_type": "code",
   "execution_count": 15,
   "metadata": {},
   "outputs": [
    {
     "data": {
      "text/plain": [
       "0    0.313773\n",
       "1   -1.050123\n",
       "2   -0.471542\n",
       "3    0.790613\n",
       "4    0.417278\n",
       "Name: x1, dtype: float64"
      ]
     },
     "execution_count": 15,
     "metadata": {},
     "output_type": "execute_result"
    }
   ],
   "source": [
    "df.x1 - np.mean(df.x1)"
   ]
  },
  {
   "cell_type": "code",
   "execution_count": 16,
   "metadata": {},
   "outputs": [
    {
     "data": {
      "text/plain": [
       "patsy.design_info.DesignInfo"
      ]
     },
     "execution_count": 16,
     "metadata": {},
     "output_type": "execute_result"
    }
   ],
   "source": [
    "type(dm.design_info)"
   ]
  },
  {
   "cell_type": "code",
   "execution_count": 17,
   "metadata": {},
   "outputs": [
    {
     "data": {
      "text/html": [
       "<div>\n",
       "<style scoped>\n",
       "    .dataframe tbody tr th:only-of-type {\n",
       "        vertical-align: middle;\n",
       "    }\n",
       "\n",
       "    .dataframe tbody tr th {\n",
       "        vertical-align: top;\n",
       "    }\n",
       "\n",
       "    .dataframe thead th {\n",
       "        text-align: right;\n",
       "    }\n",
       "</style>\n",
       "<table border=\"1\" class=\"dataframe\">\n",
       "  <thead>\n",
       "    <tr style=\"text-align: right;\">\n",
       "      <th></th>\n",
       "      <th>x1</th>\n",
       "      <th>x2</th>\n",
       "      <th>y</th>\n",
       "    </tr>\n",
       "  </thead>\n",
       "  <tbody>\n",
       "    <tr>\n",
       "      <th>0</th>\n",
       "      <td>17.640523</td>\n",
       "      <td>-0.977278</td>\n",
       "      <td>0.144044</td>\n",
       "    </tr>\n",
       "    <tr>\n",
       "      <th>1</th>\n",
       "      <td>4.001572</td>\n",
       "      <td>0.950088</td>\n",
       "      <td>1.454274</td>\n",
       "    </tr>\n",
       "    <tr>\n",
       "      <th>2</th>\n",
       "      <td>9.787380</td>\n",
       "      <td>-0.151357</td>\n",
       "      <td>0.761038</td>\n",
       "    </tr>\n",
       "    <tr>\n",
       "      <th>3</th>\n",
       "      <td>22.408932</td>\n",
       "      <td>-0.103219</td>\n",
       "      <td>0.121675</td>\n",
       "    </tr>\n",
       "    <tr>\n",
       "      <th>4</th>\n",
       "      <td>18.675580</td>\n",
       "      <td>0.410599</td>\n",
       "      <td>0.443863</td>\n",
       "    </tr>\n",
       "  </tbody>\n",
       "</table>\n",
       "</div>"
      ],
      "text/plain": [
       "          x1        x2         y\n",
       "0  17.640523 -0.977278  0.144044\n",
       "1   4.001572  0.950088  1.454274\n",
       "2   9.787380 -0.151357  0.761038\n",
       "3  22.408932 -0.103219  0.121675\n",
       "4  18.675580  0.410599  0.443863"
      ]
     },
     "execution_count": 17,
     "metadata": {},
     "output_type": "execute_result"
    }
   ],
   "source": [
    "df_new = df.copy()\n",
    "df_new['x1'] = df_new['x1'] * 10\n",
    "df_new"
   ]
  },
  {
   "cell_type": "code",
   "execution_count": 19,
   "metadata": {},
   "outputs": [
    {
     "data": {
      "text/plain": [
       "[DesignMatrix with shape (5, 2)\n",
       "   Intercept  center(x1)\n",
       "           1    16.19024\n",
       "           1     2.55129\n",
       "           1     8.33710\n",
       "           1    20.95865\n",
       "           1    17.22530\n",
       "   Terms:\n",
       "     'Intercept' (column 0)\n",
       "     'center(x1)' (column 1)]"
      ]
     },
     "execution_count": 19,
     "metadata": {},
     "output_type": "execute_result"
    }
   ],
   "source": [
    "build_design_matrices([dm.design_info], df_new)"
   ]
  },
  {
   "cell_type": "code",
   "execution_count": 20,
   "metadata": {},
   "outputs": [
    {
     "data": {
      "text/plain": [
       "0    16.190244\n",
       "1     2.551292\n",
       "2     8.337100\n",
       "3    20.958652\n",
       "4    17.225300\n",
       "Name: x1, dtype: float64"
      ]
     },
     "execution_count": 20,
     "metadata": {},
     "output_type": "execute_result"
    }
   ],
   "source": [
    "df_new.x1 - np.mean(df.x1)"
   ]
  },
  {
   "cell_type": "code",
   "execution_count": 21,
   "metadata": {},
   "outputs": [
    {
     "data": {
      "text/plain": [
       "DesignMatrix with shape (5, 2)\n",
       "  Intercept  center(x1)\n",
       "          1     3.13773\n",
       "          1   -10.50123\n",
       "          1    -4.71542\n",
       "          1     7.90613\n",
       "          1     4.17278\n",
       "  Terms:\n",
       "    'Intercept' (column 0)\n",
       "    'center(x1)' (column 1)"
      ]
     },
     "execution_count": 21,
     "metadata": {},
     "output_type": "execute_result"
    }
   ],
   "source": [
    "dmatrix(\"center(x1)\", df_new)"
   ]
  },
  {
   "cell_type": "code",
   "execution_count": 22,
   "metadata": {},
   "outputs": [
    {
     "data": {
      "text/plain": [
       "0     3.137726\n",
       "1   -10.501225\n",
       "2    -4.715418\n",
       "3     7.906135\n",
       "4     4.172782\n",
       "Name: x1, dtype: float64"
      ]
     },
     "execution_count": 22,
     "metadata": {},
     "output_type": "execute_result"
    }
   ],
   "source": [
    "df_new.x1 - np.mean(df_new.x1)"
   ]
  },
  {
   "cell_type": "markdown",
   "metadata": {},
   "source": [
    "#### 변수 보호"
   ]
  },
  {
   "cell_type": "code",
   "execution_count": 23,
   "metadata": {},
   "outputs": [
    {
     "data": {
      "text/plain": [
       "DesignMatrix with shape (5, 2)\n",
       "  Intercept  I(x1 + x2)\n",
       "          1     0.78677\n",
       "          1     1.35025\n",
       "          1     0.82738\n",
       "          1     2.13767\n",
       "          1     2.27816\n",
       "  Terms:\n",
       "    'Intercept' (column 0)\n",
       "    'I(x1 + x2)' (column 1)"
      ]
     },
     "execution_count": 23,
     "metadata": {},
     "output_type": "execute_result"
    }
   ],
   "source": [
    "dmatrix(\"I(x1 + x2)\", df)"
   ]
  },
  {
   "cell_type": "code",
   "execution_count": 24,
   "metadata": {},
   "outputs": [
    {
     "data": {
      "text/plain": [
       "DesignMatrix with shape (5, 3)\n",
       "  Intercept       x1        x2\n",
       "          1  1.76405  -0.97728\n",
       "          1  0.40016   0.95009\n",
       "          1  0.97874  -0.15136\n",
       "          1  2.24089  -0.10322\n",
       "          1  1.86756   0.41060\n",
       "  Terms:\n",
       "    'Intercept' (column 0)\n",
       "    'x1' (column 1)\n",
       "    'x2' (column 2)"
      ]
     },
     "execution_count": 24,
     "metadata": {},
     "output_type": "execute_result"
    }
   ],
   "source": [
    "dmatrix(\"x1 + x2\", df)"
   ]
  },
  {
   "cell_type": "markdown",
   "metadata": {},
   "source": [
    "#### 다항회귀"
   ]
  },
  {
   "cell_type": "code",
   "execution_count": 25,
   "metadata": {},
   "outputs": [
    {
     "data": {
      "text/plain": [
       "DesignMatrix with shape (5, 5)\n",
       "  Intercept       x1  I(x1 * x1)  I(x1 ** 3)  I(x1 ** 4)\n",
       "          1  1.76405     3.11188     5.48952     9.68380\n",
       "          1  0.40016     0.16013     0.06408     0.02564\n",
       "          1  0.97874     0.95793     0.93756     0.91763\n",
       "          1  2.24089     5.02160    11.25287    25.21649\n",
       "          1  1.86756     3.48777     6.51362    12.16456\n",
       "  Terms:\n",
       "    'Intercept' (column 0)\n",
       "    'x1' (column 1)\n",
       "    'I(x1 * x1)' (column 2)\n",
       "    'I(x1 ** 3)' (column 3)\n",
       "    'I(x1 ** 4)' (column 4)"
      ]
     },
     "execution_count": 25,
     "metadata": {},
     "output_type": "execute_result"
    }
   ],
   "source": [
    "dmatrix(\"x1 + I(x1*x1) + I(x1**3) + I(x1**4)\", df) "
   ]
  },
  {
   "cell_type": "code",
   "execution_count": null,
   "metadata": {},
   "outputs": [],
   "source": []
  }
 ],
 "metadata": {
  "kernelspec": {
   "display_name": "Python 3",
   "language": "python",
   "name": "python3"
  },
  "language_info": {
   "codemirror_mode": {
    "name": "ipython",
    "version": 3
   },
   "file_extension": ".py",
   "mimetype": "text/x-python",
   "name": "python",
   "nbconvert_exporter": "python",
   "pygments_lexer": "ipython3",
   "version": "3.7.6"
  }
 },
 "nbformat": 4,
 "nbformat_minor": 4
}
