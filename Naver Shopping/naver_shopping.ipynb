{
 "cells": [
  {
   "cell_type": "markdown",
   "metadata": {},
   "source": [
    "### web crawling\n",
    "- 웹 서비스의 구조 : 서버 - 클라이언트\n",
    "- 크롤링 방법 세가지\n",
    "    - requests : JSON : 동적 페이지\n",
    "        - 네이버 주식 사이트에서 주가 데이터 크롤링\n",
    "            - 시각화(정규화), 상관계수\n",
    "    - requests : html : 정적 페이지\n",
    "    - selenium : web driver\n",
    "- 크롤링 절차\n",
    "    - 웹서비스 분석 : URL\n",
    "    - 요청, 응답 : str\n",
    "    - 전처리 : str 데이터 파싱(dict, bs obj(css-selector) 등) 후 데이터 프레임으로 생성"
   ]
  },
  {
   "cell_type": "markdown",
   "metadata": {},
   "source": [
    "#### 1. 웹 서비스 분석 : URL 찾기"
   ]
  },
  {
   "cell_type": "code",
   "execution_count": 1,
   "metadata": {
    "scrolled": true
   },
   "outputs": [],
   "source": [
    "import pandas as pd\n",
    "import requests\n",
    "from fake_useragent import UserAgent\n",
    "import time"
   ]
  },
  {
   "cell_type": "code",
   "execution_count": 3,
   "metadata": {
    "scrolled": true
   },
   "outputs": [
    {
     "ename": "KeyError",
     "evalue": "'htReturnValue'",
     "output_type": "error",
     "traceback": [
      "\u001b[1;31m---------------------------------------------------------------------------\u001b[0m",
      "\u001b[1;31mKeyError\u001b[0m                                  Traceback (most recent call last)",
      "\u001b[1;32m<ipython-input-3-5a9e88b502a6>\u001b[0m in \u001b[0;36m<module>\u001b[1;34m\u001b[0m\n\u001b[0;32m     20\u001b[0m     \u001b[0mresponse\u001b[0m \u001b[1;33m=\u001b[0m \u001b[0mrequests\u001b[0m\u001b[1;33m.\u001b[0m\u001b[0mget\u001b[0m\u001b[1;33m(\u001b[0m\u001b[0murl\u001b[0m\u001b[1;33m,\u001b[0m \u001b[0mheaders\u001b[0m\u001b[1;33m=\u001b[0m\u001b[0mheaders\u001b[0m\u001b[1;33m)\u001b[0m\u001b[1;33m\u001b[0m\u001b[1;33m\u001b[0m\u001b[0m\n\u001b[0;32m     21\u001b[0m     \u001b[0mtime\u001b[0m\u001b[1;33m.\u001b[0m\u001b[0msleep\u001b[0m\u001b[1;33m(\u001b[0m\u001b[1;36m3\u001b[0m\u001b[1;33m)\u001b[0m\u001b[1;33m\u001b[0m\u001b[1;33m\u001b[0m\u001b[0m\n\u001b[1;32m---> 22\u001b[1;33m     \u001b[0mdata\u001b[0m \u001b[1;33m=\u001b[0m \u001b[0mresponse\u001b[0m\u001b[1;33m.\u001b[0m\u001b[0mjson\u001b[0m\u001b[1;33m(\u001b[0m\u001b[1;33m)\u001b[0m\u001b[1;33m[\u001b[0m\u001b[1;34m'htReturnValue'\u001b[0m\u001b[1;33m]\u001b[0m\u001b[1;33m[\u001b[0m\u001b[1;34m'pagedResult'\u001b[0m\u001b[1;33m]\u001b[0m\u001b[1;33m[\u001b[0m\u001b[1;34m'content'\u001b[0m\u001b[1;33m]\u001b[0m\u001b[1;33m\u001b[0m\u001b[1;33m\u001b[0m\u001b[0m\n\u001b[0m\u001b[0;32m     23\u001b[0m     \u001b[0mreview_df\u001b[0m \u001b[1;33m=\u001b[0m \u001b[0mpd\u001b[0m\u001b[1;33m.\u001b[0m\u001b[0mDataFrame\u001b[0m\u001b[1;33m(\u001b[0m\u001b[0mdata\u001b[0m\u001b[1;33m)\u001b[0m\u001b[1;33m\u001b[0m\u001b[1;33m\u001b[0m\u001b[0m\n\u001b[0;32m     24\u001b[0m     \u001b[0mresult_df\u001b[0m \u001b[1;33m=\u001b[0m \u001b[0mresult_df\u001b[0m\u001b[1;33m.\u001b[0m\u001b[0mappend\u001b[0m\u001b[1;33m(\u001b[0m\u001b[0mreview_df\u001b[0m\u001b[1;33m)\u001b[0m\u001b[1;33m\u001b[0m\u001b[1;33m\u001b[0m\u001b[0m\n",
      "\u001b[1;31mKeyError\u001b[0m: 'htReturnValue'"
     ]
    }
   ],
   "source": [
    "result_df = pd.DataFrame()\n",
    "for page in range(1, 106):    \n",
    "    url = \"https://smartstore.naver.com/lgycompany/products/4817186601/reviews/page.json?page={}&size=20&sortType=REVIEW_SCORE_DESC&contentType=ALL&topicCode\".format(page)\n",
    "    headers = {\n",
    "        'accept': '*/*',\n",
    "        'accept-encoding': 'gzip, deflate, br',\n",
    "        'accept-language': 'en-US,en;q=0.9,ko;q=0.8',\n",
    "        'cache-control': 'no-cache',\n",
    "        'charset': 'utf-8',\n",
    "        'content-type': 'application/x-www-form-urlencoded; charset=utf-8',\n",
    "        'dnt': '1',\n",
    "        'pragma': 'no-cache',\n",
    "        'referer': 'https://smartstore.naver.com/lgycompany/products/4817186601',\n",
    "        'sec-fetch-dest': 'empty',\n",
    "        'sec-fetch-mode': 'cors',\n",
    "        'sec-fetch-site': 'same-origin',\n",
    "        'user-agent': str(UserAgent().random),\n",
    "        'x-requested-with': 'XMLHttpRequest'\n",
    "    }\n",
    "    response = requests.get(url, headers=headers)\n",
    "    time.sleep(3)\n",
    "    data = response.json()['htReturnValue']['pagedResult']['content']\n",
    "    review_df = pd.DataFrame(data)\n",
    "    result_df = result_df.append(review_df)\n",
    "result_df = result_df[['reviewScore', 'contents']]\n",
    "result_df.reset_index(drop=True, inplace=True)\n",
    "result_df"
   ]
  },
  {
   "cell_type": "code",
   "execution_count": 116,
   "metadata": {},
   "outputs": [
    {
     "name": "stdout",
     "output_type": "stream",
     "text": [
      "네이버 스마트스토어 링크를 입력하세요:\n",
      " 예) https://smartstore.naver.com/happyjiggu/products/4920780040\n",
      "https://smartstore.naver.com/cheongnyeon2/products/4658712762\n"
     ]
    },
    {
     "ename": "KeyError",
     "evalue": "'htReturnValue'",
     "output_type": "error",
     "traceback": [
      "\u001b[1;31m---------------------------------------------------------------------------\u001b[0m",
      "\u001b[1;31mKeyError\u001b[0m                                  Traceback (most recent call last)",
      "\u001b[1;32m<ipython-input-116-f383827d26b4>\u001b[0m in \u001b[0;36m<module>\u001b[1;34m\u001b[0m\n\u001b[0;32m     22\u001b[0m     \u001b[0mresponse\u001b[0m \u001b[1;33m=\u001b[0m \u001b[0mrequests\u001b[0m\u001b[1;33m.\u001b[0m\u001b[0mget\u001b[0m\u001b[1;33m(\u001b[0m\u001b[0murl\u001b[0m\u001b[1;33m,\u001b[0m \u001b[0mheaders\u001b[0m\u001b[1;33m=\u001b[0m\u001b[0mheaders\u001b[0m\u001b[1;33m)\u001b[0m\u001b[1;33m\u001b[0m\u001b[1;33m\u001b[0m\u001b[0m\n\u001b[0;32m     23\u001b[0m     \u001b[0mtime\u001b[0m\u001b[1;33m.\u001b[0m\u001b[0msleep\u001b[0m\u001b[1;33m(\u001b[0m\u001b[1;36m3\u001b[0m\u001b[1;33m)\u001b[0m\u001b[1;33m\u001b[0m\u001b[1;33m\u001b[0m\u001b[0m\n\u001b[1;32m---> 24\u001b[1;33m     \u001b[0mdata\u001b[0m \u001b[1;33m=\u001b[0m \u001b[0mresponse\u001b[0m\u001b[1;33m.\u001b[0m\u001b[0mjson\u001b[0m\u001b[1;33m(\u001b[0m\u001b[1;33m)\u001b[0m\u001b[1;33m[\u001b[0m\u001b[1;34m'htReturnValue'\u001b[0m\u001b[1;33m]\u001b[0m\u001b[1;33m[\u001b[0m\u001b[1;34m'pagedResult'\u001b[0m\u001b[1;33m]\u001b[0m\u001b[1;33m[\u001b[0m\u001b[1;34m'content'\u001b[0m\u001b[1;33m]\u001b[0m\u001b[1;33m\u001b[0m\u001b[1;33m\u001b[0m\u001b[0m\n\u001b[0m\u001b[0;32m     25\u001b[0m     \u001b[0mreview_df\u001b[0m \u001b[1;33m=\u001b[0m \u001b[0mpd\u001b[0m\u001b[1;33m.\u001b[0m\u001b[0mDataFrame\u001b[0m\u001b[1;33m(\u001b[0m\u001b[0mdata\u001b[0m\u001b[1;33m)\u001b[0m\u001b[1;33m\u001b[0m\u001b[1;33m\u001b[0m\u001b[0m\n\u001b[0;32m     26\u001b[0m     \u001b[0mresult_df\u001b[0m \u001b[1;33m=\u001b[0m \u001b[0mresult_df\u001b[0m\u001b[1;33m.\u001b[0m\u001b[0mappend\u001b[0m\u001b[1;33m(\u001b[0m\u001b[0mreview_df\u001b[0m\u001b[1;33m)\u001b[0m\u001b[1;33m\u001b[0m\u001b[1;33m\u001b[0m\u001b[0m\n",
      "\u001b[1;31mKeyError\u001b[0m: 'htReturnValue'"
     ]
    }
   ],
   "source": [
    "result_df = pd.DataFrame()\n",
    "total_review = 345\n",
    "url_input = input(\"네이버 스마트스토어 링크를 입력하세요:\\n 예) https://smartstore.naver.com/happyjiggu/products/4920780040\\n\")\n",
    "for page in range(1, int(total_review/20)):    \n",
    "    url = url_input + (\"/reviews/page.json?page={}&size=20&sortType=REVIEW_SCORE_DESC&contentType=ALL&topicCode\").format(page)\n",
    "    headers = {\n",
    "        'accept': '*/*',\n",
    "        'accept-encoding': 'gzip, deflate, br',\n",
    "        'accept-language': 'en-US,en;q=0.9,ko;q=0.8',\n",
    "        'cache-control': 'no-cache',\n",
    "        'charset': 'utf-8',\n",
    "        'content-type': 'application/x-www-form-urlencoded; charset=utf-8',\n",
    "        'dnt': '1',\n",
    "        'pragma': 'no-cache',\n",
    "        'referer': url_input,\n",
    "        'sec-fetch-dest': 'empty',\n",
    "        'sec-fetch-mode': 'cors',\n",
    "        'sec-fetch-site': 'same-origin',\n",
    "        'user-agent': str(UserAgent().random),\n",
    "        'x-requested-with': 'XMLHttpRequest',\n",
    "    }\n",
    "    response = requests.get(url, headers=headers)\n",
    "    time.sleep(3)\n",
    "    data = response.json()['htReturnValue']['pagedResult']['content']\n",
    "    review_df = pd.DataFrame(data)\n",
    "    result_df = result_df.append(review_df)\n",
    "result_df = result_df[['reviewScore', 'contents']]\n",
    "result_df.reset_index(drop=True, inplace=True)\n",
    "result_df"
   ]
  },
  {
   "cell_type": "code",
   "execution_count": 115,
   "metadata": {},
   "outputs": [
    {
     "data": {
      "text/plain": [
       "{'bSuccess': False,\n",
       " 'sErrorCode': 'InvalidRequest',\n",
       " 'sErrorMessage': '잘못된 요청입니다.'}"
      ]
     },
     "execution_count": 115,
     "metadata": {},
     "output_type": "execute_result"
    }
   ],
   "source": [
    "data= response.json()\n",
    "data"
   ]
  },
  {
   "cell_type": "code",
   "execution_count": 77,
   "metadata": {},
   "outputs": [],
   "source": [
    "# result_df 엑셀로 저장하기\n",
    "result_df.to_excel(\"review data.xlsx\", sheet_name=data[0]['purchasedProductName'], encoding=\"utf-8\")"
   ]
  },
  {
   "cell_type": "code",
   "execution_count": 90,
   "metadata": {
    "scrolled": true
   },
   "outputs": [
    {
     "name": "stdout",
     "output_type": "stream",
     "text": [
      "네이버 스마트스토어 링크를 입력하세요:\n",
      " 예) https://smartstore.naver.com/happyjiggu/products/4920780040\n",
      "https://smartstore.naver.com/happyjiggu/products/4920780040\n"
     ]
    },
    {
     "data": {
      "text/plain": [
       "'https://smartstore.naver.com/happyjiggu/products/4920780040/reviews/page.json?page=1&size=20&sortType=REVIEW_SCORE_DESC&contentType=ALL&topicCode'"
      ]
     },
     "execution_count": 90,
     "metadata": {},
     "output_type": "execute_result"
    }
   ],
   "source": [
    "url_input = input(\"네이버 스마트스토어 링크를 입력하세요:\\n 예) https://smartstore.naver.com/happyjiggu/products/4920780040\\n\")\n",
    "page = 1\n",
    "url = url_input + (\"/reviews/page.json?page={}&size=20&sortType=REVIEW_SCORE_DESC&contentType=ALL&topicCode\").format(page)\n",
    "url"
   ]
  },
  {
   "cell_type": "code",
   "execution_count": 127,
   "metadata": {
    "scrolled": true
   },
   "outputs": [],
   "source": [
    "# 함수로 만들기\n",
    "def crawl_review(total_review=5000):\n",
    "    result_df = pd.DataFrame()\n",
    "    for page in range(1, int(total_review/20)):    \n",
    "        url = (\"https://smartstore.naver.com/kiroman/products/4839221779/reviews/page.json?page={}&size=20&sortType=REVIEW_SCORE_DESC&contentType=ALL&topicCode\").format(page)\n",
    "        headers = {\n",
    "            'accept': '*/*',\n",
    "            'accept-encoding': 'gzip, deflate, br',\n",
    "            'accept-language': 'en-US,en;q=0.9,ko;q=0.8',\n",
    "            'cache-control': 'no-cache',\n",
    "            'charset': 'utf-8',\n",
    "            'content-type': 'application/x-www-form-urlencoded; charset=utf-8',\n",
    "            'dnt': '1',\n",
    "            'pragma': 'no-cache',\n",
    "            'referer': 'https://smartstore.naver.com/kiroman/products/4839221779',\n",
    "            'sec-fetch-dest': 'empty',\n",
    "            'sec-fetch-mode': 'cors',\n",
    "            'sec-fetch-site': 'same-origin',\n",
    "            'user-agent': str(UserAgent().random),\n",
    "            'x-requested-with': 'XMLHttpRequest'\n",
    "        }\n",
    "        response = requests.get(url, headers=headers)\n",
    "        time.sleep(3)\n",
    "        data = response.json()['htReturnValue']['pagedResult']['content']\n",
    "        review_df = pd.DataFrame(data)\n",
    "        result_df = result_df.append(review_df)\n",
    "    result_df = result_df[['reviewScore', 'contents']]\n",
    "    result_df.reset_index(drop=True, inplace=True)\n",
    "    result_df.to_excel(\"review data.xlsx\", sheet_name=data[0]['purchasedProductName'], encoding=\"utf-8\")\n",
    "    return \"크롤링 완료! 해당 제품에 대한 리뷰는 엑셀 파일을 확인하세요.\""
   ]
  },
  {
   "cell_type": "code",
   "execution_count": 128,
   "metadata": {
    "scrolled": false
   },
   "outputs": [
    {
     "ename": "KeyError",
     "evalue": "'htReturnValue'",
     "output_type": "error",
     "traceback": [
      "\u001b[1;31m---------------------------------------------------------------------------\u001b[0m",
      "\u001b[1;31mKeyError\u001b[0m                                  Traceback (most recent call last)",
      "\u001b[1;32m<ipython-input-128-854f8b8e7db2>\u001b[0m in \u001b[0;36m<module>\u001b[1;34m\u001b[0m\n\u001b[1;32m----> 1\u001b[1;33m \u001b[0mcrawl_review\u001b[0m\u001b[1;33m(\u001b[0m\u001b[1;36m1563\u001b[0m\u001b[1;33m)\u001b[0m\u001b[1;33m\u001b[0m\u001b[1;33m\u001b[0m\u001b[0m\n\u001b[0m",
      "\u001b[1;32m<ipython-input-127-3377bbf45213>\u001b[0m in \u001b[0;36mcrawl_review\u001b[1;34m(total_review)\u001b[0m\n\u001b[0;32m     22\u001b[0m         \u001b[0mresponse\u001b[0m \u001b[1;33m=\u001b[0m \u001b[0mrequests\u001b[0m\u001b[1;33m.\u001b[0m\u001b[0mget\u001b[0m\u001b[1;33m(\u001b[0m\u001b[0murl\u001b[0m\u001b[1;33m,\u001b[0m \u001b[0mheaders\u001b[0m\u001b[1;33m=\u001b[0m\u001b[0mheaders\u001b[0m\u001b[1;33m)\u001b[0m\u001b[1;33m\u001b[0m\u001b[1;33m\u001b[0m\u001b[0m\n\u001b[0;32m     23\u001b[0m         \u001b[0mtime\u001b[0m\u001b[1;33m.\u001b[0m\u001b[0msleep\u001b[0m\u001b[1;33m(\u001b[0m\u001b[1;36m3\u001b[0m\u001b[1;33m)\u001b[0m\u001b[1;33m\u001b[0m\u001b[1;33m\u001b[0m\u001b[0m\n\u001b[1;32m---> 24\u001b[1;33m         \u001b[0mdata\u001b[0m \u001b[1;33m=\u001b[0m \u001b[0mresponse\u001b[0m\u001b[1;33m.\u001b[0m\u001b[0mjson\u001b[0m\u001b[1;33m(\u001b[0m\u001b[1;33m)\u001b[0m\u001b[1;33m[\u001b[0m\u001b[1;34m'htReturnValue'\u001b[0m\u001b[1;33m]\u001b[0m\u001b[1;33m[\u001b[0m\u001b[1;34m'pagedResult'\u001b[0m\u001b[1;33m]\u001b[0m\u001b[1;33m[\u001b[0m\u001b[1;34m'content'\u001b[0m\u001b[1;33m]\u001b[0m\u001b[1;33m\u001b[0m\u001b[1;33m\u001b[0m\u001b[0m\n\u001b[0m\u001b[0;32m     25\u001b[0m         \u001b[0mreview_df\u001b[0m \u001b[1;33m=\u001b[0m \u001b[0mpd\u001b[0m\u001b[1;33m.\u001b[0m\u001b[0mDataFrame\u001b[0m\u001b[1;33m(\u001b[0m\u001b[0mdata\u001b[0m\u001b[1;33m)\u001b[0m\u001b[1;33m\u001b[0m\u001b[1;33m\u001b[0m\u001b[0m\n\u001b[0;32m     26\u001b[0m         \u001b[0mresult_df\u001b[0m \u001b[1;33m=\u001b[0m \u001b[0mresult_df\u001b[0m\u001b[1;33m.\u001b[0m\u001b[0mappend\u001b[0m\u001b[1;33m(\u001b[0m\u001b[0mreview_df\u001b[0m\u001b[1;33m)\u001b[0m\u001b[1;33m\u001b[0m\u001b[1;33m\u001b[0m\u001b[0m\n",
      "\u001b[1;31mKeyError\u001b[0m: 'htReturnValue'"
     ]
    }
   ],
   "source": [
    "crawl_review(1563)"
   ]
  }
 ],
 "metadata": {
  "kernelspec": {
   "display_name": "Python 3",
   "language": "python",
   "name": "python3"
  },
  "language_info": {
   "codemirror_mode": {
    "name": "ipython",
    "version": 3
   },
   "file_extension": ".py",
   "mimetype": "text/x-python",
   "name": "python",
   "nbconvert_exporter": "python",
   "pygments_lexer": "ipython3",
   "version": "3.7.6"
  },
  "license": "Copyright 2019. Doo Jin Park. All rights reserved."
 },
 "nbformat": 4,
 "nbformat_minor": 2
}
