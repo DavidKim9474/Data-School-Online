{
 "cells": [
  {
   "cell_type": "code",
   "execution_count": 1,
   "metadata": {},
   "outputs": [],
   "source": [
    "from selenium import webdriver"
   ]
  },
  {
   "cell_type": "code",
   "execution_count": 2,
   "metadata": {},
   "outputs": [],
   "source": [
    "categories = {\n",
    "    100 : \"정치\",\n",
    "    101 : \"경제\",\n",
    "    102 : \"사회\",\n",
    "    103 : \"생활/문화\",\n",
    "    104 : \"세계\",\n",
    "    105 : \"IT/과학\",\n",
    "}"
   ]
  },
  {
   "cell_type": "code",
   "execution_count": 3,
   "metadata": {},
   "outputs": [],
   "source": [
    "category, date, page = 100, 20200908, 1\n",
    "\n",
    "url = \"https://news.naver.com/main/list.nhn?\\\n",
    "mode=LSD&mid=sec&sid1={}&date={}&page={}\".format(category, date, page)"
   ]
  },
  {
   "cell_type": "code",
   "execution_count": 36,
   "metadata": {},
   "outputs": [],
   "source": [
    "driver = webdriver.Chrome()\n",
    "driver.get(url)"
   ]
  },
  {
   "cell_type": "code",
   "execution_count": 37,
   "metadata": {},
   "outputs": [
    {
     "data": {
      "text/plain": [
       "20"
      ]
     },
     "execution_count": 37,
     "metadata": {},
     "output_type": "execute_result"
    }
   ],
   "source": [
    "articles = driver.find_elements_by_css_selector(\".list_body > ul > li\")\n",
    "len(articles)"
   ]
  },
  {
   "cell_type": "code",
   "execution_count": 50,
   "metadata": {},
   "outputs": [
    {
     "data": {
      "text/plain": [
       "('강경화, 국제 공관장회의서 \\'K방역\\' 연설…\"훌륭한 본보기\"',\n",
       " 'https://news.naver.com/main/read.nhn?mode=LSD&mid=sec&sid1=100&oid=215&aid=0000899786')"
      ]
     },
     "execution_count": 50,
     "metadata": {},
     "output_type": "execute_result"
    }
   ],
   "source": [
    "title = articles[4].find_element_by_css_selector(\"dt:not(.photo) a\").text\n",
    "link = articles[4].find_element_by_css_selector(\"dt:not(.photo) a\").get_attribute(\"href\")\n",
    "title, link"
   ]
  },
  {
   "cell_type": "code",
   "execution_count": 51,
   "metadata": {},
   "outputs": [],
   "source": [
    "response = requests.get(link)\n",
    "dom = BeautifulSoup(response.content, \"html.parser\")"
   ]
  },
  {
   "cell_type": "code",
   "execution_count": 68,
   "metadata": {
    "scrolled": true
   },
   "outputs": [
    {
     "ename": "AttributeError",
     "evalue": "ResultSet object has no attribute 'text'. You're probably treating a list of elements like a single element. Did you call find_all() when you meant to call find()?",
     "output_type": "error",
     "traceback": [
      "\u001b[1;31m---------------------------------------------------------------------------\u001b[0m",
      "\u001b[1;31mAttributeError\u001b[0m                            Traceback (most recent call last)",
      "\u001b[1;32m<ipython-input-68-c4a6ab4359a7>\u001b[0m in \u001b[0;36m<module>\u001b[1;34m\u001b[0m\n\u001b[1;32m----> 1\u001b[1;33m \u001b[0mcontent\u001b[0m \u001b[1;33m=\u001b[0m \u001b[0mdom\u001b[0m\u001b[1;33m.\u001b[0m\u001b[0mselect\u001b[0m\u001b[1;33m(\u001b[0m\u001b[1;34m\"#articleBodyContents\"\u001b[0m\u001b[1;33m)\u001b[0m\u001b[1;33m.\u001b[0m\u001b[0mtext\u001b[0m\u001b[1;33m.\u001b[0m\u001b[0mreplace\u001b[0m\u001b[1;33m(\u001b[0m\u001b[1;34m\"\\n\"\u001b[0m\u001b[1;33m,\u001b[0m\u001b[1;34m\"\"\u001b[0m\u001b[1;33m)\u001b[0m\u001b[1;33m.\u001b[0m\u001b[0mreplace\u001b[0m\u001b[1;33m(\u001b[0m\u001b[1;34m\"\\'\"\u001b[0m\u001b[1;33m,\u001b[0m \u001b[1;34m\"\"\u001b[0m\u001b[1;33m)\u001b[0m\u001b[1;33m.\u001b[0m\u001b[0msplit\u001b[0m\u001b[1;33m(\u001b[0m\u001b[1;34m\"{}\"\u001b[0m\u001b[1;33m)\u001b[0m\u001b[1;33m[\u001b[0m\u001b[1;36m1\u001b[0m\u001b[1;33m]\u001b[0m\u001b[1;33m.\u001b[0m\u001b[0mstrip\u001b[0m\u001b[1;33m(\u001b[0m\u001b[1;33m)\u001b[0m\u001b[1;33m\u001b[0m\u001b[1;33m\u001b[0m\u001b[0m\n\u001b[0m\u001b[0;32m      2\u001b[0m \u001b[0mcontent\u001b[0m\u001b[1;33m\u001b[0m\u001b[1;33m\u001b[0m\u001b[0m\n",
      "\u001b[1;32mC:\\Anaconda\\lib\\site-packages\\bs4\\element.py\u001b[0m in \u001b[0;36m__getattr__\u001b[1;34m(self, key)\u001b[0m\n\u001b[0;32m   2079\u001b[0m         \u001b[1;34m\"\"\"Raise a helpful exception to explain a common code fix.\"\"\"\u001b[0m\u001b[1;33m\u001b[0m\u001b[1;33m\u001b[0m\u001b[0m\n\u001b[0;32m   2080\u001b[0m         raise AttributeError(\n\u001b[1;32m-> 2081\u001b[1;33m             \u001b[1;34m\"ResultSet object has no attribute '%s'. You're probably treating a list of elements like a single element. Did you call find_all() when you meant to call find()?\"\u001b[0m \u001b[1;33m%\u001b[0m \u001b[0mkey\u001b[0m\u001b[1;33m\u001b[0m\u001b[1;33m\u001b[0m\u001b[0m\n\u001b[0m\u001b[0;32m   2082\u001b[0m         )\n",
      "\u001b[1;31mAttributeError\u001b[0m: ResultSet object has no attribute 'text'. You're probably treating a list of elements like a single element. Did you call find_all() when you meant to call find()?"
     ]
    }
   ],
   "source": [
    "content = dom.select_one(\"#articleBodyContents\").text.replace(\"\\n\",\"\").replace(\"\\'\", \"\").split(\"{}\")[1].strip()\n",
    "content"
   ]
  },
  {
   "cell_type": "code",
   "execution_count": 4,
   "metadata": {},
   "outputs": [],
   "source": [
    "def get_articles(category, date, page):\n",
    "    url = \"https://news.naver.com/main/list.nhn?\\\n",
    "    mode=LSD&mid=sec&sid1={}&date={}&page={}\".format(category, date, page)\n",
    "    driver = webdriver.Chrome()\n",
    "    driver.get(url)\n",
    "    articles = driver.find_elements_by_css_selector(\".list_body > ul > li\")\n",
    "    data = []\n",
    "    for article in articles:\n",
    "        try:\n",
    "            title = article.find_element_by_css_selector(\"dt:not(.photo) > a\").text\n",
    "            link = article.find_element_by_css_selector(\"dt:not(.photo) > a\").get_attribute(\"href\")\n",
    "            response = requests.get(link)\n",
    "            dom = BeautifulSoup(response.content, \"html.parser\")\n",
    "            content = dom.select_one(\"#articleBodyContents\").text.replace(\"\\n\",\"\").replace(\"\\'\", \"\").split(\"{}\")[1].strip()\n",
    "            data.append({\n",
    "                \"title\": title,\n",
    "                \"link\": link,\n",
    "                \"content\": content,\n",
    "                \"category\": category,\n",
    "            })\n",
    "        except:\n",
    "            pass\n",
    "    driver.quit()\n",
    "    \n",
    "    return pd.DataFrame(data)"
   ]
  },
  {
   "cell_type": "code",
   "execution_count": 72,
   "metadata": {
    "scrolled": true
   },
   "outputs": [
    {
     "data": {
      "text/html": [
       "<div>\n",
       "<style scoped>\n",
       "    .dataframe tbody tr th:only-of-type {\n",
       "        vertical-align: middle;\n",
       "    }\n",
       "\n",
       "    .dataframe tbody tr th {\n",
       "        vertical-align: top;\n",
       "    }\n",
       "\n",
       "    .dataframe thead th {\n",
       "        text-align: right;\n",
       "    }\n",
       "</style>\n",
       "<table border=\"1\" class=\"dataframe\">\n",
       "  <thead>\n",
       "    <tr style=\"text-align: right;\">\n",
       "      <th></th>\n",
       "      <th>title</th>\n",
       "      <th>link</th>\n",
       "      <th>content</th>\n",
       "      <th>category</th>\n",
       "    </tr>\n",
       "  </thead>\n",
       "  <tbody>\n",
       "    <tr>\n",
       "      <th>0</th>\n",
       "      <td>주호영 \"文정권, 공정·정의 짓밟아…秋 특검 자청하든 사임하라\"</td>\n",
       "      <td>https://news.naver.com/main/read.nhn?mode=LSD&amp;...</td>\n",
       "      <td>[앵커]국회 교섭단체 대표연설에 나선 국민의 힘 주호영 원내대표가 추미애 장관을 향...</td>\n",
       "      <td>100</td>\n",
       "    </tr>\n",
       "    <tr>\n",
       "      <th>1</th>\n",
       "      <td>강경화, 루마니아 공관장회의서 ‘K방역·미중 갈등 대응법’ 연설</td>\n",
       "      <td>https://news.naver.com/main/read.nhn?mode=LSD&amp;...</td>\n",
       "      <td>강경화 외교부 장관이 루마니아 외무부 행사에 연설자로 나서 우리나라의 코로나 19 ...</td>\n",
       "      <td>100</td>\n",
       "    </tr>\n",
       "    <tr>\n",
       "      <th>2</th>\n",
       "      <td>17∼34세 청년층 대상 통신비 2만원 1회 지원</td>\n",
       "      <td>https://news.naver.com/main/read.nhn?mode=LSD&amp;...</td>\n",
       "      <td>당정청, 9일 4차 추경안 발표 초등생 학부모에도 돌봄쿠폰    이낙연 더불어민주당...</td>\n",
       "      <td>100</td>\n",
       "    </tr>\n",
       "    <tr>\n",
       "      <th>3</th>\n",
       "      <td>강경화, 루마니아 공관장회의서 'K방역·미중갈등 대응법' 연설(종합)</td>\n",
       "      <td>https://news.naver.com/main/read.nhn?mode=LSD&amp;...</td>\n",
       "      <td>루마니아, 코로나19 대응법 공유받으려 강경화 초청…\"한국은 훌륭한 본보기\"강경화 ...</td>\n",
       "      <td>100</td>\n",
       "    </tr>\n",
       "    <tr>\n",
       "      <th>4</th>\n",
       "      <td>유엔 세계식량계획 \"북한 주민 굶주림 위험 커져\"</td>\n",
       "      <td>https://news.naver.com/main/read.nhn?mode=LSD&amp;...</td>\n",
       "      <td>데이비드 비즐리 유엔세계식량계획 사무총장데이비드 비즐리 유엔세계식량계획 사무총장이 ...</td>\n",
       "      <td>100</td>\n",
       "    </tr>\n",
       "    <tr>\n",
       "      <th>5</th>\n",
       "      <td>민주, 공수처 출범 지연에 유화·강경 카드…조건부 수용·野거부권 삭제</td>\n",
       "      <td>https://news.naver.com/main/read.nhn?mode=LSD&amp;...</td>\n",
       "      <td>김태년 \"공수처 정상출범 약속하면 특별감찰관·北인권재단 수용\"박범계, 공수처 모법 ...</td>\n",
       "      <td>100</td>\n",
       "    </tr>\n",
       "    <tr>\n",
       "      <th>6</th>\n",
       "      <td>강경화 \"한미동맹 강화하며 中과 파트너십도 발전시킬 것\"</td>\n",
       "      <td>https://news.naver.com/main/read.nhn?mode=LSD&amp;...</td>\n",
       "      <td>[머니투데이 최경민  기자] [[the300]] [서울=뉴시스]강경화 외교부 장관....</td>\n",
       "      <td>100</td>\n",
       "    </tr>\n",
       "    <tr>\n",
       "      <th>7</th>\n",
       "      <td>과방위, `윤영찬 문자` 공방 끝 파행…野 \"언론통제 증거 보여주는 갑질\"</td>\n",
       "      <td>https://news.naver.com/main/read.nhn?mode=LSD&amp;...</td>\n",
       "      <td>국회 과학기술방송정보통신위원회가 8일 더불어민주당 윤영찬 의원의 포털 압박 문자를 ...</td>\n",
       "      <td>100</td>\n",
       "    </tr>\n",
       "    <tr>\n",
       "      <th>8</th>\n",
       "      <td>日언론 \"김정은, 한국 코로나 진단키트 반송\"... 통일부 \"확인 안돼\"</td>\n",
       "      <td>https://news.naver.com/main/read.nhn?mode=LSD&amp;...</td>\n",
       "      <td>\"중국 단둥 세관에 반송 관련 기록 없어\"북한 김정은 국무위원장이 지난 6일 평양의...</td>\n",
       "      <td>100</td>\n",
       "    </tr>\n",
       "    <tr>\n",
       "      <th>9</th>\n",
       "      <td>강경화 장관, 루마니아 재외공관장 화상회의 특별세션 연설</td>\n",
       "      <td>https://news.naver.com/main/read.nhn?mode=LSD&amp;...</td>\n",
       "      <td>[서울=뉴시스]박주성 기자 = 강경화 장관이 「보그단 루치안 아우레스쿠(Bogdan...</td>\n",
       "      <td>100</td>\n",
       "    </tr>\n",
       "    <tr>\n",
       "      <th>10</th>\n",
       "      <td>강경화 장관, 루마니아 재외공관장 화상회의 특별세션 연설</td>\n",
       "      <td>https://news.naver.com/main/read.nhn?mode=LSD&amp;...</td>\n",
       "      <td>[서울=뉴시스]박주성 기자 = 강경화 장관이 「보그단 루치안 아우레스쿠(Bogdan...</td>\n",
       "      <td>100</td>\n",
       "    </tr>\n",
       "    <tr>\n",
       "      <th>11</th>\n",
       "      <td>[원보가중계] 윤영찬, 포털 메인뉴스에 '주호영 연설' 뜨자…</td>\n",
       "      <td>https://news.naver.com/main/read.nhn?mode=LSD&amp;...</td>\n",
       "      <td>[앵커]좋은 밤, 좋은 뉴스 &lt; 원보가중계 &gt; 시작합니다.첫 번째 소식입니다.앞선 ...</td>\n",
       "      <td>100</td>\n",
       "    </tr>\n",
       "    <tr>\n",
       "      <th>12</th>\n",
       "      <td>강경화 장관, 루마니아 공관장 회의 연사로 참석…韓방역 경험 공유·다자주의 회복 강조</td>\n",
       "      <td>https://news.naver.com/main/read.nhn?mode=LSD&amp;...</td>\n",
       "      <td>다른 국가 공관장 회의 참석 이례적…아시아 국가 외교장관 참석은 10년만에 처음강 ...</td>\n",
       "      <td>100</td>\n",
       "    </tr>\n",
       "    <tr>\n",
       "      <th>13</th>\n",
       "      <td>진중권, 윤영찬 ‘카카오 들어오라’ 논란에 \"文정권, 이젠 AI와 싸우려나\"</td>\n",
       "      <td>https://news.naver.com/main/read.nhn?mode=LSD&amp;...</td>\n",
       "      <td>[사진 제공: 연합뉴스] 진중권 전 동양대 교수는 8일 윤영찬 더불어민주당 의원의 ...</td>\n",
       "      <td>100</td>\n",
       "    </tr>\n",
       "    <tr>\n",
       "      <th>14</th>\n",
       "      <td>주호영 \"추미애, 특임검사 도입해야\"…윤영찬 문자 논란</td>\n",
       "      <td>https://news.naver.com/main/read.nhn?mode=LSD&amp;...</td>\n",
       "      <td>【 앵커멘트 】  국회 교섭단체 대표연설에 나선 주호영 국민의힘 원내대표는 삼권분립...</td>\n",
       "      <td>100</td>\n",
       "    </tr>\n",
       "    <tr>\n",
       "      <th>15</th>\n",
       "      <td>태풍 '마이삭' 직격탄 맞은 함경도로 향하는 평양시 당원들</td>\n",
       "      <td>https://news.naver.com/main/read.nhn?mode=LSD&amp;...</td>\n",
       "      <td>(서울=연합뉴스) 북한 조선중앙TV는 8일 함경도 태풍 피해복구를 위해 평양 당원사...</td>\n",
       "      <td>100</td>\n",
       "    </tr>\n",
       "    <tr>\n",
       "      <th>16</th>\n",
       "      <td>태풍 '마이삭' 직격탄 맞은 함경도로 향하는 평양시 당원들</td>\n",
       "      <td>https://news.naver.com/main/read.nhn?mode=LSD&amp;...</td>\n",
       "      <td>(서울=연합뉴스) 북한 조선중앙TV는 8일 함경도 태풍 피해복구를 위해 평양 당원사...</td>\n",
       "      <td>100</td>\n",
       "    </tr>\n",
       "    <tr>\n",
       "      <th>17</th>\n",
       "      <td>[영상]주호영 \"후과를 어떻게 감당하려고\"...추미애는 웃어 넘겨</td>\n",
       "      <td>https://news.naver.com/main/read.nhn?mode=LSD&amp;...</td>\n",
       "      <td>(서울=뉴스1) 송영성 기자 = 주호영 국민의힘 원내대표는 8일 정부·여당의 정책을...</td>\n",
       "      <td>100</td>\n",
       "    </tr>\n",
       "    <tr>\n",
       "      <th>18</th>\n",
       "      <td>태풍 '마이삭' 직격탄 맞은 함경도로 향하는 평양시 당원들</td>\n",
       "      <td>https://news.naver.com/main/read.nhn?mode=LSD&amp;...</td>\n",
       "      <td>(서울=연합뉴스) 북한 조선중앙TV는 8일 함경도 태풍 피해복구를 위해 평양 당원사...</td>\n",
       "      <td>100</td>\n",
       "    </tr>\n",
       "    <tr>\n",
       "      <th>19</th>\n",
       "      <td>태풍 '마이삭' 직격탄 맞은 함경도로 향하는 평양시 당원들</td>\n",
       "      <td>https://news.naver.com/main/read.nhn?mode=LSD&amp;...</td>\n",
       "      <td>(서울=연합뉴스) 북한 조선중앙TV는 8일 함경도 태풍 피해복구를 위해 평양 당원사...</td>\n",
       "      <td>100</td>\n",
       "    </tr>\n",
       "  </tbody>\n",
       "</table>\n",
       "</div>"
      ],
      "text/plain": [
       "                                              title  \\\n",
       "0               주호영 \"文정권, 공정·정의 짓밟아…秋 특검 자청하든 사임하라\"   \n",
       "1               강경화, 루마니아 공관장회의서 ‘K방역·미중 갈등 대응법’ 연설   \n",
       "2                       17∼34세 청년층 대상 통신비 2만원 1회 지원   \n",
       "3            강경화, 루마니아 공관장회의서 'K방역·미중갈등 대응법' 연설(종합)   \n",
       "4                       유엔 세계식량계획 \"북한 주민 굶주림 위험 커져\"   \n",
       "5            민주, 공수처 출범 지연에 유화·강경 카드…조건부 수용·野거부권 삭제   \n",
       "6                   강경화 \"한미동맹 강화하며 中과 파트너십도 발전시킬 것\"   \n",
       "7         과방위, `윤영찬 문자` 공방 끝 파행…野 \"언론통제 증거 보여주는 갑질\"   \n",
       "8          日언론 \"김정은, 한국 코로나 진단키트 반송\"... 통일부 \"확인 안돼\"   \n",
       "9                   강경화 장관, 루마니아 재외공관장 화상회의 특별세션 연설   \n",
       "10                  강경화 장관, 루마니아 재외공관장 화상회의 특별세션 연설   \n",
       "11               [원보가중계] 윤영찬, 포털 메인뉴스에 '주호영 연설' 뜨자…   \n",
       "12  강경화 장관, 루마니아 공관장 회의 연사로 참석…韓방역 경험 공유·다자주의 회복 강조   \n",
       "13       진중권, 윤영찬 ‘카카오 들어오라’ 논란에 \"文정권, 이젠 AI와 싸우려나\"   \n",
       "14                   주호영 \"추미애, 특임검사 도입해야\"…윤영찬 문자 논란   \n",
       "15                 태풍 '마이삭' 직격탄 맞은 함경도로 향하는 평양시 당원들   \n",
       "16                 태풍 '마이삭' 직격탄 맞은 함경도로 향하는 평양시 당원들   \n",
       "17             [영상]주호영 \"후과를 어떻게 감당하려고\"...추미애는 웃어 넘겨   \n",
       "18                 태풍 '마이삭' 직격탄 맞은 함경도로 향하는 평양시 당원들   \n",
       "19                 태풍 '마이삭' 직격탄 맞은 함경도로 향하는 평양시 당원들   \n",
       "\n",
       "                                                 link  \\\n",
       "0   https://news.naver.com/main/read.nhn?mode=LSD&...   \n",
       "1   https://news.naver.com/main/read.nhn?mode=LSD&...   \n",
       "2   https://news.naver.com/main/read.nhn?mode=LSD&...   \n",
       "3   https://news.naver.com/main/read.nhn?mode=LSD&...   \n",
       "4   https://news.naver.com/main/read.nhn?mode=LSD&...   \n",
       "5   https://news.naver.com/main/read.nhn?mode=LSD&...   \n",
       "6   https://news.naver.com/main/read.nhn?mode=LSD&...   \n",
       "7   https://news.naver.com/main/read.nhn?mode=LSD&...   \n",
       "8   https://news.naver.com/main/read.nhn?mode=LSD&...   \n",
       "9   https://news.naver.com/main/read.nhn?mode=LSD&...   \n",
       "10  https://news.naver.com/main/read.nhn?mode=LSD&...   \n",
       "11  https://news.naver.com/main/read.nhn?mode=LSD&...   \n",
       "12  https://news.naver.com/main/read.nhn?mode=LSD&...   \n",
       "13  https://news.naver.com/main/read.nhn?mode=LSD&...   \n",
       "14  https://news.naver.com/main/read.nhn?mode=LSD&...   \n",
       "15  https://news.naver.com/main/read.nhn?mode=LSD&...   \n",
       "16  https://news.naver.com/main/read.nhn?mode=LSD&...   \n",
       "17  https://news.naver.com/main/read.nhn?mode=LSD&...   \n",
       "18  https://news.naver.com/main/read.nhn?mode=LSD&...   \n",
       "19  https://news.naver.com/main/read.nhn?mode=LSD&...   \n",
       "\n",
       "                                              content  category  \n",
       "0   [앵커]국회 교섭단체 대표연설에 나선 국민의 힘 주호영 원내대표가 추미애 장관을 향...       100  \n",
       "1   강경화 외교부 장관이 루마니아 외무부 행사에 연설자로 나서 우리나라의 코로나 19 ...       100  \n",
       "2   당정청, 9일 4차 추경안 발표 초등생 학부모에도 돌봄쿠폰    이낙연 더불어민주당...       100  \n",
       "3   루마니아, 코로나19 대응법 공유받으려 강경화 초청…\"한국은 훌륭한 본보기\"강경화 ...       100  \n",
       "4   데이비드 비즐리 유엔세계식량계획 사무총장데이비드 비즐리 유엔세계식량계획 사무총장이 ...       100  \n",
       "5   김태년 \"공수처 정상출범 약속하면 특별감찰관·北인권재단 수용\"박범계, 공수처 모법 ...       100  \n",
       "6   [머니투데이 최경민  기자] [[the300]] [서울=뉴시스]강경화 외교부 장관....       100  \n",
       "7   국회 과학기술방송정보통신위원회가 8일 더불어민주당 윤영찬 의원의 포털 압박 문자를 ...       100  \n",
       "8   \"중국 단둥 세관에 반송 관련 기록 없어\"북한 김정은 국무위원장이 지난 6일 평양의...       100  \n",
       "9   [서울=뉴시스]박주성 기자 = 강경화 장관이 「보그단 루치안 아우레스쿠(Bogdan...       100  \n",
       "10  [서울=뉴시스]박주성 기자 = 강경화 장관이 「보그단 루치안 아우레스쿠(Bogdan...       100  \n",
       "11  [앵커]좋은 밤, 좋은 뉴스 < 원보가중계 > 시작합니다.첫 번째 소식입니다.앞선 ...       100  \n",
       "12  다른 국가 공관장 회의 참석 이례적…아시아 국가 외교장관 참석은 10년만에 처음강 ...       100  \n",
       "13  [사진 제공: 연합뉴스] 진중권 전 동양대 교수는 8일 윤영찬 더불어민주당 의원의 ...       100  \n",
       "14  【 앵커멘트 】  국회 교섭단체 대표연설에 나선 주호영 국민의힘 원내대표는 삼권분립...       100  \n",
       "15  (서울=연합뉴스) 북한 조선중앙TV는 8일 함경도 태풍 피해복구를 위해 평양 당원사...       100  \n",
       "16  (서울=연합뉴스) 북한 조선중앙TV는 8일 함경도 태풍 피해복구를 위해 평양 당원사...       100  \n",
       "17  (서울=뉴스1) 송영성 기자 = 주호영 국민의힘 원내대표는 8일 정부·여당의 정책을...       100  \n",
       "18  (서울=연합뉴스) 북한 조선중앙TV는 8일 함경도 태풍 피해복구를 위해 평양 당원사...       100  \n",
       "19  (서울=연합뉴스) 북한 조선중앙TV는 8일 함경도 태풍 피해복구를 위해 평양 당원사...       100  "
      ]
     },
     "execution_count": 72,
     "metadata": {},
     "output_type": "execute_result"
    }
   ],
   "source": [
    "get_articles(100, 20200908, 4)"
   ]
  },
  {
   "cell_type": "code",
   "execution_count": 5,
   "metadata": {
    "scrolled": true
   },
   "outputs": [
    {
     "name": "stdout",
     "output_type": "stream",
     "text": [
      "정치 1 2 3 4 5 6 7 8 9 10 11 12 13 14 15 \n",
      "경제 1 2 3 4 5 6 7 8 9 10 11 12 13 14 15 \n",
      "사회 1 2 3 4 5 6 7 8 9 10 11 12 13 14 15 \n",
      "생활/문화 1 2 3 4 5 6 7 8 9 10 11 12 13 14 15 \n",
      "세계 1 2 3 4 5 6 7 8 9 10 11 12 13 14 15 \n",
      "IT/과학 1 2 3 4 5 6 7 8 9 10 11 12 13 14 15 \n"
     ]
    }
   ],
   "source": [
    "dfs = []\n",
    "for category in categories:\n",
    "    print(categories[category], end=\" \")\n",
    "    for page in range(1, 16):\n",
    "        print(page, end=\" \")\n",
    "        df = get_articles(category, date, page)\n",
    "        dfs.append(df)\n",
    "    print()\n",
    "articles_df = pd.concat(dfs, ignore_index=True)"
   ]
  },
  {
   "cell_type": "code",
   "execution_count": 6,
   "metadata": {},
   "outputs": [
    {
     "data": {
      "text/html": [
       "<div>\n",
       "<style scoped>\n",
       "    .dataframe tbody tr th:only-of-type {\n",
       "        vertical-align: middle;\n",
       "    }\n",
       "\n",
       "    .dataframe tbody tr th {\n",
       "        vertical-align: top;\n",
       "    }\n",
       "\n",
       "    .dataframe thead th {\n",
       "        text-align: right;\n",
       "    }\n",
       "</style>\n",
       "<table border=\"1\" class=\"dataframe\">\n",
       "  <thead>\n",
       "    <tr style=\"text-align: right;\">\n",
       "      <th></th>\n",
       "      <th>title</th>\n",
       "      <th>link</th>\n",
       "      <th>content</th>\n",
       "      <th>category</th>\n",
       "    </tr>\n",
       "  </thead>\n",
       "  <tbody>\n",
       "    <tr>\n",
       "      <th>1770</th>\n",
       "      <td>카카오게임즈 달빛조각사, 서버 통합 실시</td>\n",
       "      <td>https://news.naver.com/main/read.nhn?mode=LSD&amp;...</td>\n",
       "      <td>(지디넷코리아=이도원  기자)카카오게임즈(각자 대표 남궁훈, 조계현)는 엑스엘게임즈...</td>\n",
       "      <td>105</td>\n",
       "    </tr>\n",
       "    <tr>\n",
       "      <th>1771</th>\n",
       "      <td>벤츠코리아, ‘아우스빌둥’ 4기 공식 출범…독일식 일-학습 병행 프로그램</td>\n",
       "      <td>https://news.naver.com/main/read.nhn?mode=LSD&amp;...</td>\n",
       "      <td>메르세데스-벤츠코리아 김지섭(왼쪽 두 번째) 대표이사 사장 직무대행 등이 7일 개최...</td>\n",
       "      <td>105</td>\n",
       "    </tr>\n",
       "    <tr>\n",
       "      <th>1772</th>\n",
       "      <td>코로나19 유전정보 분석하니…주요 변이 후보염기 27개 도출</td>\n",
       "      <td>https://news.naver.com/main/read.nhn?mode=LSD&amp;...</td>\n",
       "      <td>미국 대확산기 변이 분석…스파이크 17개·RNA보호 10개 후보 찾아미국 확진자 및...</td>\n",
       "      <td>105</td>\n",
       "    </tr>\n",
       "    <tr>\n",
       "      <th>1773</th>\n",
       "      <td>'빛의 계승자', 웹툰 '신의 탑' 콜라보 업데이트…'밤이 주인공으로?'</td>\n",
       "      <td>https://news.naver.com/main/read.nhn?mode=LSD&amp;...</td>\n",
       "      <td>[엑스포츠뉴스 최지영 기자] 빛의 계승자가 웹툰 신의 탑과 콜라보를 진행했다.8일 ...</td>\n",
       "      <td>105</td>\n",
       "    </tr>\n",
       "    <tr>\n",
       "      <th>1774</th>\n",
       "      <td>‘땡큐 中 신장 공안’…인권 문제로 비난받는 디즈니 &lt;뮬란&gt;</td>\n",
       "      <td>https://news.naver.com/main/read.nhn?mode=LSD&amp;...</td>\n",
       "      <td>디즈니 영화 &lt;뮬란&gt;이 중국의 인권탄압에 눈감았다는 비난에 직면했다. 신장 위구르족...</td>\n",
       "      <td>105</td>\n",
       "    </tr>\n",
       "  </tbody>\n",
       "</table>\n",
       "</div>"
      ],
      "text/plain": [
       "                                         title  \\\n",
       "1770                    카카오게임즈 달빛조각사, 서버 통합 실시   \n",
       "1771  벤츠코리아, ‘아우스빌둥’ 4기 공식 출범…독일식 일-학습 병행 프로그램   \n",
       "1772         코로나19 유전정보 분석하니…주요 변이 후보염기 27개 도출   \n",
       "1773  '빛의 계승자', 웹툰 '신의 탑' 콜라보 업데이트…'밤이 주인공으로?'   \n",
       "1774         ‘땡큐 中 신장 공안’…인권 문제로 비난받는 디즈니 <뮬란>   \n",
       "\n",
       "                                                   link  \\\n",
       "1770  https://news.naver.com/main/read.nhn?mode=LSD&...   \n",
       "1771  https://news.naver.com/main/read.nhn?mode=LSD&...   \n",
       "1772  https://news.naver.com/main/read.nhn?mode=LSD&...   \n",
       "1773  https://news.naver.com/main/read.nhn?mode=LSD&...   \n",
       "1774  https://news.naver.com/main/read.nhn?mode=LSD&...   \n",
       "\n",
       "                                                content  category  \n",
       "1770  (지디넷코리아=이도원  기자)카카오게임즈(각자 대표 남궁훈, 조계현)는 엑스엘게임즈...       105  \n",
       "1771  메르세데스-벤츠코리아 김지섭(왼쪽 두 번째) 대표이사 사장 직무대행 등이 7일 개최...       105  \n",
       "1772  미국 대확산기 변이 분석…스파이크 17개·RNA보호 10개 후보 찾아미국 확진자 및...       105  \n",
       "1773  [엑스포츠뉴스 최지영 기자] 빛의 계승자가 웹툰 신의 탑과 콜라보를 진행했다.8일 ...       105  \n",
       "1774  디즈니 영화 <뮬란>이 중국의 인권탄압에 눈감았다는 비난에 직면했다. 신장 위구르족...       105  "
      ]
     },
     "execution_count": 6,
     "metadata": {},
     "output_type": "execute_result"
    }
   ],
   "source": [
    "articles_df.tail()"
   ]
  },
  {
   "cell_type": "code",
   "execution_count": 7,
   "metadata": {},
   "outputs": [],
   "source": [
    "articles_df.to_csv(\"article.csv\", index=False, encoding=\"utf-8-sig\")"
   ]
  },
  {
   "cell_type": "code",
   "execution_count": null,
   "metadata": {},
   "outputs": [],
   "source": []
  }
 ],
 "metadata": {
  "kernelspec": {
   "display_name": "Python 3",
   "language": "python",
   "name": "python3"
  },
  "language_info": {
   "codemirror_mode": {
    "name": "ipython",
    "version": 3
   },
   "file_extension": ".py",
   "mimetype": "text/x-python",
   "name": "python",
   "nbconvert_exporter": "python",
   "pygments_lexer": "ipython3",
   "version": "3.7.6"
  }
 },
 "nbformat": 4,
 "nbformat_minor": 4
}
