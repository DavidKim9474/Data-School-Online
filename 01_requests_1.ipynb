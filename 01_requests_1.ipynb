{
 "cells": [
  {
   "cell_type": "markdown",
   "metadata": {},
   "source": [
    "### web crawling\n",
    "- 1. requests : json : 동적페이지 (URL 변경 없이 데이터를 수정 및 추가)\n",
    "- 2. requests : html : 정적페이지 (URL 변경으로 데이터를 수정 및 추가)\n",
    "- 3. selenium : web browser : 1, 2번 방법을 사용하지 못할 때 사용 (다만 속도가 조금 느림)"
   ]
  },
  {
   "cell_type": "markdown",
   "metadata": {},
   "source": [
    "### 1. 네이버 주식 데이터 크롤링\n",
    "- 코스피 데이터 수집\n",
    "- 코스닥 데이터 수집\n",
    "- USD 환율 데이터 수집\n",
    "- 그래프, 상관계수 확인"
   ]
  },
  {
   "cell_type": "markdown",
   "metadata": {},
   "source": [
    "### 크롤링 절차\n",
    "- 1. 웹 서비스 분석 : URL 확인\n",
    "- 2. requests, response : json 데이터(문자열)를 얻기\n",
    "- 3. json 데이터(문자열) : dict(파싱) -> 데이터 프레임으로 형변환"
   ]
  },
  {
   "cell_type": "code",
   "execution_count": 1,
   "metadata": {},
   "outputs": [],
   "source": [
    "import requests"
   ]
  },
  {
   "cell_type": "code",
   "execution_count": 2,
   "metadata": {},
   "outputs": [
    {
     "name": "stdout",
     "output_type": "stream",
     "text": [
      "https://m.stock.naver.com/api/json/sise/dailySiseIndexListJson.nhn?code=KOSPI&pageSize=20&page=1\n"
     ]
    }
   ],
   "source": [
    "# 1. 웹 서비스 분석 : URL 찾기\n",
    "code, page_size, page = \"KOSPI\", 20, 1\n",
    "\n",
    "url = \"https://m.stock.naver.com/api/json/sise/dailySiseIndexListJson.nhn?\\\n",
    "code={}&pageSize={}&page={}\".format(code, page_size, page)\n",
    "\n",
    "print(url)"
   ]
  },
  {
   "cell_type": "code",
   "execution_count": 3,
   "metadata": {
    "scrolled": true
   },
   "outputs": [
    {
     "data": {
      "text/plain": [
       "<Response [200]>"
      ]
     },
     "execution_count": 3,
     "metadata": {},
     "output_type": "execute_result"
    }
   ],
   "source": [
    "# 2. request, response : JSON(str)\n",
    "response = requests.get(url)\n",
    "response"
   ]
  },
  {
   "cell_type": "code",
   "execution_count": 4,
   "metadata": {},
   "outputs": [
    {
     "data": {
      "text/plain": [
       "str"
      ]
     },
     "execution_count": 4,
     "metadata": {},
     "output_type": "execute_result"
    }
   ],
   "source": [
    "type(response.text)"
   ]
  },
  {
   "cell_type": "code",
   "execution_count": 5,
   "metadata": {
    "scrolled": false
   },
   "outputs": [
    {
     "data": {
      "text/html": [
       "<div>\n",
       "<style scoped>\n",
       "    .dataframe tbody tr th:only-of-type {\n",
       "        vertical-align: middle;\n",
       "    }\n",
       "\n",
       "    .dataframe tbody tr th {\n",
       "        vertical-align: top;\n",
       "    }\n",
       "\n",
       "    .dataframe thead th {\n",
       "        text-align: right;\n",
       "    }\n",
       "</style>\n",
       "<table border=\"1\" class=\"dataframe\">\n",
       "  <thead>\n",
       "    <tr style=\"text-align: right;\">\n",
       "      <th></th>\n",
       "      <th>cd</th>\n",
       "      <th>dt</th>\n",
       "      <th>ncv</th>\n",
       "      <th>cv</th>\n",
       "      <th>cr</th>\n",
       "      <th>ov</th>\n",
       "      <th>hv</th>\n",
       "      <th>lv</th>\n",
       "    </tr>\n",
       "  </thead>\n",
       "  <tbody>\n",
       "    <tr>\n",
       "      <th>0</th>\n",
       "      <td>KOSPI</td>\n",
       "      <td>20200901</td>\n",
       "      <td>2349.55</td>\n",
       "      <td>23.38</td>\n",
       "      <td>1.01</td>\n",
       "      <td>2340.19</td>\n",
       "      <td>2355.90</td>\n",
       "      <td>2331.23</td>\n",
       "    </tr>\n",
       "    <tr>\n",
       "      <th>1</th>\n",
       "      <td>KOSPI</td>\n",
       "      <td>20200831</td>\n",
       "      <td>2326.17</td>\n",
       "      <td>-27.63</td>\n",
       "      <td>-1.17</td>\n",
       "      <td>2377.09</td>\n",
       "      <td>2381.50</td>\n",
       "      <td>2326.06</td>\n",
       "    </tr>\n",
       "    <tr>\n",
       "      <th>2</th>\n",
       "      <td>KOSPI</td>\n",
       "      <td>20200828</td>\n",
       "      <td>2353.80</td>\n",
       "      <td>9.35</td>\n",
       "      <td>0.40</td>\n",
       "      <td>2362.22</td>\n",
       "      <td>2379.26</td>\n",
       "      <td>2345.28</td>\n",
       "    </tr>\n",
       "    <tr>\n",
       "      <th>3</th>\n",
       "      <td>KOSPI</td>\n",
       "      <td>20200827</td>\n",
       "      <td>2344.45</td>\n",
       "      <td>-24.87</td>\n",
       "      <td>-1.05</td>\n",
       "      <td>2371.95</td>\n",
       "      <td>2373.36</td>\n",
       "      <td>2344.38</td>\n",
       "    </tr>\n",
       "    <tr>\n",
       "      <th>4</th>\n",
       "      <td>KOSPI</td>\n",
       "      <td>20200826</td>\n",
       "      <td>2369.32</td>\n",
       "      <td>2.59</td>\n",
       "      <td>0.11</td>\n",
       "      <td>2367.74</td>\n",
       "      <td>2374.68</td>\n",
       "      <td>2336.98</td>\n",
       "    </tr>\n",
       "  </tbody>\n",
       "</table>\n",
       "</div>"
      ],
      "text/plain": [
       "      cd        dt      ncv     cv    cr       ov       hv       lv\n",
       "0  KOSPI  20200901  2349.55  23.38  1.01  2340.19  2355.90  2331.23\n",
       "1  KOSPI  20200831  2326.17 -27.63 -1.17  2377.09  2381.50  2326.06\n",
       "2  KOSPI  20200828  2353.80   9.35  0.40  2362.22  2379.26  2345.28\n",
       "3  KOSPI  20200827  2344.45 -24.87 -1.05  2371.95  2373.36  2344.38\n",
       "4  KOSPI  20200826  2369.32   2.59  0.11  2367.74  2374.68  2336.98"
      ]
     },
     "execution_count": 5,
     "metadata": {},
     "output_type": "execute_result"
    }
   ],
   "source": [
    "# 3. JSON(str) -> JSON(dict) -> DF\n",
    "data = response.json()[\"result\"][\"siseList\"]\n",
    "kospi_df = pd.DataFrame(data)\n",
    "kospi_df.head()"
   ]
  },
  {
   "cell_type": "code",
   "execution_count": 6,
   "metadata": {},
   "outputs": [],
   "source": [
    "# 함수로 만들기\n",
    "def get_stock_data(code, page_size=20, page=1):\n",
    "    url = \"https://m.stock.naver.com/api/json/sise/dailySiseIndexListJson.nhn?\\\n",
    "code={}&pageSize={}&page={}\".format(code, page_size, page)\n",
    "    response = requests.get(url)\n",
    "    data = response.json()[\"result\"][\"siseList\"]\n",
    "    return pd.DataFrame(data)"
   ]
  },
  {
   "cell_type": "code",
   "execution_count": 7,
   "metadata": {},
   "outputs": [],
   "source": [
    "kospi_df = get_stock_data(\"KOSPI\", 100)\n",
    "kosdaq_df = get_stock_data(\"KOSDAQ\", 100)"
   ]
  },
  {
   "cell_type": "markdown",
   "metadata": {},
   "source": [
    "### USD 수집"
   ]
  },
  {
   "cell_type": "code",
   "execution_count": 8,
   "metadata": {},
   "outputs": [],
   "source": [
    "# 1. 웹페이지 분석 : URL"
   ]
  },
  {
   "cell_type": "code",
   "execution_count": 24,
   "metadata": {},
   "outputs": [
    {
     "name": "stdout",
     "output_type": "stream",
     "text": [
      "https://m.stock.naver.com/api/json/marketindex/marketIndexDay.nhn?marketIndexCd=FX_USDKRW&pageSize=100&page=1\n"
     ]
    }
   ],
   "source": [
    "code, page_size, page = \"FX_USDKRW\", 100, 1\n",
    "\n",
    "url = \"https://m.stock.naver.com/api/json/marketindex/marketIndexDay.nhn?\\\n",
    "marketIndexCd={}&pageSize={}&page={}\".format(code, page_size, page)\n",
    "\n",
    "print(url)"
   ]
  },
  {
   "cell_type": "code",
   "execution_count": 25,
   "metadata": {},
   "outputs": [],
   "source": [
    "# 2. requests, resposne : JSON(str)"
   ]
  },
  {
   "cell_type": "code",
   "execution_count": 26,
   "metadata": {},
   "outputs": [
    {
     "data": {
      "text/plain": [
       "<Response [200]>"
      ]
     },
     "execution_count": 26,
     "metadata": {},
     "output_type": "execute_result"
    }
   ],
   "source": [
    "# 쿠키 데이터 추가해서 요청\n",
    "\n",
    "params = {\n",
    "    'cookie': 'NNB=ZZIK6AX4QM5V6; NRTK=ag#all_gr#1_ma#-2_si#0_en#0_sp#0; nx_ssl=2; nid_inf=-1356269196; NID_JKL=Drk1opENWd/QnCMw/UJikAc0KZ8ty1h6MQIMA3vPGxc=; NID_AUT=fNBhFgQd11TS/XQyie+5yJUa1BjoQez3Gq58TgQ3hTbev5EeHPvCWeXY/G+LQKz5; NV_WETR_LAST_ACCESS_RGN_M=\"MDk3NDAxMDM=\"; NV_WETR_LOCATION_RGN_M=\"MDk3NDAxMDM=\"; ASID=0e20c3b9000001744440812600000062; EXT_V1=05119019-a53b-4d79-b320-9ee1a34605d0; NID_SES=AAABh+Pb2NdvaX8bQaLaWRlTwKSHcSt+qoGTDMo/RcaPJiExbW5SuWig4YDvbW3/Gnth98n5IIFpDqFKB3M9e4yYnWbFh/tV1xPmeBBmT0BSGZwTdf7mCEF4wATdcnWfD0XLT1ignNI09WipdHIJqxWG6mFvjKk/ycnim7OojN7c3s3ifWLtb3cZHe1Wc6+isMlhvGlDtCId2lX5GscRKSrT1KsD1+7K4sLr/5mfbQYYYWJkdozdy/ebhYP9zLSuaf1YUehu4yOOxEOWVow68AcBcTV7mXfofC2PI0qBNZ39y2+IQHPIr0K6QrNJm680YYKSdL1m1tjNq4WWEuo/sA+VfrxPb1TIpGEpc7HLNXQREcBErqJMwLzfL/M1Yk2h9nqXw1B7c5fifeYKbATlHryNzh9x1KLD4BUwxaqeCbtgaeHIj1ee77FbtOWKvcpL3eyfkUoFtTn6gtYfScPcmFX1KHhh/d4ZFKcmVIfT/M67UbjaLhhbFYcWvXQjpkyDUtjSHQLropO9WEpXQdU147aIV7U=; my_layer_account_close_popup=1; my_last_menu_id=-2; JSESSIONID=3F9D594A36D339AF3375EBA8741B41DD; BMR=; XSRF-TOKEN=4fb6df2e-5cc5-4794-9d17-0dcc5263a257'\n",
    "}\n",
    "\n",
    "response = requests.get(url, headers=params)\n",
    "response"
   ]
  },
  {
   "cell_type": "code",
   "execution_count": 27,
   "metadata": {
    "scrolled": true
   },
   "outputs": [
    {
     "data": {
      "text/plain": [
       "'{\"result\":{\"marketIndexDay\":[{\"dt\":\"20200901\",\"nv\":1183.2,\"cv\":-3.8,\"cr\":-0.32,\"cbv\":1203.9,\"csv\":1162.5,\"sv\":1194.7,\"rv\":1171.7},{\"dt\":\"20200831\",\"nv\":1187.0,\"cv\":4.0,\"cr\":0.34,\"cbv\":1207.77,\"csv\":1166.23,\"sv\":1198.6,\"rv\":1175.4},{\"dt\":\"20200828\",\"nv\":1183.0,\"cv\":-2.8,\"cr\":-0.24,\"cbv\":1203.7,\"csv\":1162.3,\"sv\":1194.5,\"rv\":1171.5},{\"dt\":\"20200827\",\"nv\":1185.8,\"cv\":-1.2,\"cr\":-0.1,\"cbv\":1206.55,\"csv\":1165.05,\"sv\":1197.4,\"rv\":1174.2},{\"dt\":\"20200826\",\"nv\":1187.0,\"cv\":0.0,\"cr\":0.0,\"cbv\":1207.77,\"csv\":1166.23,\"sv\":1198.6,\"rv\":1175.4},{\"dt\":\"20200825\",\"nv\":1187.0,\"cv\":-1.0,\"cr\":-0.08,\"cbv\":1207.77,\"csv\":1166.23,\"sv\":1198.6,\"rv\":1175.4},{\"dt\":\"20200824\",\"nv\":1188.0,\"cv\":-1.5,\"cr\":-0.13,\"cbv\":1208.79,\"csv\":1167.21,\"sv\":1199.6,\"rv\":1176.4},{\"dt\":\"20200821\",\"nv\":1189.5,\"cv\":1.0,\"cr\":0.08,\"cbv\":1210.31,\"csv\":1168.69,\"sv\":1201.1,\"rv\":1177.9},{\"dt\":\"20200820\",\"nv\":1188.5,\"cv\":10.5,\"cr\":0.89,\"cbv\":1209.29,\"csv\":1167.71,\"sv\":1200.1,\"rv\":1176.9},{\"dt\":\"20200819\",\"nv\":1178.0,\"cv\":-6.5,\"cr\":-0.55,\"cbv\":1198.61,\"csv\":1157.39,\"sv\":1189.5,\"rv\":1166.5},{\"dt\":\"20200818\",\"nv\":1184.5,\"cv\":-3.0,\"cr\":-0.25,\"cbv\":1205.22,\"csv\":1163.78,\"sv\":1196.1,\"rv\":1172.9},{\"dt\":\"20200814\",\"nv\":1187.5,\"cv\":3.0,\"cr\":0.25,\"cbv\":1208.28,\"csv\":1166.72,\"sv\":1199.1,\"rv\":1175.9},{\"dt\":\"20200813\",\"nv\":1184.5,\"cv\":0.0,\"cr\":0.0,\"cbv\":1205.22,\"csv\":1163.78,\"sv\":1196.1,\"rv\":1172.9},{\"dt\":\"20200812\",\"nv\":1184.5,\"cv\":0.0,\"cr\":0.0,\"cbv\":1205.22,\"csv\":1163.78,\"sv\":1196.1,\"rv\":1172.9},{\"dt\":\"20200811\",\"nv\":1184.5,\"cv\":-3.0,\"cr\":-0.25,\"cbv\":1205.22,\"csv\":1163.78,\"sv\":1196.1,\"rv\":1172.9},{\"dt\":\"20200810\",\"nv\":1187.5,\"cv\":-1.0,\"cr\":-0.08,\"cbv\":1208.28,\"csv\":1166.72,\"sv\":1199.1,\"rv\":1175.9},{\"dt\":\"20200807\",\"nv\":1188.5,\"cv\":3.0,\"cr\":0.25,\"cbv\":1209.29,\"csv\":1167.71,\"sv\":1200.1,\"rv\":1176.9},{\"dt\":\"20200806\",\"nv\":1185.5,\"cv\":-2.5,\"cr\":-0.21,\"cbv\":1206.24,\"csv\":1164.76,\"sv\":1197.1,\"rv\":1173.9},{\"dt\":\"20200805\",\"nv\":1188.0,\"cv\":-6.5,\"cr\":-0.54,\"cbv\":1208.79,\"csv\":1167.21,\"sv\":1199.6,\"rv\":1176.4},{\"dt\":\"20200804\",\"nv\":1194.5,\"cv\":-1.2,\"cr\":-0.1,\"cbv\":1215.4,\"csv\":1173.6,\"sv\":1206.2,\"rv\":1182.8},{\"dt\":\"20200803\",\"nv\":1195.7,\"cv\":4.7,\"cr\":0.39,\"cbv\":1216.62,\"csv\":1174.78,\"sv\":1207.4,\"rv\":1184.0},{\"dt\":\"20200731\",\"nv\":1191.0,\"cv\":-5.0,\"cr\":-0.42,\"cbv\":1211.84,\"csv\":1170.16,\"sv\":1202.6,\"rv\":1179.4},{\"dt\":\"20200730\",\"nv\":1196.0,\"cv\":2.0,\"cr\":0.17,\"cbv\":1216.93,\"csv\":1175.07,\"sv\":1207.7,\"rv\":1184.3},{\"dt\":\"20200729\",\"nv\":1194.0,\"cv\":-5.5,\"cr\":-0.46,\"cbv\":1214.89,\"csv\":1173.11,\"sv\":1205.7,\"rv\":1182.3},{\"dt\":\"20200728\",\"nv\":1199.5,\"cv\":2.5,\"cr\":0.21,\"cbv\":1220.49,\"csv\":1178.51,\"sv\":1211.2,\"rv\":1187.8},{\"dt\":\"20200727\",\"nv\":1197.0,\"cv\":-7.0,\"cr\":-0.58,\"cbv\":1217.94,\"csv\":1176.06,\"sv\":1208.7,\"rv\":1185.3},{\"dt\":\"20200724\",\"nv\":1204.0,\"cv\":5.5,\"cr\":0.46,\"cbv\":1225.07,\"csv\":1182.93,\"sv\":1215.7,\"rv\":1192.3},{\"dt\":\"20200723\",\"nv\":1198.5,\"cv\":1.5,\"cr\":0.13,\"cbv\":1219.47,\"csv\":1177.53,\"sv\":1210.2,\"rv\":1186.8},{\"dt\":\"20200722\",\"nv\":1197.0,\"cv\":1.0,\"cr\":0.08,\"cbv\":1217.94,\"csv\":1176.06,\"sv\":1208.7,\"rv\":1185.3},{\"dt\":\"20200721\",\"nv\":1196.0,\"cv\":-7.0,\"cr\":-0.58,\"cbv\":1216.93,\"csv\":1175.07,\"sv\":1207.7,\"rv\":1184.3},{\"dt\":\"20200720\",\"nv\":1203.0,\"cv\":-2.0,\"cr\":-0.17,\"cbv\":1224.05,\"csv\":1181.95,\"sv\":1214.7,\"rv\":1191.3},{\"dt\":\"20200717\",\"nv\":1205.0,\"cv\":0.0,\"cr\":0.0,\"cbv\":1226.08,\"csv\":1183.92,\"sv\":1216.8,\"rv\":1193.2},{\"dt\":\"20200716\",\"nv\":1205.0,\"cv\":4.0,\"cr\":0.33,\"cbv\":1226.08,\"csv\":1183.92,\"sv\":1216.8,\"rv\":1193.2},{\"dt\":\"20200715\",\"nv\":1201.0,\"cv\":-5.5,\"cr\":-0.46,\"cbv\":1222.01,\"csv\":1179.99,\"sv\":1212.7,\"rv\":1189.3},{\"dt\":\"20200714\",\"nv\":1206.5,\"cv\":3.5,\"cr\":0.29,\"cbv\":1227.61,\"csv\":1185.39,\"sv\":1218.3,\"rv\":1194.7},{\"dt\":\"20200713\",\"nv\":1203.0,\"cv\":2.0,\"cr\":0.17,\"cbv\":1224.05,\"csv\":1181.95,\"sv\":1214.7,\"rv\":1191.3},{\"dt\":\"20200710\",\"nv\":1201.0,\"cv\":6.0,\"cr\":0.5,\"cbv\":1222.01,\"csv\":1179.99,\"sv\":1212.7,\"rv\":1189.3},{\"dt\":\"20200709\",\"nv\":1195.0,\"cv\":0.0,\"cr\":0.0,\"cbv\":1215.91,\"csv\":1174.09,\"sv\":1206.7,\"rv\":1183.3},{\"dt\":\"20200708\",\"nv\":1195.0,\"cv\":-2.0,\"cr\":-0.17,\"cbv\":1215.91,\"csv\":1174.09,\"sv\":1206.7,\"rv\":1183.3},{\"dt\":\"20200707\",\"nv\":1197.0,\"cv\":3.0,\"cr\":0.25,\"cbv\":1217.94,\"csv\":1176.06,\"sv\":1208.7,\"rv\":1185.3},{\"dt\":\"20200706\",\"nv\":1194.0,\"cv\":-5.5,\"cr\":-0.46,\"cbv\":1214.89,\"csv\":1173.11,\"sv\":1205.7,\"rv\":1182.3},{\"dt\":\"20200703\",\"nv\":1199.5,\"cv\":0.5,\"cr\":0.04,\"cbv\":1220.49,\"csv\":1178.51,\"sv\":1211.2,\"rv\":1187.8},{\"dt\":\"20200702\",\"nv\":1199.0,\"cv\":-4.5,\"cr\":-0.37,\"cbv\":1219.98,\"csv\":1178.02,\"sv\":1210.7,\"rv\":1187.3},{\"dt\":\"20200701\",\"nv\":1203.5,\"cv\":0.5,\"cr\":0.04,\"cbv\":1224.56,\"csv\":1182.44,\"sv\":1215.2,\"rv\":1191.8},{\"dt\":\"20200630\",\"nv\":1203.0,\"cv\":2.5,\"cr\":0.21,\"cbv\":1224.05,\"csv\":1181.95,\"sv\":1214.7,\"rv\":1191.3},{\"dt\":\"20200629\",\"nv\":1200.5,\"cv\":-3.5,\"cr\":-0.29,\"cbv\":1221.5,\"csv\":1179.5,\"sv\":1212.2,\"rv\":1188.8},{\"dt\":\"20200626\",\"nv\":1204.0,\"cv\":0.5,\"cr\":0.04,\"cbv\":1225.07,\"csv\":1182.93,\"sv\":1215.7,\"rv\":1192.3},{\"dt\":\"20200625\",\"nv\":1203.5,\"cv\":1.0,\"cr\":0.08,\"cbv\":1224.56,\"csv\":1182.44,\"sv\":1215.2,\"rv\":1191.8},{\"dt\":\"20200624\",\"nv\":1202.5,\"cv\":-6.5,\"cr\":-0.54,\"cbv\":1223.54,\"csv\":1181.46,\"sv\":1214.2,\"rv\":1190.8},{\"dt\":\"20200623\",\"nv\":1209.0,\"cv\":-5.0,\"cr\":-0.41,\"cbv\":1230.15,\"csv\":1187.85,\"sv\":1220.8,\"rv\":1197.2},{\"dt\":\"20200622\",\"nv\":1214.0,\"cv\":4.5,\"cr\":0.37,\"cbv\":1235.24,\"csv\":1192.76,\"sv\":1225.8,\"rv\":1202.2},{\"dt\":\"20200619\",\"nv\":1209.5,\"cv\":0.0,\"cr\":0.0,\"cbv\":1230.66,\"csv\":1188.34,\"sv\":1221.3,\"rv\":1197.7},{\"dt\":\"20200618\",\"nv\":1209.5,\"cv\":-4.0,\"cr\":-0.33,\"cbv\":1230.66,\"csv\":1188.34,\"sv\":1221.3,\"rv\":1197.7},{\"dt\":\"20200617\",\"nv\":1213.5,\"cv\":1.5,\"cr\":0.12,\"cbv\":1234.73,\"csv\":1192.27,\"sv\":1225.3,\"rv\":1201.7},{\"dt\":\"20200616\",\"nv\":1212.0,\"cv\":-3.5,\"cr\":-0.29,\"cbv\":1233.21,\"csv\":1190.79,\"sv\":1223.8,\"rv\":1200.2},{\"dt\":\"20200615\",\"nv\":1215.5,\"cv\":12.5,\"cr\":1.04,\"cbv\":1236.77,\"csv\":1194.23,\"sv\":1227.4,\"rv\":1203.6},{\"dt\":\"20200612\",\"nv\":1203.0,\"cv\":7.5,\"cr\":0.63,\"cbv\":1224.05,\"csv\":1181.95,\"sv\":1214.7,\"rv\":1191.3},{\"dt\":\"20200611\",\"nv\":1195.5,\"cv\":4.5,\"cr\":0.38,\"cbv\":1216.42,\"csv\":1174.58,\"sv\":1207.2,\"rv\":1183.8},{\"dt\":\"20200610\",\"nv\":1191.0,\"cv\":-10.0,\"cr\":-0.83,\"cbv\":1211.84,\"csv\":1170.16,\"sv\":1202.6,\"rv\":1179.4},{\"dt\":\"20200609\",\"nv\":1201.0,\"cv\":0.0,\"cr\":0.0,\"cbv\":1222.01,\"csv\":1179.99,\"sv\":1212.7,\"rv\":1189.3},{\"dt\":\"20200608\",\"nv\":1201.0,\"cv\":-8.0,\"cr\":-0.66,\"cbv\":1222.01,\"csv\":1179.99,\"sv\":1212.7,\"rv\":1189.3},{\"dt\":\"20200605\",\"nv\":1209.0,\"cv\":-10.5,\"cr\":-0.86,\"cbv\":1230.15,\"csv\":1187.85,\"sv\":1220.8,\"rv\":1197.2},{\"dt\":\"20200604\",\"nv\":1219.5,\"cv\":2.5,\"cr\":0.21,\"cbv\":1240.84,\"csv\":1198.16,\"sv\":1231.4,\"rv\":1207.6},{\"dt\":\"20200603\",\"nv\":1217.0,\"cv\":-5.5,\"cr\":-0.45,\"cbv\":1238.29,\"csv\":1195.71,\"sv\":1228.9,\"rv\":1205.1},{\"dt\":\"20200602\",\"nv\":1222.5,\"cv\":-5.5,\"cr\":-0.45,\"cbv\":1243.89,\"csv\":1201.11,\"sv\":1234.4,\"rv\":1210.6},{\"dt\":\"20200601\",\"nv\":1228.0,\"cv\":-10.0,\"cr\":-0.81,\"cbv\":1249.49,\"csv\":1206.51,\"sv\":1240.0,\"rv\":1216.0},{\"dt\":\"20200529\",\"nv\":1238.0,\"cv\":-2.0,\"cr\":-0.16,\"cbv\":1259.66,\"csv\":1216.34,\"sv\":1250.1,\"rv\":1225.9},{\"dt\":\"20200528\",\"nv\":1240.0,\"cv\":5.5,\"cr\":0.45,\"cbv\":1261.7,\"csv\":1218.3,\"sv\":1252.1,\"rv\":1227.9},{\"dt\":\"20200527\",\"nv\":1234.5,\"cv\":0.5,\"cr\":0.04,\"cbv\":1256.1,\"csv\":1212.9,\"sv\":1246.5,\"rv\":1222.5},{\"dt\":\"20200526\",\"nv\":1234.0,\"cv\":-8.0,\"cr\":-0.64,\"cbv\":1255.59,\"csv\":1212.41,\"sv\":1246.0,\"rv\":1222.0},{\"dt\":\"20200525\",\"nv\":1242.0,\"cv\":1.5,\"cr\":0.12,\"cbv\":1263.73,\"csv\":1220.27,\"sv\":1254.1,\"rv\":1229.9},{\"dt\":\"20200522\",\"nv\":1240.5,\"cv\":10.0,\"cr\":0.81,\"cbv\":1262.2,\"csv\":1218.8,\"sv\":1252.6,\"rv\":1228.4},{\"dt\":\"20200521\",\"nv\":1230.5,\"cv\":1.5,\"cr\":0.12,\"cbv\":1252.03,\"csv\":1208.97,\"sv\":1242.5,\"rv\":1218.5},{\"dt\":\"20200520\",\"nv\":1229.0,\"cv\":3.0,\"cr\":0.24,\"cbv\":1250.5,\"csv\":1207.5,\"sv\":1241.0,\"rv\":1217.0},{\"dt\":\"20200519\",\"nv\":1226.0,\"cv\":-8.5,\"cr\":-0.69,\"cbv\":1247.45,\"csv\":1204.55,\"sv\":1238.0,\"rv\":1214.0},{\"dt\":\"20200518\",\"nv\":1234.5,\"cv\":1.5,\"cr\":0.12,\"cbv\":1256.1,\"csv\":1212.9,\"sv\":1246.5,\"rv\":1222.5},{\"dt\":\"20200515\",\"nv\":1230.5,\"cv\":2.0,\"cr\":0.16,\"cbv\":1252.03,\"csv\":1208.97,\"sv\":1242.5,\"rv\":1218.5},{\"dt\":\"20200514\",\"nv\":1228.5,\"cv\":4.0,\"cr\":0.33,\"cbv\":1249.99,\"csv\":1207.01,\"sv\":1240.5,\"rv\":1216.5},{\"dt\":\"20200513\",\"nv\":1224.5,\"cv\":0.5,\"cr\":0.04,\"cbv\":1245.92,\"csv\":1203.08,\"sv\":1236.5,\"rv\":1212.5},{\"dt\":\"20200512\",\"nv\":1224.0,\"cv\":0.0,\"cr\":0.0,\"cbv\":1245.42,\"csv\":1202.58,\"sv\":1235.9,\"rv\":1212.1},{\"dt\":\"20200511\",\"nv\":1224.0,\"cv\":3.0,\"cr\":0.25,\"cbv\":1245.42,\"csv\":1202.58,\"sv\":1235.9,\"rv\":1212.1},{\"dt\":\"20200508\",\"nv\":1221.0,\"cv\":-3.0,\"cr\":-0.25,\"cbv\":1242.36,\"csv\":1199.64,\"sv\":1232.9,\"rv\":1209.1},{\"dt\":\"20200507\",\"nv\":1224.0,\"cv\":-1.5,\"cr\":-0.12,\"cbv\":1245.42,\"csv\":1202.58,\"sv\":1235.9,\"rv\":1212.1},{\"dt\":\"20200506\",\"nv\":1225.5,\"cv\":0.0,\"cr\":0.0,\"cbv\":1246.94,\"csv\":1204.06,\"sv\":1237.5,\"rv\":1213.5},{\"dt\":\"20200504\",\"nv\":1225.5,\"cv\":1.5,\"cr\":0.12,\"cbv\":1246.94,\"csv\":1204.06,\"sv\":1237.5,\"rv\":1213.5},{\"dt\":\"20200429\",\"nv\":1219.0,\"cv\":-0.5,\"cr\":-0.04,\"cbv\":1240.33,\"csv\":1197.67,\"sv\":1230.9,\"rv\":1207.1},{\"dt\":\"20200428\",\"nv\":1219.5,\"cv\":-6.5,\"cr\":-0.53,\"cbv\":1240.84,\"csv\":1198.16,\"sv\":1231.4,\"rv\":1207.6},{\"dt\":\"20200427\",\"nv\":1226.0,\"cv\":-8.5,\"cr\":-0.69,\"cbv\":1247.45,\"csv\":1204.55,\"sv\":1238.0,\"rv\":1214.0},{\"dt\":\"20200424\",\"nv\":1234.5,\"cv\":3.5,\"cr\":0.28,\"cbv\":1256.1,\"csv\":1212.9,\"sv\":1246.5,\"rv\":1222.5},{\"dt\":\"20200423\",\"nv\":1231.0,\"cv\":-1.0,\"cr\":-0.08,\"cbv\":1252.54,\"csv\":1209.46,\"sv\":1243.0,\"rv\":1219.0},{\"dt\":\"20200422\",\"nv\":1232.0,\"cv\":1.0,\"cr\":0.08,\"cbv\":1253.56,\"csv\":1210.44,\"sv\":1244.0,\"rv\":1220.0},{\"dt\":\"20200421\",\"nv\":1231.0,\"cv\":11.0,\"cr\":0.9,\"cbv\":1252.54,\"csv\":1209.46,\"sv\":1243.0,\"rv\":1219.0},{\"dt\":\"20200420\",\"nv\":1220.0,\"cv\":3.0,\"cr\":0.25,\"cbv\":1241.35,\"csv\":1198.65,\"sv\":1231.9,\"rv\":1208.1},{\"dt\":\"20200417\",\"nv\":1217.0,\"cv\":-9.0,\"cr\":-0.73,\"cbv\":1238.29,\"csv\":1195.71,\"sv\":1228.9,\"rv\":1205.1},{\"dt\":\"20200416\",\"nv\":1226.0,\"cv\":10.0,\"cr\":0.82,\"cbv\":1247.45,\"csv\":1204.55,\"sv\":1238.0,\"rv\":1214.0},{\"dt\":\"20200414\",\"nv\":1216.0,\"cv\":-1.5,\"cr\":-0.12,\"cbv\":1237.28,\"csv\":1194.72,\"sv\":1227.9,\"rv\":1204.1},{\"dt\":\"20200413\",\"nv\":1217.5,\"cv\":5.0,\"cr\":0.41,\"cbv\":1238.8,\"csv\":1196.2,\"sv\":1229.4,\"rv\":1205.6},{\"dt\":\"20200410\",\"nv\":1212.5,\"cv\":-6.5,\"cr\":-0.53,\"cbv\":1233.71,\"csv\":1191.29,\"sv\":1224.3,\"rv\":1200.7},{\"dt\":\"20200409\",\"nv\":1219.0,\"cv\":-1.0,\"cr\":-0.08,\"cbv\":1240.33,\"csv\":1197.67,\"sv\":1230.9,\"rv\":1207.1},{\"dt\":\"20200408\",\"nv\":1220.0,\"cv\":6.0,\"cr\":0.49,\"cbv\":1241.35,\"csv\":1198.65,\"sv\":1231.9,\"rv\":1208.1}]},\"resultCode\":\"success\"}'"
      ]
     },
     "execution_count": 27,
     "metadata": {},
     "output_type": "execute_result"
    }
   ],
   "source": [
    "response.text"
   ]
  },
  {
   "cell_type": "code",
   "execution_count": null,
   "metadata": {},
   "outputs": [],
   "source": [
    "# 3. JSON(str) -> JSON(dict) -> DF"
   ]
  },
  {
   "cell_type": "code",
   "execution_count": 28,
   "metadata": {},
   "outputs": [
    {
     "data": {
      "text/html": [
       "<div>\n",
       "<style scoped>\n",
       "    .dataframe tbody tr th:only-of-type {\n",
       "        vertical-align: middle;\n",
       "    }\n",
       "\n",
       "    .dataframe tbody tr th {\n",
       "        vertical-align: top;\n",
       "    }\n",
       "\n",
       "    .dataframe thead th {\n",
       "        text-align: right;\n",
       "    }\n",
       "</style>\n",
       "<table border=\"1\" class=\"dataframe\">\n",
       "  <thead>\n",
       "    <tr style=\"text-align: right;\">\n",
       "      <th></th>\n",
       "      <th>dt</th>\n",
       "      <th>nv</th>\n",
       "      <th>cv</th>\n",
       "      <th>cr</th>\n",
       "      <th>cbv</th>\n",
       "      <th>csv</th>\n",
       "      <th>sv</th>\n",
       "      <th>rv</th>\n",
       "    </tr>\n",
       "  </thead>\n",
       "  <tbody>\n",
       "    <tr>\n",
       "      <th>0</th>\n",
       "      <td>20200901</td>\n",
       "      <td>1183.2</td>\n",
       "      <td>-3.8</td>\n",
       "      <td>-0.32</td>\n",
       "      <td>1203.90</td>\n",
       "      <td>1162.50</td>\n",
       "      <td>1194.7</td>\n",
       "      <td>1171.7</td>\n",
       "    </tr>\n",
       "    <tr>\n",
       "      <th>1</th>\n",
       "      <td>20200831</td>\n",
       "      <td>1187.0</td>\n",
       "      <td>4.0</td>\n",
       "      <td>0.34</td>\n",
       "      <td>1207.77</td>\n",
       "      <td>1166.23</td>\n",
       "      <td>1198.6</td>\n",
       "      <td>1175.4</td>\n",
       "    </tr>\n",
       "    <tr>\n",
       "      <th>2</th>\n",
       "      <td>20200828</td>\n",
       "      <td>1183.0</td>\n",
       "      <td>-2.8</td>\n",
       "      <td>-0.24</td>\n",
       "      <td>1203.70</td>\n",
       "      <td>1162.30</td>\n",
       "      <td>1194.5</td>\n",
       "      <td>1171.5</td>\n",
       "    </tr>\n",
       "    <tr>\n",
       "      <th>3</th>\n",
       "      <td>20200827</td>\n",
       "      <td>1185.8</td>\n",
       "      <td>-1.2</td>\n",
       "      <td>-0.10</td>\n",
       "      <td>1206.55</td>\n",
       "      <td>1165.05</td>\n",
       "      <td>1197.4</td>\n",
       "      <td>1174.2</td>\n",
       "    </tr>\n",
       "    <tr>\n",
       "      <th>4</th>\n",
       "      <td>20200826</td>\n",
       "      <td>1187.0</td>\n",
       "      <td>0.0</td>\n",
       "      <td>0.00</td>\n",
       "      <td>1207.77</td>\n",
       "      <td>1166.23</td>\n",
       "      <td>1198.6</td>\n",
       "      <td>1175.4</td>\n",
       "    </tr>\n",
       "  </tbody>\n",
       "</table>\n",
       "</div>"
      ],
      "text/plain": [
       "         dt      nv   cv    cr      cbv      csv      sv      rv\n",
       "0  20200901  1183.2 -3.8 -0.32  1203.90  1162.50  1194.7  1171.7\n",
       "1  20200831  1187.0  4.0  0.34  1207.77  1166.23  1198.6  1175.4\n",
       "2  20200828  1183.0 -2.8 -0.24  1203.70  1162.30  1194.5  1171.5\n",
       "3  20200827  1185.8 -1.2 -0.10  1206.55  1165.05  1197.4  1174.2\n",
       "4  20200826  1187.0  0.0  0.00  1207.77  1166.23  1198.6  1175.4"
      ]
     },
     "execution_count": 28,
     "metadata": {},
     "output_type": "execute_result"
    }
   ],
   "source": [
    "data = response.json()['result']['marketIndexDay']\n",
    "usd_df = pd.DataFrame(data)\n",
    "usd_df.head()"
   ]
  },
  {
   "cell_type": "code",
   "execution_count": 32,
   "metadata": {},
   "outputs": [
    {
     "name": "stdout",
     "output_type": "stream",
     "text": [
      "['20200901' '20200831' '20200828' '20200827' '20200826' '20200825'\n",
      " '20200824' '20200821' '20200820' '20200819' '20200818' '20200814'\n",
      " '20200813' '20200812' '20200811' '20200810' '20200807' '20200806'\n",
      " '20200805' '20200804' '20200803' '20200731' '20200730' '20200729'\n",
      " '20200728' '20200727' '20200724' '20200723' '20200722' '20200721'\n",
      " '20200720' '20200717' '20200716' '20200715' '20200714' '20200713'\n",
      " '20200710' '20200709' '20200708' '20200707' '20200706' '20200703'\n",
      " '20200702' '20200701' '20200630' '20200629' '20200626' '20200625'\n",
      " '20200624' '20200623' '20200622' '20200619' '20200618' '20200617'\n",
      " '20200616' '20200615' '20200612' '20200611' '20200610' '20200609'\n",
      " '20200608' '20200605' '20200604' '20200603' '20200602' '20200601'\n",
      " '20200529' '20200528' '20200527' '20200526' '20200525' '20200522'\n",
      " '20200521' '20200520' '20200519' '20200518' '20200515' '20200514'\n",
      " '20200513' '20200512' '20200511' '20200508' '20200507' '20200506'\n",
      " '20200504' '20200429' '20200428' '20200427' '20200424' '20200423'\n",
      " '20200422' '20200421' '20200420' '20200417' '20200416' '20200414'\n",
      " '20200413' '20200410' '20200409' '20200408']\n"
     ]
    }
   ],
   "source": [
    "print(usd_df[\"dt\"].values)"
   ]
  },
  {
   "cell_type": "code",
   "execution_count": 33,
   "metadata": {},
   "outputs": [
    {
     "name": "stdout",
     "output_type": "stream",
     "text": [
      "['20200901' '20200831' '20200828' '20200827' '20200826' '20200825'\n",
      " '20200824' '20200821' '20200820' '20200819' '20200818' '20200814'\n",
      " '20200813' '20200812' '20200811' '20200810' '20200807' '20200806'\n",
      " '20200805' '20200804' '20200803' '20200731' '20200730' '20200729'\n",
      " '20200728' '20200727' '20200724' '20200723' '20200722' '20200721'\n",
      " '20200720' '20200717' '20200716' '20200715' '20200714' '20200713'\n",
      " '20200710' '20200709' '20200708' '20200707' '20200706' '20200703'\n",
      " '20200702' '20200701' '20200630' '20200629' '20200626' '20200625'\n",
      " '20200624' '20200623' '20200622' '20200619' '20200618' '20200617'\n",
      " '20200616' '20200615' '20200612' '20200611' '20200610' '20200609'\n",
      " '20200608' '20200605' '20200604' '20200603' '20200602' '20200601'\n",
      " '20200529' '20200528' '20200527' '20200526' '20200525' '20200522'\n",
      " '20200521' '20200520' '20200519' '20200518' '20200515' '20200514'\n",
      " '20200513' '20200512' '20200511' '20200508' '20200507' '20200506'\n",
      " '20200504' '20200429' '20200428' '20200427' '20200424' '20200423'\n",
      " '20200422' '20200421' '20200420' '20200417' '20200416' '20200414'\n",
      " '20200413' '20200410' '20200409' '20200408']\n"
     ]
    }
   ],
   "source": [
    "print(kospi_df[\"dt\"].values)"
   ]
  },
  {
   "cell_type": "code",
   "execution_count": 34,
   "metadata": {
    "scrolled": true
   },
   "outputs": [
    {
     "name": "stdout",
     "output_type": "stream",
     "text": [
      "['20200901' '20200831' '20200828' '20200827' '20200826' '20200825'\n",
      " '20200824' '20200821' '20200820' '20200819' '20200818' '20200814'\n",
      " '20200813' '20200812' '20200811' '20200810' '20200807' '20200806'\n",
      " '20200805' '20200804' '20200803' '20200731' '20200730' '20200729'\n",
      " '20200728' '20200727' '20200724' '20200723' '20200722' '20200721'\n",
      " '20200720' '20200717' '20200716' '20200715' '20200714' '20200713'\n",
      " '20200710' '20200709' '20200708' '20200707' '20200706' '20200703'\n",
      " '20200702' '20200701' '20200630' '20200629' '20200626' '20200625'\n",
      " '20200624' '20200623' '20200622' '20200619' '20200618' '20200617'\n",
      " '20200616' '20200615' '20200612' '20200611' '20200610' '20200609'\n",
      " '20200608' '20200605' '20200604' '20200603' '20200602' '20200601'\n",
      " '20200529' '20200528' '20200527' '20200526' '20200525' '20200522'\n",
      " '20200521' '20200520' '20200519' '20200518' '20200515' '20200514'\n",
      " '20200513' '20200512' '20200511' '20200508' '20200507' '20200506'\n",
      " '20200504' '20200429' '20200428' '20200427' '20200424' '20200423'\n",
      " '20200422' '20200421' '20200420' '20200417' '20200416' '20200414'\n",
      " '20200413' '20200410' '20200409' '20200408']\n"
     ]
    }
   ],
   "source": [
    "print(kosdaq_df[\"dt\"].values)"
   ]
  },
  {
   "cell_type": "code",
   "execution_count": 35,
   "metadata": {},
   "outputs": [],
   "source": [
    "# 데이터 합치기"
   ]
  },
  {
   "cell_type": "code",
   "execution_count": 39,
   "metadata": {},
   "outputs": [
    {
     "data": {
      "text/html": [
       "<div>\n",
       "<style scoped>\n",
       "    .dataframe tbody tr th:only-of-type {\n",
       "        vertical-align: middle;\n",
       "    }\n",
       "\n",
       "    .dataframe tbody tr th {\n",
       "        vertical-align: top;\n",
       "    }\n",
       "\n",
       "    .dataframe thead th {\n",
       "        text-align: right;\n",
       "    }\n",
       "</style>\n",
       "<table border=\"1\" class=\"dataframe\">\n",
       "  <thead>\n",
       "    <tr style=\"text-align: right;\">\n",
       "      <th></th>\n",
       "      <th>dt</th>\n",
       "      <th>ncv_kospi</th>\n",
       "      <th>ncv_kosdaq</th>\n",
       "    </tr>\n",
       "  </thead>\n",
       "  <tbody>\n",
       "    <tr>\n",
       "      <th>95</th>\n",
       "      <td>20200414</td>\n",
       "      <td>1857.08</td>\n",
       "      <td>610.29</td>\n",
       "    </tr>\n",
       "    <tr>\n",
       "      <th>96</th>\n",
       "      <td>20200413</td>\n",
       "      <td>1825.76</td>\n",
       "      <td>596.71</td>\n",
       "    </tr>\n",
       "    <tr>\n",
       "      <th>97</th>\n",
       "      <td>20200410</td>\n",
       "      <td>1860.70</td>\n",
       "      <td>611.26</td>\n",
       "    </tr>\n",
       "    <tr>\n",
       "      <th>98</th>\n",
       "      <td>20200409</td>\n",
       "      <td>1836.21</td>\n",
       "      <td>615.95</td>\n",
       "    </tr>\n",
       "    <tr>\n",
       "      <th>99</th>\n",
       "      <td>20200408</td>\n",
       "      <td>1807.14</td>\n",
       "      <td>607.37</td>\n",
       "    </tr>\n",
       "  </tbody>\n",
       "</table>\n",
       "</div>"
      ],
      "text/plain": [
       "          dt  ncv_kospi  ncv_kosdaq\n",
       "95  20200414    1857.08      610.29\n",
       "96  20200413    1825.76      596.71\n",
       "97  20200410    1860.70      611.26\n",
       "98  20200409    1836.21      615.95\n",
       "99  20200408    1807.14      607.37"
      ]
     },
     "execution_count": 39,
     "metadata": {},
     "output_type": "execute_result"
    }
   ],
   "source": [
    "merge_df_1 = pd.merge(kospi_df, kosdaq_df, left_on=\"dt\", right_on=\"dt\")\n",
    "merge_df_1 = merge_df_1.rename(columns = {\"ncv_x\": \"ncv_kospi\", \"ncv_y\": \"ncv_kosdaq\"})\n",
    "merge_df_1 = merge_df_1[[\"dt\", \"ncv_kospi\", \"ncv_kosdaq\"]]\n",
    "merge_df_1.tail()"
   ]
  },
  {
   "cell_type": "code",
   "execution_count": 40,
   "metadata": {},
   "outputs": [
    {
     "data": {
      "text/html": [
       "<div>\n",
       "<style scoped>\n",
       "    .dataframe tbody tr th:only-of-type {\n",
       "        vertical-align: middle;\n",
       "    }\n",
       "\n",
       "    .dataframe tbody tr th {\n",
       "        vertical-align: top;\n",
       "    }\n",
       "\n",
       "    .dataframe thead th {\n",
       "        text-align: right;\n",
       "    }\n",
       "</style>\n",
       "<table border=\"1\" class=\"dataframe\">\n",
       "  <thead>\n",
       "    <tr style=\"text-align: right;\">\n",
       "      <th></th>\n",
       "      <th>dt</th>\n",
       "      <th>ncv_kospi</th>\n",
       "      <th>ncv_kosdaq</th>\n",
       "      <th>nv</th>\n",
       "    </tr>\n",
       "  </thead>\n",
       "  <tbody>\n",
       "    <tr>\n",
       "      <th>95</th>\n",
       "      <td>20200414</td>\n",
       "      <td>1857.08</td>\n",
       "      <td>610.29</td>\n",
       "      <td>1216.0</td>\n",
       "    </tr>\n",
       "    <tr>\n",
       "      <th>96</th>\n",
       "      <td>20200413</td>\n",
       "      <td>1825.76</td>\n",
       "      <td>596.71</td>\n",
       "      <td>1217.5</td>\n",
       "    </tr>\n",
       "    <tr>\n",
       "      <th>97</th>\n",
       "      <td>20200410</td>\n",
       "      <td>1860.70</td>\n",
       "      <td>611.26</td>\n",
       "      <td>1212.5</td>\n",
       "    </tr>\n",
       "    <tr>\n",
       "      <th>98</th>\n",
       "      <td>20200409</td>\n",
       "      <td>1836.21</td>\n",
       "      <td>615.95</td>\n",
       "      <td>1219.0</td>\n",
       "    </tr>\n",
       "    <tr>\n",
       "      <th>99</th>\n",
       "      <td>20200408</td>\n",
       "      <td>1807.14</td>\n",
       "      <td>607.37</td>\n",
       "      <td>1220.0</td>\n",
       "    </tr>\n",
       "  </tbody>\n",
       "</table>\n",
       "</div>"
      ],
      "text/plain": [
       "          dt  ncv_kospi  ncv_kosdaq      nv\n",
       "95  20200414    1857.08      610.29  1216.0\n",
       "96  20200413    1825.76      596.71  1217.5\n",
       "97  20200410    1860.70      611.26  1212.5\n",
       "98  20200409    1836.21      615.95  1219.0\n",
       "99  20200408    1807.14      607.37  1220.0"
      ]
     },
     "execution_count": 40,
     "metadata": {},
     "output_type": "execute_result"
    }
   ],
   "source": [
    "merge_df = pd.merge(merge_df_1, usd_df)[[\"dt\", \"ncv_kospi\", \"ncv_kosdaq\", \"nv\"]]\n",
    "merge_df.tail()"
   ]
  },
  {
   "cell_type": "markdown",
   "metadata": {},
   "source": [
    "### 그래프 그리기"
   ]
  },
  {
   "cell_type": "code",
   "execution_count": 45,
   "metadata": {},
   "outputs": [
    {
     "data": {
      "image/png": "[encoded data removed]",
      "text/plain": [
       "<Figure size 1440x360 with 1 Axes>"
      ]
     },
     "metadata": {
      "needs_background": "light"
     },
     "output_type": "display_data"
    }
   ],
   "source": [
    "plt.figure(figsize=(20,5))\n",
    "plt.plot(merge_df[\"dt\"], merge_df[\"ncv_kospi\"], \"r*:\", label=\"kospi\")\n",
    "plt.plot(merge_df[\"dt\"], merge_df[\"ncv_kosdaq\"], \"bo--\", label=\"kosdaq\")\n",
    "plt.plot(merge_df[\"dt\"], merge_df[\"nv\"], \"g^-\", label=\"usd\")\n",
    "\n",
    "# xtick이 항상 10개 출력 되도록\n",
    "step = len(merge_df) // 10\n",
    "plt.xticks(merge_df[::step][\"dt\"])\n",
    "\n",
    "plt.show()"
   ]
  },
  {
   "cell_type": "markdown",
   "metadata": {},
   "source": [
    "### 정규화 : Normalisation\n",
    "- z = (x - min(x)) / (max(x) - min(x))"
   ]
  },
  {
   "cell_type": "code",
   "execution_count": 47,
   "metadata": {},
   "outputs": [],
   "source": [
    "from sklearn import preprocessing"
   ]
  },
  {
   "cell_type": "code",
   "execution_count": 50,
   "metadata": {},
   "outputs": [
    {
     "data": {
      "text/plain": [
       "array([0.8604356 , 0.82334745, 0.86717746, 0.85234537, 0.89179714,\n",
       "       0.88768857, 0.82915338, 0.78911468, 0.74093815, 0.87786926])"
      ]
     },
     "execution_count": 50,
     "metadata": {},
     "output_type": "execute_result"
    }
   ],
   "source": [
    "preprocessing.minmax_scale(merge_df[\"ncv_kospi\"])[:10]"
   ]
  },
  {
   "cell_type": "code",
   "execution_count": 54,
   "metadata": {},
   "outputs": [
    {
     "data": {
      "image/png": "[encoded data removed]",
      "text/plain": [
       "<Figure size 1440x360 with 1 Axes>"
      ]
     },
     "metadata": {
      "needs_background": "light"
     },
     "output_type": "display_data"
    }
   ],
   "source": [
    "plt.figure(figsize=(20,5))\n",
    "plt.plot(merge_df[\"dt\"], preprocessing.minmax_scale(merge_df[\"ncv_kospi\"]), \"r*:\", label=\"kospi\")\n",
    "plt.plot(merge_df[\"dt\"], preprocessing.minmax_scale(merge_df[\"ncv_kosdaq\"]), \"bo--\", label=\"kosdaq\")\n",
    "plt.plot(merge_df[\"dt\"], preprocessing.minmax_scale(merge_df[\"nv\"]), \"g^-\", label=\"usd\")\n",
    "\n",
    "# label data\n",
    "plt.legend(loc=0)\n",
    "\n",
    "# xtick이 항상 10개 출력 되도록\n",
    "step = len(merge_df) // 10\n",
    "plt.xticks(merge_df[::step][\"dt\"])\n",
    "\n",
    "plt.show()"
   ]
  },
  {
   "cell_type": "code",
   "execution_count": 55,
   "metadata": {},
   "outputs": [],
   "source": [
    "# 상관계수"
   ]
  },
  {
   "cell_type": "code",
   "execution_count": 57,
   "metadata": {},
   "outputs": [
    {
     "data": {
      "text/plain": [
       "0.9724477779676187"
      ]
     },
     "execution_count": 57,
     "metadata": {},
     "output_type": "execute_result"
    }
   ],
   "source": [
    "np.corrcoef(merge_df[\"ncv_kospi\"], merge_df[\"ncv_kosdaq\"])[0, 1]"
   ]
  },
  {
   "cell_type": "code",
   "execution_count": 58,
   "metadata": {},
   "outputs": [
    {
     "data": {
      "text/plain": [
       "-0.8715259839486327"
      ]
     },
     "execution_count": 58,
     "metadata": {},
     "output_type": "execute_result"
    }
   ],
   "source": [
    "np.corrcoef(merge_df[\"ncv_kospi\"], merge_df[\"nv\"])[0, 1]"
   ]
  },
  {
   "cell_type": "code",
   "execution_count": 59,
   "metadata": {},
   "outputs": [
    {
     "data": {
      "text/plain": [
       "-0.8068396340292787"
      ]
     },
     "execution_count": 59,
     "metadata": {},
     "output_type": "execute_result"
    }
   ],
   "source": [
    "np.corrcoef(merge_df[\"ncv_kosdaq\"], merge_df[\"nv\"])[0, 1]"
   ]
  },
  {
   "cell_type": "code",
   "execution_count": null,
   "metadata": {},
   "outputs": [],
   "source": []
  }
 ],
 "metadata": {
  "kernelspec": {
   "display_name": "Python 3",
   "language": "python",
   "name": "python3"
  },
  "language_info": {
   "codemirror_mode": {
    "name": "ipython",
    "version": 3
   },
   "file_extension": ".py",
   "mimetype": "text/x-python",
   "name": "python",
   "nbconvert_exporter": "python",
   "pygments_lexer": "ipython3",
   "version": "3.7.6"
  }
 },
 "nbformat": 4,
 "nbformat_minor": 4
}
