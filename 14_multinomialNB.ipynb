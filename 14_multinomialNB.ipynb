{
 "cells": [
  {
   "cell_type": "code",
   "execution_count": 1,
   "metadata": {},
   "outputs": [],
   "source": [
    "import pickle\n",
    "from sklearn.feature_extraction.text import TfidfVectorizer\n",
    "from sklearn.model_selection import train_test_split\n",
    "from sklearn.naive_bayes import MultinomialNB\n",
    "from sklearn.pipeline import Pipeline\n",
    "from sklearn.metrics import classification_report"
   ]
  },
  {
   "cell_type": "code",
   "execution_count": 2,
   "metadata": {},
   "outputs": [
    {
     "data": {
      "text/html": [
       "<div>\n",
       "<style scoped>\n",
       "    .dataframe tbody tr th:only-of-type {\n",
       "        vertical-align: middle;\n",
       "    }\n",
       "\n",
       "    .dataframe tbody tr th {\n",
       "        vertical-align: top;\n",
       "    }\n",
       "\n",
       "    .dataframe thead th {\n",
       "        text-align: right;\n",
       "    }\n",
       "</style>\n",
       "<table border=\"1\" class=\"dataframe\">\n",
       "  <thead>\n",
       "    <tr style=\"text-align: right;\">\n",
       "      <th></th>\n",
       "      <th>title</th>\n",
       "      <th>link</th>\n",
       "      <th>content</th>\n",
       "      <th>category</th>\n",
       "    </tr>\n",
       "  </thead>\n",
       "  <tbody>\n",
       "    <tr>\n",
       "      <th>1770</th>\n",
       "      <td>카카오게임즈 달빛조각사, 서버 통합 실시</td>\n",
       "      <td>https://news.naver.com/main/read.nhn?mode=LSD&amp;...</td>\n",
       "      <td>(지디넷코리아=이도원  기자)카카오게임즈(각자 대표 남궁훈, 조계현)는 엑스엘게임즈...</td>\n",
       "      <td>105</td>\n",
       "    </tr>\n",
       "    <tr>\n",
       "      <th>1771</th>\n",
       "      <td>벤츠코리아, ‘아우스빌둥’ 4기 공식 출범…독일식 일-학습 병행 프로그램</td>\n",
       "      <td>https://news.naver.com/main/read.nhn?mode=LSD&amp;...</td>\n",
       "      <td>메르세데스-벤츠코리아 김지섭(왼쪽 두 번째) 대표이사 사장 직무대행 등이 7일 개최...</td>\n",
       "      <td>105</td>\n",
       "    </tr>\n",
       "    <tr>\n",
       "      <th>1772</th>\n",
       "      <td>코로나19 유전정보 분석하니…주요 변이 후보염기 27개 도출</td>\n",
       "      <td>https://news.naver.com/main/read.nhn?mode=LSD&amp;...</td>\n",
       "      <td>미국 대확산기 변이 분석…스파이크 17개·RNA보호 10개 후보 찾아미국 확진자 및...</td>\n",
       "      <td>105</td>\n",
       "    </tr>\n",
       "    <tr>\n",
       "      <th>1773</th>\n",
       "      <td>'빛의 계승자', 웹툰 '신의 탑' 콜라보 업데이트…'밤이 주인공으로?'</td>\n",
       "      <td>https://news.naver.com/main/read.nhn?mode=LSD&amp;...</td>\n",
       "      <td>[엑스포츠뉴스 최지영 기자] 빛의 계승자가 웹툰 신의 탑과 콜라보를 진행했다.8일 ...</td>\n",
       "      <td>105</td>\n",
       "    </tr>\n",
       "    <tr>\n",
       "      <th>1774</th>\n",
       "      <td>‘땡큐 中 신장 공안’…인권 문제로 비난받는 디즈니 &lt;뮬란&gt;</td>\n",
       "      <td>https://news.naver.com/main/read.nhn?mode=LSD&amp;...</td>\n",
       "      <td>디즈니 영화 &lt;뮬란&gt;이 중국의 인권탄압에 눈감았다는 비난에 직면했다. 신장 위구르족...</td>\n",
       "      <td>105</td>\n",
       "    </tr>\n",
       "  </tbody>\n",
       "</table>\n",
       "</div>"
      ],
      "text/plain": [
       "                                         title  \\\n",
       "1770                    카카오게임즈 달빛조각사, 서버 통합 실시   \n",
       "1771  벤츠코리아, ‘아우스빌둥’ 4기 공식 출범…독일식 일-학습 병행 프로그램   \n",
       "1772         코로나19 유전정보 분석하니…주요 변이 후보염기 27개 도출   \n",
       "1773  '빛의 계승자', 웹툰 '신의 탑' 콜라보 업데이트…'밤이 주인공으로?'   \n",
       "1774         ‘땡큐 中 신장 공안’…인권 문제로 비난받는 디즈니 <뮬란>   \n",
       "\n",
       "                                                   link  \\\n",
       "1770  https://news.naver.com/main/read.nhn?mode=LSD&...   \n",
       "1771  https://news.naver.com/main/read.nhn?mode=LSD&...   \n",
       "1772  https://news.naver.com/main/read.nhn?mode=LSD&...   \n",
       "1773  https://news.naver.com/main/read.nhn?mode=LSD&...   \n",
       "1774  https://news.naver.com/main/read.nhn?mode=LSD&...   \n",
       "\n",
       "                                                content  category  \n",
       "1770  (지디넷코리아=이도원  기자)카카오게임즈(각자 대표 남궁훈, 조계현)는 엑스엘게임즈...       105  \n",
       "1771  메르세데스-벤츠코리아 김지섭(왼쪽 두 번째) 대표이사 사장 직무대행 등이 7일 개최...       105  \n",
       "1772  미국 대확산기 변이 분석…스파이크 17개·RNA보호 10개 후보 찾아미국 확진자 및...       105  \n",
       "1773  [엑스포츠뉴스 최지영 기자] 빛의 계승자가 웹툰 신의 탑과 콜라보를 진행했다.8일 ...       105  \n",
       "1774  디즈니 영화 <뮬란>이 중국의 인권탄압에 눈감았다는 비난에 직면했다. 신장 위구르족...       105  "
      ]
     },
     "execution_count": 2,
     "metadata": {},
     "output_type": "execute_result"
    }
   ],
   "source": [
    "# 데이터 로드\n",
    "article_df = pd.read_csv(\"article.csv\")\n",
    "article_df.tail()"
   ]
  },
  {
   "cell_type": "code",
   "execution_count": 3,
   "metadata": {},
   "outputs": [
    {
     "data": {
      "text/plain": [
       "(1597, 178, 1597, 178)"
      ]
     },
     "execution_count": 3,
     "metadata": {},
     "output_type": "execute_result"
    }
   ],
   "source": [
    "# 데이터 전처리 : 데이터 셋 분리\n",
    "X_train, X_test, Y_train, Y_test = train_test_split(\n",
    "    article_df.content, article_df.category, test_size=0.1, random_state=1)\n",
    "len(X_train), len(X_test), len(Y_train), len(Y_test)"
   ]
  },
  {
   "cell_type": "code",
   "execution_count": 4,
   "metadata": {},
   "outputs": [],
   "source": [
    "# 모델 만들기\n",
    "clf = Pipeline([\n",
    "    ('vect', TfidfVectorizer()),\n",
    "    ('clf', MultinomialNB(alpha=0.1)),\n",
    "])"
   ]
  },
  {
   "cell_type": "code",
   "execution_count": 5,
   "metadata": {},
   "outputs": [],
   "source": [
    "# 학습\n",
    "model = clf.fit(X_train.values.astype(\"str\"), Y_train)"
   ]
  },
  {
   "cell_type": "code",
   "execution_count": 6,
   "metadata": {},
   "outputs": [],
   "source": [
    "# 모델 성능 확인\n",
    "Y_pred = model.predict(X_test)"
   ]
  },
  {
   "cell_type": "code",
   "execution_count": 7,
   "metadata": {},
   "outputs": [
    {
     "data": {
      "text/plain": [
       "([104, 105, 101, 100, 105], [102, 105, 101, 100, 105])"
      ]
     },
     "execution_count": 7,
     "metadata": {},
     "output_type": "execute_result"
    }
   ],
   "source": [
    "list(Y_test[:5]), list(Y_pred[:5])"
   ]
  },
  {
   "cell_type": "code",
   "execution_count": 8,
   "metadata": {
    "scrolled": false
   },
   "outputs": [
    {
     "name": "stdout",
     "output_type": "stream",
     "text": [
      "              precision    recall  f1-score   support\n",
      "\n",
      "         100       0.73      0.83      0.77        29\n",
      "         101       0.58      0.56      0.57        34\n",
      "         102       0.68      0.58      0.62        26\n",
      "         103       0.66      0.73      0.69        26\n",
      "         104       0.97      0.82      0.89        39\n",
      "         105       0.71      0.83      0.77        24\n",
      "\n",
      "    accuracy                           0.72       178\n",
      "   macro avg       0.72      0.72      0.72       178\n",
      "weighted avg       0.73      0.72      0.73       178\n",
      "\n"
     ]
    }
   ],
   "source": [
    "print(classification_report(Y_test, Y_pred))"
   ]
  },
  {
   "cell_type": "markdown",
   "metadata": {},
   "source": [
    "#### 모델 사용하기"
   ]
  },
  {
   "cell_type": "code",
   "execution_count": 9,
   "metadata": {},
   "outputs": [],
   "source": [
    "categories = {\n",
    "    100 : \"정치\",\n",
    "    101 : \"경제\",\n",
    "    102 : \"사회\",\n",
    "    103 : \"생활/문화\",\n",
    "    104 : \"세계\",\n",
    "    105 : \"IT/과학\",\n",
    "}"
   ]
  },
  {
   "cell_type": "code",
   "execution_count": 10,
   "metadata": {},
   "outputs": [],
   "source": [
    "contents = [\n",
    "    \"네이버와 카카오는 드론 기술 발전에 주력\",\n",
    "    \"요즘 환율 주가 예측이 불가\",\n",
    "    \"광화문 대한애국당 천막, 격렬 저항 속 철거\",\n",
    "]"
   ]
  },
  {
   "cell_type": "code",
   "execution_count": 11,
   "metadata": {},
   "outputs": [
    {
     "data": {
      "text/plain": [
       "array([105, 101, 100], dtype=int64)"
      ]
     },
     "execution_count": 11,
     "metadata": {},
     "output_type": "execute_result"
    }
   ],
   "source": [
    "model.predict(contents)"
   ]
  },
  {
   "cell_type": "code",
   "execution_count": 12,
   "metadata": {},
   "outputs": [
    {
     "data": {
      "text/html": [
       "<div>\n",
       "<style scoped>\n",
       "    .dataframe tbody tr th:only-of-type {\n",
       "        vertical-align: middle;\n",
       "    }\n",
       "\n",
       "    .dataframe tbody tr th {\n",
       "        vertical-align: top;\n",
       "    }\n",
       "\n",
       "    .dataframe thead th {\n",
       "        text-align: right;\n",
       "    }\n",
       "</style>\n",
       "<table border=\"1\" class=\"dataframe\">\n",
       "  <thead>\n",
       "    <tr style=\"text-align: right;\">\n",
       "      <th></th>\n",
       "      <th>content</th>\n",
       "      <th>category_code</th>\n",
       "    </tr>\n",
       "  </thead>\n",
       "  <tbody>\n",
       "    <tr>\n",
       "      <th>0</th>\n",
       "      <td>네이버와 카카오는 드론 기술 발전에 주력</td>\n",
       "      <td>105</td>\n",
       "    </tr>\n",
       "    <tr>\n",
       "      <th>1</th>\n",
       "      <td>요즘 환율 주가 예측이 불가</td>\n",
       "      <td>101</td>\n",
       "    </tr>\n",
       "    <tr>\n",
       "      <th>2</th>\n",
       "      <td>광화문 대한애국당 천막, 격렬 저항 속 철거</td>\n",
       "      <td>100</td>\n",
       "    </tr>\n",
       "  </tbody>\n",
       "</table>\n",
       "</div>"
      ],
      "text/plain": [
       "                    content  category_code\n",
       "0    네이버와 카카오는 드론 기술 발전에 주력            105\n",
       "1           요즘 환율 주가 예측이 불가            101\n",
       "2  광화문 대한애국당 천막, 격렬 저항 속 철거            100"
      ]
     },
     "execution_count": 12,
     "metadata": {},
     "output_type": "execute_result"
    }
   ],
   "source": [
    "data = {\n",
    "    \"content\": contents,\n",
    "    \"category_code\": model.predict(contents),\n",
    "}\n",
    "df = pd.DataFrame(data)\n",
    "df"
   ]
  },
  {
   "cell_type": "code",
   "execution_count": 13,
   "metadata": {},
   "outputs": [
    {
     "data": {
      "text/plain": [
       "0.57"
      ]
     },
     "execution_count": 13,
     "metadata": {},
     "output_type": "execute_result"
    }
   ],
   "source": [
    "round(max(model.predict_proba([contents[0]])[0]),2)"
   ]
  },
  {
   "cell_type": "code",
   "execution_count": 14,
   "metadata": {},
   "outputs": [
    {
     "data": {
      "text/html": [
       "<div>\n",
       "<style scoped>\n",
       "    .dataframe tbody tr th:only-of-type {\n",
       "        vertical-align: middle;\n",
       "    }\n",
       "\n",
       "    .dataframe tbody tr th {\n",
       "        vertical-align: top;\n",
       "    }\n",
       "\n",
       "    .dataframe thead th {\n",
       "        text-align: right;\n",
       "    }\n",
       "</style>\n",
       "<table border=\"1\" class=\"dataframe\">\n",
       "  <thead>\n",
       "    <tr style=\"text-align: right;\">\n",
       "      <th></th>\n",
       "      <th>content</th>\n",
       "      <th>category_code</th>\n",
       "      <th>category</th>\n",
       "      <th>proba</th>\n",
       "    </tr>\n",
       "  </thead>\n",
       "  <tbody>\n",
       "    <tr>\n",
       "      <th>0</th>\n",
       "      <td>네이버와 카카오는 드론 기술 발전에 주력</td>\n",
       "      <td>105</td>\n",
       "      <td>IT/과학</td>\n",
       "      <td>0.57</td>\n",
       "    </tr>\n",
       "    <tr>\n",
       "      <th>1</th>\n",
       "      <td>요즘 환율 주가 예측이 불가</td>\n",
       "      <td>101</td>\n",
       "      <td>경제</td>\n",
       "      <td>0.29</td>\n",
       "    </tr>\n",
       "    <tr>\n",
       "      <th>2</th>\n",
       "      <td>광화문 대한애국당 천막, 격렬 저항 속 철거</td>\n",
       "      <td>100</td>\n",
       "      <td>정치</td>\n",
       "      <td>0.20</td>\n",
       "    </tr>\n",
       "  </tbody>\n",
       "</table>\n",
       "</div>"
      ],
      "text/plain": [
       "                    content  category_code category  proba\n",
       "0    네이버와 카카오는 드론 기술 발전에 주력            105    IT/과학   0.57\n",
       "1           요즘 환율 주가 예측이 불가            101       경제   0.29\n",
       "2  광화문 대한애국당 천막, 격렬 저항 속 철거            100       정치   0.20"
      ]
     },
     "execution_count": 14,
     "metadata": {},
     "output_type": "execute_result"
    }
   ],
   "source": [
    "df[\"category\"] = df[\"category_code\"].apply(lambda data: categories[data])\n",
    "df[\"proba\"] = df[\"content\"].apply(lambda data: round(max(model.predict_proba([data])[0]),2))\n",
    "df"
   ]
  },
  {
   "cell_type": "code",
   "execution_count": 17,
   "metadata": {},
   "outputs": [],
   "source": [
    "# 모델 저장\n",
    "pickle.dump(model, open(\"clf.pkl\", \"wb\"))"
   ]
  },
  {
   "cell_type": "code",
   "execution_count": null,
   "metadata": {},
   "outputs": [],
   "source": []
  }
 ],
 "metadata": {
  "kernelspec": {
   "display_name": "Python 3",
   "language": "python",
   "name": "python3"
  },
  "language_info": {
   "codemirror_mode": {
    "name": "ipython",
    "version": 3
   },
   "file_extension": ".py",
   "mimetype": "text/x-python",
   "name": "python",
   "nbconvert_exporter": "python",
   "pygments_lexer": "ipython3",
   "version": "3.7.6"
  }
 },
 "nbformat": 4,
 "nbformat_minor": 4
}
