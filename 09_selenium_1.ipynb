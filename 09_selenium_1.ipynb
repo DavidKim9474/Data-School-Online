{
 "cells": [
  {
   "cell_type": "markdown",
   "metadata": {},
   "source": [
    "### Selenium\n",
    "- 브라우저를 직접 실행하여 자동화하고 브라우저 상에 있는 데이터를 수집\n",
    "- 웹 테스트 자동화를 위해서 만들어진 라이브러리\n",
    "- 다양한 브라우저 지원\n",
    "- 다양한 언어를 지원"
   ]
  },
  {
   "cell_type": "markdown",
   "metadata": {},
   "source": [
    "#### 설정\n",
    "- chrome driver 설정\n",
    "    - 크롬 드라이버 다운로드\n",
    "    - 본인 컴퓨터에 맞는 드라이버 버전을 다운로드\n",
    "    - 사용 중인 주피터 노트북과 같은 디렉토리에 크롬 드라이버 파일 업로드\n",
    "    - mac\n",
    "        - chromedriver 파일을 /usr/local/bin 디렉토리로 복사\n",
    "        - `sudo cp ~/Downloads/chromedriver /usr/local/bin`\n",
    "    - windows\n",
    "        - 환경변수 추가\n",
    "        - 내컴퓨터 - 속성 - 고급시스템설정 - 환경변수\n",
    "        - chromedriver의 path를 추가\n",
    "- selenium python package 설치\n",
    "    - sudo pip install selenium\n",
    "    - conda install -c conda-forge selenium"
   ]
  },
  {
   "cell_type": "code",
   "execution_count": 1,
   "metadata": {},
   "outputs": [],
   "source": [
    "from selenium import webdriver"
   ]
  },
  {
   "cell_type": "code",
   "execution_count": 2,
   "metadata": {},
   "outputs": [],
   "source": [
    "driver = webdriver.Chrome()"
   ]
  },
  {
   "cell_type": "code",
   "execution_count": 3,
   "metadata": {},
   "outputs": [],
   "source": [
    "# 페이지 이동 : get\n",
    "driver.get(\"https://daum.net\")"
   ]
  },
  {
   "cell_type": "code",
   "execution_count": 12,
   "metadata": {
    "scrolled": true
   },
   "outputs": [],
   "source": [
    "# 윈도우 사이즈 조절\n",
    "driver.set_window_size(800, 600)"
   ]
  },
  {
   "cell_type": "code",
   "execution_count": 13,
   "metadata": {},
   "outputs": [],
   "source": [
    "# 스크롤 위치 조절\n",
    "driver.execute_script(\"window.scrollTo(200, 300);\")"
   ]
  },
  {
   "cell_type": "code",
   "execution_count": 15,
   "metadata": {},
   "outputs": [],
   "source": [
    "# alert 다루기\n",
    "driver.execute_script(\"alert('FastCampus!!');\")"
   ]
  },
  {
   "cell_type": "code",
   "execution_count": 16,
   "metadata": {},
   "outputs": [],
   "source": [
    "alert = driver.switch_to.alert\n",
    "alert.accept()"
   ]
  },
  {
   "cell_type": "code",
   "execution_count": 17,
   "metadata": {},
   "outputs": [],
   "source": [
    "# input 태그에 문자열 입력\n",
    "# (bs) select_one : (se) find_element_by_css_selector\n",
    "# (bs) select : (se) find_elements_by_css_selector\n",
    "driver.find_element_by_css_selector(\"#q\").send_keys(\"패스트 캠퍼스\")"
   ]
  },
  {
   "cell_type": "code",
   "execution_count": 19,
   "metadata": {},
   "outputs": [],
   "source": [
    "driver.find_element_by_css_selector(\"#q\").clear()\n",
    "driver.find_element_by_css_selector(\"#q\").send_keys(\"파이썬\")"
   ]
  },
  {
   "cell_type": "code",
   "execution_count": 21,
   "metadata": {},
   "outputs": [],
   "source": [
    "# button 클릭\n",
    "driver.find_element_by_css_selector(\".inner_search > .btn_search\").click()"
   ]
  },
  {
   "cell_type": "code",
   "execution_count": 22,
   "metadata": {},
   "outputs": [],
   "source": [
    "# 브라우저 종료\n",
    "driver.quit()"
   ]
  },
  {
   "cell_type": "markdown",
   "metadata": {},
   "source": [
    "#### darksky api"
   ]
  },
  {
   "cell_type": "code",
   "execution_count": 32,
   "metadata": {},
   "outputs": [],
   "source": [
    "# 브라우저 열기\n",
    "driver = webdriver.Chrome()"
   ]
  },
  {
   "cell_type": "code",
   "execution_count": 37,
   "metadata": {},
   "outputs": [],
   "source": [
    "# 로그인 페이지 이동\n",
    "driver.get(\"https://home.openweathermap.org/users/sign_in\")"
   ]
  },
  {
   "cell_type": "code",
   "execution_count": 39,
   "metadata": {},
   "outputs": [],
   "source": [
    "# 이메일, 패스워드 입력\n",
    "email = \"hojugobawoo@hotmail.com\"\n",
    "pw = \"16446803idonno\"\n",
    "driver.find_element_by_css_selector(\"#user_email\").send_keys(email)\n",
    "driver.find_element_by_css_selector(\"#user_password\").send_keys(pw)"
   ]
  },
  {
   "cell_type": "code",
   "execution_count": 43,
   "metadata": {},
   "outputs": [],
   "source": [
    "# 로그인 버튼 클릭\n",
    "driver.find_element_by_css_selector('.btn[type=\"submit\"]').click()"
   ]
  },
  {
   "cell_type": "code",
   "execution_count": 44,
   "metadata": {},
   "outputs": [],
   "source": [
    "# 리셋 시크릿 버튼 클릭\n",
    "driver.find_element_by_css_selector(\"#myTab > li:nth-child(3) > a\").click()"
   ]
  },
  {
   "cell_type": "code",
   "execution_count": 45,
   "metadata": {},
   "outputs": [],
   "source": [
    "driver.find_element_by_css_selector(\"#api_key_form_name\").send_keys(\"DSS\")"
   ]
  },
  {
   "cell_type": "code",
   "execution_count": 46,
   "metadata": {},
   "outputs": [],
   "source": [
    "driver.find_element_by_css_selector(\"#new_api_key_form > input.button-round.dark\").click()"
   ]
  },
  {
   "cell_type": "code",
   "execution_count": 47,
   "metadata": {},
   "outputs": [],
   "source": [
    "# alert 확인버튼 클릭\n",
    "driver.find_element_by_css_selector(\"body > div.wrapper > div:nth-child(3) > div > div > div > div.panel-heading > button\").click()"
   ]
  },
  {
   "cell_type": "code",
   "execution_count": 60,
   "metadata": {},
   "outputs": [
    {
     "data": {
      "text/plain": [
       "'73957e9bf28fdffe15720929de0fee1f'"
      ]
     },
     "execution_count": 60,
     "metadata": {},
     "output_type": "execute_result"
    }
   ],
   "source": [
    "# 바뀐 키값 출력\n",
    "s_key = driver.find_elements_by_css_selector(\".material_table pre\")[1].text\n",
    "s_key"
   ]
  },
  {
   "cell_type": "code",
   "execution_count": 61,
   "metadata": {},
   "outputs": [],
   "source": [
    "# 브라우저 종료\n",
    "driver.quit()"
   ]
  },
  {
   "cell_type": "code",
   "execution_count": 65,
   "metadata": {},
   "outputs": [],
   "source": [
    "def reset_openweather_key(ID=email, PW=pw):\n",
    "    driver = webdriver.Chrome()\n",
    "    driver.get(\"https://home.openweathermap.org/users/sign_in\")\n",
    "    email = \"hojugobawoo@hotmail.com\"\n",
    "    pw = \"16446803idonno\"\n",
    "    driver.find_element_by_css_selector(\"#user_email\").send_keys(email)\n",
    "    driver.find_element_by_css_selector(\"#user_password\").send_keys(pw)\n",
    "    driver.find_element_by_css_selector('.btn[type=\"submit\"]').click()\n",
    "    driver.find_element_by_css_selector(\"#myTab > li:nth-child(3) > a\").click()\n",
    "    driver.find_element_by_css_selector(\"#api_key_form_name\").send_keys(\"DSS\")\n",
    "    driver.find_element_by_css_selector(\"#new_api_key_form > input.button-round.dark\").click()\n",
    "    driver.find_element_by_css_selector(\"body > div.wrapper > div:nth-child(3) > div > div > div > div.panel-heading > button\").click()\n",
    "    s_key = driver.find_elements_by_css_selector(\".material_table pre\")[-1].text\n",
    "    driver.quit()\n",
    "    return s_key"
   ]
  },
  {
   "cell_type": "code",
   "execution_count": 66,
   "metadata": {},
   "outputs": [
    {
     "data": {
      "text/plain": [
       "'a16ae186ef85a4cf76481ea016a63f31'"
      ]
     },
     "execution_count": 66,
     "metadata": {},
     "output_type": "execute_result"
    }
   ],
   "source": [
    "reset_openweather_key()"
   ]
  },
  {
   "cell_type": "code",
   "execution_count": null,
   "metadata": {},
   "outputs": [],
   "source": []
  }
 ],
 "metadata": {
  "kernelspec": {
   "display_name": "Python 3",
   "language": "python",
   "name": "python3"
  },
  "language_info": {
   "codemirror_mode": {
    "name": "ipython",
    "version": 3
   },
   "file_extension": ".py",
   "mimetype": "text/x-python",
   "name": "python",
   "nbconvert_exporter": "python",
   "pygments_lexer": "ipython3",
   "version": "3.7.6"
  }
 },
 "nbformat": 4,
 "nbformat_minor": 4
}
