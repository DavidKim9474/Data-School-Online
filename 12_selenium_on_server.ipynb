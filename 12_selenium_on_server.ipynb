{
 "cells": [
  {
   "cell_type": "markdown",
   "metadata": {},
   "source": [
    "### 서버에서 selenium 사용하기\n",
    "- 크롬 브라우저 설치\n",
    "    - sudo apt-get install -y chromium-browser\n",
    "    - chromium-browser -version : 84\n",
    "- 크롬 드라이버 다운로드\n",
    "    - wget https://chromedriver.storage.googleapis.com/84.0.4147.30/chromedriver_linux64.zip\n",
    "    - sudo apt install unzip\n",
    "    - unzip chromedriver_linux64.zip\n",
    "    - sudo mv chromedriver /usr/local/bin/\n",
    "- selenium 패키지 설치\n",
    "    - pip install selenium\n",
    "    - pip install pillow\n",
    "- 한글 폰트 설치\n",
    "    - sudo apt-get install -y fonts-nanum"
   ]
  }
 ],
 "metadata": {
  "kernelspec": {
   "display_name": "Python 3",
   "language": "python",
   "name": "python3"
  },
  "language_info": {
   "codemirror_mode": {
    "name": "ipython",
    "version": 3
   },
   "file_extension": ".py",
   "mimetype": "text/x-python",
   "name": "python",
   "nbconvert_exporter": "python",
   "pygments_lexer": "ipython3",
   "version": "3.7.6"
  }
 },
 "nbformat": 4,
 "nbformat_minor": 4
}
