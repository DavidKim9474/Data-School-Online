{
 "cells": [
  {
   "cell_type": "markdown",
   "metadata": {},
   "source": [
    "### 네이버 기사 제목 데이터 크롤링\n",
    "- selenium을 이용한 텍스트 데이터 수집 (동기 방식)\n",
    "- thread를 사용한 데이터 수집 (비동기 방식) (study celery if necessary)\n",
    "    - 향후 scrapy 사용 시 이 방식으로 동작함"
   ]
  },
  {
   "cell_type": "code",
   "execution_count": 1,
   "metadata": {},
   "outputs": [],
   "source": [
    "from selenium import webdriver"
   ]
  },
  {
   "cell_type": "code",
   "execution_count": 2,
   "metadata": {},
   "outputs": [],
   "source": [
    "page = 2\n",
    "\n",
    "url = \"https://news.naver.com/main/main.nhn?\\\n",
    "mode=LSD&mid=shm&sid1=105#&date=%2000:00:00&page={}\".format(page)"
   ]
  },
  {
   "cell_type": "code",
   "execution_count": 3,
   "metadata": {},
   "outputs": [],
   "source": [
    "driver = webdriver.Chrome()\n",
    "driver.get(url)"
   ]
  },
  {
   "cell_type": "code",
   "execution_count": 4,
   "metadata": {},
   "outputs": [
    {
     "data": {
      "text/plain": [
       "20"
      ]
     },
     "execution_count": 4,
     "metadata": {},
     "output_type": "execute_result"
    }
   ],
   "source": [
    "articles = driver.find_elements_by_css_selector(\"#section_body li\")\n",
    "len(articles)"
   ]
  },
  {
   "cell_type": "code",
   "execution_count": 6,
   "metadata": {},
   "outputs": [
    {
     "data": {
      "text/plain": [
       "\"'자급제 바람'에 볕 드는 알뜰폰 시장\""
      ]
     },
     "execution_count": 6,
     "metadata": {},
     "output_type": "execute_result"
    }
   ],
   "source": [
    "articles[0].find_element_by_css_selector(\"dt:not(.photo) > a\").text"
   ]
  },
  {
   "cell_type": "code",
   "execution_count": 7,
   "metadata": {},
   "outputs": [],
   "source": [
    "article_list = []\n",
    "\n",
    "for article in articles:\n",
    "    title = article.find_element_by_css_selector(\"dt:not(.photo) > a\").text\n",
    "    article_list.append(title)"
   ]
  },
  {
   "cell_type": "code",
   "execution_count": 8,
   "metadata": {},
   "outputs": [
    {
     "data": {
      "text/plain": [
       "[\"'자급제 바람'에 볕 드는 알뜰폰 시장\",\n",
       " '말미잘의 입처럼…빨려들 것만 같은 태양 흑점',\n",
       " '\"부모님 댁에 AI스피커 놓아드려야 겠어요” SKT 시니어용 AI비서 ‘누구오팔’ 써보니',\n",
       " '카카오 신사업 둘러싼 특허 논란',\n",
       " '\"배달약국은 위법\" 약사회 발끈···\\'제2 타다 사태\\'로 번지나',\n",
       " '[단독]업무용 태블릿, 알뜰폰으로 바꾸는 과기정통부',\n",
       " \"자국 게임 비율 86% 중국, 3대 수출국 한국에서 수입한 게임은 '0'\",\n",
       " \"韓美ICT정책포럼 '韓 법률 개정' 두고 충돌하나\",\n",
       " '美 법원 \"망 이용대가 못받으면 통신요금 인상 유발 가능성 충분\"···인터넷 양면시장 속성 인정',\n",
       " '[블로터언팩]PC와 닮아가는 아이패드',\n",
       " '클립 100일, 20만 가입 출발 순항… 다음 목표는 ‘대중화’',\n",
       " '쏘카, 중고차 시장 진출하나…앱 통한 온라인 판매 전망',\n",
       " \"'비싸보여도 제대로'...바이브 부가세 포함해 실제가격 표시, 왜?\",\n",
       " \"삼성·LG, 코로나로 급성장한 베트남 온라인 채널 '정조준'...전문인력 채용 등 박차\",\n",
       " '[기자수첩]반도체 인력 유출을 막으려면',\n",
       " '[성기현 교수의 글로벌 미디어 이해하기]〈17〉융합시대: M&A와 파트너십',\n",
       " '중국계 클라우드가 몰려온다…AWS “경쟁 자신있어”',\n",
       " '전공의협의회, 단체행동 중단... 내일부터 진료복귀',\n",
       " \"LG화학 이어 삼성SDI도 '레이저 노칭'…SK이노, 공급사 탐색\",\n",
       " '네이버 “혁신 노력 외면한 것”…공정위 제재에 법적대응 예고']"
      ]
     },
     "execution_count": 8,
     "metadata": {},
     "output_type": "execute_result"
    }
   ],
   "source": [
    "article_list"
   ]
  },
  {
   "cell_type": "code",
   "execution_count": 9,
   "metadata": {},
   "outputs": [],
   "source": [
    "driver.quit()"
   ]
  },
  {
   "cell_type": "code",
   "execution_count": 10,
   "metadata": {},
   "outputs": [],
   "source": [
    "# 함수로 만들기\n",
    "article_list = []\n",
    "\n",
    "def get_articles(page):\n",
    "    driver = webdriver.Chrome()\n",
    "    url = \"https://news.naver.com/main/main.nhn?\\\n",
    "    mode=LSD&mid=shm&sid1=105#&date=%2000:00:00&page={}\".format(page)\n",
    "    driver.get(url)\n",
    "    articles = driver.find_elements_by_css_selector(\"#section_body li\")\n",
    "    for article in articles:\n",
    "        title = article.find_element_by_css_selector(\"dt:not(.photo) > a\").text\n",
    "        article_list.append(title)\n",
    "    print(\"crawling {}\".format(page))\n",
    "    driver.quit()"
   ]
  },
  {
   "cell_type": "code",
   "execution_count": 11,
   "metadata": {},
   "outputs": [
    {
     "name": "stdout",
     "output_type": "stream",
     "text": [
      "crawling 1\n",
      "crawling 2\n",
      "crawling 3\n",
      "crawling 4\n",
      "Wall time: 32.3 s\n"
     ]
    }
   ],
   "source": [
    "%%time\n",
    "for page in range(1, 5):\n",
    "    get_articles(page)"
   ]
  },
  {
   "cell_type": "code",
   "execution_count": 13,
   "metadata": {},
   "outputs": [
    {
     "data": {
      "text/plain": [
       "['어도비 플래시, 엣지 브라우저에서도 \"굿바이\"',\n",
       " '셀트리온·삼바, 수익성·실적 ‘눈부신 질주’',\n",
       " '\"코로나 탈출, 짧게는 2년 길게는 5년…한국은 1~2년 빠를 것\"',\n",
       " '[SNS에세이]양홍원의 자유, 혹은 방종',\n",
       " '전공의 비대위 \"단체행동 유지 어려워… 병원 복귀\"',\n",
       " '거리두기 2.5단계 1주일 연장… 제과·빙수점도 포장·배달만 허용',\n",
       " '전공의 7일 복귀 가닥··· 내부반발이 변수',\n",
       " '기지개 켜는 알뜰폰… LGU+ 가입자 `하이킥`',\n",
       " '삼성 3번째 폴더블폰 `갤럭시Z폴드2` 써보니',\n",
       " '대형TV 인기…‘준프리미엄’ 시장도 삼성·LG 주도',\n",
       " 'LG화학, “국익 운운 멈춰야” vs SK이노, “아니면 말고식 소송”…양사, 감정 대결 ‘격화’(종합)',\n",
       " '삼성·LG전자, 60형 이상 4K UHD TV 시장 주도',\n",
       " '\\'다음부동산\\' 왜 볼거없나 했더니...공정위 \"네이버, 지배력 남용\"',\n",
       " '혁신으로 일군 ICT기업 수십조 가치, 우물안 규제에 빛바랜다 [기회와 갈등, 두 얼굴의 온라인 플랫폼]',\n",
       " '[서경이 만난 사람]임태환 \"정부 일방적 정책에 감정 폭발···\\'전문가 거리두기\\' 안돼\"',\n",
       " '네이버부동산, 과징금 10억에 발끈...\"카카오 무임승차 때문\"',\n",
       " '[달콤한 사이언스] 감기 바이러스가 독감, 코로나 ‘더블 팬데믹’ 막는다',\n",
       " '애플의 앱스토어 왕국, 高수수료에 발목 잡히나?',\n",
       " '알뜰폰 활기 되찾나… 이통사 주춤한새 가입자 1만명 늘었다',\n",
       " '\"세계 1위 크롬북 에이서, 꿈틀대는 한국시장 잡을 것\" [인터뷰]',\n",
       " \"'자급제 바람'에 볕 드는 알뜰폰 시장\",\n",
       " '말미잘의 입처럼…빨려들 것만 같은 태양 흑점',\n",
       " '\"부모님 댁에 AI스피커 놓아드려야 겠어요” SKT 시니어용 AI비서 ‘누구오팔’ 써보니',\n",
       " '카카오 신사업 둘러싼 특허 논란',\n",
       " '\"배달약국은 위법\" 약사회 발끈···\\'제2 타다 사태\\'로 번지나',\n",
       " '[단독]업무용 태블릿, 알뜰폰으로 바꾸는 과기정통부',\n",
       " \"자국 게임 비율 86% 중국, 3대 수출국 한국에서 수입한 게임은 '0'\",\n",
       " \"韓美ICT정책포럼 '韓 법률 개정' 두고 충돌하나\",\n",
       " '美 법원 \"망 이용대가 못받으면 통신요금 인상 유발 가능성 충분\"···인터넷 양면시장 속성 인정',\n",
       " '[블로터언팩]PC와 닮아가는 아이패드',\n",
       " '클립 100일, 20만 가입 출발 순항… 다음 목표는 ‘대중화’',\n",
       " '쏘카, 중고차 시장 진출하나…앱 통한 온라인 판매 전망',\n",
       " \"'비싸보여도 제대로'...바이브 부가세 포함해 실제가격 표시, 왜?\",\n",
       " \"삼성·LG, 코로나로 급성장한 베트남 온라인 채널 '정조준'...전문인력 채용 등 박차\",\n",
       " '[기자수첩]반도체 인력 유출을 막으려면',\n",
       " '[성기현 교수의 글로벌 미디어 이해하기]〈17〉융합시대: M&A와 파트너십',\n",
       " '중국계 클라우드가 몰려온다…AWS “경쟁 자신있어”',\n",
       " '전공의협의회, 단체행동 중단... 내일부터 진료복귀',\n",
       " \"LG화학 이어 삼성SDI도 '레이저 노칭'…SK이노, 공급사 탐색\",\n",
       " '네이버 “혁신 노력 외면한 것”…공정위 제재에 법적대응 예고',\n",
       " '공정위 “부동산 매물정보 지배력 남용”…네이버에 10억 과징금',\n",
       " '미국, 中 화웨이 이어 반도체기업 SMIC도 제재 검토',\n",
       " '[써보니]갤Z폴드와 함께 끊김 없는 스마트폰 생활',\n",
       " \"[단독]쏘카, 중고차 사업 진출한다...서비스명 '캐스팅'\",\n",
       " '김남웅 에이서코리아 대표 \"북미 1위 크롬북, 韓 시장서 승부\"',\n",
       " '\"코로나19 탓 스마트폰 시장 뒷걸음질\"…삼성 1위·애플 2위',\n",
       " '애플, 세계최대 규모 풍력 터빈 개발 투자',\n",
       " \"파이어폭스, '웹사이트 열면 악성코드 감염' 위험 덜어준다\",\n",
       " '서울대병원교수 비대위 “전공의 진료 복귀 지지”',\n",
       " '네이버 \"카카오에 사업방해?\" 공정위 과징금 부과에 강력 반발',\n",
       " '[사이언스온고지신]수소산업 육성 앞당기는 전주기적 수소기술개발, 부처 협력 절실',\n",
       " '페트병 재활용해 이산화탄소 잡는다',\n",
       " '피해자만 있는 방통위-페이스북 소송',\n",
       " \"IFA 2020, '온택트' 전시회 가능성과 '한계' 동시에\",\n",
       " \"안랩, 대림산업 건설현장에 '트러스가드 VPN' 구축\",\n",
       " '태풍치는 새벽에도 배송이라니... 다른 대안은 없나',\n",
       " '글로벌기업 64%, ‘공급망 재편’ 움직임…중국·북미·남미 순',\n",
       " \"[과학핫이슈]달에도 산소가 있다? 달 표면 '적철석' 미스터리\",\n",
       " '추혜전 전 정의당 의원, LGU+ 자문직 결국 사임',\n",
       " '동해? 한반도 관통? 한·일 기상청의 엇갈린 제10호 태풍 진로 예보',\n",
       " \"공정위, '부동산서비스 갑질' 네이버에 과징금 10억 \",\n",
       " \"카카오 배제로 공정위 과징금 받은 네이버..부동산 건전화 노력 인정해도 '허점'\",\n",
       " '네이버 “수십억 투자해 만든 검증 시스템… 무임승차 막는게 잘못?”',\n",
       " '네이버 \"부동산 확인매물 공정위 제재, 法 대응 검토\"',\n",
       " \"공정위, 과징금 10억 '철퇴'…네이버 행정소송 '맞불'\",\n",
       " '여성직장인 70% \"아직도 상대적으로 불리\"',\n",
       " '충전용 보조배터리도 분리배출해 재활용한다',\n",
       " '[취업걱정없는 명품학교]<244>해운대공업고등학교',\n",
       " \"'규제 리스크 해소' 암호화폐거래소, 올들어 신규상장 눈에 띄게 늘어\",\n",
       " '[SF 完全社會]바로 지금 멋지게 해야 할 일',\n",
       " \"KISA, '5G 보안 관련 기술표준 기고서' ITU-T 선정\",\n",
       " '네이버 \"공정위, 정당한 권리행사 곡해\"…법적대응 시사',\n",
       " '공정위 \"네이버부동산, 갑질했다\" 과징금에 네이버 \"혁신 외면\"',\n",
       " '민간기업도 SW안전 진단 받는다...지침도 연내 마련',\n",
       " '네이버부동산, 공정위 제재에 \\'행정소송\\' 예고…\"카카오가 무임승차\" 반박',\n",
       " '\"자율주행레이다·화학물질관리 등 국민 생활 밀접 SW 안전진단 실시\"',\n",
       " \"'전 세계 5000대뿐' 갤럭시 Z 폴드2 톰브라운 에디션, 온라인 추첨\",\n",
       " '\"세계유산을 5G로 중계\"…SKT, 유네스코 \\'시 투게더 챌린지\\' 동참',\n",
       " '배민, 사회문제 해결하려는 대학생들 멘토 된다',\n",
       " \"우아한형제들, '임팩트 프로젝트2' 멘토 기업 참가\"]"
      ]
     },
     "execution_count": 13,
     "metadata": {},
     "output_type": "execute_result"
    }
   ],
   "source": [
    "article_list"
   ]
  },
  {
   "cell_type": "markdown",
   "metadata": {},
   "source": [
    "#### thread 사용"
   ]
  },
  {
   "cell_type": "code",
   "execution_count": 15,
   "metadata": {},
   "outputs": [],
   "source": [
    "import threading"
   ]
  },
  {
   "cell_type": "code",
   "execution_count": 16,
   "metadata": {},
   "outputs": [],
   "source": [
    "article_list = []\n",
    "\n",
    "for page in range(1, 5):\n",
    "    th = threading.Thread(target=get_articles, args=(page,))\n",
    "    th.start()"
   ]
  },
  {
   "cell_type": "code",
   "execution_count": 17,
   "metadata": {},
   "outputs": [
    {
     "name": "stdout",
     "output_type": "stream",
     "text": [
      "1 2 3 4 5 6 7 8 9 10 11 12 crawling 2\n",
      "crawling 4\n",
      "crawling 1\n",
      "crawling 3\n",
      "13 "
     ]
    }
   ],
   "source": [
    "import time\n",
    "sec = 0\n",
    "while len(article_list) < 80:\n",
    "    time.sleep(1)\n",
    "    sec += 1\n",
    "    print(sec, end=\" \")"
   ]
  },
  {
   "cell_type": "code",
   "execution_count": null,
   "metadata": {},
   "outputs": [],
   "source": []
  }
 ],
 "metadata": {
  "kernelspec": {
   "display_name": "Python 3",
   "language": "python",
   "name": "python3"
  },
  "language_info": {
   "codemirror_mode": {
    "name": "ipython",
    "version": 3
   },
   "file_extension": ".py",
   "mimetype": "text/x-python",
   "name": "python",
   "nbconvert_exporter": "python",
   "pygments_lexer": "ipython3",
   "version": "3.7.6"
  }
 },
 "nbformat": 4,
 "nbformat_minor": 4
}
